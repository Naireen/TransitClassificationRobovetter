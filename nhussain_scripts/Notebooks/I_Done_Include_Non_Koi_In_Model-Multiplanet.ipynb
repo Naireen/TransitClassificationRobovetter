{
 "cells": [
  {
   "cell_type": "code",
   "execution_count": 1,
   "metadata": {
    "collapsed": false
   },
   "outputs": [
    {
     "name": "stderr",
     "output_type": "stream",
     "text": [
      "/home/xuhuang/anaconda2/lib/python2.7/site-packages/sklearn/cross_validation.py:44: DeprecationWarning: This module was deprecated in version 0.18 in favor of the model_selection module into which all the refactored classes and functions are moved. Also note that the interface of the new CV iterators are different from that of this module. This module will be removed in 0.20.\n",
      "  \"This module will be removed in 0.20.\", DeprecationWarning)\n"
     ]
    }
   ],
   "source": [
    "#readFeats\n",
    "import numpy as np\n",
    "import pandas as pd\n",
    "import sklearn\n",
    "import matplotlib \n",
    "from matplotlib import pyplot as plt\n",
    "%matplotlib inline\n",
    "import os\n",
    "from sklearn.utils import shuffle\n",
    "import xgboost as xgb\n",
    "from xgboost import XGBClassifier\n",
    "from sklearn.model_selection import train_test_split\n",
    "from sklearn import metrics\n",
    "from sklearn.model_selection import cross_val_score, StratifiedKFold\n",
    "from sklearn.ensemble import RandomForestClassifier\n",
    "import hyperopt\n",
    "from hyperopt import  hp, fmin, tpe, STATUS_OK, Trials\n",
    "import time\n",
    "#import \n",
    "import warnings\n",
    "warnings.simplefilter('ignore')\n"
   ]
  },
  {
   "cell_type": "code",
   "execution_count": 44,
   "metadata": {
    "collapsed": false
   },
   "outputs": [],
   "source": [
    "inj = pd.read_csv(\"../Data/Injected_feat_files_10000_fixed.csv\", index_col=0)\n",
    "inv = pd.read_csv(\"../Data/Inverted_feat_files_fixed_detrended.csv\", index_col=0)#[:9000]\n",
    "inj_periods = np.loadtxt(\"../../../Training/simulation/injection/injection.txt\", dtype= str, delimiter=\",\")[:10000, 3].astype(\"float64\")\n",
    "inj_SNR = np.loadtxt(\"../Data/SNR_10000_corrected.txt\")[:10000]\n",
    "inj_tol = np.loadtxt(\"../Data/period_harmonics_10000_inj_signals_tol_5x5.txt\")\n",
    "\n",
    "koi = pd.read_csv(\"../Data/KOI_feat_files_3080_fixed_ordered_try2.csv\", index_col =0 )\n",
    "koi_tol = np.loadtxt(\"../Data/period_harmonics_3080_koi_signals_tol_5x5_ordered_try2.txt\")\n",
    "koi_SNR = np.loadtxt(\"../Data/SNR_feats_KOIS_3080_fixed_try2.txt\")\n",
    "#KOI_SNR has three columns, the first is starid, the second is segment, and the third column is the SNR value for each segemnt\n",
    "koi_periods = np.loadtxt(\"../Data/koi_periods_try2.txt\")\n",
    "\n",
    "\n",
    "\n",
    "mkoi_tol = np.loadtxt(\"../Data/period_harmonics_3080_koi_signals_tol_5x5_ordered_multiplanet.txt\")\n",
    "mkoi_SNR = np.loadtxt(\"../Data/SNR_feats_KOIS_3080_fixed_multiplanet.txt\")\n",
    "mkoi_periods = np.loadtxt(\"../Data/koi_periods_multiplanet.txt\")\n",
    "\n",
    "#non pimary koi\n",
    "non_koi = pd.read_csv(\"../Data/KOI_non_prim_feat_files_20000_new_detrending.csv\", index_col=0)[4000:5000]\n",
    "test_non_kois = pd.read_csv(\"../Data/KOI_non_prim_feat_files_20000_new_detrending.csv\", index_col=0)[5000:15000]"
   ]
  },
  {
   "cell_type": "code",
   "execution_count": 45,
   "metadata": {
    "collapsed": false
   },
   "outputs": [
    {
     "name": "stdout",
     "output_type": "stream",
     "text": [
      "SNR Cut 9255\n",
      "Retained Transits 6215\n"
     ]
    }
   ],
   "source": [
    "#make cuts to injected and koi samples to determine what should be labelled true\n",
    "ped_constraint = 3 # transit cut, this ensures there will be atleast three transits in each 26 days segment\n",
    "SNR_cut =6 # SNR threshold\n",
    "inj_enough_transits = ((26/inj_periods) > ped_constraint).astype(int)\n",
    "tolerance_cut = 0.002\n",
    "\n",
    "#This is to ensure that aleast of the integers used to minimize period error function is 1 (means it \n",
    "#detected the correct signal), or that the ratio of the two can be reduced to 1 to 1 \n",
    "#(in case the model determined the solution to be something like 2:2, which is equivalent to 1:1)\n",
    "inj_low_tol = ((inj_tol[:,0]==1)+(inj_tol[: ,1]==1) + (inj_tol[:,0] == inj_tol[:,1])).astype(int)\n",
    "\n",
    "#print \"Tolerance Cut\", len(np.where(inj_low_tol==1)[0])\n",
    "print \"SNR Cut\", len(np.where(inj_SNR>SNR_cut)[0])\n",
    "inj_true_trans = ((inj_SNR>=SNR_cut)*(inj_tol[:,2]<tolerance_cut)*(inj_low_tol==1)*(inj_enough_transits)).astype(int)\n",
    "print \"Retained Transits\", len(np.where(inj_true_trans==1)[0])"
   ]
  },
  {
   "cell_type": "code",
   "execution_count": 46,
   "metadata": {
    "collapsed": false
   },
   "outputs": [
    {
     "name": "stdout",
     "output_type": "stream",
     "text": [
      "[913 914 915 916 917 918 919 920 921 922 923 924]\n",
      "Retained Transits 690 from 3080\n",
      "[913 914 915 916 917 918 919 920 921 922 923 924]\n",
      "Retained Transits New Multiplanets 425 from 3080\n"
     ]
    }
   ],
   "source": [
    "#koi_cuts\n",
    "koi_enough_trans = (26/koi_periods >= ped_constraint).astype(int)\n",
    "koi_low_tol = ((koi_tol[:,0]==1)+(koi_tol[: ,1]==1) + (koi_tol[:,0] == koi_tol[:,1])).astype(int)\n",
    "#this is done because this koi happens to have two planets with roughly eqivalent signals\n",
    "#thus the bls detects both periods, and this ensures that it is not discarded in the error cuts\n",
    "indices = np.where(koi_SNR[:,0] == 2989404)[0]\n",
    "print indices\n",
    "koi_low_tol[indices] = 1  \n",
    "\n",
    "koi_true_trans = ((koi_SNR[:, -1]>=SNR_cut)* (koi_tol[:,2]<0.002) * (koi_enough_trans==1)).astype(int)\n",
    "print \"Retained Transits\", len(np.where(koi_true_trans==1)[0]), \"from\", koi.shape[0]\n",
    "\n",
    "\n",
    "\n",
    "\n",
    "#mkoi_cuts\n",
    "mkoi_enough_trans = (26/mkoi_periods >= ped_constraint).astype(int)\n",
    "mkoi_low_tol = ((mkoi_tol[:,0]==1)+(mkoi_tol[: ,1]==1) + (mkoi_tol[:,0] == mkoi_tol[:,1])).astype(int)\n",
    "#this is done because this koi happens to have two planets with roughly eqivalent signals\n",
    "#thus the bls detects both periods, and this ensures that it is not discarded in the error cuts\n",
    "indices = np.where(mkoi_SNR[:,0] == 2989404)[0]\n",
    "print indices\n",
    "mkoi_low_tol[indices] = 1  \n",
    "\n",
    "mkoi_true_trans = ((mkoi_SNR[:, -1]>=SNR_cut)* (mkoi_tol[:,2]<0.002) * (mkoi_enough_trans==1)).astype(int)\n",
    "print \"Retained Transits New Multiplanets\", len(np.where(mkoi_true_trans==1)[0]), \"from\", koi.shape[0]"
   ]
  },
  {
   "cell_type": "code",
   "execution_count": 43,
   "metadata": {
    "collapsed": false
   },
   "outputs": [
    {
     "name": "stdout",
     "output_type": "stream",
     "text": [
      "580\n",
      "ONly new method detects a star 293\n",
      "ONly old method detects a star 287\n",
      "<type 'numpy.ndarray'>\n"
     ]
    },
    {
     "ename": "AttributeError",
     "evalue": "'builtin_function_or_method' object has no attribute 'shape'",
     "output_type": "error",
     "traceback": [
      "\u001b[0;31m---------------------------------------------------------------------------\u001b[0m",
      "\u001b[0;31mAttributeError\u001b[0m                            Traceback (most recent call last)",
      "\u001b[0;32m<ipython-input-43-4aadd1e69b30>\u001b[0m in \u001b[0;36m<module>\u001b[0;34m()\u001b[0m\n\u001b[1;32m      9\u001b[0m \u001b[0;32mprint\u001b[0m \u001b[0mtype\u001b[0m\u001b[0;34m(\u001b[0m\u001b[0mmkoi_ids\u001b[0m\u001b[0;34m)\u001b[0m\u001b[0;34m\u001b[0m\u001b[0m\n\u001b[1;32m     10\u001b[0m \u001b[0mmkoi_ids\u001b[0m\u001b[0;34m=\u001b[0m \u001b[0mmkoi_ids\u001b[0m\u001b[0;34m.\u001b[0m\u001b[0mreshape\u001b[0m\u001b[0;34m(\u001b[0m\u001b[0;34m(\u001b[0m\u001b[0mmkoi_enough_trans\u001b[0m\u001b[0;34m.\u001b[0m\u001b[0mshape\u001b[0m\u001b[0;34m[\u001b[0m\u001b[0;36m0\u001b[0m\u001b[0;34m]\u001b[0m\u001b[0;34m,\u001b[0m \u001b[0;36m3\u001b[0m\u001b[0;34m)\u001b[0m\u001b[0;34m)\u001b[0m\u001b[0;34m.\u001b[0m\u001b[0mastype\u001b[0m\u001b[0;34m\u001b[0m\u001b[0m\n\u001b[0;32m---> 11\u001b[0;31m \u001b[0;32mprint\u001b[0m \u001b[0mmkoi_ids\u001b[0m\u001b[0;34m.\u001b[0m\u001b[0mshape\u001b[0m\u001b[0;34m\u001b[0m\u001b[0m\n\u001b[0m\u001b[1;32m     12\u001b[0m \u001b[0;32mprint\u001b[0m\u001b[0;34m\u001b[0m\u001b[0m\n\u001b[1;32m     13\u001b[0m \u001b[0;32mprint\u001b[0m \u001b[0mmkoi_ids\u001b[0m\u001b[0;34m[\u001b[0m\u001b[0;36m1\u001b[0m\u001b[0;34m:\u001b[0m\u001b[0;36m2\u001b[0m\u001b[0;34m,\u001b[0m \u001b[0;36m3\u001b[0m\u001b[0;34m]\u001b[0m\u001b[0;34m\u001b[0m\u001b[0m\n",
      "\u001b[0;31mAttributeError\u001b[0m: 'builtin_function_or_method' object has no attribute 'shape'"
     ]
    }
   ],
   "source": [
    "indices = np.where(mkoi_enough_trans != koi_enough_trans)[0]\n",
    "print len(indices)\n",
    "print \"ONly new method detects a star\" , len(np.where((mkoi_enough_trans==1) * (koi_enough_trans==0))[0])\n",
    "new_only = np.where((mkoi_enough_trans==1) * (koi_enough_trans==0))[0]\n",
    "print \"ONly old method detects a star\" , len(np.where((mkoi_enough_trans==0) * (koi_enough_trans==1))[0])\n",
    "old_only = np.where((mkoi_enough_trans==0) * (koi_enough_trans==1))[0]\n",
    "#print new_only\n",
    "mkoi_ids = mkoi_SNR.astype(int)\n",
    "print type(mkoi_ids)\n",
    "mkoi_ids= mkoi_ids.reshape((mkoi_enough_trans.shape[0], 3)).astype\n",
    "print mkoi_ids.shape\n",
    "print \n",
    "print mkoi_ids[1:2]\n",
    "#print koi_SNR[1]"
   ]
  },
  {
   "cell_type": "code",
   "execution_count": 3,
   "metadata": {
    "collapsed": false
   },
   "outputs": [
    {
     "name": "stdout",
     "output_type": "stream",
     "text": [
      "SNR Cut 9255\n",
      "Retained Transits 6215\n",
      "[913 914 915 916 917 918 919 920 921 922 923 924]\n",
      "Retained Transits 425 from 3080\n"
     ]
    },
    {
     "data": {
      "text/html": [
       "<div>\n",
       "<table border=\"1\" class=\"dataframe\">\n",
       "  <thead>\n",
       "    <tr style=\"text-align: right;\">\n",
       "      <th></th>\n",
       "      <th>mod_sig_pri_dv</th>\n",
       "      <th>mod_sig_sec_dv</th>\n",
       "      <th>mod_sig_ter_dv</th>\n",
       "      <th>mod_sig_pos_dv</th>\n",
       "      <th>mod_fa1_dv</th>\n",
       "      <th>mod_fa2_dv</th>\n",
       "      <th>mod_fred_dv</th>\n",
       "      <th>modshiftval1_dv</th>\n",
       "      <th>modshiftval2_dv</th>\n",
       "      <th>modshiftval3_dv</th>\n",
       "      <th>...</th>\n",
       "      <th>BLS_Qtran_1_0</th>\n",
       "      <th>BLS_Qingress_1_0</th>\n",
       "      <th>BLS_i1_1_0</th>\n",
       "      <th>BLS_i2_1_0</th>\n",
       "      <th>BLS_deltaChi2_1_0</th>\n",
       "      <th>BLS_fraconenight_1_0</th>\n",
       "      <th>BLS_Ntransits_1_0</th>\n",
       "      <th>BLS_Rednoise_1_0</th>\n",
       "      <th>BLS_Whitenoise_1_0</th>\n",
       "      <th>BLS_SignaltoPinknoise_1_0</th>\n",
       "    </tr>\n",
       "  </thead>\n",
       "  <tbody>\n",
       "    <tr>\n",
       "      <th>0</th>\n",
       "      <td>0.00028</td>\n",
       "      <td>-9.999884</td>\n",
       "      <td>0.000098</td>\n",
       "      <td>-0.000186</td>\n",
       "      <td>2.991073</td>\n",
       "      <td>2.538906</td>\n",
       "      <td>1.040623</td>\n",
       "      <td>-2.990804</td>\n",
       "      <td>-2.538725</td>\n",
       "      <td>-2.53844</td>\n",
       "      <td>...</td>\n",
       "      <td>0.08623</td>\n",
       "      <td>0.18903</td>\n",
       "      <td>0.35772</td>\n",
       "      <td>0.44395</td>\n",
       "      <td>-0.00001</td>\n",
       "      <td>0.31843</td>\n",
       "      <td>4.0</td>\n",
       "      <td>0.00004</td>\n",
       "      <td>0.00031</td>\n",
       "      <td>7.72038</td>\n",
       "    </tr>\n",
       "  </tbody>\n",
       "</table>\n",
       "<p>1 rows × 29 columns</p>\n",
       "</div>"
      ],
      "text/plain": [
       "   mod_sig_pri_dv  mod_sig_sec_dv  mod_sig_ter_dv  mod_sig_pos_dv  mod_fa1_dv  \\\n",
       "0         0.00028       -9.999884        0.000098       -0.000186    2.991073   \n",
       "\n",
       "   mod_fa2_dv  mod_fred_dv  modshiftval1_dv  modshiftval2_dv  modshiftval3_dv  \\\n",
       "0    2.538906     1.040623        -2.990804        -2.538725         -2.53844   \n",
       "\n",
       "             ...              BLS_Qtran_1_0  BLS_Qingress_1_0  BLS_i1_1_0  \\\n",
       "0            ...                    0.08623           0.18903     0.35772   \n",
       "\n",
       "   BLS_i2_1_0  BLS_deltaChi2_1_0  BLS_fraconenight_1_0  BLS_Ntransits_1_0  \\\n",
       "0     0.44395           -0.00001               0.31843                4.0   \n",
       "\n",
       "   BLS_Rednoise_1_0  BLS_Whitenoise_1_0  BLS_SignaltoPinknoise_1_0  \n",
       "0           0.00004             0.00031                    7.72038  \n",
       "\n",
       "[1 rows x 29 columns]"
      ]
     },
     "execution_count": 3,
     "metadata": {},
     "output_type": "execute_result"
    }
   ],
   "source": [
    "#append Y values\n",
    "inj[\"Y\"] = inj_true_trans\n",
    "inv[\"Y\"] = np.zeros(inv.shape[0])\n",
    "non_koi[\"Y\"] = np.zeros(non_koi.shape[0])\n",
    "\n",
    "object_labels = np.hstack([np.ones(inj.shape[0]),np.zeros(inv.shape[0])+2,  np.zeros(non_koi.shape[0])+4])\n",
    "total_signals = pd.concat([inj, inv,  non_koi], axis = 0)\n",
    "\n",
    "# 1 inj , 2 inv, 3 koi, 4 non kois\n",
    "#these are object labels given to track the objects later through shuffling and train test splitting\n",
    "drop_column =  [\"BLS_Npointsaftertransit_1_0\", \"BLS_Npointsintransit_1_0\", \"BLS_Npointsbeforetransit_1_0\",\n",
    "                \"BLS_OOTmag_1_0\", \"BLS_Tc_1_0\", \"BLS_Period_1_0\"]\n",
    "total_signals = total_signals.drop(drop_column, axis = 1)\n",
    "test_non_kois = test_non_kois.drop(drop_column, axis=1)\n",
    "koi = koi.drop(drop_column, axis = 1)\n",
    "labels = total_signals[\"Y\"]\n",
    "del total_signals[\"Y\"]\n",
    "total_signals.head(1)"
   ]
  },
  {
   "cell_type": "code",
   "execution_count": 4,
   "metadata": {
    "collapsed": false
   },
   "outputs": [
    {
     "name": "stdout",
     "output_type": "stream",
     "text": [
      "(26000, 29) (26000,)\n",
      "Strong Transits in training 4979\n",
      "Weak Transits in training 3021\n",
      "Inverted Signals in training 12000\n",
      "Non kois in Training 800 \n",
      "\n",
      "Strong Transits in testing 1236\n",
      "Weak Signals in testing 764\n",
      "Inverted Signals in testing 3000\n",
      "Non kois in Testing 200\n"
     ]
    }
   ],
   "source": [
    "shuffleX, shuffleY , shuffle_labels= shuffle(total_signals, labels, object_labels, random_state =0)\n",
    "shuffleX = shuffleX.reset_index(drop = True)\n",
    "shuffleY = shuffleY.reset_index(drop = True)\n",
    "\n",
    "print shuffleX.shape, shuffleY.shape \n",
    "trainX, testX, trainY, testY, train_label, test_label = train_test_split(shuffleX, shuffleY, shuffle_labels, stratify =shuffle_labels, test_size = 0.20,random_state = 0 )\n",
    "\n",
    "print \"Strong Transits in training\" , len(np.where([(trainY==1) & (train_label==1)])[0]) \n",
    "print \"Weak Transits in training\" , len(np.where([(trainY==0) & (train_label==1)])[0]) \n",
    "print \"Inverted Signals in training\" , len(np.where([(trainY==0) & (train_label==2)])[0]) \n",
    "print \"Non kois in Training\", len(np.where([(trainY==0) & (train_label==4)])[0]) ,\"\\n\"\n",
    "print \"Strong Transits in testing\" , len(np.where([(testY==1) & (test_label==1)])[0]) \n",
    "print \"Weak Signals in testing\" , len(np.where([(testY==0) & (test_label==1)])[0]) \n",
    "print \"Inverted Signals in testing\" , len(np.where([(testY==0) & (test_label==2)])[0]) \n",
    "print \"Non kois in Testing\", len(np.where([(testY==0) & (test_label==4)])[0]) "
   ]
  },
  {
   "cell_type": "code",
   "execution_count": 5,
   "metadata": {
    "collapsed": false
   },
   "outputs": [
    {
     "data": {
      "text/plain": [
       "XGBClassifier(base_score=0.5, colsample_bylevel=1, colsample_bytree=0.9,\n",
       "       gamma=0, learning_rate=0.02, max_delta_step=0, max_depth=20,\n",
       "       min_child_weight=5, missing=None, n_estimators=500, nthread=-1,\n",
       "       objective='binary:logistic', reg_alpha=0, reg_lambda=1,\n",
       "       scale_pos_weight=30, seed=0, silent=True, subsample=0.95)"
      ]
     },
     "execution_count": 5,
     "metadata": {},
     "output_type": "execute_result"
    }
   ],
   "source": [
    "#define model and parameters\n",
    "xgbc = XGBClassifier(seed = 0, max_depth=20, min_child_weight=5, subsample=0.95, colsample_bytree=0.9, n_estimators=500, scale_pos_weight=30, learning_rate=0.02 )\n",
    "xgbc.fit(trainX, trainY)"
   ]
  },
  {
   "cell_type": "code",
   "execution_count": 6,
   "metadata": {
    "collapsed": false
   },
   "outputs": [
    {
     "name": "stdout",
     "output_type": "stream",
     "text": [
      "Area under precision recall curve 0.983999055061\n",
      "Strong Injections detected 1218 from 1236\n",
      "Weak Injections detected with period cut 24 from 764\n",
      "Inverted Rejected 3000 from 3000\n",
      "NON_KOI_Rejected 198 from 200\n",
      "NON_kois_test_set rejected 9868 from 10000\n"
     ]
    }
   ],
   "source": [
    "preds = xgbc.predict(testX)\n",
    "print \"Area under precision recall curve\", metrics.average_precision_score(testY, preds)\n",
    "print \"Strong Injections detected\", len(np.where((preds==1)&(test_label==1)&(testY==1))[0]),\"from\", len(np.where((test_label==1)&(testY==1))[0])\n",
    "print \"Weak Injections detected with period cut\", len(np.where((preds==1)&(test_label==1)&(testY==0))[0]),\"from\", len(np.where((test_label==1)&(testY==0))[0])\n",
    "\n",
    "print \"Inverted Rejected\", len(np.where((preds==0)&(test_label==2)&(testY==0))[0]),\"from\", len(np.where((test_label==2)&(testY==0))[0])\n",
    "print \"NON_KOI_Rejected\", len(np.where((preds==0)&(test_label==4)&(testY==0))[0]),\"from\", len(np.where((test_label==4)&(testY==0))[0])\n",
    "preds_non_kois = xgbc.predict(test_non_kois)\n",
    "print \"NON_kois_test_set rejected\", len(np.where(preds_non_kois==0)[0]), \"from 10000\" "
   ]
  },
  {
   "cell_type": "code",
   "execution_count": 7,
   "metadata": {
    "collapsed": false
   },
   "outputs": [
    {
     "name": "stdout",
     "output_type": "stream",
     "text": [
      "Unique starts 283\n",
      "Stars detected 131\n",
      "Stars Missed 152\n"
     ]
    },
    {
     "data": {
      "image/png": "[encoded data removed]",
      "text/plain": [
       "<matplotlib.figure.Figure at 0x7f326b8a6fd0>"
      ]
     },
     "metadata": {},
     "output_type": "display_data"
    }
   ],
   "source": [
    "#This groups the predictions of the kois per star.\n",
    "\n",
    "preds =xgbc.predict(koi)\n",
    "star_list_ids = np.unique(koi_SNR[:,0]) \n",
    "partially_detected = np.zeros_like(star_list_ids) #flag to see if at least one segment for that stasr was detected\n",
    "detection_counts = np.zeros_like(star_list_ids)# raw count of segments per star that were detected\n",
    "normalized_detection_counts = np.zeros_like(star_list_ids) # percentage of segments detected for each star id\n",
    "not_detected = np.zeros_like(star_list_ids) # flag for stars not detected 1== not detected in any of its segments\n",
    "\n",
    "star_SNR =np.zeros_like(star_list_ids)\n",
    "star_tol = np.zeros_like(star_list_ids)\n",
    "star_transits = np.zeros_like(star_list_ids)\n",
    "star_period = np.zeros_like(star_list_ids)\n",
    "\n",
    "print \"Unique starts\" ,len(star_list_ids)\n",
    "\n",
    "for i,id_num in enumerate(star_list_ids):\n",
    "    indices = np.where(id_num == koi_SNR[:,0])[0]\n",
    "    if  preds[indices].sum() >=1:\n",
    "        partially_detected[i] = star_list_ids[i]\n",
    "    else  :\n",
    "        not_detected[i] = star_list_ids[i]\n",
    "    detection_counts[i]=preds[indices].sum()\n",
    "    normalized_detection_counts[i] = np.nansum(preds[indices].sum()/ len(np.where(preds[indices]!=np.nan)[0]))\n",
    "    star_SNR[i] = np.median(koi_SNR[indices,2])\n",
    "    star_transits[i] = np.median(26//koi_periods[indices])\n",
    "    star_tol[i] = np.median(koi_tol[indices,2])\n",
    "    star_period[i] = np.mean(koi_periods[indices])\n",
    "    #The SNR of this star is incorrect, as it was uncorrectly detrended due to its short timescale variation(less than a day)\n",
    "    #Thus the SNR for this star is manually set to zero\n",
    "    if id_num==10736489:\n",
    "        star_SNR[i]= 0\n",
    "\n",
    "print \"Stars detected\", len(np.where(partially_detected!=0)[0])\n",
    "plt.hist(normalized_detection_counts)\n",
    "print \"Stars Missed\" , len(not_detected[np.where(not_detected!=0)[0]])"
   ]
  },
  {
   "cell_type": "code",
   "execution_count": 8,
   "metadata": {
    "collapsed": false
   },
   "outputs": [
    {
     "name": "stdout",
     "output_type": "stream",
     "text": [
      "[1420 1421 1422 1423 1424 1425 1426 1427 1428]\n",
      "[ 0.  0.  0.  0.  0.  0.  0.  0.  0.]\n",
      "[ 0.01234512]\n",
      "[ 4.77800306]\n"
     ]
    },
    {
     "data": {
      "text/html": [
       "<div>\n",
       "<table border=\"1\" class=\"dataframe\">\n",
       "  <thead>\n",
       "    <tr style=\"text-align: right;\">\n",
       "      <th></th>\n",
       "      <th>modshiftval1_dv</th>\n",
       "      <th>modshiftval2_dv</th>\n",
       "      <th>modshiftval3_dv</th>\n",
       "      <th>modshiftval4_dv</th>\n",
       "      <th>modshiftval5_dv</th>\n",
       "      <th>modshiftval6_dv</th>\n",
       "    </tr>\n",
       "  </thead>\n",
       "  <tbody>\n",
       "    <tr>\n",
       "      <th>1420</th>\n",
       "      <td>-3.469189</td>\n",
       "      <td>-3.162564</td>\n",
       "      <td>-3.161703</td>\n",
       "      <td>-12.918344</td>\n",
       "      <td>-13.163035</td>\n",
       "      <td>-13.162174</td>\n",
       "    </tr>\n",
       "    <tr>\n",
       "      <th>1421</th>\n",
       "      <td>-3.494901</td>\n",
       "      <td>-3.190175</td>\n",
       "      <td>-3.189657</td>\n",
       "      <td>-12.108350</td>\n",
       "      <td>-13.190696</td>\n",
       "      <td>-13.190178</td>\n",
       "    </tr>\n",
       "    <tr>\n",
       "      <th>1422</th>\n",
       "      <td>-3.457136</td>\n",
       "      <td>-3.150009</td>\n",
       "      <td>-3.148940</td>\n",
       "      <td>-15.342365</td>\n",
       "      <td>-13.150119</td>\n",
       "      <td>-13.149050</td>\n",
       "    </tr>\n",
       "    <tr>\n",
       "      <th>1423</th>\n",
       "      <td>-3.463886</td>\n",
       "      <td>-3.156875</td>\n",
       "      <td>-3.156252</td>\n",
       "      <td>-13.221702</td>\n",
       "      <td>-13.157127</td>\n",
       "      <td>-13.156505</td>\n",
       "    </tr>\n",
       "    <tr>\n",
       "      <th>1424</th>\n",
       "      <td>-3.462852</td>\n",
       "      <td>-3.155993</td>\n",
       "      <td>-3.155071</td>\n",
       "      <td>-14.611366</td>\n",
       "      <td>-13.156347</td>\n",
       "      <td>-13.155426</td>\n",
       "    </tr>\n",
       "    <tr>\n",
       "      <th>1425</th>\n",
       "      <td>-3.449609</td>\n",
       "      <td>-3.141274</td>\n",
       "      <td>-3.140614</td>\n",
       "      <td>-12.711770</td>\n",
       "      <td>-13.141752</td>\n",
       "      <td>-13.141092</td>\n",
       "    </tr>\n",
       "    <tr>\n",
       "      <th>1426</th>\n",
       "      <td>-3.472836</td>\n",
       "      <td>-3.166725</td>\n",
       "      <td>-3.165903</td>\n",
       "      <td>-12.913877</td>\n",
       "      <td>-13.166962</td>\n",
       "      <td>-13.166141</td>\n",
       "    </tr>\n",
       "    <tr>\n",
       "      <th>1427</th>\n",
       "      <td>-3.443897</td>\n",
       "      <td>-3.135049</td>\n",
       "      <td>-3.133976</td>\n",
       "      <td>-13.343558</td>\n",
       "      <td>-13.135663</td>\n",
       "      <td>-13.134590</td>\n",
       "    </tr>\n",
       "    <tr>\n",
       "      <th>1428</th>\n",
       "      <td>-3.342039</td>\n",
       "      <td>-3.144733</td>\n",
       "      <td>-3.144189</td>\n",
       "      <td>-12.186495</td>\n",
       "      <td>-13.145347</td>\n",
       "      <td>-13.144804</td>\n",
       "    </tr>\n",
       "  </tbody>\n",
       "</table>\n",
       "</div>"
      ],
      "text/plain": [
       "      modshiftval1_dv  modshiftval2_dv  modshiftval3_dv  modshiftval4_dv  \\\n",
       "1420        -3.469189        -3.162564        -3.161703       -12.918344   \n",
       "1421        -3.494901        -3.190175        -3.189657       -12.108350   \n",
       "1422        -3.457136        -3.150009        -3.148940       -15.342365   \n",
       "1423        -3.463886        -3.156875        -3.156252       -13.221702   \n",
       "1424        -3.462852        -3.155993        -3.155071       -14.611366   \n",
       "1425        -3.449609        -3.141274        -3.140614       -12.711770   \n",
       "1426        -3.472836        -3.166725        -3.165903       -12.913877   \n",
       "1427        -3.443897        -3.135049        -3.133976       -13.343558   \n",
       "1428        -3.342039        -3.144733        -3.144189       -12.186495   \n",
       "\n",
       "      modshiftval5_dv  modshiftval6_dv  \n",
       "1420       -13.163035       -13.162174  \n",
       "1421       -13.190696       -13.190178  \n",
       "1422       -13.150119       -13.149050  \n",
       "1423       -13.157127       -13.156505  \n",
       "1424       -13.156347       -13.155426  \n",
       "1425       -13.141752       -13.141092  \n",
       "1426       -13.166962       -13.166141  \n",
       "1427       -13.135663       -13.134590  \n",
       "1428       -13.145347       -13.144804  "
      ]
     },
     "execution_count": 8,
     "metadata": {},
     "output_type": "execute_result"
    }
   ],
   "source": [
    "#print star_tol[np.where(star_list_ids ==2989404)[0]]#star_tol]\n",
    "#preds =xgbc.predict(koi)\n",
    "star_code = 5735762# 8644288#6850504 #5735762 #5735762 #8644288 # 2989404\n",
    "indices = np.where(koi_SNR[:,0] == star_code)[0]\n",
    "print indices\n",
    "koi.loc[indices]\n",
    "print xgbc.predict(koi.loc[indices])\n",
    "feats = []\n",
    "for feat in koi.columns.values:\n",
    "    if \"modshift\" in feat:\n",
    "        feats.append(feat)\n",
    "print star_tol[np.where(star_list_ids == star_code)[0]]\n",
    "print star_period[np.where(star_list_ids == star_code)[0]]\n",
    "koi.loc[indices][feats]#[[\"modshiftval5_dv\", \"modshiftval2_dv\"]]\n"
   ]
  },
  {
   "cell_type": "code",
   "execution_count": 9,
   "metadata": {
    "collapsed": false
   },
   "outputs": [
    {
     "name": "stdout",
     "output_type": "stream",
     "text": [
      "Weak stars detected with low period err: 1 from 2\n",
      "Weak stars detected with high period err: 33 from 133\n",
      "Total Strong stars detected with low period err: 43 from 55\n",
      "Strong stars detected with low period err with up to two transits: 1 from 6\n",
      "Strong stars detected with low period err with 2 to 3 transits per segment: 3 from 10\n",
      "Strong stars detected with low period err and tight transit cut: 39 from 39\n",
      "Strong stars detected with high period err: 54 from 93\n",
      "Number of stars where all segments were detected 24\n",
      "Number of stars where half or more segments were detected 35\n",
      "Total number of stars above SNR cut: 148\n"
     ]
    },
    {
     "data": {
      "image/png": "[encoded data removed]",
      "text/plain": [
       "<matplotlib.figure.Figure at 0x7f32bc0d5990>"
      ]
     },
     "metadata": {},
     "output_type": "display_data"
    }
   ],
   "source": [
    "\n",
    "\n",
    "print \"Weak stars detected with low period err:\", len(np.where( (partially_detected>0)& (star_tol<0.002) &(star_SNR<SNR_cut))[0]), \\\n",
    "     \"from\", len(np.where( (star_tol<0.002) &(star_SNR<SNR_cut))[0])\n",
    "print \"Weak stars detected with high period err:\", len(np.where( (partially_detected>0)& (star_tol>0.002) & (star_SNR<SNR_cut))[0]) ,\\\n",
    " \"from\", len(np.where( (star_tol>0.002) &(star_SNR<SNR_cut))[0])\n",
    "\n",
    "\n",
    "print \"Total Strong stars detected with low period err:\", len(np.where( (partially_detected>0)& (star_tol<0.002) &(star_SNR>SNR_cut))[0]), \\\n",
    " \"from\", len(np.where( (star_tol<0.002) &(star_SNR>SNR_cut) )[0])\n",
    "\n",
    "    \n",
    "print \"Strong stars detected with low period err with up to two transits:\", len(np.where( (partially_detected>0)& (star_tol<0.002) &(star_SNR>SNR_cut) &(star_period>13))[0]), \\\n",
    " \"from\", len(np.where( (star_tol<0.002) &(star_SNR>SNR_cut) &(star_period>13))[0])\n",
    "    \n",
    "    \n",
    "print \"Strong stars detected with low period err with 2 to 3 transits per segment:\", len(np.where( (partially_detected>0)& (star_tol<0.002) &(star_SNR>SNR_cut) & (star_period>8.67) & (star_period<13))[0]), \\\n",
    " \"from\", len(np.where( (star_tol<0.002) &(star_SNR>SNR_cut) & (star_period>8.67) & (star_period<13))[0])\n",
    "    \n",
    "print \"Strong stars detected with low period err and tight transit cut:\", len(np.where( (partially_detected>0)& (star_tol<0.002) &(star_SNR>SNR_cut)& (star_period<8.67))[0]), \\\n",
    " \"from\", len(np.where( (star_tol<0.002) &(star_SNR>SNR_cut)  &(star_period<8.67) )[0])\n",
    "\n",
    "print \"Strong stars detected with high period err:\", len  (np.where( (partially_detected>0)& (star_tol>0.002) &(star_SNR>6))[0]), \\\n",
    " \"from\", len(np.where( (star_tol>0.002) &(star_SNR>SNR_cut))[0])\n",
    "    \n",
    "strong_star_detection_counts = normalized_detection_counts[np.where( (star_tol<0.002) &(star_SNR>SNR_cut)  &(star_period<8.67) )[0]]\n",
    "#print strong_star_detection_counts \n",
    "plt.hist(strong_star_detection_counts,        edgecolor='black', linewidth=1.2)\n",
    "print \"Number of stars where all segments were detected\", len(np.where(strong_star_detection_counts==1)[0])\n",
    "print \"Number of stars where half or more segments were detected\", len(np.where(strong_star_detection_counts>=0.5)[0])\n",
    "print \"Total number of stars above SNR cut:\", len(np.where(star_SNR > SNR_cut)[0])"
   ]
  },
  {
   "cell_type": "code",
   "execution_count": 10,
   "metadata": {
    "collapsed": false,
    "scrolled": true
   },
   "outputs": [
    {
     "name": "stdout",
     "output_type": "stream",
     "text": [
      "(100,) (100,)\n",
      "Detected: 40 from 41 at SNR 0.0\n",
      "[ 8415200.]\n",
      "Detected: 40 from 41 at SNR 1.0101010101\n",
      "[ 8415200.]\n",
      "Detected: 40 from 41 at SNR 2.0202020202\n",
      "[ 8415200.]\n",
      "Detected: 40 from 41 at SNR 3.0303030303\n",
      "[ 8415200.]\n",
      "Detected: 40 from 40 at SNR 4.0404040404\n",
      "[]\n",
      "Detected: 40 from 40 at SNR 5.05050505051\n",
      "[]\n",
      "Detected: 39 from 39 at SNR 6.06060606061\n",
      "[]\n",
      "Detected: 39 from 39 at SNR 7.07070707071\n",
      "[]\n",
      "Detected: 38 from 38 at SNR 8.08080808081\n",
      "[]\n",
      "Detected: 35 from 35 at SNR 9.09090909091\n",
      "[]\n",
      "Detected: 33 from 33 at SNR 10.101010101\n",
      "[]\n",
      "Detected: 33 from 33 at SNR 11.1111111111\n",
      "[]\n",
      "Detected: 28 from 28 at SNR 12.1212121212\n",
      "[]\n",
      "Detected: 26 from 26 at SNR 13.1313131313\n",
      "[]\n",
      "Detected: 24 from 24 at SNR 14.1414141414\n",
      "[]\n",
      "Detected: 20 from 20 at SNR 15.1515151515\n",
      "[]\n",
      "Detected: 20 from 20 at SNR 16.1616161616\n",
      "[]\n",
      "Detected: 19 from 19 at SNR 17.1717171717\n",
      "[]\n",
      "Detected: 17 from 17 at SNR 18.1818181818\n",
      "[]\n",
      "Detected: 15 from 15 at SNR 19.1919191919\n",
      "[]\n",
      "Detected: 15 from 15 at SNR 20.202020202\n",
      "[]\n",
      "Detected: 14 from 14 at SNR 21.2121212121\n",
      "[]\n",
      "Detected: 13 from 13 at SNR 22.2222222222\n",
      "[]\n",
      "Detected: 13 from 13 at SNR 23.2323232323\n",
      "[]\n",
      "Detected: 13 from 13 at SNR 24.2424242424\n",
      "[]\n",
      "Detected: 13 from 13 at SNR 25.2525252525\n",
      "[]\n",
      "Detected: 13 from 13 at SNR 26.2626262626\n",
      "[]\n",
      "Detected: 13 from 13 at SNR 27.2727272727\n",
      "[]\n",
      "Detected: 13 from 13 at SNR 28.2828282828\n",
      "[]\n",
      "Detected: 13 from 13 at SNR 29.2929292929\n",
      "[]\n",
      "Detected: 13 from 13 at SNR 30.303030303\n",
      "[]\n",
      "Detected: 13 from 13 at SNR 31.3131313131\n",
      "[]\n",
      "Detected: 13 from 13 at SNR 32.3232323232\n",
      "[]\n",
      "Detected: 13 from 13 at SNR 33.3333333333\n",
      "[]\n",
      "Detected: 13 from 13 at SNR 34.3434343434\n",
      "[]\n",
      "Detected: 12 from 12 at SNR 35.3535353535\n",
      "[]\n",
      "Detected: 11 from 11 at SNR 36.3636363636\n",
      "[]\n",
      "Detected: 11 from 11 at SNR 37.3737373737\n",
      "[]\n",
      "Detected: 11 from 11 at SNR 38.3838383838\n",
      "[]\n",
      "Detected: 11 from 11 at SNR 39.3939393939\n",
      "[]\n",
      "Detected: 11 from 11 at SNR 40.404040404\n",
      "[]\n",
      "Detected: 11 from 11 at SNR 41.4141414141\n",
      "[]\n",
      "Detected: 11 from 11 at SNR 42.4242424242\n",
      "[]\n",
      "Detected: 11 from 11 at SNR 43.4343434343\n",
      "[]\n",
      "Detected: 11 from 11 at SNR 44.4444444444\n",
      "[]\n",
      "Detected: 11 from 11 at SNR 45.4545454545\n",
      "[]\n",
      "Detected: 11 from 11 at SNR 46.4646464646\n",
      "[]\n",
      "Detected: 11 from 11 at SNR 47.4747474747\n",
      "[]\n",
      "Detected: 11 from 11 at SNR 48.4848484848\n",
      "[]\n",
      "Detected: 9 from 9 at SNR 49.4949494949\n",
      "[]\n",
      "Detected: 9 from 9 at SNR 50.5050505051\n",
      "[]\n",
      "Detected: 9 from 9 at SNR 51.5151515152\n",
      "[]\n",
      "Detected: 9 from 9 at SNR 52.5252525253\n",
      "[]\n",
      "Detected: 9 from 9 at SNR 53.5353535354\n",
      "[]\n",
      "Detected: 9 from 9 at SNR 54.5454545455\n",
      "[]\n",
      "Detected: 9 from 9 at SNR 55.5555555556\n",
      "[]\n",
      "Detected: 9 from 9 at SNR 56.5656565657\n",
      "[]\n",
      "Detected: 9 from 9 at SNR 57.5757575758\n",
      "[]\n",
      "Detected: 9 from 9 at SNR 58.5858585859\n",
      "[]\n",
      "Detected: 9 from 9 at SNR 59.595959596\n",
      "[]\n",
      "Detected: 9 from 9 at SNR 60.6060606061\n",
      "[]\n",
      "Detected: 7 from 7 at SNR 61.6161616162\n",
      "[]\n",
      "Detected: 7 from 7 at SNR 62.6262626263\n",
      "[]\n",
      "Detected: 6 from 6 at SNR 63.6363636364\n",
      "[]\n",
      "Detected: 6 from 6 at SNR 64.6464646465\n",
      "[]\n",
      "Detected: 6 from 6 at SNR 65.6565656566\n",
      "[]\n",
      "Detected: 6 from 6 at SNR 66.6666666667\n",
      "[]\n",
      "Detected: 6 from 6 at SNR 67.6767676768\n",
      "[]\n",
      "Detected: 6 from 6 at SNR 68.6868686869\n",
      "[]\n",
      "Detected: 6 from 6 at SNR 69.696969697\n",
      "[]\n",
      "Detected: 6 from 6 at SNR 70.7070707071\n",
      "[]\n",
      "Detected: 6 from 6 at SNR 71.7171717172\n",
      "[]\n",
      "Detected: 6 from 6 at SNR 72.7272727273\n",
      "[]\n",
      "Detected: 5 from 5 at SNR 73.7373737374\n",
      "[]\n",
      "Detected: 5 from 5 at SNR 74.7474747475\n",
      "[]\n",
      "Detected: 5 from 5 at SNR 75.7575757576\n",
      "[]\n",
      "Detected: 5 from 5 at SNR 76.7676767677\n",
      "[]\n",
      "Detected: 5 from 5 at SNR 77.7777777778\n",
      "[]\n",
      "Detected: 5 from 5 at SNR 78.7878787879\n",
      "[]\n",
      "Detected: 5 from 5 at SNR 79.797979798\n",
      "[]\n",
      "Detected: 5 from 5 at SNR 80.8080808081\n",
      "[]\n",
      "Detected: 5 from 5 at SNR 81.8181818182\n",
      "[]\n",
      "Detected: 5 from 5 at SNR 82.8282828283\n",
      "[]\n",
      "Detected: 5 from 5 at SNR 83.8383838384\n",
      "[]\n",
      "Detected: 5 from 5 at SNR 84.8484848485\n",
      "[]\n",
      "Detected: 5 from 5 at SNR 85.8585858586\n",
      "[]\n",
      "Detected: 5 from 5 at SNR 86.8686868687\n",
      "[]\n",
      "Detected: 5 from 5 at SNR 87.8787878788\n",
      "[]\n",
      "Detected: 5 from 5 at SNR 88.8888888889\n",
      "[]\n",
      "Detected: 5 from 5 at SNR 89.898989899\n",
      "[]\n",
      "Detected: 5 from 5 at SNR 90.9090909091\n",
      "[]\n",
      "Detected: 5 from 5 at SNR 91.9191919192\n",
      "[]\n",
      "Detected: 5 from 5 at SNR 92.9292929293\n",
      "[]\n",
      "Detected: 5 from 5 at SNR 93.9393939394\n",
      "[]\n",
      "Detected: 5 from 5 at SNR 94.9494949495\n",
      "[]\n",
      "Detected: 5 from 5 at SNR 95.9595959596\n",
      "[]\n",
      "Detected: 5 from 5 at SNR 96.9696969697\n",
      "[]\n",
      "Detected: 5 from 5 at SNR 97.9797979798\n",
      "[]\n",
      "Detected: 5 from 5 at SNR 98.9898989899\n",
      "[]\n",
      "Detected: 5 from 5 at SNR 100.0\n",
      "[]\n"
     ]
    },
    {
     "data": {
      "text/plain": [
       "<matplotlib.text.Text at 0x7f326b699b90>"
      ]
     },
     "execution_count": 10,
     "metadata": {},
     "output_type": "execute_result"
    },
    {
     "data": {
      "image/png": "[encoded data removed]",
      "text/plain": [
       "<matplotlib.figure.Figure at 0x7f326b6f3bd0>"
      ]
     },
     "metadata": {},
     "output_type": "display_data"
    }
   ],
   "source": [
    "x = np.linspace(0,100,100)\n",
    "y = np.zeros(x.shape[0])\n",
    "y_total_count = np.zeros_like(y)\n",
    "y_missed = np.zeros_like(y)\n",
    "print x.shape, y.shape\n",
    "for i, val in enumerate(x):\n",
    "    SNR_cut_val = val\n",
    "    y[i] = len(np.where( (partially_detected>0)& (star_tol<0.002) &(star_SNR>SNR_cut_val)& (star_period<8.67))[0]) / float(len(np.where( (star_tol<0.002) &(star_SNR>SNR_cut_val)  &(star_period<8.67) )[0]))\n",
    "    print \"Detected:\", len(np.where( (partially_detected>0)& (star_tol<0.002) &(star_SNR>SNR_cut_val)& (star_period<8.67))[0]),  \"from\",  (len(np.where( (star_tol<0.002) &(star_SNR>SNR_cut_val)  &(star_period<8.67) )[0])), \"at SNR\", val\n",
    "    print star_list_ids[np.where( (not_detected!=0)& (star_tol<0.002) &(star_SNR>SNR_cut_val)& (star_period<8.67))[0]]\n",
    "    y_total_count[i] = len(np.where( (star_tol<0.002) &(star_SNR>SNR_cut_val)  &(star_period<8.67) )[0])\n",
    "    y_missed[i] = len(np.where( (star_tol<0.002) &(star_SNR>SNR_cut_val)  &(star_period<8.67) & (not_detected!=0) )[0]) /float(len(np.where( (star_tol<0.002) &(star_SNR>SNR_cut_val)  &(star_period<8.67)  )[0]))\n",
    "fig = plt.figure(figsize=((15,8)))\n",
    "ax = fig.add_subplot(\"131\")\n",
    "ax.set_ylabel(\"Recall Score\")\n",
    "ax.scatter(x, y, marker = \"x\", color = \"blue\")\n",
    "\n",
    "ax2= fig.add_subplot(\"132\")\n",
    "ax2.scatter(x, y_total_count, marker = \"x\", color = \"green\")\n",
    "ax2.set_ylabel(\"True Stars above SNR Threshold\")\n",
    "\n",
    "ax3= fig.add_subplot(\"133\")\n",
    "ax3.scatter(x, y_missed, marker = \"x\", color = \"red\")\n",
    "ax3.set_ylabel(\"False Negatives\")\n",
    "ax.set_ylim([0.6,1])\n",
    "ax2.set_xlabel(\"SNR Threshold\")"
   ]
  },
  {
   "cell_type": "code",
   "execution_count": 12,
   "metadata": {
    "collapsed": false
   },
   "outputs": [
    {
     "name": "stdout",
     "output_type": "stream",
     "text": [
      "242 41 242\n",
      "6\n"
     ]
    }
   ],
   "source": [
    "#create SNR hoist of total 283 stars minus the 72 signals passing strict period cut and period error cut. \n",
    "strong_stars_low_err = star_SNR[np.where( (star_tol<tolerance_cut)   &(star_period<(26./ped_constraint)) )[0]]\n",
    "weak_err_Stars = star_SNR[np.where( (star_tol> tolerance_cut) + (star_period>(26./ped_constraint)) )[0] ]\n",
    "weak_star_detections = normalized_detection_counts[np.where( (star_tol> tolerance_cut) + (star_period>(26./ped_constraint)) )[0]]\n",
    "\n",
    "print len(weak_err_Stars), len(strong_stars_low_err), len(weak_star_detections)\n",
    "print SNR_cut\n",
    "week_err_Stars_ids_high_SNR = star_list_ids[np.where( ((star_tol> tolerance_cut) + (star_period>(26./ped_constraint))) * (star_SNR>SNR_cut) )[0]]\n",
    "#print len(week_err_Stars_ids_high_SNR) , week_err_Stars_ids_high_SNR\n",
    "#print weak_err_Stars\n",
    "#plt.figure(figsize = (14, 8))\n",
    "#plt.hist(weak_err_Stars, edgecolor='black', linewidth=1.2, bins = np.linspace(1, 100, 25))\n",
    "#plt.ylabel(\"Frequency\")\n",
    "#plt.xlabel(\"SNR\")\n",
    "#plt.ylim([0,25])\n",
    "#plt.figure()\n",
    "#plt.hist(weak_star_detections)\n"
   ]
  },
  {
   "cell_type": "code",
   "execution_count": 11,
   "metadata": {
    "collapsed": false
   },
   "outputs": [
    {
     "data": {
      "text/plain": [
       "'\\n#create pd frame of all segments of stars dIIetected and stars missed\\nmissed_strong_star_feats = np.empty(shape = (0,29))\\n\\nfor star_ID in missed_strong_stars:\\n    indices = np.where(star_ID==koi_SNR[:,0])\\n    print koi.loc[indices].shape\\n    print missed_strong_star_feats\\n    missed_strong_star_feats = np.append(missed_strong_star_feats, koi.loc[indices], axis = 0)\\n    \\n    print missed_strong_stars\\n    #break\\n#koi.head()\\nprint missed_strong_star_feats.shape\\n\\n#do quick tuning, is the model just using poor parameters if its missing half of the strong signals?\\n#print star_SNR[np.where(star_list_ids== 2853446)[0]]\\n#print preds[np.where(koi_SNR[:,0] == 2853446)[0]]\\n\\n#create pd frame of all segments of stars dIIetected and stars missed\\ndetected_strong_star_feats = np.empty(shape = (0,29))\\n\\nfor star_ID in detected_strong_stars:\\n    indices = np.where(star_ID==koi_SNR[:,0])\\n    #print koi.loc[indices].shape\\n    detected_strong_star_feats = np.append(detected_strong_star_feats, koi.loc[indices], axis = 0)\\n        #print missed_strong_stars\\n    #break\\n#koi.head()\\nprint detected_strong_star_feats.shape\\n\\n#print missed_strong_stars_segments\\n#koi_SNR[0,:] in missed_strong_stars\\n\\n'"
      ]
     },
     "execution_count": 11,
     "metadata": {},
     "output_type": "execute_result"
    }
   ],
   "source": [
    "'''\n",
    "#create pd frame of all segments of stars dIIetected and stars missed\n",
    "missed_strong_star_feats = np.empty(shape = (0,29))\n",
    "\n",
    "for star_ID in missed_strong_stars:\n",
    "    indices = np.where(star_ID==koi_SNR[:,0])\n",
    "    print koi.loc[indices].shape\n",
    "    print missed_strong_star_feats\n",
    "    missed_strong_star_feats = np.append(missed_strong_star_feats, koi.loc[indices], axis = 0)\n",
    "    \n",
    "    print missed_strong_stars\n",
    "    #break\n",
    "#koi.head()\n",
    "print missed_strong_star_feats.shape\n",
    "\n",
    "#do quick tuning, is the model just using poor parameters if its missing half of the strong signals?\n",
    "#print star_SNR[np.where(star_list_ids== 2853446)[0]]\n",
    "#print preds[np.where(koi_SNR[:,0] == 2853446)[0]]\n",
    "\n",
    "#create pd frame of all segments of stars dIIetected and stars missed\n",
    "detected_strong_star_feats = np.empty(shape = (0,29))\n",
    "\n",
    "for star_ID in detected_strong_stars:\n",
    "    indices = np.where(star_ID==koi_SNR[:,0])\n",
    "    #print koi.loc[indices].shape\n",
    "    detected_strong_star_feats = np.append(detected_strong_star_feats, koi.loc[indices], axis = 0)\n",
    "        #print missed_strong_stars\n",
    "    #break\n",
    "#koi.head()\n",
    "print detected_strong_star_feats.shape\n",
    "\n",
    "#print missed_strong_stars_segments\n",
    "#koi_SNR[0,:] in missed_strong_stars\n",
    "\n",
    "'''"
   ]
  },
  {
   "cell_type": "code",
   "execution_count": 12,
   "metadata": {
    "collapsed": false
   },
   "outputs": [
    {
     "data": {
      "text/plain": [
       "<matplotlib.axes._subplots.AxesSubplot at 0x7f0fc3cfffd0>"
      ]
     },
     "execution_count": 12,
     "metadata": {},
     "output_type": "execute_result"
    },
    {
     "data": {
      "image/png": "[encoded data removed]",
      "text/plain": [
       "<matplotlib.figure.Figure at 0x7f0fc44cda90>"
      ]
     },
     "metadata": {},
     "output_type": "display_data"
    }
   ],
   "source": [
    "feat_imp = pd.Series(xgbc.booster().get_fscore()  ).sort_values(ascending =False)\n",
    "feat_sum = feat_imp.values.sum()\n",
    "feat_imp = feat_imp/feat_sum\n",
    "feat_imp.plot(kind = \"bar\", figsize=((12, 8)))"
   ]
  },
  {
   "cell_type": "code",
   "execution_count": 13,
   "metadata": {
    "collapsed": false
   },
   "outputs": [
    {
     "name": "stdout",
     "output_type": "stream",
     "text": [
      "0.982384936023\n",
      "0.196476987205\n",
      "0.984475506193\n",
      "0.393372088443\n",
      "0.984400281167\n",
      "0.590252144677\n",
      "0.982372158207\n",
      "0.786726576318\n",
      "0.981183177055\n",
      "0.982963211729\n",
      "Strong Injections detected 6149 from 6215\n",
      "Weak Injections detected with period cut 150 from 3785\n",
      "Inverted Rejected 14998 from 15000\n",
      "NON_KOI_Rejected 988 from 1000\n"
     ]
    }
   ],
   "source": [
    "#find cross validated score with a stratified split\n",
    "skfX = StratifiedKFold(n_splits=5 , random_state=0)\n",
    "total_predictions = np.zeros_like(shuffleY)\n",
    "total_Y = np.zeros_like(shuffleY)\n",
    "total_labels = np.zeros_like(shuffleY)\n",
    "total_data = np.zeros_like(shuffleX)\n",
    "score = 0.\n",
    "\n",
    "for train_index, test_index in skfX.split(shuffleX, shuffle_labels):\n",
    "    x_train, x_test = shuffleX.loc[train_index], shuffleX.loc[test_index]\n",
    "    y_train, y_test = shuffleY[train_index], shuffleY[test_index]\n",
    "    label_train, label_test = shuffle_labels[train_index], shuffle_labels[test_index]\n",
    "    xgbc.fit(x_train, y_train)\n",
    "    preds_Y=xgbc.predict(x_test)\n",
    "    total_predictions = np.r_[total_predictions, preds_Y]\n",
    "    total_Y = np.r_[total_Y, y_test]\n",
    "    total_data = np.r_[total_data, x_test]\n",
    "    total_labels = np.r_[total_labels, label_test]\n",
    "    print metrics.average_precision_score(y_test, preds_Y)\n",
    "    score = score + metrics.average_precision_score(y_test, preds_Y)\n",
    "    print score/ 5.\n",
    "print \"Strong Injections detected\", len(np.where((total_predictions==1)&(total_labels==1)&(total_Y==1))[0]),\"from\", len(np.where((total_labels==1)&(total_Y==1))[0])\n",
    "print \"Weak Injections detected with period cut\", len(np.where((total_predictions==1)&(total_labels==1)&(total_Y==0))[0]),\"from\", len(np.where((total_labels==1)&(total_Y==0))[0])\n",
    "print \"Inverted Rejected\", len(np.where((total_predictions==0)&(total_labels==2)&(total_Y==0))[0]),\"from\", len(np.where((total_labels==2)&(total_Y==0))[0])\n",
    "print \"NON_KOI_Rejected\", len(np.where((total_predictions==0)&(total_labels==4)&(total_Y==0))[0]),\"from\", len(np.where((total_labels==4)&(total_Y==0))[0])\n"
   ]
  },
  {
   "cell_type": "code",
   "execution_count": null,
   "metadata": {
    "collapsed": true
   },
   "outputs": [],
   "source": []
  }
 ],
 "metadata": {
  "anaconda-cloud": {},
  "kernelspec": {
   "display_name": "Python [conda root]",
   "language": "python",
   "name": "conda-root-py"
  },
  "language_info": {
   "codemirror_mode": {
    "name": "ipython",
    "version": 2
   },
   "file_extension": ".py",
   "mimetype": "text/x-python",
   "name": "python",
   "nbconvert_exporter": "python",
   "pygments_lexer": "ipython2",
   "version": "2.7.12"
  }
 },
 "nbformat": 4,
 "nbformat_minor": 1
}
