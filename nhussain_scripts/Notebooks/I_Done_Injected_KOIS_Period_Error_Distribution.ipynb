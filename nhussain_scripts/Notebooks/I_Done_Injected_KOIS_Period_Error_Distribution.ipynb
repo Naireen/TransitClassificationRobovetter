{
 "cells": [
  {
   "cell_type": "markdown",
   "metadata": {},
   "source": [
    "Compute the detected period error of the BLS fit to the simulated injected planet signals and primary koi signals. This criteria will be used to select which signals should be labed as false for the model.  "
   ]
  },
  {
   "cell_type": "code",
   "execution_count": 1,
   "metadata": {
    "collapsed": false
   },
   "outputs": [],
   "source": [
    "import os\n",
    "import numpy as np\n",
    "import pandas as pd\n",
    "import time\n",
    "import matplotlib\n",
    "%matplotlib inline\n",
    "from matplotlib import pyplot as plt\n",
    "from scipy.optimize import minimize, fmin, fminbound, fmin_slsqp, brute"
   ]
  },
  {
   "cell_type": "code",
   "execution_count": 2,
   "metadata": {
    "collapsed": false
   },
   "outputs": [],
   "source": [
    "injected_sigs = np.loadtxt(\"../../../Training/simulation/injection/injection.txt\", dtype=str, delimiter=\",\")\n",
    "#injected_sigs = np.loadtxt(\"../Catalogs/injection.txt\", dtype=str, delimiter=\",\")\n",
    "\n",
    "periods_inj = injected_sigs[:, 3].astype(\"float64\")\n",
    "SNR = np.loadtxt(\"../Data/SNR_10000_corrected.txt\")[:10000]"
   ]
  },
  {
   "cell_type": "code",
   "execution_count": 3,
   "metadata": {
    "collapsed": false
   },
   "outputs": [
    {
     "data": {
      "text/plain": [
       "array(['10000198-0_inj.blsanal', '10000198-1_inj.blsanal',\n",
       "       '10000198-2_inj.blsanal', ..., '9999901-13_inj.blsanal',\n",
       "       '9999901-14_inj.blsanal', '9999901-15_inj.blsanal'], \n",
       "      dtype='|S51')"
      ]
     },
     "execution_count": 3,
     "metadata": {},
     "output_type": "execute_result"
    }
   ],
   "source": [
    "values = np.core.defchararray.add(injected_sigs[:,0], \"-\")\n",
    "values = np.core.defchararray.add(values, injected_sigs[:, 1])\n",
    "values = np.core.defchararray.add(values, \"_inj.blsanal\")\n",
    "values"
   ]
  },
  {
   "cell_type": "code",
   "execution_count": 4,
   "metadata": {
    "collapsed": false
   },
   "outputs": [
    {
     "name": "stdout",
     "output_type": "stream",
     "text": [
      "999\n",
      "1999\n",
      "2999\n",
      "3999\n",
      "4999\n",
      "5999\n",
      "6999\n",
      "7999\n",
      "8999\n",
      "9999\n"
     ]
    }
   ],
   "source": [
    "#Get the detected bls periods for the injected signals for the first 10000 signals\n",
    "\n",
    "periods_bls = np.zeros(10000)# []\n",
    "for i, name in enumerate(values[:10000]):\n",
    "    periods_bls[i]=np.loadtxt(\"../../../Training/simulation/injection/\" + name)[0,1]\n",
    "    if i % 1000 ==999:\n",
    "        print i"
   ]
  },
  {
   "cell_type": "code",
   "execution_count": 5,
   "metadata": {
    "collapsed": true
   },
   "outputs": [],
   "source": [
    "#\n",
    "#harmonics = np.loadtxt(\"../Data/period_harmonics_10000_inj_signals.txt\")"
   ]
  },
  {
   "cell_type": "code",
   "execution_count": 6,
   "metadata": {
    "collapsed": false
   },
   "outputs": [],
   "source": [
    "def period_func(vals, p_bls, p_inj):\n",
    "    a, b = vals\n",
    "    a = np.rint(a)\n",
    "    b = np.rint(b)\n",
    "    #print a, b\n",
    "    #print a*p_bls-b*p_inj\n",
    "    \n",
    "    return np.abs((a*p_bls - b*p_inj) / 0.5/(a*p_bls + b*p_inj))"
   ]
  },
  {
   "cell_type": "code",
   "execution_count": 7,
   "metadata": {
    "collapsed": false
   },
   "outputs": [
    {
     "name": "stdout",
     "output_type": "stream",
     "text": [
      "(10000, 2)\n"
     ]
    }
   ],
   "source": [
    "rranges = (slice(1,6, 1), slice(1,6, 1))\n",
    "harmonics = np.empty(shape = [10000,2])\n",
    "for i in range(10000):\n",
    "    results = brute(period_func, ranges=rranges, args=(periods_bls[i], periods_inj[i]), full_output=True, finish= None)\n",
    "    harmonics[i, :] =results[0]\n",
    "    try:\n",
    "        results[0].astype(int)\n",
    "    except:\n",
    "        print i\n",
    "print harmonics.shape"
   ]
  },
  {
   "cell_type": "code",
   "execution_count": 8,
   "metadata": {
    "collapsed": false
   },
   "outputs": [
    {
     "name": "stdout",
     "output_type": "stream",
     "text": [
      "2073\n",
      "8023\n"
     ]
    },
    {
     "data": {
      "text/plain": [
       "(array([  9.57100000e+03,   1.33000000e+02,   4.80000000e+01,\n",
       "          3.80000000e+01,   2.30000000e+01,   3.30000000e+01,\n",
       "          1.70000000e+01,   3.30000000e+01,   2.00000000e+01,\n",
       "          2.00000000e+01,   2.00000000e+01,   1.60000000e+01,\n",
       "          1.70000000e+01,   9.00000000e+00,   2.00000000e+00,\n",
       "          0.00000000e+00,   0.00000000e+00,   0.00000000e+00,\n",
       "          0.00000000e+00]),\n",
       " array([ 0.        ,  0.10526316,  0.21052632,  0.31578947,  0.42105263,\n",
       "         0.52631579,  0.63157895,  0.73684211,  0.84210526,  0.94736842,\n",
       "         1.05263158,  1.15789474,  1.26315789,  1.36842105,  1.47368421,\n",
       "         1.57894737,  1.68421053,  1.78947368,  1.89473684,  2.        ]),\n",
       " <a list of 19 Patch objects>)"
      ]
     },
     "execution_count": 8,
     "metadata": {},
     "output_type": "execute_result"
    },
    {
     "data": {
      "image/png": "[encoded data removed]",
      "text/plain": [
       "<matplotlib.figure.Figure at 0x7f9115f92990>"
      ]
     },
     "metadata": {},
     "output_type": "display_data"
    }
   ],
   "source": [
    "tol = np.zeros(10000)\n",
    "for i in range(10000):\n",
    "    tol[i] = period_func( harmonics[i], periods_bls[i], periods_inj[i])\n",
    "print len(np.where(tol>0.0015)[0])\n",
    "print len(np.unique(np.where(harmonics>1)[0]))\n",
    "plt.hist(tol, bins = np.linspace(0,2,20))"
   ]
  },
  {
   "cell_type": "code",
   "execution_count": 9,
   "metadata": {
    "collapsed": false
   },
   "outputs": [
    {
     "name": "stdout",
     "output_type": "stream",
     "text": [
      "(10000, 2) (10000,)\n",
      "(10000, 3)\n"
     ]
    }
   ],
   "source": [
    "print harmonics.shape, tol.shape\n",
    "tot_vals = np.hstack([harmonics, tol.reshape(10000,1)])\n",
    "print tot_vals.shape"
   ]
  },
  {
   "cell_type": "code",
   "execution_count": 10,
   "metadata": {
    "collapsed": true
   },
   "outputs": [],
   "source": [
    "np.savetxt(\"period_harmonics_10000_inj_signals_tol.txt\",tot_vals)"
   ]
  },
  {
   "cell_type": "code",
   "execution_count": 11,
   "metadata": {
    "collapsed": false
   },
   "outputs": [
    {
     "name": "stdout",
     "output_type": "stream",
     "text": [
      "[[ 1.  4.]\n",
      " [ 2.  1.]\n",
      " [ 5.  3.]\n",
      " ..., \n",
      " [ 5.  1.]\n",
      " [ 5.  1.]\n",
      " [ 5.  1.]]\n"
     ]
    }
   ],
   "source": [
    "harmonics = np.rint(harmonics)\n",
    "print harmonics[SNR<6]"
   ]
  },
  {
   "cell_type": "markdown",
   "metadata": {},
   "source": [
    "Now we will generate the KOI period error distribution"
   ]
  },
  {
   "cell_type": "code",
   "execution_count": 12,
   "metadata": {
    "collapsed": false
   },
   "outputs": [
    {
     "data": {
      "text/html": [
       "<div>\n",
       "<table border=\"1\" class=\"dataframe\">\n",
       "  <thead>\n",
       "    <tr style=\"text-align: right;\">\n",
       "      <th></th>\n",
       "      <th>mod_sig_pri_dv</th>\n",
       "      <th>mod_sig_sec_dv</th>\n",
       "      <th>mod_sig_ter_dv</th>\n",
       "      <th>mod_sig_pos_dv</th>\n",
       "      <th>mod_fa1_dv</th>\n",
       "      <th>mod_fa2_dv</th>\n",
       "      <th>mod_fred_dv</th>\n",
       "      <th>modshiftval1_dv</th>\n",
       "      <th>modshiftval2_dv</th>\n",
       "      <th>modshiftval3_dv</th>\n",
       "      <th>...</th>\n",
       "      <th>BLS_i2_1_0</th>\n",
       "      <th>BLS_deltaChi2_1_0</th>\n",
       "      <th>BLS_fraconenight_1_0</th>\n",
       "      <th>BLS_Npointsintransit_1_0</th>\n",
       "      <th>BLS_Ntransits_1_0</th>\n",
       "      <th>BLS_Npointsbeforetransit_1_0</th>\n",
       "      <th>BLS_Npointsaftertransit_1_0</th>\n",
       "      <th>BLS_Rednoise_1_0</th>\n",
       "      <th>BLS_Whitenoise_1_0</th>\n",
       "      <th>BLS_SignaltoPinknoise_1_0</th>\n",
       "    </tr>\n",
       "  </thead>\n",
       "  <tbody>\n",
       "    <tr>\n",
       "      <th>0</th>\n",
       "      <td>0.00010</td>\n",
       "      <td>-9.993175</td>\n",
       "      <td>0.006914</td>\n",
       "      <td>-0.000487</td>\n",
       "      <td>2.890723</td>\n",
       "      <td>1.683670</td>\n",
       "      <td>1.005397</td>\n",
       "      <td>-2.890624</td>\n",
       "      <td>-1.690483</td>\n",
       "      <td>-1.683083</td>\n",
       "      <td>...</td>\n",
       "      <td>0.96101</td>\n",
       "      <td>-0.0</td>\n",
       "      <td>0.14202</td>\n",
       "      <td>133.0</td>\n",
       "      <td>24.0</td>\n",
       "      <td>148.0</td>\n",
       "      <td>134.0</td>\n",
       "      <td>0.00004</td>\n",
       "      <td>0.00017</td>\n",
       "      <td>5.83681</td>\n",
       "    </tr>\n",
       "    <tr>\n",
       "      <th>1</th>\n",
       "      <td>0.00018</td>\n",
       "      <td>-9.982177</td>\n",
       "      <td>0.017533</td>\n",
       "      <td>-0.014838</td>\n",
       "      <td>3.338459</td>\n",
       "      <td>3.020050</td>\n",
       "      <td>0.252293</td>\n",
       "      <td>-3.337746</td>\n",
       "      <td>-3.037403</td>\n",
       "      <td>-3.005032</td>\n",
       "      <td>...</td>\n",
       "      <td>0.05055</td>\n",
       "      <td>-0.0</td>\n",
       "      <td>0.88621</td>\n",
       "      <td>51.0</td>\n",
       "      <td>3.0</td>\n",
       "      <td>47.0</td>\n",
       "      <td>50.0</td>\n",
       "      <td>0.00001</td>\n",
       "      <td>0.00018</td>\n",
       "      <td>6.80030</td>\n",
       "    </tr>\n",
       "    <tr>\n",
       "      <th>2</th>\n",
       "      <td>0.00015</td>\n",
       "      <td>-9.989170</td>\n",
       "      <td>0.009608</td>\n",
       "      <td>-0.008737</td>\n",
       "      <td>3.180644</td>\n",
       "      <td>2.974051</td>\n",
       "      <td>0.464413</td>\n",
       "      <td>-3.180321</td>\n",
       "      <td>-2.983509</td>\n",
       "      <td>-2.965164</td>\n",
       "      <td>...</td>\n",
       "      <td>0.97089</td>\n",
       "      <td>-0.0</td>\n",
       "      <td>0.43709</td>\n",
       "      <td>48.0</td>\n",
       "      <td>2.0</td>\n",
       "      <td>53.0</td>\n",
       "      <td>54.0</td>\n",
       "      <td>0.00000</td>\n",
       "      <td>0.00015</td>\n",
       "      <td>7.04246</td>\n",
       "    </tr>\n",
       "    <tr>\n",
       "      <th>3</th>\n",
       "      <td>0.00010</td>\n",
       "      <td>-9.996074</td>\n",
       "      <td>0.002071</td>\n",
       "      <td>-0.019393</td>\n",
       "      <td>2.881972</td>\n",
       "      <td>2.019152</td>\n",
       "      <td>0.993675</td>\n",
       "      <td>-2.881872</td>\n",
       "      <td>-2.021124</td>\n",
       "      <td>-1.999660</td>\n",
       "      <td>...</td>\n",
       "      <td>0.43575</td>\n",
       "      <td>-0.0</td>\n",
       "      <td>0.14349</td>\n",
       "      <td>140.0</td>\n",
       "      <td>11.0</td>\n",
       "      <td>147.0</td>\n",
       "      <td>140.0</td>\n",
       "      <td>0.00003</td>\n",
       "      <td>0.00016</td>\n",
       "      <td>6.21358</td>\n",
       "    </tr>\n",
       "    <tr>\n",
       "      <th>4</th>\n",
       "      <td>0.00025</td>\n",
       "      <td>-9.976817</td>\n",
       "      <td>0.021595</td>\n",
       "      <td>-0.020386</td>\n",
       "      <td>3.253059</td>\n",
       "      <td>3.050659</td>\n",
       "      <td>0.153960</td>\n",
       "      <td>-3.251435</td>\n",
       "      <td>-3.072004</td>\n",
       "      <td>-3.030023</td>\n",
       "      <td>...</td>\n",
       "      <td>0.97488</td>\n",
       "      <td>-0.0</td>\n",
       "      <td>0.80420</td>\n",
       "      <td>35.0</td>\n",
       "      <td>2.0</td>\n",
       "      <td>38.0</td>\n",
       "      <td>41.0</td>\n",
       "      <td>0.00002</td>\n",
       "      <td>0.00020</td>\n",
       "      <td>6.96992</td>\n",
       "    </tr>\n",
       "  </tbody>\n",
       "</table>\n",
       "<p>5 rows × 35 columns</p>\n",
       "</div>"
      ],
      "text/plain": [
       "   mod_sig_pri_dv  mod_sig_sec_dv  mod_sig_ter_dv  mod_sig_pos_dv  mod_fa1_dv  \\\n",
       "0         0.00010       -9.993175        0.006914       -0.000487    2.890723   \n",
       "1         0.00018       -9.982177        0.017533       -0.014838    3.338459   \n",
       "2         0.00015       -9.989170        0.009608       -0.008737    3.180644   \n",
       "3         0.00010       -9.996074        0.002071       -0.019393    2.881972   \n",
       "4         0.00025       -9.976817        0.021595       -0.020386    3.253059   \n",
       "\n",
       "   mod_fa2_dv  mod_fred_dv  modshiftval1_dv  modshiftval2_dv  modshiftval3_dv  \\\n",
       "0    1.683670     1.005397        -2.890624        -1.690483        -1.683083   \n",
       "1    3.020050     0.252293        -3.337746        -3.037403        -3.005032   \n",
       "2    2.974051     0.464413        -3.180321        -2.983509        -2.965164   \n",
       "3    2.019152     0.993675        -2.881872        -2.021124        -1.999660   \n",
       "4    3.050659     0.153960        -3.251435        -3.072004        -3.030023   \n",
       "\n",
       "             ...              BLS_i2_1_0  BLS_deltaChi2_1_0  \\\n",
       "0            ...                 0.96101               -0.0   \n",
       "1            ...                 0.05055               -0.0   \n",
       "2            ...                 0.97089               -0.0   \n",
       "3            ...                 0.43575               -0.0   \n",
       "4            ...                 0.97488               -0.0   \n",
       "\n",
       "   BLS_fraconenight_1_0  BLS_Npointsintransit_1_0  BLS_Ntransits_1_0  \\\n",
       "0               0.14202                     133.0               24.0   \n",
       "1               0.88621                      51.0                3.0   \n",
       "2               0.43709                      48.0                2.0   \n",
       "3               0.14349                     140.0               11.0   \n",
       "4               0.80420                      35.0                2.0   \n",
       "\n",
       "   BLS_Npointsbeforetransit_1_0  BLS_Npointsaftertransit_1_0  \\\n",
       "0                         148.0                        134.0   \n",
       "1                          47.0                         50.0   \n",
       "2                          53.0                         54.0   \n",
       "3                         147.0                        140.0   \n",
       "4                          38.0                         41.0   \n",
       "\n",
       "   BLS_Rednoise_1_0  BLS_Whitenoise_1_0  BLS_SignaltoPinknoise_1_0  \n",
       "0           0.00004             0.00017                    5.83681  \n",
       "1           0.00001             0.00018                    6.80030  \n",
       "2           0.00000             0.00015                    7.04246  \n",
       "3           0.00003             0.00016                    6.21358  \n",
       "4           0.00002             0.00020                    6.96992  \n",
       "\n",
       "[5 rows x 35 columns]"
      ]
     },
     "execution_count": 12,
     "metadata": {},
     "output_type": "execute_result"
    }
   ],
   "source": [
    "koi_feats=  pd.read_csv(\"../Data/KOI_feat_files_3080_fixed_ordered_try2.csv\", index_col=0)\n",
    "koi_feats.head()"
   ]
  },
  {
   "cell_type": "code",
   "execution_count": 13,
   "metadata": {
    "collapsed": false
   },
   "outputs": [
    {
     "name": "stdout",
     "output_type": "stream",
     "text": [
      "999\n",
      "1999\n",
      "2999\n"
     ]
    }
   ],
   "source": [
    "file_name = '../../../Training/catalogs/shortperiodbright_KOI.csv'\n",
    "#file_name = pd.read_csv(\"../Catalogs/shortperiodbright_KOI.csv\")\n",
    "koi = pd.read_csv(file_name)\n",
    "#print koi.columns.values\n",
    "file_list = os.listdir(\"../KOI_ModShiftVals_Try2/.\")\n",
    "\n",
    "star_name = koi[\"kepid\"]\n",
    "periods = koi[\"koi_period\"]\n",
    "data  = np.loadtxt(file_name, dtype = str, delimiter=\",\")#.reshape(data.shape[0], 5)\n",
    "inds = np.where(koi[\"koi_model_snr\"]==np.nan)[0]\n",
    "koi[\"koi_model_snr\"][inds]==1000.\n",
    "values = np.core.defchararray.add(data[:,0], \"-\")\n",
    "values = np.core.defchararray.add(values, data[:, 1])\n",
    "\n",
    "\n",
    "planet_periods = np.zeros(koi_feats.shape[0])\n",
    "\n",
    "#print data.shape\n",
    "start  = time.time\n",
    "\n",
    "# create KOI lc file with p rad, s rad,period,  duration\n",
    "for i, val in enumerate(file_list):\n",
    "    name = int(val.split(\"-\")[0])\n",
    "    file_name = (val.split(\"-\")[0]) + \"-\"+(val.split(\"-\")[1]).split(\"_\")[0]\n",
    "\n",
    "    if name in star_name.tolist():\n",
    "        location = np.where(star_name== int(name))[0]\n",
    "        #planet_num = 0\n",
    "        if len(location) > 1: \n",
    "            #this is if the star has more than one planets, select the one with the highest SNR\n",
    "            planet_num = np.where(koi[\"koi_model_snr\"][location].max() == koi[\"koi_model_snr\"][location])[0]\n",
    "            location =   np.where(star_name== int(name))[0][planet_num]\n",
    "        else:\n",
    "            location = np.where(star_name== int(name))[0][0]\n",
    "        try:\n",
    "            planet_periods[i] = koi[\"koi_period\"][location] #days         \n",
    "        except:\n",
    "            print name\n",
    "\n",
    "    else:\n",
    "        print \"Not in list\", val[:-17]#+\"ltf.lc\"\n",
    "    if i %1000 ==999:\n",
    "        print i\n"
   ]
  },
  {
   "cell_type": "code",
   "execution_count": 45,
   "metadata": {
    "collapsed": false
   },
   "outputs": [
    {
     "data": {
      "text/plain": [
       "<matplotlib.legend.Legend at 0x7f90c267e490>"
      ]
     },
     "execution_count": 45,
     "metadata": {},
     "output_type": "execute_result"
    },
    {
     "data": {
      "image/png": "[encoded data removed]",
      "text/plain": [
       "<matplotlib.figure.Figure at 0x7f90c2755b10>"
      ]
     },
     "metadata": {},
     "output_type": "display_data"
    }
   ],
   "source": [
    "bins = np.linspace(0, 20, 20)\n",
    "fig = plt.figure()\n",
    "ax = fig.add_subplot(\"111\")\n",
    "plt.hist(koi_feats[\"BLS_Period_1_0\"], bins = bins,  alpha = 0.7 , label = \"Detected Periods\", color = \"gold\", edgecolor = \"black\")\n",
    "plt.hist(planet_periods, bins = bins,  alpha = 0.5, label = \"True Periods\", color = \"forestgreen\", edgecolor = \"black\")\n",
    "plt.legend()"
   ]
  },
  {
   "cell_type": "code",
   "execution_count": 46,
   "metadata": {
    "collapsed": false
   },
   "outputs": [
    {
     "name": "stdout",
     "output_type": "stream",
     "text": [
      "(3080, 2)\n"
     ]
    }
   ],
   "source": [
    "harmonics_koi = np.empty(shape = [koi_feats.shape[0],2])\n",
    "for i in range(koi_feats.shape[0]):\n",
    "  \n",
    "    results = brute(period_func, ranges=rranges, args=(koi_feats[\"BLS_Period_1_0\"][i], planet_periods[i]), full_output=True, finish= None)\n",
    "    harmonics_koi[i, :] =results[0]\n",
    "    try:\n",
    "        results[0].astype(int)\n",
    "    except:\n",
    "        print i\n",
    "print harmonics_koi.shape"
   ]
  },
  {
   "cell_type": "code",
   "execution_count": 16,
   "metadata": {
    "collapsed": false
   },
   "outputs": [
    {
     "name": "stdout",
     "output_type": "stream",
     "text": [
      "1122\n",
      "2818\n"
     ]
    },
    {
     "data": {
      "text/plain": [
       "(0, 0.02)"
      ]
     },
     "execution_count": 16,
     "metadata": {},
     "output_type": "execute_result"
    },
    {
     "data": {
      "image/png": "[encoded data removed]",
      "text/plain": [
       "<matplotlib.figure.Figure at 0x7f90cfd40c10>"
      ]
     },
     "metadata": {},
     "output_type": "display_data"
    }
   ],
   "source": [
    "tol_koi = np.zeros(koi_feats.shape[0])\n",
    "for i in range(koi_feats.shape[0]):\n",
    "    tol_koi[i] = period_func( harmonics_koi[i], koi_feats[\"BLS_Period_1_0\"][i], planet_periods[i])\n",
    "\n",
    "print len(np.where(tol_koi<0.002)[0])\n",
    "print len(np.unique(np.where(harmonics_koi>1)[0]))\n",
    "plt.figure(figsize=(13, 8))\n",
    "plt.hist(tol_koi, bins = np.linspace(0,0.02,50), edgecolor = \"black\")\n",
    "tot_vals_koi = np.hstack([harmonics_koi, tol_koi.reshape(harmonics_koi.shape[0], 1)]) \n",
    "plt.ylabel(\"Frequency\")\n",
    "plt.xlabel(\"Period Error for 3080 KOI Samples\")\n",
    "plt.xlim([0,0.02])"
   ]
  },
  {
   "cell_type": "code",
   "execution_count": 69,
   "metadata": {
    "collapsed": false
   },
   "outputs": [
    {
     "name": "stdout",
     "output_type": "stream",
     "text": [
      "(3080, 3)\n"
     ]
    }
   ],
   "source": [
    "print tot_vals_koi.shape\n",
    "np.savetxt(\"period_harmonics_3080_koi_signals_tol.txt\", tot_vals_koi)"
   ]
  },
  {
   "cell_type": "code",
   "execution_count": null,
   "metadata": {
    "collapsed": true
   },
   "outputs": [],
   "source": []
  }
 ],
 "metadata": {
  "kernelspec": {
   "display_name": "Python [conda root]",
   "language": "python",
   "name": "conda-root-py"
  },
  "language_info": {
   "codemirror_mode": {
    "name": "ipython",
    "version": 2
   },
   "file_extension": ".py",
   "mimetype": "text/x-python",
   "name": "python",
   "nbconvert_exporter": "python",
   "pygments_lexer": "ipython2",
   "version": "2.7.12"
  }
 },
 "nbformat": 4,
 "nbformat_minor": 1
}
