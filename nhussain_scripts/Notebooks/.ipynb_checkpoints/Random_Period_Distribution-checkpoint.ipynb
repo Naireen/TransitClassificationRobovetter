{
 "cells": [
  {
   "cell_type": "code",
   "execution_count": 1,
   "metadata": {
    "collapsed": true
   },
   "outputs": [],
   "source": [
    "import os\n",
    "import numpy as np\n",
    "import pandas as pd\n",
    "import time\n",
    "import matplotlib\n",
    "%matplotlib inline\n",
    "from matplotlib import pyplot as plt\n",
    "from scipy.optimize import minimize, fmin, fminbound, fmin_slsqp, brute"
   ]
  },
  {
   "cell_type": "markdown",
   "metadata": {},
   "source": [
    "Assuming hte two values are in period space?"
   ]
  },
  {
   "cell_type": "code",
   "execution_count": 2,
   "metadata": {
    "collapsed": false
   },
   "outputs": [
    {
     "name": "stdout",
     "output_type": "stream",
     "text": [
      "[ 1.12018633  1.44461926  1.22538858 ...,  1.52893757  0.09638548\n",
      "  1.63647141]\n"
     ]
    }
   ],
   "source": [
    "np.random.seed(0)\n",
    "val1 = np.random.uniform(0.05,2, 10000)\n",
    "print val1\n",
    "val2 = np.random.uniform(0.05, 2, 10000)\n"
   ]
  },
  {
   "cell_type": "code",
   "execution_count": 3,
   "metadata": {
    "collapsed": true
   },
   "outputs": [],
   "source": [
    "def period_func(vals, p_bls, p_inj):\n",
    "    a, b = vals\n",
    "    a = np.rint(a)\n",
    "    b = np.rint(b)\n",
    "    #print a, b\n",
    "    #print a*p_bls-b*p_inj\n",
    "    \n",
    "    return np.abs((a*p_bls - b*p_inj) / 0.5/(a*p_bls + b*p_inj))\n"
   ]
  },
  {
   "cell_type": "code",
   "execution_count": 4,
   "metadata": {
    "collapsed": false
   },
   "outputs": [
    {
     "name": "stdout",
     "output_type": "stream",
     "text": [
      "(10000, 2)\n"
     ]
    }
   ],
   "source": [
    "rranges = (slice(1,20, 1), slice(1,20, 1))\n",
    "harmonics = np.empty(shape = [10000,2])\n",
    "for i in range(10000):\n",
    "    results = brute(period_func, ranges=rranges, args=(val1[i], val2[i]), full_output=True, finish= None)\n",
    "    harmonics[i, :] =results[0]\n",
    "    try:\n",
    "        results[0].astype(int)\n",
    "    except:\n",
    "        print i\n",
    "    #break\n",
    "print harmonics.shape"
   ]
  },
  {
   "cell_type": "code",
   "execution_count": 5,
   "metadata": {
    "collapsed": false
   },
   "outputs": [
    {
     "name": "stdout",
     "output_type": "stream",
     "text": [
      "[[ 19.  14.]\n",
      " [  5.  18.]\n",
      " [  6.   9.]\n",
      " ..., \n",
      " [  3.   5.]\n",
      " [  8.   1.]\n",
      " [  7.   9.]]\n"
     ]
    }
   ],
   "source": [
    "print harmonics"
   ]
  },
  {
   "cell_type": "code",
   "execution_count": 6,
   "metadata": {
    "collapsed": false
   },
   "outputs": [
    {
     "name": "stdout",
     "output_type": "stream",
     "text": [
      "146\n",
      "9993\n"
     ]
    },
    {
     "data": {
      "text/plain": [
       "<matplotlib.text.Text at 0x7fa4fe9589d0>"
      ]
     },
     "execution_count": 6,
     "metadata": {},
     "output_type": "execute_result"
    },
    {
     "data": {
      "image/png": "[encoded data removed]",
      "text/plain": [
       "<matplotlib.figure.Figure at 0x7fa4ff034f90>"
      ]
     },
     "metadata": {},
     "output_type": "display_data"
    }
   ],
   "source": [
    "tol = np.zeros(10000)\n",
    "for i in range(10000):\n",
    "    tol[i] = period_func( harmonics[i],val1[i], val2[i])\n",
    "print len(np.where(tol>0.05)[0])\n",
    "print len(np.unique(np.where(harmonics>1)[0]))\n",
    "plt.hist(tol, bins = np.linspace(0,.075,50))\n",
    "plt.xlabel(\"Tolerance\")\n",
    "plt.ylabel(\"Number of Systems\")"
   ]
  },
  {
   "cell_type": "code",
   "execution_count": 7,
   "metadata": {
    "collapsed": false
   },
   "outputs": [],
   "source": [
    "# treat val1 and val2 as frequncy values\n",
    "val1_time = 1/val1\n",
    "val2_time = 1/val2\n"
   ]
  },
  {
   "cell_type": "code",
   "execution_count": 8,
   "metadata": {
    "collapsed": false
   },
   "outputs": [],
   "source": [
    "#plt.hist(1./val1_time)"
   ]
  },
  {
   "cell_type": "code",
   "execution_count": 15,
   "metadata": {
    "collapsed": false
   },
   "outputs": [
    {
     "name": "stdout",
     "output_type": "stream",
     "text": [
      "999\n",
      "1999\n",
      "2999\n",
      "3999\n",
      "4999\n",
      "5999\n",
      "6999\n",
      "7999\n",
      "8999\n",
      "9999\n",
      "(10000, 2)\n",
      "9895\n",
      "9169\n"
     ]
    },
    {
     "data": {
      "text/plain": [
       "<matplotlib.text.Text at 0x7fa4f446ea10>"
      ]
     },
     "execution_count": 15,
     "metadata": {},
     "output_type": "execute_result"
    },
    {
     "data": {
      "image/png": "[encoded data removed]",
      "text/plain": [
       "<matplotlib.figure.Figure at 0x7fa4fe7d8490>"
      ]
     },
     "metadata": {},
     "output_type": "display_data"
    }
   ],
   "source": [
    "rranges = (slice(1,5, 1), slice(1,5, 1))\n",
    "harmonics = np.empty(shape = [10000,2])\n",
    "for i in range(10000):\n",
    "    results = brute(period_func, ranges=rranges, args=(val1_time[i], val2_time[i]), full_output=True, finish= None)\n",
    "    harmonics[i, :] =results[0]\n",
    "    try:\n",
    "        results[0].astype(int)\n",
    "    except:\n",
    "        print i\n",
    "        \n",
    "    if i %1000 == 999:\n",
    "        print i\n",
    "    #break\n",
    "print harmonics.shape\n",
    "\n",
    "tol = np.zeros(10000)\n",
    "for i in range(10000):\n",
    "    tol[i] = period_func( harmonics[i],val1_time[i], val2_time[i])\n",
    "print len(np.where(tol>0.0015)[0])\n",
    "print len(np.unique(np.where(harmonics>1)[0]))\n",
    "plt.hist(tol, bins = np.linspace(0,.075,50))\n",
    "plt.xlabel(\"Tolerance\")\n",
    "plt.ylabel(\"Number of Systems\")"
   ]
  },
  {
   "cell_type": "code",
   "execution_count": null,
   "metadata": {
    "collapsed": true
   },
   "outputs": [],
   "source": []
  }
 ],
 "metadata": {
  "anaconda-cloud": {},
  "kernelspec": {
   "display_name": "Python [conda root]",
   "language": "python",
   "name": "conda-root-py"
  },
  "language_info": {
   "codemirror_mode": {
    "name": "ipython",
    "version": 2
   },
   "file_extension": ".py",
   "mimetype": "text/x-python",
   "name": "python",
   "nbconvert_exporter": "python",
   "pygments_lexer": "ipython2",
   "version": "2.7.12"
  }
 },
 "nbformat": 4,
 "nbformat_minor": 1
}
