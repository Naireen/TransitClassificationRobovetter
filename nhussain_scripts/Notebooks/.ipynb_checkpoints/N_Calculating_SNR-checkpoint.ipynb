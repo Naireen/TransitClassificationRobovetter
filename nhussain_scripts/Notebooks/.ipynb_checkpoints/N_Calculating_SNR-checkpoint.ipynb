{
 "cells": [
  {
   "cell_type": "code",
   "execution_count": 1,
   "metadata": {
    "collapsed": true
   },
   "outputs": [],
   "source": [
    "#Check file reading issue\n",
    "import numpy as np\n",
    "import matplotlib \n",
    "frpm matplotlib import pypl\n",
    "import os"
   ]
  },
  {
   "cell_type": "code",
   "execution_count": 3,
   "metadata": {
    "collapsed": false
   },
   "outputs": [
    {
     "name": "stdout",
     "output_type": "stream",
     "text": [
      "(10000, 5)\n",
      "['10000198' '0' '0.020139' '1.855512' '0.803056144.823149']\n",
      "(10000, 4)\n",
      "<type 'numpy.float64'>\n",
      "['10000198-0' '10000198-1' '10000198-2' ..., '10385248-11' '10385248-12'\n",
      " '10385248-13']\n"
     ]
    }
   ],
   "source": [
    "#file_name = \"../nhussain_scripts/InvModShiftVals/10129857-10_feats.txt\"\n",
    "file_name = \"../../Training/simulation/injection/injection.txt\"\n",
    "data  = np.loadtxt(file_name, dtype = str, delimiter=\",\")[:10000]#.reshape(data.shape[0], 5)\n",
    "print data.shape\n",
    "print data[0]\n",
    "data = data.reshape((data.shape[0],5))\n",
    "data = data[:, :-1]\n",
    "#id, segment, depth, period\n",
    "print data.shape\n",
    "#concate the first two, create list of file names\n",
    "values = np.core.defchararray.add(data[:,0], \"-\")\n",
    "values = np.core.defchararray.add(values, data[:, 1])\n",
    "data = data.astype(\"float64\")#print data[0,:]\n",
    "print type(data[1,3])\n",
    "print values"
   ]
  },
  {
   "cell_type": "code",
   "execution_count": 6,
   "metadata": {
    "collapsed": false,
    "scrolled": false
   },
   "outputs": [
    {
     "name": "stderr",
     "output_type": "stream",
     "text": [
      "/home/xuhuang/anaconda2/lib/python2.7/site-packages/ipykernel/__main__.py:18: RuntimeWarning: divide by zero encountered in double_scalars\n"
     ]
    },
    {
     "ename": "NameError",
     "evalue": "name 'plt' is not defined",
     "output_type": "error",
     "traceback": [
      "\u001b[0;31m---------------------------------------------------------------------------\u001b[0m",
      "\u001b[0;31mNameError\u001b[0m                                 Traceback (most recent call last)",
      "\u001b[0;32m<ipython-input-6-69846608f8f3>\u001b[0m in \u001b[0;36m<module>\u001b[0;34m()\u001b[0m\n\u001b[1;32m     22\u001b[0m     \u001b[0;31m#break\u001b[0m\u001b[0;34m\u001b[0m\u001b[0;34m\u001b[0m\u001b[0m\n\u001b[1;32m     23\u001b[0m     \u001b[0;32mif\u001b[0m \u001b[0mSNR\u001b[0m\u001b[0;34m[\u001b[0m\u001b[0mi\u001b[0m\u001b[0;34m]\u001b[0m \u001b[0;34m>\u001b[0m\u001b[0;36m1000\u001b[0m\u001b[0;34m:\u001b[0m\u001b[0;34m\u001b[0m\u001b[0m\n\u001b[0;32m---> 24\u001b[0;31m         \u001b[0mplt\u001b[0m\u001b[0;34m.\u001b[0m\u001b[0mscatter\u001b[0m\u001b[0;34m(\u001b[0m\u001b[0mlc_data\u001b[0m\u001b[0;34m[\u001b[0m\u001b[0;34m:\u001b[0m\u001b[0;34m,\u001b[0m\u001b[0;36m0\u001b[0m\u001b[0;34m]\u001b[0m\u001b[0;34m,\u001b[0m \u001b[0mlc_data\u001b[0m\u001b[0;34m[\u001b[0m\u001b[0;34m:\u001b[0m\u001b[0;34m,\u001b[0m\u001b[0;36m1\u001b[0m\u001b[0;34m]\u001b[0m\u001b[0;34m)\u001b[0m\u001b[0;34m\u001b[0m\u001b[0m\n\u001b[0m\u001b[1;32m     25\u001b[0m         \u001b[0;31m#print val\u001b[0m\u001b[0;34m\u001b[0m\u001b[0;34m\u001b[0m\u001b[0m\n\u001b[1;32m     26\u001b[0m         \u001b[0;31m#print bls_data\u001b[0m\u001b[0;34m\u001b[0m\u001b[0;34m\u001b[0m\u001b[0m\n",
      "\u001b[0;31mNameError\u001b[0m: name 'plt' is not defined"
     ]
    }
   ],
   "source": [
    "SNR = np.zeros(data.shape[0])\n",
    "error = np.empty(data.shape[0])\n",
    "#concatenate the first two values\n",
    "for i, val in enumerate(values[:10000]):\n",
    "    lc_data = np.loadtxt(\"../../Training/simulation/injection/\"+val+\"_inj.txt\")\n",
    "    bls_data = np.loadtxt(\"../../Training/simulation/injection/\"+val+\"_inj.blsanal\")[0,:]\n",
    "    transit_duration_phase = bls_data[7]\n",
    "    period = bls_data[1]\n",
    "    n_points_transit = transit_duration_phase*period *float(48)\n",
    "    \n",
    "    #print period, transit_duration, period* transit_duration, n_points_transit\n",
    "    depth =float(data[i,2])**2 #depth\n",
    "    meidan = np.median(lc_data[:,2]) # flux\n",
    "    error = np.median(np.abs(lc_data[:,2]-meidan)**2)**0.5\n",
    "\n",
    "    transits = float(26)//float(data[i,3]) +1\n",
    "\n",
    "    SNR[i] = depth*np.sqrt(transits) * np.sqrt(n_points_transit)/(error*np.sqrt(2))\n",
    "    #print SNR[i]\n",
    "    if i %999 ==1:\n",
    "        print i\n",
    "    #break\n",
    "    if SNR[i] >1000:\n",
    "        plt.scatter(lc_data[:,0], lc_data[:,1])\n",
    "        #print val\n",
    "        #print bls_data\n",
    "        \n",
    "        plt.figure(figsize=(12,8))\n",
    "        plt.scatter((lc_data[:, 0])/period %1, lc_data[:,2], marker=\".\")\n",
    "        print n_points_transit, data[i, 2]**2, error\n",
    "        break"
   ]
  },
  {
   "cell_type": "code",
   "execution_count": 16,
   "metadata": {
    "collapsed": false,
    "scrolled": true
   },
   "outputs": [
    {
     "name": "stdout",
     "output_type": "stream",
     "text": [
      "9255\n"
     ]
    },
    {
     "data": {
      "text/plain": [
       "(array([  8.60800000e+03,   9.75000000e+02,   3.00000000e+02,\n",
       "          8.00000000e+01,   2.30000000e+01,   5.00000000e+00,\n",
       "          6.00000000e+00,   0.00000000e+00,   1.00000000e+00,\n",
       "          2.00000000e+00]),\n",
       " array([  6.06086030e-02,   6.63505839e+02,   1.32695107e+03,\n",
       "          1.99039630e+03,   2.65384153e+03,   3.31728676e+03,\n",
       "          3.98073199e+03,   4.64417722e+03,   5.30762245e+03,\n",
       "          5.97106768e+03,   6.63451291e+03]),\n",
       " <a list of 10 Patch objects>)"
      ]
     },
     "execution_count": 16,
     "metadata": {},
     "output_type": "execute_result"
    },
    {
     "data": {
      "image/png": "[encoded data removed]",
      "text/plain": [
       "<matplotlib.figure.Figure at 0x7fc3f22366d0>"
      ]
     },
     "metadata": {},
     "output_type": "display_data"
    },
    {
     "data": {
      "image/png": "[encoded data removed]",
      "text/plain": [
       "<matplotlib.figure.Figure at 0x7fc3f12228d0>"
      ]
     },
     "metadata": {},
     "output_type": "display_data"
    }
   ],
   "source": [
    "import matplotlib\n",
    "from matplotlib import pyplot as plt\n",
    "%matplotlib inline\n",
    "bins = np.linspace(5, 15, 9)\n",
    "plt.hist(SNR[:10000], bins = bins)\n",
    "print len(np.where(SNR[:10000]>=6)[0])\n",
    "plt.xlabel(\"SNR\")\n",
    "fig = plt.figure()\n",
    "plt.hist(SNR[:10000])\n"
   ]
  },
  {
   "cell_type": "code",
   "execution_count": 17,
   "metadata": {
    "collapsed": false
   },
   "outputs": [],
   "source": [
    "# save snr to file\n",
    "np.savetxt(\"SNR_10000_corrected.txt\", SNR)"
   ]
  },
  {
   "cell_type": "code",
   "execution_count": null,
   "metadata": {
    "collapsed": true
   },
   "outputs": [],
   "source": []
  }
 ],
 "metadata": {
  "anaconda-cloud": {},
  "kernelspec": {
   "display_name": "Python [conda root]",
   "language": "python",
   "name": "conda-root-py"
  },
  "language_info": {
   "codemirror_mode": {
    "name": "ipython",
    "version": 2
   },
   "file_extension": ".py",
   "mimetype": "text/x-python",
   "name": "python",
   "nbconvert_exporter": "python",
   "pygments_lexer": "ipython2",
   "version": "2.7.12"
  }
 },
 "nbformat": 4,
 "nbformat_minor": 1
}
