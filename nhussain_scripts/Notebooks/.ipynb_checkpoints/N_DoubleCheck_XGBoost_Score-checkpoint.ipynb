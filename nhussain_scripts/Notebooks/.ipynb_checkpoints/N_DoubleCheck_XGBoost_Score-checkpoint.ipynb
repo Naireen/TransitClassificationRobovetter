{
 "cells": [
  {
   "cell_type": "code",
   "execution_count": 1,
   "metadata": {
    "collapsed": false
   },
   "outputs": [
    {
     "name": "stderr",
     "output_type": "stream",
     "text": [
      "/home/xuhuang/anaconda2/lib/python2.7/site-packages/sklearn/cross_validation.py:44: DeprecationWarning: This module was deprecated in version 0.18 in favor of the model_selection module into which all the refactored classes and functions are moved. Also note that the interface of the new CV iterators are different from that of this module. This module will be removed in 0.20.\n",
      "  \"This module will be removed in 0.20.\", DeprecationWarning)\n"
     ]
    }
   ],
   "source": [
    "#readFeats\n",
    "import numpy as np\n",
    "import pandas as pd\n",
    "import sklearn\n",
    "import matplotlib \n",
    "from matplotlib import pyplot as plt\n",
    "%matplotlib inline\n",
    "import os\n",
    "from sklearn.utils import shuffle\n",
    "import xgboost as xgb\n",
    "from xgboost import XGBClassifier\n",
    "from sklearn.model_selection import train_test_split\n",
    "from sklearn import metrics\n",
    "from sklearn.model_selection import cross_val_score\n",
    "from sklearn.ensemble import RandomForestClassifier\n"
   ]
  },
  {
   "cell_type": "code",
   "execution_count": 7,
   "metadata": {
    "collapsed": false
   },
   "outputs": [
    {
     "name": "stdout",
     "output_type": "stream",
     "text": [
      "['10853667-4_inj_feats.txt', '10853667-6_inj_feats.txt']\n",
      "['10000198-0_inj_feats_fixed.txt', '10000198-1_inj_feats_fixed.txt']\n",
      "(10000, 35)\n"
     ]
    }
   ],
   "source": [
    "file_list = os.listdir(\"../nhussain_scripts/InjModShiftVals/\")#[:20000]\n",
    "print file_list[:2]\n",
    "file_list_fixed = [x for x in file_list if \"fixed\" in x]\n",
    "print file_list_fixed[:2]\n",
    "col_names = [\"mod_sig_pri_dv\", \"mod_sig_sec_dv\",\"mod_sig_ter_dv\",\n",
    "             \"mod_sig_pos_dv\", \"mod_fa1_dv\",\"mod_fa2_dv\", \"mod_fred_dv\",\n",
    "             \"modshiftval1_dv\", \"modshiftval2_dv\", \"modshiftval3_dv\",\n",
    "             \"modshiftval4_dv\", \"modshiftval5_dv\", \"modshiftval6_dv\", \n",
    "             \"white_noise\", \"red_noise\", \"BLS_Period_1_0\", \"BLS_Tc_1_0\",\n",
    "             \"BLS_SN_1_0\", \"BLS_SR_1_0\", \"BLS_SDE_1_0\", \"BLS_Depth_1_0\",\n",
    "             \"BLS_Qtran_1_0\", \"BLS_Qingress_1_0\", \"BLS_OOTmag_1_0\",\n",
    "             \"BLS_i1_1_0\", \"BLS_i2_1_0\", \"BLS_deltaChi2_1_0\", \n",
    "             \"BLS_fraconenight_1_0\", \"BLS_Npointsintransit_1_0\",\n",
    "             \"BLS_Ntransits_1_0\", \"BLS_Npointsbeforetransit_1_0\", \n",
    "             \"BLS_Npointsaftertransit_1_0\", \"BLS_Rednoise_1_0\",\n",
    "             \"BLS_Whitenoise_1_0\", \"BLS_SignaltoPinknoise_1_0\"] \n",
    "\n",
    "total_data = np.empty(shape=[0, len(col_names)])\n",
    "\n",
    "for name in file_list_fixed:\n",
    "    data = np.loadtxt(\"InjModShiftVals/\" + name).reshape(1, len(col_names))\n",
    "    #print data.shape\n",
    "    total_data = np.append(total_data, data, axis =0)\n",
    "    #break\n",
    "total_data.shape\n",
    "total_data = pd.DataFrame(total_data, columns=col_names)\n",
    "print total_data.shape\n",
    "#total_data.hist(\"BLS_Period_1_0\")\n",
    "#total_data.to_csv(\"Injected_feat_files_10000_fixed.csv\")\n"
   ]
  },
  {
   "cell_type": "code",
   "execution_count": 3,
   "metadata": {
    "collapsed": false
   },
   "outputs": [
    {
     "name": "stdout",
     "output_type": "stream",
     "text": [
      "MIN SNR 0.0606086030226\n",
      "Dropped Transits 745\n",
      "[  1.   2.   3.   4.   5.   6.   7.   8.   9.  10.  11.  12.  13.  14.  15.] [0, 119, 292, 423, 526, 624, 745, 883, 1030, 1190, 1339, 1488, 1646, 1790, 1942]\n"
     ]
    },
    {
     "data": {
      "image/png": "[encoded data removed]",
      "text/plain": [
       "<matplotlib.figure.Figure at 0x7fd384fa3e90>"
      ]
     },
     "metadata": {},
     "output_type": "display_data"
    }
   ],
   "source": [
    "total_data_frame = pd.DataFrame(total_data, columns=col_names)\n",
    "yvals = np.loadtxt(\"SNR_10000_corrected_fixed.txt\")[:10000]\n",
    "total_data[\"SNR\"] = yvals\n",
    "total_data.hist(\"SNR\")\n",
    "print \"MIN SNR\", total_data[\"SNR\"].min()\n",
    "\n",
    "dropped_trans = []\n",
    "for i in range(15):\n",
    "    true_trans = (yvals>i).astype(int) \n",
    "    dropped_trans.append(len(np.where(true_trans==0)[0]))\n",
    "\n",
    "true_trans = (yvals>6).astype(int) \n",
    "print \"Dropped Transits\", len(np.where(true_trans==0)[0])\n",
    "object_label = np.ones_like(yvals)#vi\n",
    "object_label[true_trans==1] =2 \n",
    "print np.linspace(1, 15, 15), dropped_trans\n",
    "plt.plot(np.linspace(1,15, 15), dropped_trans)\n",
    "plt.ylabel(\"Number of dropped transits\")\n",
    "plt.xlabel(\"SNR threshold cut\")\n",
    "plt.savefig(\"SNR_threshold_cut.jpeg\")"
   ]
  },
  {
   "cell_type": "code",
   "execution_count": 10,
   "metadata": {
    "collapsed": false
   },
   "outputs": [
    {
     "name": "stdout",
     "output_type": "stream",
     "text": [
      "(15000, 35)\n",
      "(15000, 35)\n"
     ]
    },
    {
     "data": {
      "image/png": "[encoded data removed]",
      "text/plain": [
       "<matplotlib.figure.Figure at 0x7f35a0dbaed0>"
      ]
     },
     "metadata": {},
     "output_type": "display_data"
    }
   ],
   "source": [
    "inv_filenames = os.listdir(\"../nhussain_scripts/InvModShiftVals/\")#[:15000]\n",
    "inv_filenames_fixed = [x for x in inv_filenames if \"fixed\" in x][:15000]\n",
    "total_data_inv = np.empty(shape=[0, len(col_names)])\n",
    "for name in inv_filenames_fixed:\n",
    "    try:\n",
    "        data = np.loadtxt(\"InvModShiftVals/\" + name).reshape(1, len(col_names))\n",
    "        total_data_inv = np.append(total_data_inv, data, axis =0)\n",
    "\n",
    "    except:\n",
    "        continue\n",
    "    #print data.shape\n",
    "    #break\n",
    "print total_data_inv.shape\n",
    "total_data_inv_frame = pd.DataFrame(total_data_inv, columns=col_names)\n",
    "total_data_inv_frame.hist(\"BLS_Period_1_0\")\n",
    "print total_data_inv_frame.shape\n",
    "total_data_inv_frame.to_csv(\"Inverted_feat_files_fixed.csv\")"
   ]
  },
  {
   "cell_type": "code",
   "execution_count": 5,
   "metadata": {
    "collapsed": false
   },
   "outputs": [
    {
     "name": "stdout",
     "output_type": "stream",
     "text": [
      "(15000,) 3.0\n",
      "(25000,)\n",
      "[ 1.  2.  3.]\n"
     ]
    }
   ],
   "source": [
    "inv_labels = np.zeros(total_data_inv.shape[0])\n",
    "inv_labels.fill(3)\n",
    "print inv_labels.shape, inv_labels[2]\n",
    "object_label = np.append(object_label, inv_labels)\n",
    "print object_label.shape # one is a missed transit, 2 is a transit, 3 in an inverted signal\n",
    "print np.unique(object_label)"
   ]
  },
  {
   "cell_type": "code",
   "execution_count": 19,
   "metadata": {
    "collapsed": false
   },
   "outputs": [
    {
     "name": "stdout",
     "output_type": "stream",
     "text": [
      "['mod_sig_pri_dv' 'mod_sig_sec_dv' 'mod_sig_ter_dv' 'mod_sig_pos_dv'\n",
      " 'mod_fa1_dv' 'mod_fa2_dv' 'mod_fred_dv' 'modshiftval1_dv'\n",
      " 'modshiftval2_dv' 'modshiftval3_dv' 'modshiftval4_dv' 'modshiftval5_dv'\n",
      " 'modshiftval6_dv' 'white_noise' 'red_noise' 'BLS_Period_1_0' 'BLS_SN_1_0'\n",
      " 'BLS_SR_1_0' 'BLS_SDE_1_0' 'BLS_Depth_1_0' 'BLS_Qtran_1_0'\n",
      " 'BLS_Qingress_1_0' 'BLS_i1_1_0' 'BLS_i2_1_0' 'BLS_deltaChi2_1_0'\n",
      " 'BLS_fraconenight_1_0' 'BLS_Ntransits_1_0' 'BLS_Rednoise_1_0'\n",
      " 'BLS_Whitenoise_1_0' 'BLS_SignaltoPinknoise_1_0']\n"
     ]
    }
   ],
   "source": [
    "total_data_frame[\"Y\"] = true_trans\n",
    "zero_lenght = np.zeros(total_data_inv_frame.shape[0])\n",
    "total_data_inv_frame[\"Y\"] = zero_lenght\n",
    "data = pd.concat([total_data_frame, total_data_inv_frame], axis = 0)\n",
    "\n",
    "\n",
    "\n",
    "del data[\"BLS_Npointsaftertransit_1_0\"]\n",
    "del data[\"BLS_Npointsintransit_1_0\"]\n",
    "del data[\"BLS_Npointsbeforetransit_1_0\"]\n",
    "del data[\"BLS_OOTmag_1_0\"]\n",
    "del data[\"BLS_Tc_1_0\"]\n",
    "#del data[\"BLS_Qingress_1_0\"]#\n",
    "#del data[\"M\"]\n",
    "\n",
    "labels = data[\"Y\"]\n",
    "del  data[\"Y\"]\n",
    "data = data.replace(np.nan, 0)\n",
    "data = data.replace(np.inf, 0)\n",
    "data = data.replace(-np.inf, 0)\n",
    "print data.columns.values\n",
    "\n",
    "#data.hist(\"BLS_Period_1_0\")\n",
    "#total_data_inv.hist(\"BLS_Period_1_0\")\n",
    "#total_data_frame.hist(\"BLS_Period_1_0\")"
   ]
  },
  {
   "cell_type": "code",
   "execution_count": 27,
   "metadata": {
    "collapsed": false
   },
   "outputs": [
    {
     "name": "stdout",
     "output_type": "stream",
     "text": [
      "(25000, 30) (25000,)\n",
      "Strong Transits in training 7404\n",
      "Weak Transits in training 596\n",
      "Inverted Signals in training 12000 \n",
      "\n",
      "Strong Transits in testing 1851\n",
      "Weak Signals in testing 149\n",
      "Inverted Signals in testing 3000\n",
      "\n",
      "['mod_sig_pri_dv' 'mod_sig_sec_dv' 'mod_sig_ter_dv' 'mod_sig_pos_dv'\n",
      " 'mod_fa1_dv' 'mod_fa2_dv' 'mod_fred_dv' 'modshiftval1_dv'\n",
      " 'modshiftval2_dv' 'modshiftval3_dv' 'modshiftval4_dv' 'modshiftval5_dv'\n",
      " 'modshiftval6_dv' 'white_noise' 'red_noise' 'BLS_Period_1_0' 'BLS_SN_1_0'\n",
      " 'BLS_SR_1_0' 'BLS_SDE_1_0' 'BLS_Depth_1_0' 'BLS_Qtran_1_0'\n",
      " 'BLS_Qingress_1_0' 'BLS_i1_1_0' 'BLS_i2_1_0' 'BLS_deltaChi2_1_0'\n",
      " 'BLS_fraconenight_1_0' 'BLS_Ntransits_1_0' 'BLS_Rednoise_1_0'\n",
      " 'BLS_Whitenoise_1_0' 'BLS_SignaltoPinknoise_1_0']\n"
     ]
    }
   ],
   "source": [
    "shuffleX, shuffleY , shuffle_labels= shuffle(data, labels, object_label, random_state =0)\n",
    "shuffleX = shuffleX.reset_index(drop = True)\n",
    "shuffleY = shuffleY.reset_index(drop = True)\n",
    "\n",
    "print shuffleX.shape, shuffleY.shape #, train_label.shape\n",
    "\n",
    "trainX, testX, trainY, testY, train_label, test_label = train_test_split(shuffleX, shuffleY, shuffle_labels, stratify =shuffle_labels, test_size = 0.20,random_state = 0 )\n",
    "\n",
    "print \"Strong Transits in training\" , len(np.where([(trainY==1) & (train_label==2)])[0]) \n",
    "print \"Weak Transits in training\" , len(np.where([(trainY==0) & (train_label==1)])[0]) \n",
    "print \"Inverted Signals in training\" , len(np.where([(trainY==0) & (train_label==3)])[0]) , \"\\n\"\n",
    "print \"Strong Transits in testing\" , len(np.where([(testY==1) & (test_label==2)])[0]) \n",
    "print \"Weak Signals in testing\" , len(np.where([(testY==0) & (test_label==1)])[0]) \n",
    "print \"Inverted Signals in testing\" , len(np.where([(testY==0) & (test_label==3)])[0]) \n",
    "\n",
    "print \"\\n\",shuffleX.columns.values"
   ]
  },
  {
   "cell_type": "code",
   "execution_count": 21,
   "metadata": {
    "collapsed": false
   },
   "outputs": [
    {
     "data": {
      "text/plain": [
       "test-auc-mean     0.976885\n",
       "test-auc-std      0.000718\n",
       "train-auc-mean    0.981838\n",
       "train-auc-std     0.000671\n",
       "dtype: float64"
      ]
     },
     "execution_count": 21,
     "metadata": {},
     "output_type": "execute_result"
    }
   ],
   "source": [
    "# try cross validation\n",
    "xgbc = XGBClassifier(n_estimators = 300, seed=8, max_depth = 8, colsample_bytree=0.95, subsample=0.85)\n",
    "xgb_params  = xgbc.get_params()\n",
    "dtrain = xgb.DMatrix(shuffleX, label=shuffleY)\n",
    "scores = xgb.cv(xgb_params, dtrain, metrics=\"auc\", seed=0 ,nfold=5, stratified=True)\n",
    "np.mean(scores)"
   ]
  },
  {
   "cell_type": "code",
   "execution_count": 22,
   "metadata": {
    "collapsed": false
   },
   "outputs": [
    {
     "name": "stdout",
     "output_type": "stream",
     "text": [
      "0.96275\n",
      "0.961308750974\n"
     ]
    }
   ],
   "source": [
    "xgbc.fit(trainX, trainY)\n",
    "preds = xgbc.predict(testX)\n",
    "print metrics.average_precision_score(testY, preds)\n",
    "print metrics.f1_score(testY, preds)\n",
    "preds = xgbc.predict(testX)\n",
    "\n"
   ]
  },
  {
   "cell_type": "code",
   "execution_count": 10,
   "metadata": {
    "collapsed": false
   },
   "outputs": [
    {
     "name": "stdout",
     "output_type": "stream",
     "text": [
      "Precision 0.9255\n",
      "Recall 1.0\n",
      "ROC 0.976341695776\n",
      "Inverted 3000\n",
      "Strong Transit 1851\n",
      "Weak transit  149 \n",
      "\n",
      "Num of false positive inverted,  and false_negative strong sig, false positive weak sig\n",
      "0 0 149\n",
      "Inverted Percent False Positive Rate 0.0\n",
      "Strong Transit False Negative Rate? 0.0\n",
      "Weak transit False Positive Rate 1.0\n"
     ]
    }
   ],
   "source": [
    "#try determine  things like false positive rate\n",
    "print \"Precision\", metrics.precision_score(testY, preds)\n",
    "print \"Recall\", metrics.recall_score(testY, preds)\n",
    "print \"ROC\" , metrics.roc_auc_score(testY, preds)\n",
    "#print len(preds)\n",
    "\n",
    "false_positive_inverted  = len(np.where([(preds==1) & (testY==0) & (test_label==3)])[0])\n",
    "false_positive_weak_sig  = len(np.where([(preds==1) & (testY==0) & (test_label==1)])[0])\n",
    "false_negative_strong_sig  = len(np.where([(preds==0) & (testY==1) & (test_label==2)])[0])\n",
    "\n",
    "#how many weak, and strong signals and inverted in test sample?\n",
    "print \"Inverted\", len(np.where([(testY==0) & (test_label==3)])[0])\n",
    "print \"Strong Transit\", len(np.where([(testY==1) & (test_label==2)])[0])\n",
    "print \"Weak transit \", len(np.where([(testY==0) & (test_label==1)])[0]) ,\"\\n\"\n",
    "\n",
    "print \"Num of false positive inverted,  and false_negative strong sig, false positive weak sig\"\n",
    "print false_positive_inverted,  false_negative_strong_sig, false_positive_weak_sig\n",
    "\n",
    "\n",
    "#how many weak, and strong signals and inverted in test sample?\n",
    "print \"Inverted Percent False Positive Rate\", float(false_positive_inverted) / len(np.where([(testY==0) & (test_label==3)])[0])\n",
    "print \"Strong Transit False Negative Rate?\", float(false_negative_strong_sig) / len(np.where([(testY==1) & (test_label==2)])[0])\n",
    "print \"Weak transit False Positive Rate\", float(false_positive_weak_sig) / len(np.where([(testY==0) & (test_label==1)])[0])"
   ]
  },
  {
   "cell_type": "code",
   "execution_count": 23,
   "metadata": {
    "collapsed": false
   },
   "outputs": [
    {
     "data": {
      "text/plain": [
       "<matplotlib.axes._subplots.AxesSubplot at 0x7fd37b410610>"
      ]
     },
     "execution_count": 23,
     "metadata": {},
     "output_type": "execute_result"
    },
    {
     "data": {
      "image/png": "[encoded data removed]",
      "text/plain": [
       "<matplotlib.figure.Figure at 0x7fd37b3d6950>"
      ]
     },
     "metadata": {},
     "output_type": "display_data"
    }
   ],
   "source": [
    "feat_imp = pd.Series(xgbc.booster().get_fscore()).sort_values(ascending= False)\n",
    "fig = plt.figure()\n",
    "feat_imp.plot(kind = \"bar\", figsize = (10,6))\n",
    "#plt.savefig(\"best_model_feat_imp_98test.jpg\", bbox_inches = \"tight\")"
   ]
  },
  {
   "cell_type": "code",
   "execution_count": 32,
   "metadata": {
    "collapsed": false
   },
   "outputs": [
    {
     "name": "stdout",
     "output_type": "stream",
     "text": [
      "Index([u'BLS_Qingress_1_0', u'mod_sig_pos_dv', u'BLS_SDE_1_0', u'BLS_i1_1_0',\n",
      "       u'mod_fred_dv'],\n",
      "      dtype='object')\n"
     ]
    },
    {
     "ename": "TypeError",
     "evalue": "unhashable type",
     "output_type": "error",
     "traceback": [
      "\u001b[0;31m---------------------------------------------------------------------------\u001b[0m",
      "\u001b[0;31mTypeError\u001b[0m                                 Traceback (most recent call last)",
      "\u001b[0;32m<ipython-input-32-17e6bff92fe1>\u001b[0m in \u001b[0;36m<module>\u001b[0;34m()\u001b[0m\n\u001b[1;32m      2\u001b[0m \u001b[0mtop_Feat\u001b[0m \u001b[0;34m=\u001b[0m \u001b[0mfeat_imp\u001b[0m\u001b[0;34m[\u001b[0m\u001b[0;34m:\u001b[0m\u001b[0;36m5\u001b[0m\u001b[0;34m]\u001b[0m\u001b[0;34m.\u001b[0m\u001b[0mindex\u001b[0m\u001b[0;34m\u001b[0m\u001b[0m\n\u001b[1;32m      3\u001b[0m \u001b[0;32mprint\u001b[0m \u001b[0mtop_Feat\u001b[0m\u001b[0;34m\u001b[0m\u001b[0m\n\u001b[0;32m----> 4\u001b[0;31m \u001b[0mvalues\u001b[0m \u001b[0;34m=\u001b[0m \u001b[0mnp\u001b[0m\u001b[0;34m.\u001b[0m\u001b[0mcore\u001b[0m\u001b[0;34m.\u001b[0m\u001b[0mdefchararray\u001b[0m\u001b[0;34m.\u001b[0m\u001b[0madd\u001b[0m\u001b[0;34m(\u001b[0m\u001b[0mdata\u001b[0m\u001b[0;34m[\u001b[0m\u001b[0;34m:\u001b[0m\u001b[0;34m,\u001b[0m\u001b[0;36m0\u001b[0m\u001b[0;34m]\u001b[0m\u001b[0;34m,\u001b[0m \u001b[0;34m\"-\"\u001b[0m\u001b[0;34m)\u001b[0m\u001b[0;34m\u001b[0m\u001b[0m\n\u001b[0m\u001b[1;32m      5\u001b[0m \u001b[0mvalues\u001b[0m \u001b[0;34m=\u001b[0m \u001b[0mnp\u001b[0m\u001b[0;34m.\u001b[0m\u001b[0mcore\u001b[0m\u001b[0;34m.\u001b[0m\u001b[0mdefchararray\u001b[0m\u001b[0;34m.\u001b[0m\u001b[0madd\u001b[0m\u001b[0;34m(\u001b[0m\u001b[0mvalues\u001b[0m\u001b[0;34m,\u001b[0m \u001b[0mdata\u001b[0m\u001b[0;34m[\u001b[0m\u001b[0;34m:\u001b[0m\u001b[0;34m,\u001b[0m \u001b[0;36m1\u001b[0m\u001b[0;34m]\u001b[0m\u001b[0;34m)\u001b[0m\u001b[0;34m\u001b[0m\u001b[0m\n\u001b[1;32m      6\u001b[0m \u001b[0;34m\u001b[0m\u001b[0m\n",
      "\u001b[0;32m/home/xuhuang/anaconda2/lib/python2.7/site-packages/pandas/core/frame.pyc\u001b[0m in \u001b[0;36m__getitem__\u001b[0;34m(self, key)\u001b[0m\n\u001b[1;32m   2057\u001b[0m             \u001b[0;32mreturn\u001b[0m \u001b[0mself\u001b[0m\u001b[0;34m.\u001b[0m\u001b[0m_getitem_multilevel\u001b[0m\u001b[0;34m(\u001b[0m\u001b[0mkey\u001b[0m\u001b[0;34m)\u001b[0m\u001b[0;34m\u001b[0m\u001b[0m\n\u001b[1;32m   2058\u001b[0m         \u001b[0;32melse\u001b[0m\u001b[0;34m:\u001b[0m\u001b[0;34m\u001b[0m\u001b[0m\n\u001b[0;32m-> 2059\u001b[0;31m             \u001b[0;32mreturn\u001b[0m \u001b[0mself\u001b[0m\u001b[0;34m.\u001b[0m\u001b[0m_getitem_column\u001b[0m\u001b[0;34m(\u001b[0m\u001b[0mkey\u001b[0m\u001b[0;34m)\u001b[0m\u001b[0;34m\u001b[0m\u001b[0m\n\u001b[0m\u001b[1;32m   2060\u001b[0m \u001b[0;34m\u001b[0m\u001b[0m\n\u001b[1;32m   2061\u001b[0m     \u001b[0;32mdef\u001b[0m \u001b[0m_getitem_column\u001b[0m\u001b[0;34m(\u001b[0m\u001b[0mself\u001b[0m\u001b[0;34m,\u001b[0m \u001b[0mkey\u001b[0m\u001b[0;34m)\u001b[0m\u001b[0;34m:\u001b[0m\u001b[0;34m\u001b[0m\u001b[0m\n",
      "\u001b[0;32m/home/xuhuang/anaconda2/lib/python2.7/site-packages/pandas/core/frame.pyc\u001b[0m in \u001b[0;36m_getitem_column\u001b[0;34m(self, key)\u001b[0m\n\u001b[1;32m   2064\u001b[0m         \u001b[0;31m# get column\u001b[0m\u001b[0;34m\u001b[0m\u001b[0;34m\u001b[0m\u001b[0m\n\u001b[1;32m   2065\u001b[0m         \u001b[0;32mif\u001b[0m \u001b[0mself\u001b[0m\u001b[0;34m.\u001b[0m\u001b[0mcolumns\u001b[0m\u001b[0;34m.\u001b[0m\u001b[0mis_unique\u001b[0m\u001b[0;34m:\u001b[0m\u001b[0;34m\u001b[0m\u001b[0m\n\u001b[0;32m-> 2066\u001b[0;31m             \u001b[0;32mreturn\u001b[0m \u001b[0mself\u001b[0m\u001b[0;34m.\u001b[0m\u001b[0m_get_item_cache\u001b[0m\u001b[0;34m(\u001b[0m\u001b[0mkey\u001b[0m\u001b[0;34m)\u001b[0m\u001b[0;34m\u001b[0m\u001b[0m\n\u001b[0m\u001b[1;32m   2067\u001b[0m \u001b[0;34m\u001b[0m\u001b[0m\n\u001b[1;32m   2068\u001b[0m         \u001b[0;31m# duplicate columns & possible reduce dimensionality\u001b[0m\u001b[0;34m\u001b[0m\u001b[0;34m\u001b[0m\u001b[0m\n",
      "\u001b[0;32m/home/xuhuang/anaconda2/lib/python2.7/site-packages/pandas/core/generic.pyc\u001b[0m in \u001b[0;36m_get_item_cache\u001b[0;34m(self, item)\u001b[0m\n\u001b[1;32m   1382\u001b[0m         \u001b[0;34m\"\"\"Return the cached item, item represents a label indexer.\"\"\"\u001b[0m\u001b[0;34m\u001b[0m\u001b[0m\n\u001b[1;32m   1383\u001b[0m         \u001b[0mcache\u001b[0m \u001b[0;34m=\u001b[0m \u001b[0mself\u001b[0m\u001b[0;34m.\u001b[0m\u001b[0m_item_cache\u001b[0m\u001b[0;34m\u001b[0m\u001b[0m\n\u001b[0;32m-> 1384\u001b[0;31m         \u001b[0mres\u001b[0m \u001b[0;34m=\u001b[0m \u001b[0mcache\u001b[0m\u001b[0;34m.\u001b[0m\u001b[0mget\u001b[0m\u001b[0;34m(\u001b[0m\u001b[0mitem\u001b[0m\u001b[0;34m)\u001b[0m\u001b[0;34m\u001b[0m\u001b[0m\n\u001b[0m\u001b[1;32m   1385\u001b[0m         \u001b[0;32mif\u001b[0m \u001b[0mres\u001b[0m \u001b[0;32mis\u001b[0m \u001b[0mNone\u001b[0m\u001b[0;34m:\u001b[0m\u001b[0;34m\u001b[0m\u001b[0m\n\u001b[1;32m   1386\u001b[0m             \u001b[0mvalues\u001b[0m \u001b[0;34m=\u001b[0m \u001b[0mself\u001b[0m\u001b[0;34m.\u001b[0m\u001b[0m_data\u001b[0m\u001b[0;34m.\u001b[0m\u001b[0mget\u001b[0m\u001b[0;34m(\u001b[0m\u001b[0mitem\u001b[0m\u001b[0;34m)\u001b[0m\u001b[0;34m\u001b[0m\u001b[0m\n",
      "\u001b[0;31mTypeError\u001b[0m: unhashable type"
     ]
    }
   ],
   "source": [
    "# drop the top 5 features\n",
    "top_Feat = feat_imp[:5].index\n",
    "print top_Feat\n",
    "\n",
    "#shuffleX_short= shuffleX.drop(top_Feat)\n",
    "#shuffleX_short.columns.values\n",
    "values"
   ]
  },
  {
   "cell_type": "code",
   "execution_count": 12,
   "metadata": {
    "collapsed": false
   },
   "outputs": [
    {
     "name": "stdout",
     "output_type": "stream",
     "text": [
      "Precision 0.925702811245\n",
      "Recall 0.9962182604\n",
      "ROC 0.974609606542\n",
      "Inverted 3000\n",
      "Strong Transit 1851\n",
      "Weak transit  149 \n",
      "\n",
      "Num of false positive inverted,  and false_negative strong sig, false positive weak sig\n",
      "0 7 148\n",
      "Inverted Percent False Positive Rate 0.0\n",
      "Strong Transit False Negative Rate? 0.00378173960022\n",
      "Weak transit False Positive Rate 0.993288590604\n"
     ]
    }
   ],
   "source": [
    "#see how rfc odes\n",
    "rfc = RandomForestClassifier(random_state = 0)\n",
    "rfc.fit(trainX, trainY)\n",
    "preds = rfc.predict(testX)\n",
    "\n",
    "#try determine  things like false positive rate\n",
    "print \"Precision\", metrics.precision_score(testY, preds)\n",
    "print \"Recall\", metrics.recall_score(testY, preds)\n",
    "print \"ROC\" , metrics.roc_auc_score(testY, preds)\n",
    "#print len(preds)\n",
    "\n",
    "false_positive_inverted  = len(np.where([(preds==1) & (testY==0) & (test_label==3)])[0])\n",
    "false_positive_weak_sig  = len(np.where([(preds==1) & (testY==0) & (test_label==1)])[0])\n",
    "false_negative_strong_sig  = len(np.where([(preds==0) & (testY==1) & (test_label==2)])[0])\n",
    "\n",
    "#how many weak, and strong signals and inverted in test sample?\n",
    "print \"Inverted\", len(np.where([(testY==0) & (test_label==3)])[0])\n",
    "print \"Strong Transit\", len(np.where([(testY==1) & (test_label==2)])[0])\n",
    "print \"Weak transit \", len(np.where([(testY==0) & (test_label==1)])[0]) ,\"\\n\"\n",
    "\n",
    "print \"Num of false positive inverted,  and false_negative strong sig, false positive weak sig\"\n",
    "print false_positive_inverted,  false_negative_strong_sig, false_positive_weak_sig\n",
    "\n",
    "\n",
    "#how many weak, and strong signals and inverted in test sample?\n",
    "print \"Inverted Percent False Positive Rate\", float(false_positive_inverted) / len(np.where([(testY==0) & (test_label==3)])[0])\n",
    "print \"Strong Transit False Negative Rate?\", float(false_negative_strong_sig) / len(np.where([(testY==1) & (test_label==2)])[0])\n",
    "print \"Weak transit False Positive Rate\", float(false_positive_weak_sig) / len(np.where([(testY==0) & (test_label==1)])[0])"
   ]
  },
  {
   "cell_type": "code",
   "execution_count": 13,
   "metadata": {
    "collapsed": false
   },
   "outputs": [
    {
     "name": "stdout",
     "output_type": "stream",
     "text": [
      "4251\n",
      "(4251, 35)\n",
      "['mod_sig_pri_dv' 'mod_sig_sec_dv' 'mod_sig_ter_dv' 'mod_sig_pos_dv'\n",
      " 'mod_fa1_dv' 'mod_fa2_dv' 'mod_fred_dv' 'modshiftval1_dv'\n",
      " 'modshiftval2_dv' 'modshiftval3_dv' 'modshiftval4_dv' 'modshiftval5_dv'\n",
      " 'modshiftval6_dv' 'white_noise' 'red_noise' 'BLS_Period_1_0' 'BLS_SN_1_0'\n",
      " 'BLS_SR_1_0' 'BLS_SDE_1_0' 'BLS_Depth_1_0' 'BLS_Qtran_1_0'\n",
      " 'BLS_Qingress_1_0' 'BLS_i1_1_0' 'BLS_i2_1_0' 'BLS_deltaChi2_1_0'\n",
      " 'BLS_fraconenight_1_0' 'BLS_Ntransits_1_0' 'BLS_Rednoise_1_0'\n",
      " 'BLS_Whitenoise_1_0' 'BLS_SignaltoPinknoise_1_0']\n",
      "['10000941', '10000941']\n",
      "522\n"
     ]
    },
    {
     "ename": "IOError",
     "evalue": "[Errno 2] No such file or directory: '../nhussain_scripts/Long_bls_koi.txt'",
     "output_type": "error",
     "traceback": [
      "\u001b[0;31m---------------------------------------------------------------------------\u001b[0m",
      "\u001b[0;31mIOError\u001b[0m                                   Traceback (most recent call last)",
      "\u001b[0;32m<ipython-input-13-5c1d4cd860e6>\u001b[0m in \u001b[0;36m<module>\u001b[0;34m()\u001b[0m\n\u001b[1;32m     32\u001b[0m \u001b[0;32mprint\u001b[0m \u001b[0mlen\u001b[0m\u001b[0;34m(\u001b[0m\u001b[0mnp\u001b[0m\u001b[0;34m.\u001b[0m\u001b[0munique\u001b[0m\u001b[0;34m(\u001b[0m\u001b[0mtest_KOIS_start\u001b[0m\u001b[0;34m)\u001b[0m\u001b[0;34m)\u001b[0m\u001b[0;34m\u001b[0m\u001b[0m\n\u001b[1;32m     33\u001b[0m \u001b[0;34m\u001b[0m\u001b[0m\n\u001b[0;32m---> 34\u001b[0;31m \u001b[0mkoi_SNR\u001b[0m \u001b[0;34m=\u001b[0m \u001b[0mnp\u001b[0m\u001b[0;34m.\u001b[0m\u001b[0mloadtxt\u001b[0m\u001b[0;34m(\u001b[0m\u001b[0;34m\"../nhussain_scripts/Long_bls_koi.txt\"\u001b[0m\u001b[0;34m)\u001b[0m\u001b[0;34m\u001b[0m\u001b[0m\n\u001b[0m\u001b[1;32m     35\u001b[0m \u001b[0;32mprint\u001b[0m \u001b[0mkoi_SNR\u001b[0m\u001b[0;34m\u001b[0m\u001b[0m\n",
      "\u001b[0;32m/home/xuhuang/anaconda2/lib/python2.7/site-packages/numpy/lib/npyio.pyc\u001b[0m in \u001b[0;36mloadtxt\u001b[0;34m(fname, dtype, comments, delimiter, converters, skiprows, usecols, unpack, ndmin)\u001b[0m\n\u001b[1;32m    801\u001b[0m                 \u001b[0mfh\u001b[0m \u001b[0;34m=\u001b[0m \u001b[0miter\u001b[0m\u001b[0;34m(\u001b[0m\u001b[0mbz2\u001b[0m\u001b[0;34m.\u001b[0m\u001b[0mBZ2File\u001b[0m\u001b[0;34m(\u001b[0m\u001b[0mfname\u001b[0m\u001b[0;34m)\u001b[0m\u001b[0;34m)\u001b[0m\u001b[0;34m\u001b[0m\u001b[0m\n\u001b[1;32m    802\u001b[0m             \u001b[0;32melif\u001b[0m \u001b[0msys\u001b[0m\u001b[0;34m.\u001b[0m\u001b[0mversion_info\u001b[0m\u001b[0;34m[\u001b[0m\u001b[0;36m0\u001b[0m\u001b[0;34m]\u001b[0m \u001b[0;34m==\u001b[0m \u001b[0;36m2\u001b[0m\u001b[0;34m:\u001b[0m\u001b[0;34m\u001b[0m\u001b[0m\n\u001b[0;32m--> 803\u001b[0;31m                 \u001b[0mfh\u001b[0m \u001b[0;34m=\u001b[0m \u001b[0miter\u001b[0m\u001b[0;34m(\u001b[0m\u001b[0mopen\u001b[0m\u001b[0;34m(\u001b[0m\u001b[0mfname\u001b[0m\u001b[0;34m,\u001b[0m \u001b[0;34m'U'\u001b[0m\u001b[0;34m)\u001b[0m\u001b[0;34m)\u001b[0m\u001b[0;34m\u001b[0m\u001b[0m\n\u001b[0m\u001b[1;32m    804\u001b[0m             \u001b[0;32melse\u001b[0m\u001b[0;34m:\u001b[0m\u001b[0;34m\u001b[0m\u001b[0m\n\u001b[1;32m    805\u001b[0m                 \u001b[0mfh\u001b[0m \u001b[0;34m=\u001b[0m \u001b[0miter\u001b[0m\u001b[0;34m(\u001b[0m\u001b[0mopen\u001b[0m\u001b[0;34m(\u001b[0m\u001b[0mfname\u001b[0m\u001b[0;34m)\u001b[0m\u001b[0;34m)\u001b[0m\u001b[0;34m\u001b[0m\u001b[0m\n",
      "\u001b[0;31mIOError\u001b[0m: [Errno 2] No such file or directory: '../nhussain_scripts/Long_bls_koi.txt'"
     ]
    }
   ],
   "source": [
    "test_KOIS = os.listdir('KOI_ModShiftVals/')\n",
    "print len(test_KOIS)\n",
    "test_KOIS = [x for x in test_KOIS if \"fixed\" in x]\n",
    "print len(test_KOIS)\n",
    "KOI_data = np.empty(shape=[0,len(col_names)])\n",
    "for i, name in enumerate(test_KOIS):\n",
    "    \n",
    "    koi_info = np.loadtxt(\"KOI_ModShiftVals/\" + name[:-4]+\".txt\").reshape((1, len(col_names)))\n",
    "    KOI_data = np.append(KOI_data, koi_info, axis = 0)\n",
    "    #if i == 225:\n",
    "    #    print name\n",
    "    #    lc_data = np.loadtxt(\"../Training/simulation/primary/\"+name[:-9]+\"ltf.lc\")\n",
    "    #    print lc_data\n",
    "    #    plt.scatter(lc_data[:,0], lc_data[:,1])\n",
    "    \n",
    "print KOI_data.shape\n",
    "KOI_data = pd.DataFrame(KOI_data, columns=col_names)\n",
    "KOI_data.to_csv(\"koi_feats_files_510.csv\")\n",
    "del KOI_data[\"BLS_Npointsaftertransit_1_0\"]\n",
    "del KOI_data[\"BLS_Npointsintransit_1_0\"]\n",
    "del KOI_data[\"BLS_Npointsbeforetransit_1_0\"]\n",
    "del KOI_data[\"BLS_OOTmag_1_0\"]\n",
    "del KOI_data[\"BLS_Tc_1_0\"]\n",
    "#KOI_data = shuffle(KOI_data, random_state = 0)\n",
    "#original_shuffled_index = KOI_data.index\n",
    "#print KOI_data.index[127]\n",
    "#id 225 is missed\n",
    "#KOI_data= KOI_data.reindex()\n",
    "print KOI_data.columns.values\n",
    "\n",
    "test_KOIS_start = [x[:-17] for x in test_KOIS]\n",
    "print test_KOIS_start[:2]\n",
    "print len(np.unique(test_KOIS_start))\n",
    "\n",
    "koi_SNR = np.loadtxt(\"../nhussain_scripts/Long_bls_koi.txt\")\n",
    "print koi_SNR"
   ]
  },
  {
   "cell_type": "code",
   "execution_count": null,
   "metadata": {
    "collapsed": false
   },
   "outputs": [],
   "source": [
    "preds = xgbc.predict(KOI_data)\n",
    "print np.unique(preds)\n",
    "print \"Number of false negatives:\", len(np.where(preds ==0)[0])\n",
    "print \"Precsion\" , metrics.precision_score(np.ones_like(preds), preds)\n",
    "print \"Recall\", metrics.recall_score(np.ones_like(preds), preds)\n",
    "print \"F1 - score\", metrics.f1_score(np.ones_like(preds), preds)\n",
    "print (np.where(preds ==0)[0])\n",
    "#print score"
   ]
  },
  {
   "cell_type": "code",
   "execution_count": null,
   "metadata": {
    "collapsed": false
   },
   "outputs": [],
   "source": [
    "missed_KOIS =  (np.where(preds ==0)[0])\n",
    "#print missed_KOIS\n",
    "#missed_KOIS = KOI_data[missed_KOIS]\n",
    "#print missed_KOIS\n",
    "test_KOIS = os.listdir('KOI_ModShiftVals/')\n",
    "#print len(test_KOIS)\n",
    "\n",
    "KOI_data = np.empty(shape=[0,len(col_names)])\n",
    "for i, name in enumerate(test_KOIS):\n",
    "    \n",
    "    koi_info = np.loadtxt(\"KOI_ModShiftVals/\" + name[:-4]+\".txt\").reshape((1, len(col_names)))\n",
    "    KOI_data = np.append(KOI_data, koi_info, axis = 0)\n",
    "    if i in missed_KOIS:\n",
    "        fit = plt.figure()\n",
    "        print name\n",
    "        lc_data = np.loadtxt(\"../Training/simulation/primary/\"+name[:-9]+\"ltf.lc\")\n",
    "        #print lc_data\n",
    "        plt.scatter(lc_data[:,0], lc_data[:,1], marker = \".\")\n",
    "    \n"
   ]
  },
  {
   "cell_type": "code",
   "execution_count": null,
   "metadata": {
    "collapsed": false,
    "scrolled": false
   },
   "outputs": [],
   "source": [
    "#view xgboost tree\n",
    "fig = plt.figure(figsize=(13,15))\n",
    "xgb.to_graphviz(xgbc, num_trees=1, )"
   ]
  },
  {
   "cell_type": "code",
   "execution_count": null,
   "metadata": {
    "collapsed": false
   },
   "outputs": [],
   "source": []
  },
  {
   "cell_type": "code",
   "execution_count": null,
   "metadata": {
    "collapsed": true
   },
   "outputs": [],
   "source": []
  }
 ],
 "metadata": {
  "anaconda-cloud": {},
  "kernelspec": {
   "display_name": "Python [conda root]",
   "language": "python",
   "name": "conda-root-py"
  },
  "language_info": {
   "codemirror_mode": {
    "name": "ipython",
    "version": 2
   },
   "file_extension": ".py",
   "mimetype": "text/x-python",
   "name": "python",
   "nbconvert_exporter": "python",
   "pygments_lexer": "ipython2",
   "version": "2.7.12"
  }
 },
 "nbformat": 4,
 "nbformat_minor": 1
}
