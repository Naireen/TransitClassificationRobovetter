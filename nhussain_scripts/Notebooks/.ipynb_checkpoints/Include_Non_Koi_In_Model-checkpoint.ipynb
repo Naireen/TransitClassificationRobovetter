{
 "cells": [
  {
   "cell_type": "code",
   "execution_count": 1,
   "metadata": {
    "collapsed": false
   },
   "outputs": [
    {
     "name": "stderr",
     "output_type": "stream",
     "text": [
      "/home/xuhuang/anaconda2/lib/python2.7/site-packages/sklearn/cross_validation.py:44: DeprecationWarning: This module was deprecated in version 0.18 in favor of the model_selection module into which all the refactored classes and functions are moved. Also note that the interface of the new CV iterators are different from that of this module. This module will be removed in 0.20.\n",
      "  \"This module will be removed in 0.20.\", DeprecationWarning)\n"
     ]
    },
    {
     "data": {
      "text/plain": [
       "'/home/xuhuang/anaconda2/lib/python2.7/site-packages/xgboost/__init__.pyc'"
      ]
     },
     "execution_count": 1,
     "metadata": {},
     "output_type": "execute_result"
    }
   ],
   "source": [
    "#readFeats\n",
    "import numpy as np\n",
    "import pandas as pd\n",
    "import sklearn\n",
    "import matplotlib \n",
    "from matplotlib import pyplot as plt\n",
    "%matplotlib inline\n",
    "import os\n",
    "from sklearn.utils import shuffle\n",
    "import xgboost as xgb\n",
    "from xgboost import XGBClassifier\n",
    "from sklearn.model_selection import train_test_split\n",
    "from sklearn import metrics\n",
    "from sklearn.model_selection import cross_val_score\n",
    "from sklearn.ensemble import RandomForestClassifier\n",
    "import hyperopt\n",
    "from hyperopt import  hp, fmin, tpe, STATUS_OK, Trials\n",
    "xgb.__file__"
   ]
  },
  {
   "cell_type": "code",
   "execution_count": 2,
   "metadata": {
    "collapsed": false
   },
   "outputs": [],
   "source": [
    "inj = pd.read_csv(\"../Data/Injected_feat_files_10000_fixed.csv\", index_col=0)\n",
    "inv = pd.read_csv(\"../Data/Inverted_feat_files_fixed.csv\", index_col=0)\n",
    "inj_periods = np.loadtxt(\"../../Training/simulation/injection/injection.txt\", dtype= str, delimiter=\",\")[:10000, 3].astype(\"float64\")"
   ]
  },
  {
   "cell_type": "code",
   "execution_count": 3,
   "metadata": {
    "collapsed": false
   },
   "outputs": [
    {
     "name": "stdout",
     "output_type": "stream",
     "text": [
      "[1 0 0 ..., 1 1 0]\n",
      "Harmonic Cut 9565\n",
      "SNR Cut 9255\n",
      "Retained Transits 6215\n",
      "['mod_sig_pri_dv' 'mod_sig_sec_dv' 'mod_sig_ter_dv' 'mod_sig_pos_dv'\n",
      " 'mod_fa1_dv' 'mod_fa2_dv' 'mod_fred_dv' 'modshiftval1_dv'\n",
      " 'modshiftval2_dv' 'modshiftval3_dv' 'modshiftval4_dv' 'modshiftval5_dv'\n",
      " 'modshiftval6_dv' 'white_noise' 'red_noise' 'Y']\n",
      "['mod_sig_pri_dv' 'mod_sig_sec_dv' 'mod_sig_ter_dv' 'mod_sig_pos_dv'\n",
      " 'mod_fa1_dv' 'mod_fa2_dv' 'mod_fred_dv' 'modshiftval1_dv'\n",
      " 'modshiftval2_dv' 'modshiftval3_dv' 'modshiftval4_dv' 'modshiftval5_dv'\n",
      " 'modshiftval6_dv' 'white_noise' 'red_noise']\n",
      "[ 1.  2.  3.]\n"
     ]
    }
   ],
   "source": [
    "SNR_inj = np.loadtxt(\"../Data/SNR_10000_corrected.txt\")[:10000]\n",
    "correct_sig = np.loadtxt(\"../Data/period_harmonics_10000_inj_signals_tol_5x5.txt\")\n",
    "#print inj_periods\n",
    "enough_transits = ((26./inj_periods) > 3).astype(int)\n",
    "print enough_transits\n",
    "one_harmonic = ((correct_sig[:,0]==1)+(correct_sig[: ,1]==1) + (correct_sig[:,0] == correct_sig[:,1])).astype(int)\n",
    "print \"Harmonic Cut\", len(np.where(one_harmonic==1)[0])\n",
    "print \"SNR Cut\", len(np.where(SNR_inj>6)[0])\n",
    "true_trans = ((SNR_inj>=6)*(correct_sig[:,2]<0.002)*(one_harmonic==1)*(enough_transits)).astype(int)\n",
    "print \"Retained Transits\", len(np.where(true_trans==1)[0])\n",
    "\n",
    "inj[\"Y\"] = true_trans\n",
    "zero_length = np.zeros(inv.shape[0])\n",
    "inv[\"Y\"] = zero_length\n",
    "total_signals = pd.concat([inj, inv], axis = 0)\n",
    "\n",
    "drop_columns = [x for x in total_signals.columns.values.tolist() if \"BLS\"  in x]\n",
    "total_signals= total_signals.drop(drop_columns, axis =1)\n",
    "print total_signals.columns.values\n",
    "labels = total_signals[\"Y\"]\n",
    "del  total_signals[\"Y\"]\n",
    "total_signals = total_signals.replace(np.nan, 0)\n",
    "total_signals = total_signals.replace(np.inf, 0)\n",
    "total_signals = total_signals.replace(-np.inf, 0)\n",
    "print total_signals.columns.values\n",
    "object_label = np.ones_like(true_trans)#vi\n",
    "object_label[true_trans==1] =2 \n",
    "inv_labels = np.zeros(inv.shape[0])\n",
    "inv_labels.fill(3)\n",
    "object_label = np.append(object_label, inv_labels)\n",
    "print np.unique(object_label)"
   ]
  },
  {
   "cell_type": "code",
   "execution_count": 4,
   "metadata": {
    "collapsed": false
   },
   "outputs": [
    {
     "data": {
      "text/plain": [
       "array([3, 3])"
      ]
     },
     "execution_count": 4,
     "metadata": {},
     "output_type": "execute_result"
    }
   ],
   "source": [
    "correct_sig[273,:2].astype(int)"
   ]
  },
  {
   "cell_type": "code",
   "execution_count": 5,
   "metadata": {
    "collapsed": false
   },
   "outputs": [
    {
     "name": "stdout",
     "output_type": "stream",
     "text": [
      "(25000, 15) (25000,)\n",
      "Strong Transits in training 4972\n",
      "Weak Transits in training 3028\n",
      "Inverted Signals in training 12000 \n",
      "\n",
      "Strong Transits in testing 1243\n",
      "Weak Signals in testing 757\n",
      "Inverted Signals in testing 3000\n"
     ]
    }
   ],
   "source": [
    "shuffleX, shuffleY , shuffle_labels= shuffle(total_signals, labels, object_label, random_state =0)\n",
    "shuffleX = shuffleX.reset_index(drop = True)\n",
    "shuffleY = shuffleY.reset_index(drop = True)\n",
    "\n",
    "print shuffleX.shape, shuffleY.shape #, train_label.shape\n",
    "\n",
    "trainX, testX, trainY, testY, train_label, test_label = train_test_split(shuffleX, shuffleY, shuffle_labels, stratify =shuffle_labels, test_size = 0.20,random_state = 0 )\n",
    "\n",
    "print \"Strong Transits in training\" , len(np.where([(trainY==1) & (train_label==2)])[0]) \n",
    "print \"Weak Transits in training\" , len(np.where([(trainY==0) & (train_label==1)])[0]) \n",
    "print \"Inverted Signals in training\" , len(np.where([(trainY==0) & (train_label==3)])[0]) , \"\\n\"\n",
    "print \"Strong Transits in testing\" , len(np.where([(testY==1) & (test_label==2)])[0]) \n",
    "print \"Weak Signals in testing\" , len(np.where([(testY==0) & (test_label==1)])[0]) \n",
    "print \"Inverted Signals in testing\" , len(np.where([(testY==0) & (test_label==3)])[0]) \n",
    "\n",
    "#print \"\\n\",shuffleX.columns.values"
   ]
  },
  {
   "cell_type": "code",
   "execution_count": 6,
   "metadata": {
    "collapsed": true
   },
   "outputs": [],
   "source": [
    "# try tuning, which is fairly important here with all the noise and tolerance cuts\n",
    "space ={\n",
    "        'max_depth': hp.quniform('x_max_depth', 1, 20,1),\n",
    "        'min_child_weight': hp.quniform ('x_min_child', 1, 20, 1),\n",
    "        'subsample': hp.uniform ('x_subsample', 0.7, 1),\n",
    "        'colsample_bytree': hp.uniform ('x_tree_colsample', 0.7,1),\n",
    "        'learning_rate': hp.uniform ('x_learning_rate', 0.001, 0.1)\n",
    "}\n",
    "\n",
    "#implemented with xgb cv\n",
    "\n",
    "dtrain = xgb.DMatrix(trainX, label=trainY)\n",
    "\n",
    "def objective(space):\n",
    "\n",
    "    clf = XGBClassifier(n_estimators = 100, \n",
    "                            max_depth = space['max_depth'], \n",
    "                            min_child_weight =space['min_child_weight'],\n",
    "                            subsample = space['subsample'],\n",
    "                            colsample_bytree =space['colsample_bytree'],\n",
    "                            learning_rate = space['learning_rate'])\n",
    "    start = time.time()\n",
    "    \n",
    "    cv_result = xgb.cv(clf.get_xgb_params(),dtrain, num_boost_round=50, nfold=5, metrics='auc', early_stopping_rounds=5 )\n",
    "    end = time.time()\n",
    "    #score = cross_val_score(clf, trainX, trainY, cv = 5, scoring=\"average_precision\")\n",
    "    score =  cv_result.iloc[-1][\"test-auc-mean\"]\n",
    "    score_std =  cv_result.iloc[-1][\"test-auc-std\"]\n",
    "    print (\"SCORE %f, in : %f s:\" % (score, (end-start)))\n",
    "\n",
    "    return{'loss':1-score, 'status': STATUS_OK, \"cv_score\":score, \"test_avg\": score_std }\n",
    "\n",
    "\n"
   ]
  },
  {
   "cell_type": "code",
   "execution_count": 7,
   "metadata": {
    "collapsed": false
   },
   "outputs": [
    {
     "name": "stdout",
     "output_type": "stream",
     "text": [
      "SCORE 0.996941, in : 1.801276 s:\n",
      "SCORE 0.996502, in : 1.803464 s:\n",
      "SCORE 0.996795, in : 1.762370 s:\n",
      "SCORE 0.996970, in : 1.960222 s:\n",
      "SCORE 0.995428, in : 1.570935 s:\n",
      "('Optimization Time: %f seconds', 8.92196798324585)\n",
      "{'x_min_child': 11.0, 'x_tree_colsample': 0.7490500304948011, 'x_max_depth': 20.0, 'x_subsample': 0.7737818217407166, 'x_learning_rate': 0.09318677640230448}\n"
     ]
    }
   ],
   "source": [
    "trials= Trials()\n",
    "import time\n",
    "start = time.time()\n",
    "best = fmin(fn=objective, space = space, algo = tpe.suggest, max_evals = 5, trials = trials)\n",
    "end = time.time()\n",
    "print(\"Optimization Time: %f seconds\", (end  -start))\n",
    "print best"
   ]
  },
  {
   "cell_type": "code",
   "execution_count": 7,
   "metadata": {
    "collapsed": false,
    "scrolled": true
   },
   "outputs": [
    {
     "data": {
      "text/plain": [
       "test-auc-mean     0.995059\n",
       "test-auc-std      0.001200\n",
       "train-auc-mean    0.997023\n",
       "train-auc-std     0.000266\n",
       "dtype: float64"
      ]
     },
     "execution_count": 7,
     "metadata": {},
     "output_type": "execute_result"
    }
   ],
   "source": [
    "# try cross validation\n",
    "#xgbc = XGBClassifier(n_estimators = 500, seed=8, max_depth = int(best[\"x_max_depth\"]),\n",
    "#                     colsample_bytree=best[\"x_tree_colsample\"], \n",
    "#                     subsample=best[\"x_subsample\"], scale_pos_weight=2,\n",
    "#                    min_child_weight = best[\"x_min_child\"], learning_rate = best[\"x_learning_rate\"])\n",
    "xgbc = XGBClassifier(seed = 0, max_depth=10, min_child_weight=5, subsample=0.8)\n",
    "xgb_params  = xgbc.get_params()\n",
    "dtrain = xgb.DMatrix(shuffleX, label=shuffleY)\n",
    "scores = xgb.cv(xgb_params, dtrain, metrics=\"auc\", seed=0 ,nfold=5, stratified=True)\n",
    "np.mean(scores)"
   ]
  },
  {
   "cell_type": "code",
   "execution_count": 8,
   "metadata": {
    "collapsed": false
   },
   "outputs": [
    {
     "name": "stdout",
     "output_type": "stream",
     "text": [
      "0.961795457738\n",
      "0.957251298442\n"
     ]
    },
    {
     "data": {
      "text/plain": [
       "[<matplotlib.lines.Line2D at 0x7f57cb17b690>]"
      ]
     },
     "execution_count": 8,
     "metadata": {},
     "output_type": "execute_result"
    },
    {
     "data": {
      "image/png": "[encoded data removed]",
      "text/plain": [
       "<matplotlib.figure.Figure at 0x7f5822244450>"
      ]
     },
     "metadata": {},
     "output_type": "display_data"
    }
   ],
   "source": [
    "xgbc.fit(trainX, trainY)\n",
    "preds = xgbc.predict(testX)\n",
    "preds_proba = xgbc.predict_proba(testX)[:,1]\n",
    "print metrics.average_precision_score(testY, preds)\n",
    "print metrics.f1_score(testY, preds)\n",
    "preds = xgbc.predict(testX)\n",
    "precision, recall, threholds = metrics.precision_recall_curve(testY, preds_proba)\n",
    "plt.plot(recall, precision)"
   ]
  },
  {
   "cell_type": "code",
   "execution_count": 9,
   "metadata": {
    "collapsed": false
   },
   "outputs": [
    {
     "name": "stdout",
     "output_type": "stream",
     "text": [
      "Precision 0.950793650794\n",
      "Recall 0.963797264682\n",
      "ROC 0.973647368034\n",
      "Inverted 3000\n",
      "Strong Transit 1243\n",
      "Weak transit  757 \n",
      "\n",
      "Num of false positive inverted,  and false_negative strong sig, false positive weak sig\n",
      "0 45 62\n",
      "Inverted Percent False Positive Rate 0.0\n",
      "Strong Transit False Negative Rate? 0.0362027353178\n",
      "Weak transit False Positive Rate 0.0819022457067\n"
     ]
    }
   ],
   "source": [
    "#try determine  things like false positive rate\n",
    "print \"Precision\", metrics.precision_score(testY, preds)\n",
    "print \"Recall\", metrics.recall_score(testY, preds)\n",
    "print \"ROC\" , metrics.roc_auc_score(testY, preds)\n",
    "#print len(preds)\n",
    "\n",
    "false_positive_inverted  = len(np.where([(preds==1) & (testY==0) & (test_label==3)])[0])\n",
    "false_positive_weak_sig  = len(np.where([(preds==1) & (testY==0) & (test_label==1)])[0])\n",
    "false_negative_strong_sig  = len(np.where([(preds==0) & (testY==1) & (test_label==2)])[0])\n",
    "\n",
    "#how many weak, and strong signals and inverted in test sample?\n",
    "print \"Inverted\", len(np.where([(testY==0) & (test_label==3)])[0])\n",
    "print \"Strong Transit\", len(np.where([(testY==1) & (test_label==2)])[0])\n",
    "print \"Weak transit \", len(np.where([(testY==0) & (test_label==1)])[0]) ,\"\\n\"\n",
    "\n",
    "print \"Num of false positive inverted,  and false_negative strong sig, false positive weak sig\"\n",
    "print false_positive_inverted,  false_negative_strong_sig, false_positive_weak_sig\n",
    "\n",
    "\n",
    "#how many weak, and strong signals and inverted in test sample?\n",
    "print \"Inverted Percent False Positive Rate\", float(false_positive_inverted) / len(np.where([(testY==0) & (test_label==3)])[0])\n",
    "print \"Strong Transit False Negative Rate?\", float(false_negative_strong_sig) / len(np.where([(testY==1) & (test_label==2)])[0])\n",
    "print \"Weak transit False Positive Rate\", float(false_positive_weak_sig) / len(np.where([(testY==0) & (test_label==1)])[0])"
   ]
  },
  {
   "cell_type": "code",
   "execution_count": 10,
   "metadata": {
    "collapsed": false
   },
   "outputs": [
    {
     "name": "stdout",
     "output_type": "stream",
     "text": [
      "Retained Transits 329 from 4251\n",
      "(4251, 35)\n",
      "['mod_sig_pri_dv' 'mod_sig_sec_dv' 'mod_sig_ter_dv' 'mod_sig_pos_dv'\n",
      " 'mod_fa1_dv' 'mod_fa2_dv' 'mod_fred_dv' 'modshiftval1_dv'\n",
      " 'modshiftval2_dv' 'modshiftval3_dv' 'modshiftval4_dv' 'modshiftval5_dv'\n",
      " 'modshiftval6_dv' 'white_noise' 'red_noise']\n"
     ]
    }
   ],
   "source": [
    "#load the testing _kois\n",
    "koi_SNR = np.loadtxt(\"../Data/SNR_feats_KOIS_4251.txt\")\n",
    "koi_tol = np.loadtxt(\"../Data/period_harmonics_4251_koi_signals_tol_5x5_ordered.txt\")\n",
    "koi = pd.read_csv(\"../Data/KOI_feat_files_4251_fixed_ordered.csv\", index_col=0)\n",
    "\n",
    "koi_periods = np.loadtxt(\"../Data/koi_periods_ordered.txt\")\n",
    "#print koi_periods\n",
    "enough_trans = (26//koi_periods > 3).astype(int)\n",
    "\n",
    "koi_true = ((koi_SNR[:, -1]>7)* (koi_tol[:,2]<0.002) * (enough_trans)).astype(int)\n",
    "#koi_tol = np.loadtxt(\"//\")\n",
    "print \"Retained Transits\", len(np.where(koi_true==1)[0]), \"from\", koi.shape[0]\n",
    "print koi.shape\n",
    "koi = koi.drop(drop_columns, axis=1)\n",
    "print koi.columns.values"
   ]
  },
  {
   "cell_type": "code",
   "execution_count": 11,
   "metadata": {
    "collapsed": false
   },
   "outputs": [
    {
     "name": "stdout",
     "output_type": "stream",
     "text": [
      "Unique starts 284\n",
      "Stars detected 277\n",
      "Stars Missed [  5735762.   6198182.   6278762.  10545066.  10748390.  11100383.\n",
      "  11709006.]\n",
      "Stars detected 277\n",
      "SNR\n",
      "\n",
      "ID: 5735762.0\n",
      "KOI_SNR: [ 10.345693    18.45929676   7.88295087  12.05888781   7.56111715\n",
      "  13.99370868   6.45215165   5.43523213   5.56495192  22.58090649]\n",
      "KOI_SNR_MEAN: 11.0334896454\n",
      "YLabels [0 0 0 0 0 0 0 0 0 0] \n",
      "\n",
      "ID: 6198182.0\n",
      "KOI_SNR: [ 0.37696208  0.13376589  0.19457048  0.43098015  0.28786352  0.20992404\n",
      "  0.55400867  0.3807915   0.37889537]\n",
      "KOI_SNR_MEAN: 0.327529076691\n",
      "YLabels [0 0 0 0 0 0 0 0 0] \n",
      "\n",
      "ID: 6278762.0\n",
      "KOI_SNR: [ 0.40114785]\n",
      "KOI_SNR_MEAN: 0.401147850637\n",
      "YLabels [0] \n",
      "\n",
      "ID: 10545066.0\n",
      "KOI_SNR: [ 1.72090246  4.56356039  0.69132832  4.46950933  4.83404497  5.24884751\n",
      "  4.85124797  5.40646162  1.52556431  2.0523493   5.55760324  2.8925127\n",
      "  3.31333499  2.41213467  3.89963415  4.24673067]\n",
      "KOI_SNR_MEAN: 3.60536041228\n",
      "YLabels [0 0 0 0 0 0 0 0 0 0 0 0 0 0 0 0] \n",
      "\n",
      "ID: 10748390.0\n",
      "KOI_SNR: [ 3.02741033  4.45274091]\n",
      "KOI_SNR_MEAN: 3.74007562171\n",
      "YLabels [0 0] \n",
      "\n",
      "ID: 11100383.0\n",
      "KOI_SNR: [ 0.49197953  0.68591699  2.00996446  0.26860606  0.36535938]\n",
      "KOI_SNR_MEAN: 0.764365283822\n",
      "YLabels [0 0 0 0 0] \n",
      "\n",
      "ID: 11709006.0\n",
      "KOI_SNR: [ 0.04742431  0.07257375  0.09033863]\n",
      "KOI_SNR_MEAN: 0.0701122286547\n",
      "YLabels [0 0 0] \n",
      "\n"
     ]
    },
    {
     "data": {
      "image/png": "[encoded data removed]",
      "text/plain": [
       "<matplotlib.figure.Figure at 0x7f57cb17b650>"
      ]
     },
     "metadata": {},
     "output_type": "display_data"
    }
   ],
   "source": [
    "\n",
    "\n",
    "star_list_ids = np.unique(koi_SNR[:,0])\n",
    "\n",
    "partially_detected = np.zeros_like(star_list_ids)\n",
    "detection_counts = np.zeros_like(star_list_ids)\n",
    "normalized_detection_counts = np.zeros_like(star_list_ids)\n",
    "not_detected = np.zeros_like(star_list_ids)\n",
    "\n",
    "\n",
    "print \"Unique starts\" ,len(star_list_ids)\n",
    "#print koi_SNR\n",
    "for i,id_num in enumerate(star_list_ids):\n",
    "    indices = np.where(id_num == koi_SNR[:,0])[0]\n",
    "    #print indices\n",
    "    if  preds[indices].sum() >=1:\n",
    "        partially_detected[i] = star_list_ids[i]\n",
    "    else  :\n",
    "        not_detected[i] = star_list_ids[i]\n",
    "    detection_counts[i]=preds[indices].sum()\n",
    "    normalized_detection_counts[i] = np.nansum()\n",
    "print \"Stars detected\", len(np.where(partially_detected!=0)[0])\n",
    "\n",
    "\n",
    "plt.hist(detection_counts)\n",
    "\n",
    "print \"Stars Missed\" , not_detected[np.where(not_detected!=0)[0]]\n",
    "print \"Stars detected\", len(np.where(partially_detected!=0)[0])\n",
    "\n",
    "\n",
    "print \"SNR\\n\"\n",
    "\n",
    "#iterate over msised stars\n",
    "for i, id_num in enumerate(not_detected[np.where(not_detected!=0)[0]]):\n",
    "    indices = np.where(id_num == koi_SNR[:,0])[0]\n",
    "    print \"ID:\", id_num\n",
    "    print \"KOI_SNR:\", koi_SNR[indices,2]\n",
    "    print \"KOI_SNR_MEAN:\", np.mean(koi_SNR[indices,2])\n",
    "    print \"YLabels\", koi_true[indices],  \"\\n\"\n",
    "\n"
   ]
  },
  {
   "cell_type": "code",
   "execution_count": 57,
   "metadata": {
    "collapsed": false,
    "scrolled": true
   },
   "outputs": [
    {
     "name": "stdout",
     "output_type": "stream",
     "text": [
      "\n",
      "Scores with the SNR and tol cut made to the true values\n",
      "True kois 329\n",
      "(4251,)\n",
      "Strong false KOI classified as true 101 from 269\n",
      "Strong true KOI classified as false 91 from 660\n",
      "Weak true KOI classified as true 18 from 718\n",
      "Weak false KOI classified as true 73 from 2584\n"
     ]
    }
   ],
   "source": [
    "preds =  xgbc.predict(koi)\n",
    "print \"\\nScores with the SNR and tol cut made to the true values\"\n",
    "\n",
    "\n",
    "print  \"True kois\", len(np.where(koi_true==1)[0])\n",
    "print preds.shape\n",
    "#strong false objects classifed s true\n",
    "print \"Strong false KOI classified as true\", len(np.where((koi_true==0) * (koi_tol[:,2]>0.002) * (preds==1))[0]) ,\"from\", len(np.where((koi_SNR[:,2]>6)*(koi_tol[:,2]>0.002))[0])\n",
    "print \"Strong true KOI classified as false\", len(np.where((koi_true==1) * (preds==0))[0]) ,\"from\", len(np.where((koi_SNR[:,2]>6)*(koi_tol[:,2]<0.002))[0])\n",
    "\n",
    "print \"Weak true KOI classified as true\", len(np.where((koi_SNR[:,2]<6) * (koi_tol[:,2]<0.002) * (preds==1))[0]) ,\"from\", len(np.where((koi_SNR[:,2]<6)*(koi_tol[:,2]<0.002))[0])\n",
    "\n",
    "print \"Weak false KOI classified as true\", len(np.where((koi_SNR[:,2]<6) * (koi_tol[:,2]>0.002) * (preds==1))[0]) ,\"from\", len(np.where((koi_SNR[:,2]<6)*(koi_tol[:,2]>0.002))[0])\n",
    "\n",
    "\n",
    "\n"
   ]
  },
  {
   "cell_type": "code",
   "execution_count": 13,
   "metadata": {
    "collapsed": true
   },
   "outputs": [
    {
     "data": {
      "image/png": "[encoded data removed]",
      "text/plain": [
       "<matplotlib.figure.Figure at 0x7fe8fc6cf590>"
      ]
     },
     "metadata": {},
     "output_type": "display_data"
    }
   ],
   "source": [
    "# Examine noise distributions\n",
    "def plot_property(name, bins = np.linspace(0,1e-3, 20 )):\n",
    "    fig = plt.figure()\n",
    "    ax = fig.add_subplot(\"111\")\n",
    "    #print inj.columns.values\n",
    "    #bins = np.linspace(0,1e-3, 20 )\n",
    "    inj.hist(name, alpha = 0.5, bins = bins , edgecolor = \"black\", linewidth = 1, ax  = ax, label = \"inj\", color = \"red\")\n",
    "    inv.hist(name, alpha = 0.4, bins = bins , edgecolor = \"black\", linewidth = 1, ax = ax, label = \"inv\", color = \"blue\")\n",
    "    koi.hist(name, alpha = 0.6, bins = bins , edgecolor = \"black\", linewidth = 1, ax = ax,label = \"koi\", color = \"yellow\")\n",
    "    plt.legend()\n",
    "plot_property(\"white_noise\")"
   ]
  },
  {
   "cell_type": "code",
   "execution_count": 14,
   "metadata": {
    "collapsed": true
   },
   "outputs": [
    {
     "data": {
      "image/png": "[encoded data removed]",
      "text/plain": [
       "<matplotlib.figure.Figure at 0x7fe8fce045d0>"
      ]
     },
     "metadata": {},
     "output_type": "display_data"
    }
   ],
   "source": [
    "plot_property(\"modshiftval5_dv\", bins = np.linspace(-16, -10, 20))"
   ]
  },
  {
   "cell_type": "code",
   "execution_count": 15,
   "metadata": {
    "collapsed": true
   },
   "outputs": [
    {
     "data": {
      "image/png": "[encoded data removed]",
      "text/plain": [
       "<matplotlib.figure.Figure at 0x7fe8fc729390>"
      ]
     },
     "metadata": {},
     "output_type": "display_data"
    }
   ],
   "source": [
    "plot_property(\"modshiftval6_dv\", bins = np.linspace(-16, -10, 20))"
   ]
  },
  {
   "cell_type": "code",
   "execution_count": 16,
   "metadata": {
    "collapsed": true
   },
   "outputs": [
    {
     "data": {
      "image/png": "[encoded data removed]",
      "text/plain": [
       "<matplotlib.figure.Figure at 0x7fe8f84e5f50>"
      ]
     },
     "metadata": {},
     "output_type": "display_data"
    }
   ],
   "source": [
    "plot_property(\"modshiftval2_dv\", bins = None)"
   ]
  },
  {
   "cell_type": "code",
   "execution_count": 17,
   "metadata": {
    "collapsed": false
   },
   "outputs": [
    {
     "name": "stdout",
     "output_type": "stream",
     "text": [
      "0\n",
      "0\n",
      "0\n"
     ]
    }
   ],
   "source": [
    "#where is secondary signifcance relateive to tertiarty event equal to secondary significance compared to positive event\n",
    "print len(np.where(koi[\"modshiftval5_dv\"] == koi['modshiftval6_dv'])[0])\n",
    "print len(np.where(inj[\"modshiftval5_dv\"] == inj['modshiftval6_dv'])[0])\n",
    "print len(np.where(inv[\"modshiftval5_dv\"] == inv['modshiftval6_dv'])[0])\n"
   ]
  },
  {
   "cell_type": "code",
   "execution_count": 18,
   "metadata": {
    "collapsed": true
   },
   "outputs": [
    {
     "data": {
      "image/png": "[encoded data removed]",
      "text/plain": [
       "<matplotlib.figure.Figure at 0x7fe8f83a1f90>"
      ]
     },
     "metadata": {},
     "output_type": "display_data"
    }
   ],
   "source": [
    "plot_property(\"modshiftval1_dv\", bins = None)\n",
    "#odd, as this shows that most are not significant"
   ]
  },
  {
   "cell_type": "code",
   "execution_count": 37,
   "metadata": {
    "collapsed": true
   },
   "outputs": [
    {
     "data": {
      "text/plain": [
       "array([  1161345.,   1718958.,   1865042.,   2299738.,   2302548.,\n",
       "         2304320.,   2438513.,   2441495.,   2444412.,   2571238.,\n",
       "         2692377.,   2831055.,   2849805.,   2853446.,   2970670.,\n",
       "         2985767.,   2989404.,   3102384.,   3129238.,   3328080.,\n",
       "         3440118.,   3446746.,   3541946.,   3544595.,   3545135.,\n",
       "         3733628.,   3852655.,   3934657.,   4048898.,   4049901.,\n",
       "         4149450.,   4164922.,   4180280.,   4278221.,   4349442.,\n",
       "         4365645.,   4472818.,   4563268.,   4644604.,   4644952.,\n",
       "         4813793.,   4827723.,   4840672.,   4857213.,   4947556.,\n",
       "         4991208.,   5020319.,   5084942.,   5088536.,   5185897.,\n",
       "         5253802.,   5272233.,   5339567.,   5369827.,   5375194.,\n",
       "         5383248.,   5612697.,   5613821.,   5652893.,   5683219.,\n",
       "         5688683.,   5695396.,   5709906.,   5735762.,   5794570.,\n",
       "         5796675.,   5809890.,   5859725.,   5881120.,   5941160.,\n",
       "         5946568.,   5959719.,   6020753.,   6021275.,   6029239.,\n",
       "         6058816.,   6062088.,   6063220.,   6153407.,   6184894.,\n",
       "         6198182.,   6265792.,   6278762.,   6289257.,   6307083.,\n",
       "         6362874.,   6442340.,   6467363.,   6523351.,   6527078.,\n",
       "         6541920.,   6605493.,   6607357.,   6678383.,   6717252.,\n",
       "         6752002.,   6752502.,   6763884.,   6779260.,   6839010.,\n",
       "         6850504.,   6851425.,   6938264.,   6974658.,   7100673.,\n",
       "         7106173.,   7115785.,   7202957.,   7211221.,   7256914.,\n",
       "         7259298.,   7269493.,   7273277.,   7287028.,   7295235.,\n",
       "         7335514.,   7419318.,   7447200.,   7455981.,   7509886.,\n",
       "         7610663.,   7626506.,   7661893.,   7668663.,   7673841.,\n",
       "         7746958.,   7762723.,   7887791.,   7905106.,   7906892.,\n",
       "         7967100.,   7976520.,   8008067.,   8016692.,   8081899.,\n",
       "         8095441.,   8105398.,   8107150.,   8107380.,   8142942.,\n",
       "         8145958.,   8222395.,   8240797.,   8277797.,   8278371.,\n",
       "         8280511.,   8359498.,   8394475.,   8395660.,   8415200.,\n",
       "         8454250.,   8456679.,   8480285.,   8488381.,   8552719.,\n",
       "         8557374.,   8581240.,   8628758.,   8644288.,   8644365.,\n",
       "         8653134.,   8692861.,   8711794.,   8738735.,   8741470.,\n",
       "         8750043.,   8753657.,   8766650.,   8802165.,   8804455.,\n",
       "         8827575.,   8894646.,   8962094.,   9002278.,   9006186.,\n",
       "         9011877.,   9139084.,   9177629.,   9209624.,   9221517.,\n",
       "         9266431.,   9283156.,   9334893.,   9364609.,   9455325.,\n",
       "         9458266.,   9468848.,   9471268.,   9489524.,   9527334.,\n",
       "         9527915.,   9569711.,   9573539.,   9579641.,   9597058.,\n",
       "         9597345.,   9602613.,   9655129.,   9702072.,   9704384.,\n",
       "         9718066.,   9790806.,   9822284.,   9881662.,   9885417.,\n",
       "         9886661.,   9898447.,   9909735.,   9950612.,   9963524.,\n",
       "         9995402.,  10000941.,  10024701.,  10053138.,  10063208.,\n",
       "        10130039.,  10154388.,  10155029.,  10158418.,  10187017.,\n",
       "        10190777.,  10220837.,  10252275.,  10318874.,  10319385.,\n",
       "        10337517.,  10352333.,  10384298.,  10387742.,  10397751.,\n",
       "        10531955.,  10545066.,  10552611.,  10657406.,  10676014.,\n",
       "        10722485.,  10736489.,  10748390.,  10777591.,  10878263.,\n",
       "        10917433.,  10925104.,  10971674.,  10984090.,  11017901.,\n",
       "        11069176.,  11075737.,  11100383.,  11125797.,  11197853.,\n",
       "        11241912.,  11253711.,  11359879.,  11361646.,  11394027.,\n",
       "        11395587.,  11402995.,  11446443.,  11547505.,  11547513.,\n",
       "        11551692.,  11554435.,  11568987.,  11600889.,  11651712.,\n",
       "        11709006.,  11752632.,  11760860.,  11764462.,  11773625.,\n",
       "        11818872.,  11923284.,  11954842.,  11970988.,  12068975.,\n",
       "        12072872.,  12105051.,  12252424.,  12301181.,  12404954.,\n",
       "        12458605.,  12505503.,  12554212.,  12785320.])"
      ]
     },
     "execution_count": 37,
     "metadata": {},
     "output_type": "execute_result"
    }
   ],
   "source": [
    "star_list_ids"
   ]
  },
  {
   "cell_type": "code",
   "execution_count": 38,
   "metadata": {
    "collapsed": false
   },
   "outputs": [
    {
     "name": "stdout",
     "output_type": "stream",
     "text": [
      "(284, 22)\n"
     ]
    }
   ],
   "source": [
    "uni_Stars = len(np.unique(star_list_ids))\n",
    "largest_seg = np.max(koi_SNR[:,1].max())\n",
    "table = np.full((uni_Stars, largest_seg +2), np.nan, dtype=\"float64\")\n",
    "print table.shape"
   ]
  },
  {
   "cell_type": "code",
   "execution_count": 39,
   "metadata": {
    "collapsed": false
   },
   "outputs": [
    {
     "name": "stdout",
     "output_type": "stream",
     "text": [
      "[[  1.16134500e+06   1.00000000e+00   0.00000000e+00 ...,              nan\n",
      "               nan              nan]\n",
      " [  1.71895800e+06   0.00000000e+00   0.00000000e+00 ...,              nan\n",
      "               nan              nan]\n",
      " [  1.86504200e+06   1.00000000e+00   0.00000000e+00 ...,              nan\n",
      "               nan              nan]\n",
      " ..., \n",
      " [  1.25055030e+07   0.00000000e+00   1.00000000e+00 ...,              nan\n",
      "               nan              nan]\n",
      " [  1.25542120e+07   1.00000000e+00   0.00000000e+00 ...,              nan\n",
      "               nan              nan]\n",
      " [  1.27853200e+07   1.00000000e+00   0.00000000e+00 ...,              nan\n",
      "               nan              nan]]\n"
     ]
    },
    {
     "name": "stderr",
     "output_type": "stream",
     "text": [
      "/home/xuhuang/anaconda2/lib/python2.7/site-packages/ipykernel/__main__.py:9: VisibleDeprecationWarning: using a non-integer number instead of an integer will result in an error in the future\n"
     ]
    }
   ],
   "source": [
    "table[:,0] = star_list_ids\n",
    "#print table\n",
    "for i, info in enumerate(koi_SNR):\n",
    "    #print info\n",
    "    try:\n",
    "        row_ind = np.where(info[0]==table[:, 0])[0]\n",
    "        col_ind = info[1] +1 \n",
    "        pred = preds[i]\n",
    "        table[row_ind, col_ind]= pred\n",
    "    #break\n",
    "    except   Exception as e:\n",
    "        print info, e\n",
    "        #break\n",
    "    #print row_ind, col_ind\n",
    "    \n",
    "print table"
   ]
  },
  {
   "cell_type": "code",
   "execution_count": 40,
   "metadata": {
    "collapsed": false
   },
   "outputs": [
    {
     "name": "stdout",
     "output_type": "stream",
     "text": [
      "[  0.   1.   2.   3.   4.   5.   6.   7.   8.   9.  10.  11.  12.  13.  14.\n",
      "  15.  16.  17.  18.  19.  20.]\n",
      "22 ['Star_id', 'Seg0.0', 'Seg1.0', 'Seg2.0', 'Seg3.0', 'Seg4.0', 'Seg5.0', 'Seg6.0', 'Seg7.0', 'Seg8.0', 'Seg9.0', 'Seg10.0', 'Seg11.0', 'Seg12.0', 'Seg13.0', 'Seg14.0', 'Seg15.0', 'Seg16.0', 'Seg17.0', 'Seg18.0', 'Seg19.0', 'Seg20.0']\n"
     ]
    }
   ],
   "source": [
    "nums = np.arange(largest_seg+1)\n",
    "print nums\n",
    "col_names = [\"Star_id\"] + [\"Seg\"+(str(x)) for x in nums ]\n",
    "print len(col_names), col_names\n",
    "#\n",
    "table_Vals = pd.DataFrame(table, columns=col_names)\n",
    "table_Vals.head()\n",
    "table_Vals.to_csv(\"../Data/predicted_koi_table.csv\")"
   ]
  },
  {
   "cell_type": "code",
   "execution_count": 41,
   "metadata": {
    "collapsed": false
   },
   "outputs": [
    {
     "name": "stdout",
     "output_type": "stream",
     "text": [
      "0.000441578177744 3.20607207042 0.669310092 0 1\n",
      "9.13406334954e-05 3.74215889421 0.669310092 0 1\n",
      "0.000208070238087 2.64792058079 0.669310092 0 1\n",
      "0.000169156904556 2.56250365716 0.669310092 0 1\n",
      "0.000169156904556 3.73172063246 0.669310092 0 1\n",
      "0.000272927407696 2.04464788932 0.669310092 0 1\n",
      "0.000310624757612 3.85916275124 0.669310092 0 1\n",
      "0.000169156904556 2.39713154177 0.669310092 0 1\n",
      "0.00018213814269 5.65810956264 0.669310092 0 1\n",
      "0.000363738300282 4.64574291532 0.669310092 0 1\n",
      "0.00051802861901 7.67034865559 0.669310092 1 1\n",
      "0.000843838469746 2.55678755889 0.669310092 0 1\n",
      "0.000829050582173 2.08124497012 0.669310092 0 1\n",
      "0.000103174243179 1.33430889071 0.669310092 0 1\n",
      "0.000298872084884 2.367773059 0.669310092 0 1\n",
      "0.00023401659822 3.22735292027 0.669310092 0 1\n"
     ]
    },
    {
     "name": "stderr",
     "output_type": "stream",
     "text": [
      "/home/xuhuang/anaconda2/lib/python2.7/site-packages/ipykernel/__main__.py:13: VisibleDeprecationWarning: using a non-integer number instead of an integer will result in an error in the future\n"
     ]
    }
   ],
   "source": [
    "#print table\n",
    "#print info.shape\n",
    "table = np.full(table.shape, np.nan, \"float64\")\n",
    "# 242 10971674.0\n",
    "table[:, 0] = star_list_ids\n",
    "\n",
    "for i, info in enumerate(koi_SNR):\n",
    "    #print info\n",
    "    try:\n",
    "        row_ind = np.where(info[0]==table[:, 0])[0]\n",
    "        col_ind = info[1] +1 \n",
    "     \n",
    "        table[row_ind, col_ind]= koi_true[i]\n",
    "        if info[0] == 11600889:\n",
    "            print koi_tol[i, 2], koi_SNR[i, 2], koi_periods[i], koi_true[i], enough_trans[i]\n",
    "    #break\n",
    "    except   Exception as e:\n",
    "        print info, e\n",
    "        #break\n",
    "    #print row_ind, col_ind\n",
    "    \n",
    "#print table.astype(\"int64\")\n",
    "nums = np.arange(largest_seg+1)\n",
    "#print nums\n",
    "col_names = [\"Star_id\"] + [\"Seg\"+(str(x)) for x in nums ]\n",
    "#print len(col_names), col_names\n",
    "#\n",
    "table_Vals = pd.DataFrame(table, columns=col_names)\n",
    "table_Vals.head()\n",
    "table_Vals.to_csv(\"../Data/true_koi_table.csv\")\n"
   ]
  },
  {
   "cell_type": "code",
   "execution_count": 42,
   "metadata": {
    "collapsed": false
   },
   "outputs": [
    {
     "data": {
      "text/html": [
       "<div>\n",
       "<table border=\"1\" class=\"dataframe\">\n",
       "  <thead>\n",
       "    <tr style=\"text-align: right;\">\n",
       "      <th></th>\n",
       "      <th>Star_id</th>\n",
       "      <th>Seg0.0</th>\n",
       "      <th>Seg1.0</th>\n",
       "      <th>Seg2.0</th>\n",
       "      <th>Seg3.0</th>\n",
       "      <th>Seg4.0</th>\n",
       "      <th>Seg5.0</th>\n",
       "      <th>Seg6.0</th>\n",
       "      <th>Seg7.0</th>\n",
       "      <th>Seg8.0</th>\n",
       "      <th>...</th>\n",
       "      <th>Seg11.0</th>\n",
       "      <th>Seg12.0</th>\n",
       "      <th>Seg13.0</th>\n",
       "      <th>Seg14.0</th>\n",
       "      <th>Seg15.0</th>\n",
       "      <th>Seg16.0</th>\n",
       "      <th>Seg17.0</th>\n",
       "      <th>Seg18.0</th>\n",
       "      <th>Seg19.0</th>\n",
       "      <th>Seg20.0</th>\n",
       "    </tr>\n",
       "  </thead>\n",
       "  <tbody>\n",
       "    <tr>\n",
       "      <th>0</th>\n",
       "      <td>1161345.0</td>\n",
       "      <td>0.0</td>\n",
       "      <td>0.0</td>\n",
       "      <td>0.0</td>\n",
       "      <td>0.0</td>\n",
       "      <td>0.0</td>\n",
       "      <td>0.0</td>\n",
       "      <td>0.0</td>\n",
       "      <td>0.0</td>\n",
       "      <td>0.0</td>\n",
       "      <td>...</td>\n",
       "      <td>NaN</td>\n",
       "      <td>NaN</td>\n",
       "      <td>NaN</td>\n",
       "      <td>NaN</td>\n",
       "      <td>NaN</td>\n",
       "      <td>NaN</td>\n",
       "      <td>NaN</td>\n",
       "      <td>NaN</td>\n",
       "      <td>NaN</td>\n",
       "      <td>NaN</td>\n",
       "    </tr>\n",
       "    <tr>\n",
       "      <th>1</th>\n",
       "      <td>1718958.0</td>\n",
       "      <td>0.0</td>\n",
       "      <td>0.0</td>\n",
       "      <td>0.0</td>\n",
       "      <td>0.0</td>\n",
       "      <td>0.0</td>\n",
       "      <td>0.0</td>\n",
       "      <td>0.0</td>\n",
       "      <td>0.0</td>\n",
       "      <td>0.0</td>\n",
       "      <td>...</td>\n",
       "      <td>NaN</td>\n",
       "      <td>NaN</td>\n",
       "      <td>NaN</td>\n",
       "      <td>NaN</td>\n",
       "      <td>NaN</td>\n",
       "      <td>NaN</td>\n",
       "      <td>NaN</td>\n",
       "      <td>NaN</td>\n",
       "      <td>NaN</td>\n",
       "      <td>NaN</td>\n",
       "    </tr>\n",
       "    <tr>\n",
       "      <th>2</th>\n",
       "      <td>1865042.0</td>\n",
       "      <td>0.0</td>\n",
       "      <td>0.0</td>\n",
       "      <td>0.0</td>\n",
       "      <td>0.0</td>\n",
       "      <td>0.0</td>\n",
       "      <td>0.0</td>\n",
       "      <td>0.0</td>\n",
       "      <td>0.0</td>\n",
       "      <td>0.0</td>\n",
       "      <td>...</td>\n",
       "      <td>0.0</td>\n",
       "      <td>0.0</td>\n",
       "      <td>0.0</td>\n",
       "      <td>0.0</td>\n",
       "      <td>0.0</td>\n",
       "      <td>0.0</td>\n",
       "      <td>NaN</td>\n",
       "      <td>NaN</td>\n",
       "      <td>NaN</td>\n",
       "      <td>NaN</td>\n",
       "    </tr>\n",
       "    <tr>\n",
       "      <th>3</th>\n",
       "      <td>2299738.0</td>\n",
       "      <td>0.0</td>\n",
       "      <td>0.0</td>\n",
       "      <td>0.0</td>\n",
       "      <td>0.0</td>\n",
       "      <td>0.0</td>\n",
       "      <td>0.0</td>\n",
       "      <td>0.0</td>\n",
       "      <td>0.0</td>\n",
       "      <td>0.0</td>\n",
       "      <td>...</td>\n",
       "      <td>0.0</td>\n",
       "      <td>0.0</td>\n",
       "      <td>NaN</td>\n",
       "      <td>NaN</td>\n",
       "      <td>NaN</td>\n",
       "      <td>NaN</td>\n",
       "      <td>NaN</td>\n",
       "      <td>NaN</td>\n",
       "      <td>NaN</td>\n",
       "      <td>NaN</td>\n",
       "    </tr>\n",
       "    <tr>\n",
       "      <th>4</th>\n",
       "      <td>2302548.0</td>\n",
       "      <td>0.0</td>\n",
       "      <td>0.0</td>\n",
       "      <td>0.0</td>\n",
       "      <td>0.0</td>\n",
       "      <td>0.0</td>\n",
       "      <td>0.0</td>\n",
       "      <td>0.0</td>\n",
       "      <td>0.0</td>\n",
       "      <td>0.0</td>\n",
       "      <td>...</td>\n",
       "      <td>0.0</td>\n",
       "      <td>0.0</td>\n",
       "      <td>0.0</td>\n",
       "      <td>NaN</td>\n",
       "      <td>NaN</td>\n",
       "      <td>NaN</td>\n",
       "      <td>NaN</td>\n",
       "      <td>NaN</td>\n",
       "      <td>NaN</td>\n",
       "      <td>NaN</td>\n",
       "    </tr>\n",
       "  </tbody>\n",
       "</table>\n",
       "<p>5 rows × 22 columns</p>\n",
       "</div>"
      ],
      "text/plain": [
       "     Star_id  Seg0.0  Seg1.0  Seg2.0  Seg3.0  Seg4.0  Seg5.0  Seg6.0  Seg7.0  \\\n",
       "0  1161345.0     0.0     0.0     0.0     0.0     0.0     0.0     0.0     0.0   \n",
       "1  1718958.0     0.0     0.0     0.0     0.0     0.0     0.0     0.0     0.0   \n",
       "2  1865042.0     0.0     0.0     0.0     0.0     0.0     0.0     0.0     0.0   \n",
       "3  2299738.0     0.0     0.0     0.0     0.0     0.0     0.0     0.0     0.0   \n",
       "4  2302548.0     0.0     0.0     0.0     0.0     0.0     0.0     0.0     0.0   \n",
       "\n",
       "   Seg8.0   ...     Seg11.0  Seg12.0  Seg13.0  Seg14.0  Seg15.0  Seg16.0  \\\n",
       "0     0.0   ...         NaN      NaN      NaN      NaN      NaN      NaN   \n",
       "1     0.0   ...         NaN      NaN      NaN      NaN      NaN      NaN   \n",
       "2     0.0   ...         0.0      0.0      0.0      0.0      0.0      0.0   \n",
       "3     0.0   ...         0.0      0.0      NaN      NaN      NaN      NaN   \n",
       "4     0.0   ...         0.0      0.0      0.0      NaN      NaN      NaN   \n",
       "\n",
       "   Seg17.0  Seg18.0  Seg19.0  Seg20.0  \n",
       "0      NaN      NaN      NaN      NaN  \n",
       "1      NaN      NaN      NaN      NaN  \n",
       "2      NaN      NaN      NaN      NaN  \n",
       "3      NaN      NaN      NaN      NaN  \n",
       "4      NaN      NaN      NaN      NaN  \n",
       "\n",
       "[5 rows x 22 columns]"
      ]
     },
     "execution_count": 42,
     "metadata": {},
     "output_type": "execute_result"
    }
   ],
   "source": [
    "table_Vals.head()"
   ]
  },
  {
   "cell_type": "code",
   "execution_count": 48,
   "metadata": {
    "collapsed": false
   },
   "outputs": [
    {
     "data": {
      "text/plain": [
       "array([ 1161345.,  1718958.,  1865042.,  2299738.,  2302548.,  2304320.,\n",
       "        2438513.,  2441495.,  2444412.,  2571238.])"
      ]
     },
     "execution_count": 48,
     "metadata": {},
     "output_type": "execute_result"
    }
   ],
   "source": [
    "star_list_ids[:10]"
   ]
  },
  {
   "cell_type": "code",
   "execution_count": 43,
   "metadata": {
    "collapsed": false
   },
   "outputs": [
    {
     "data": {
      "text/plain": [
       "<matplotlib.legend.Legend at 0x7f57c58f4f90>"
      ]
     },
     "execution_count": 43,
     "metadata": {},
     "output_type": "execute_result"
    },
    {
     "data": {
      "image/png": "[encoded data removed]",
      "text/plain": [
       "<matplotlib.figure.Figure at 0x7f57c59e8710>"
      ]
     },
     "metadata": {},
     "output_type": "display_data"
    }
   ],
   "source": [
    "true_Vals = pd.read_csv(\"../Data/true_koi_table.csv\")\n",
    "pred_Vals = pd.read_csv(\"../Data/predicted_koi_table.csv\")\n",
    "def sum_partial(row):\n",
    "    return np.nansum(row[2:])\n",
    "true_Vals['sums'] = true_Vals.apply(sum_partial, axis=1)\n",
    "bins = np.linspace(1,20,20)\n",
    "pred_Vals[\"sums\"] = pred_Vals.apply(sum_partial, axis =1)\n",
    "#sums_pred = true_Vals.sum(axis= 1)\n",
    "fig = plt.figure()\n",
    "ax = fig.add_subplot(\"111\")\n",
    "true_Vals.hist('sums', ax = ax, alpha = 0.5, bins = bins, label = \"true\")\n",
    "pred_Vals.hist(\"sums\", ax = ax, alpha = 0.5, bins = bins, label = \"predicted\")\n",
    "#print true_Vals['sums']\n",
    "plt.legend()"
   ]
  },
  {
   "cell_type": "code",
   "execution_count": 44,
   "metadata": {
    "collapsed": false
   },
   "outputs": [
    {
     "name": "stdout",
     "output_type": "stream",
     "text": [
      "[198 263]\n",
      "198     9702072.0\n",
      "263    11600889.0\n",
      "Name: Star_id, dtype: float64\n"
     ]
    }
   ],
   "source": [
    "print np.where(true_Vals[\"sums\"]==1)[0]\n",
    "print pred_Vals[\"Star_id\"][np.where(true_Vals[\"sums\"]==1)[0]]"
   ]
  },
  {
   "cell_type": "code",
   "execution_count": 51,
   "metadata": {
    "collapsed": false,
    "scrolled": true
   },
   "outputs": [
    {
     "name": "stdout",
     "output_type": "stream",
     "text": [
      "[[  1.03188740e+07   1.40000000e+01   1.46865176e+01]]\n",
      "(array([198]),)\n",
      "[[  9.70207200e+06   0.00000000e+00   3.26120357e+00]\n",
      " [  9.70207200e+06   1.00000000e+00   3.41063278e+00]\n",
      " [  9.70207200e+06   2.00000000e+00   2.00771645e+00]\n",
      " [  9.70207200e+06   3.00000000e+00   6.10004151e+00]\n",
      " [  9.70207200e+06   4.00000000e+00   4.07730195e+00]\n",
      " [  9.70207200e+06   5.00000000e+00   5.39361013e+00]\n",
      " [  9.70207200e+06   6.00000000e+00   1.15653592e+01]\n",
      " [  9.70207200e+06   7.00000000e+00   5.38664014e+00]\n",
      " [  9.70207200e+06   8.00000000e+00   5.07254227e+00]\n",
      " [  9.70207200e+06   9.00000000e+00   1.99634179e+00]\n",
      " [  9.70207200e+06   1.00000000e+01   3.42136391e+00]\n",
      " [  9.70207200e+06   1.10000000e+01   2.40806568e+00]\n",
      " [  9.70207200e+06   1.20000000e+01   4.45377396e+00]\n",
      " [  9.70207200e+06   1.30000000e+01   1.01667358e+00]\n",
      " [  9.70207200e+06   1.40000000e+01   1.96380952e+00]\n",
      " [  9.70207200e+06   1.50000000e+01   2.82824496e+00]\n",
      " [  9.70207200e+06   1.60000000e+01   5.28253176e+00]\n",
      " [  9.70207200e+06   1.70000000e+01   2.19850300e+00]]\n"
     ]
    }
   ],
   "source": [
    "print koi_SNR[np.where(true_Vals[\"Star_id\"]==9702072.0)[0]]\n",
    "print koi_SNR[koi_SNR[:,0]==9702072]\n",
    "#true_Vals.iloc[198,:]\n",
    "#true_Vals.iloc[263,:]\n",
    "#true_Vals.iloc[268,:]"
   ]
  },
  {
   "cell_type": "code",
   "execution_count": null,
   "metadata": {
    "collapsed": true
   },
   "outputs": [],
   "source": []
  }
 ],
 "metadata": {
  "anaconda-cloud": {},
  "kernelspec": {
   "display_name": "Python [conda root]",
   "language": "python",
   "name": "conda-root-py"
  },
  "language_info": {
   "codemirror_mode": {
    "name": "ipython",
    "version": 2
   },
   "file_extension": ".py",
   "mimetype": "text/x-python",
   "name": "python",
   "nbconvert_exporter": "python",
   "pygments_lexer": "ipython2",
   "version": "2.7.12"
  }
 },
 "nbformat": 4,
 "nbformat_minor": 1
}
