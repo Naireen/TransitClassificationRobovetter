{
 "cells": [
  {
   "cell_type": "code",
   "execution_count": 1,
   "metadata": {
    "collapsed": false
   },
   "outputs": [],
   "source": [
    "import os\n",
    "import numpy as np\n",
    "import pandas as pd\n",
    "import time\n",
    "import matplotlib\n",
    "%matplotlib inline\n",
    "from matplotlib import pyplot as plt\n",
    "from scipy.optimize import minimize, fmin, fminbound, fmin_slsqp, brute"
   ]
  },
  {
   "cell_type": "code",
   "execution_count": 2,
   "metadata": {
    "collapsed": false
   },
   "outputs": [],
   "source": [
    "injected_sigs = np.loadtxt(\"../Training/simulation/injection/injection.txt\", dtype=str, delimiter=\",\")\n",
    "periods_inj = injected_sigs[:, 3].astype(\"float64\")\n",
    "#depth = injected_sigs[:,2].astype(\"float64\")**2\n",
    "#injected_sigs = injected_sigs.reshape(injected_sigs, 5)\n",
    "SNR = np.loadtxt(\"SNR_10000_corrected.txt\")[:10000]"
   ]
  },
  {
   "cell_type": "code",
   "execution_count": 3,
   "metadata": {
    "collapsed": false
   },
   "outputs": [
    {
     "data": {
      "text/plain": [
       "array(['10000198-0_inj.blsanal', '10000198-1_inj.blsanal',\n",
       "       '10000198-2_inj.blsanal', ..., '9999901-13_inj.blsanal',\n",
       "       '9999901-14_inj.blsanal', '9999901-15_inj.blsanal'], \n",
       "      dtype='|S51')"
      ]
     },
     "execution_count": 3,
     "metadata": {},
     "output_type": "execute_result"
    }
   ],
   "source": [
    "values = np.core.defchararray.add(injected_sigs[:,0], \"-\")\n",
    "values = np.core.defchararray.add(values, injected_sigs[:, 1])\n",
    "values = np.core.defchararray.add(values, \"_inj.blsanal\")\n",
    "values"
   ]
  },
  {
   "cell_type": "code",
   "execution_count": 4,
   "metadata": {
    "collapsed": false
   },
   "outputs": [
    {
     "name": "stdout",
     "output_type": "stream",
     "text": [
      "999\n",
      "1999\n",
      "2999\n",
      "3999\n",
      "4999\n",
      "5999\n",
      "6999\n",
      "7999\n",
      "8999\n",
      "9999\n"
     ]
    }
   ],
   "source": [
    "periods_bls = []\n",
    "for i, name in enumerate(values[:10000]):\n",
    "    periods_bls.append(np.loadtxt(\"../Training/simulation/injection/\" + name)[0,1])\n",
    "    #print bls_values.head()\n",
    "    #print bls_valu\n",
    "    #break\n",
    "    if i % 1000 ==999:\n",
    "        print i\n",
    "#plt.hist(periods)"
   ]
  },
  {
   "cell_type": "code",
   "execution_count": 5,
   "metadata": {
    "collapsed": true
   },
   "outputs": [],
   "source": [
    "harmonics = np.loadtxt(\"period_harmonics_10000_inj_signals.txt\")"
   ]
  },
  {
   "cell_type": "code",
   "execution_count": 6,
   "metadata": {
    "collapsed": false
   },
   "outputs": [],
   "source": [
    "def period_func(vals, p_bls, p_inj):\n",
    "    a, b = vals\n",
    "    a = np.rint(a)\n",
    "    b = np.rint(b)\n",
    "    #print a, b\n",
    "    #print a*p_bls-b*p_inj\n",
    "    \n",
    "    return np.abs((a*p_bls - b*p_inj) / 0.5/(a*p_bls + b*p_inj))"
   ]
  },
  {
   "cell_type": "code",
   "execution_count": 7,
   "metadata": {
    "collapsed": false
   },
   "outputs": [
    {
     "name": "stdout",
     "output_type": "stream",
     "text": [
      "(10000, 2)\n"
     ]
    }
   ],
   "source": [
    "rranges = (slice(1,5, 1), slice(1,5, 1))\n",
    "harmonics = np.empty(shape = [10000,2])\n",
    "for i in range(10000):\n",
    "    #periods_bls[0]\n",
    "    #initial = [1,1, periods_bls[i], periods_inj[i]]\n",
    "    #res = minimize(period_func, initial)\n",
    "    #results = fmin(period_func, np.array([1, 1]), args=(periods_bls[i], periods_inj[i]), xtol=0.9)\n",
    "    #print results\n",
    "    #print \"\\n\", periods_bls[i], periods_inj[i]\n",
    "    results = brute(period_func, ranges=rranges, args=(periods_bls[i], periods_inj[i]), full_output=True, finish= None)\n",
    "    #print results[0]\n",
    "    harmonics[i, :] =results[0]\n",
    "    try:\n",
    "        results[0].astype(int)\n",
    "    except:\n",
    "        print i\n",
    "    #break\n",
    "print harmonics.shape"
   ]
  },
  {
   "cell_type": "code",
   "execution_count": 1,
   "metadata": {
    "collapsed": false
   },
   "outputs": [
    {
     "ename": "NameError",
     "evalue": "name 'np' is not defined",
     "output_type": "error",
     "traceback": [
      "\u001b[0;31m---------------------------------------------------------------------------\u001b[0m",
      "\u001b[0;31mNameError\u001b[0m                                 Traceback (most recent call last)",
      "\u001b[0;32m<ipython-input-1-8259d5daecc5>\u001b[0m in \u001b[0;36m<module>\u001b[0;34m()\u001b[0m\n\u001b[0;32m----> 1\u001b[0;31m \u001b[0mtol\u001b[0m \u001b[0;34m=\u001b[0m \u001b[0mnp\u001b[0m\u001b[0;34m.\u001b[0m\u001b[0mzeros\u001b[0m\u001b[0;34m(\u001b[0m\u001b[0;36m10000\u001b[0m\u001b[0;34m)\u001b[0m\u001b[0;34m\u001b[0m\u001b[0m\n\u001b[0m\u001b[1;32m      2\u001b[0m \u001b[0;32mfor\u001b[0m \u001b[0mi\u001b[0m \u001b[0;32min\u001b[0m \u001b[0mrange\u001b[0m\u001b[0;34m(\u001b[0m\u001b[0;36m10000\u001b[0m\u001b[0;34m)\u001b[0m\u001b[0;34m:\u001b[0m\u001b[0;34m\u001b[0m\u001b[0m\n\u001b[1;32m      3\u001b[0m     \u001b[0mtol\u001b[0m\u001b[0;34m[\u001b[0m\u001b[0mi\u001b[0m\u001b[0;34m]\u001b[0m \u001b[0;34m=\u001b[0m \u001b[0mperiod_func\u001b[0m\u001b[0;34m(\u001b[0m \u001b[0mharmonics\u001b[0m\u001b[0;34m[\u001b[0m\u001b[0mi\u001b[0m\u001b[0;34m]\u001b[0m\u001b[0;34m,\u001b[0m \u001b[0mperiods_bls\u001b[0m\u001b[0;34m[\u001b[0m\u001b[0mi\u001b[0m\u001b[0;34m]\u001b[0m\u001b[0;34m,\u001b[0m \u001b[0mperiods_inj\u001b[0m\u001b[0;34m[\u001b[0m\u001b[0mi\u001b[0m\u001b[0;34m]\u001b[0m\u001b[0;34m)\u001b[0m\u001b[0;34m\u001b[0m\u001b[0m\n\u001b[1;32m      4\u001b[0m     \u001b[0;31m#break\u001b[0m\u001b[0;34m\u001b[0m\u001b[0;34m\u001b[0m\u001b[0m\n\u001b[1;32m      5\u001b[0m \u001b[0;31m#print type(periods_bls)\u001b[0m\u001b[0;34m\u001b[0m\u001b[0;34m\u001b[0m\u001b[0m\n",
      "\u001b[0;31mNameError\u001b[0m: name 'np' is not defined"
     ]
    }
   ],
   "source": [
    "tol = np.zeros(10000)\n",
    "for i in range(10000):\n",
    "    tol[i] = period_func( harmonics[i], periods_bls[i], periods_inj[i])\n",
    "    #break\n",
    "#print type(periods_bls)\n",
    "#print type(periods_inj)\n",
    "#print harmonics[tol>2][0], np.array(periods_bls)[tol>2][0], periods_inj[tol>2][0], tol[tol>2][0]\n",
    "print len(np.where(tol>0.0015)[0])\n",
    "print len(np.unique(np.where(harmonics>1)[0]))\n",
    "plt.hist(tol, bins = np.linspace(0,2,20))"
   ]
  },
  {
   "cell_type": "code",
   "execution_count": 9,
   "metadata": {
    "collapsed": false
   },
   "outputs": [
    {
     "name": "stdout",
     "output_type": "stream",
     "text": [
      "(10000, 2) (10000,)\n",
      "(10000, 3)\n"
     ]
    }
   ],
   "source": [
    "print harmonics.shape, tol.shape\n",
    "tot_vals = np.hstack([harmonics, tol.reshape(10000,1)])\n",
    "print tot_vals.shape"
   ]
  },
  {
   "cell_type": "code",
   "execution_count": 10,
   "metadata": {
    "collapsed": true
   },
   "outputs": [],
   "source": [
    "np.savetxt(\"period_harmonics_10000_inj_signals_tol.txt\",tot_vals)"
   ]
  },
  {
   "cell_type": "code",
   "execution_count": 11,
   "metadata": {
    "collapsed": false
   },
   "outputs": [
    {
     "name": "stdout",
     "output_type": "stream",
     "text": [
      "[[ 1.  4.]\n",
      " [ 2.  1.]\n",
      " [ 3.  2.]\n",
      " ..., \n",
      " [ 4.  1.]\n",
      " [ 4.  1.]\n",
      " [ 4.  1.]]\n"
     ]
    }
   ],
   "source": [
    "harmonics = np.rint(harmonics)\n",
    "print harmonics[SNR<6]"
   ]
  },
  {
   "cell_type": "code",
   "execution_count": 12,
   "metadata": {
    "collapsed": false
   },
   "outputs": [
    {
     "ename": "NameError",
     "evalue": "name 'test_data' is not defined",
     "output_type": "error",
     "traceback": [
      "\u001b[0;31m---------------------------------------------------------------------------\u001b[0m",
      "\u001b[0;31mNameError\u001b[0m                                 Traceback (most recent call last)",
      "\u001b[0;32m<ipython-input-12-9084eb143a58>\u001b[0m in \u001b[0;36m<module>\u001b[0;34m()\u001b[0m\n\u001b[1;32m      1\u001b[0m \u001b[0;31m#test_data = np.loadtxt(\"period_harmonics_10000_inj_signals.txt\")\u001b[0m\u001b[0;34m\u001b[0m\u001b[0;34m\u001b[0m\u001b[0m\n\u001b[0;32m----> 2\u001b[0;31m \u001b[0mtest_data\u001b[0m \u001b[0;34m=\u001b[0m \u001b[0mtest_data\u001b[0m\u001b[0;34m.\u001b[0m\u001b[0mastype\u001b[0m\u001b[0;34m(\u001b[0m\u001b[0mint\u001b[0m\u001b[0;34m)\u001b[0m\u001b[0;34m\u001b[0m\u001b[0m\n\u001b[0m\u001b[1;32m      3\u001b[0m \u001b[0mtest_data\u001b[0m\u001b[0;34m[\u001b[0m\u001b[0mSNR\u001b[0m\u001b[0;34m<\u001b[0m\u001b[0;36m6\u001b[0m\u001b[0;34m]\u001b[0m\u001b[0;34m\u001b[0m\u001b[0m\n",
      "\u001b[0;31mNameError\u001b[0m: name 'test_data' is not defined"
     ]
    }
   ],
   "source": [
    "#test_data = np.loadtxt(\"period_harmonics_10000_inj_signals.txt\")\n",
    "test_data = test_data.astype(int)\n",
    "test_data[SNR<6]"
   ]
  },
  {
   "cell_type": "code",
   "execution_count": null,
   "metadata": {
    "collapsed": false
   },
   "outputs": [],
   "source": [
    "koi_feats=  pd.read_csv(\"KOI_feat_files_4251.csv\", index_col=0)\n",
    "koi_feats.head()"
   ]
  },
  {
   "cell_type": "code",
   "execution_count": null,
   "metadata": {
    "collapsed": false
   },
   "outputs": [],
   "source": [
    "file_name = '../Training/catalogs/shortperiodbright_KOI.csv'\n",
    "koi = pd.read_csv(file_name)\n",
    "#print koi.columns.values\n",
    "file_list = os.listdir(\"KOI_ModShiftVals/.\")\n",
    "\n",
    "star_name = koi[\"kepid\"]\n",
    "periods = koi[\"koi_period\"]\n",
    "data  = np.loadtxt(file_name, dtype = str, delimiter=\",\")#.reshape(data.shape[0], 5)\n",
    "inds = np.where(koi[\"koi_model_snr\"]==np.nan)[0]\n",
    "koi[\"koi_model_snr\"][inds]==1000.\n",
    "values = np.core.defchararray.add(data[:,0], \"-\")\n",
    "values = np.core.defchararray.add(values, data[:, 1])\n",
    "\n",
    "\n",
    "planet_periods = np.zeros(koi_feats.shape[0])\n",
    "\n",
    "#print data.shape\n",
    "start  = time.time\n",
    "\n",
    "# create KOI lc file with p rad, s rad,period,  duration\n",
    "for i, val in enumerate(file_list):\n",
    "    name = int(val.split(\"-\")[0])\n",
    "    file_name = (val.split(\"-\")[0]) + \"-\"+(val.split(\"-\")[1]).split(\"_\")[0]\n",
    "\n",
    "    if name in star_name.tolist():\n",
    "        location = np.where(star_name== int(name))[0]\n",
    "        #planet_num = 0\n",
    "        if len(location) > 1:\n",
    "            planet_num = np.where(koi[\"koi_model_snr\"][location].max() == koi[\"koi_model_snr\"][location])[0]\n",
    "            location =   np.where(star_name== int(name))[0][planet_num]\n",
    "        else:\n",
    "            location = np.where(star_name== int(name))[0][0]\n",
    "        try:\n",
    "            planet_periods[i] = koi[\"koi_period\"][location] #days\n",
    "\n",
    "          \n",
    "        except:\n",
    "            print name\n",
    "        \n",
    "        \n",
    "     \n",
    "    else:\n",
    "        print \"Not in list\", val[:-17]#+\"ltf.lc\"\n",
    "    if i %1000 ==999:\n",
    "        print i\n",
    "\n",
    "#np.savetxt(\"SNR_KOIS_4251.txt\", SNR)\n",
    "#print \"Time\", end - start"
   ]
  },
  {
   "cell_type": "code",
   "execution_count": null,
   "metadata": {
    "collapsed": false
   },
   "outputs": [],
   "source": [
    "bins = np.linspace(0, 20, 20)\n",
    "plt.hist(planet_periods, bins = bins)\n",
    "plt.figure()\n",
    "plt.hist(koi_feats[\"BLS_Period_1_0\"], bins = bins)"
   ]
  },
  {
   "cell_type": "code",
   "execution_count": null,
   "metadata": {
    "collapsed": false
   },
   "outputs": [],
   "source": [
    "harmonics_koi = np.empty(shape = [koi_feats.shape[0],2])\n",
    "for i in range(koi_feats.shape[0]):\n",
    "    #periods_bls[0]\n",
    "    #initial = [1,1, periods_bls[i], periods_inj[i]]\n",
    "    #res = minimize(period_func, initial)\n",
    "    #results = fmin(period_func, np.array([1, 1]), args=(periods_bls[i], periods_inj[i]), xtol=0.9)\n",
    "    #print results\n",
    "    #print \"\\n\", periods_bls[i], periods_inj[i]\n",
    "    results = brute(period_func, ranges=rranges, args=(koi_feats[\"BLS_Period_1_0\"][i], planet_periods[i]), full_output=True, finish= None)\n",
    "    #print results[0]\n",
    "    harmonics_koi[i, :] =results[0]\n",
    "    try:\n",
    "        results[0].astype(int)\n",
    "    except:\n",
    "        print i\n",
    "    #break\n",
    "print harmonics_koi.shape"
   ]
  },
  {
   "cell_type": "code",
   "execution_count": null,
   "metadata": {
    "collapsed": false
   },
   "outputs": [],
   "source": [
    "tol_koi = np.zeros(koi_feats.shape[0])\n",
    "for i in range(koi_feats.shape[0]):\n",
    "    tol_koi[i] = period_func( harmonics_koi[i], koi_feats[\"BLS_Period_1_0\"][i], planet_periods[i])\n",
    "    #break\n",
    "#print type(periods_bls)\n",
    "#print type(periods_inj)\n",
    "#print harmonics[tol>2][0], np.array(periods_bls)[tol>2][0], periods_inj[tol>2][0], tol[tol>2][0]\n",
    "print len(np.where(tol_koi>0.005)[0])\n",
    "print len(np.unique(np.where(harmonics_koi>1)[0]))\n",
    "plt.hist(tol_koi, bins = np.linspace(0,2,11))\n",
    "tot_vals_koi = np.hstack([harmonics_koi, tol_koi.reshape(harmonics_koi.shape[0], 1)]) "
   ]
  },
  {
   "cell_type": "code",
   "execution_count": null,
   "metadata": {
    "collapsed": false
   },
   "outputs": [],
   "source": [
    "print tot_vals_koi.shape\n",
    "np.savetxt(\"period_harmonics_4251_koi_signals_tol.txt\", tot_vals_koi)"
   ]
  },
  {
   "cell_type": "code",
   "execution_count": null,
   "metadata": {
    "collapsed": true
   },
   "outputs": [],
   "source": []
  }
 ],
 "metadata": {
  "kernelspec": {
   "display_name": "Python [conda root]",
   "language": "python",
   "name": "conda-root-py"
  },
  "language_info": {
   "codemirror_mode": {
    "name": "ipython",
    "version": 2
   },
   "file_extension": ".py",
   "mimetype": "text/x-python",
   "name": "python",
   "nbconvert_exporter": "python",
   "pygments_lexer": "ipython2",
   "version": "2.7.12"
  }
 },
 "nbformat": 4,
 "nbformat_minor": 1
}
