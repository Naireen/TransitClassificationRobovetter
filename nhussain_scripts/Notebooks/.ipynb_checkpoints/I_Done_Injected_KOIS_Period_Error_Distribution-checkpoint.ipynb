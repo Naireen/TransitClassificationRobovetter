{
 "cells": [
  {
   "cell_type": "code",
   "execution_count": 32,
   "metadata": {
    "collapsed": false
   },
   "outputs": [],
   "source": [
    "import os\n",
    "import numpy as np\n",
    "import pandas as pd\n",
    "import time\n",
    "import matplotlib\n",
    "%matplotlib inline\n",
    "from matplotlib import pyplot as plt\n",
    "from scipy.optimize import minimize, fmin, fminbound, fmin_slsqp, brute"
   ]
  },
  {
   "cell_type": "code",
   "execution_count": 35,
   "metadata": {
    "collapsed": false
   },
   "outputs": [],
   "source": [
    "injected_sigs = np.loadtxt(\"../../../Training/simulation/injection/injection.txt\", dtype=str, delimiter=\",\")\n",
    "periods_inj = injected_sigs[:, 3].astype(\"float64\")\n",
    "#depth = injected_sigs[:,2].astype(\"float64\")**2\n",
    "#injected_sigs = injected_sigs.reshape(injected_sigs, 5)\n",
    "SNR = np.loadtxt(\"../Data/SNR_10000_corrected.txt\")[:10000]"
   ]
  },
  {
   "cell_type": "code",
   "execution_count": 36,
   "metadata": {
    "collapsed": false
   },
   "outputs": [
    {
     "data": {
      "text/plain": [
       "array(['10000198-0_inj.blsanal', '10000198-1_inj.blsanal',\n",
       "       '10000198-2_inj.blsanal', ..., '9999901-13_inj.blsanal',\n",
       "       '9999901-14_inj.blsanal', '9999901-15_inj.blsanal'], \n",
       "      dtype='|S51')"
      ]
     },
     "execution_count": 36,
     "metadata": {},
     "output_type": "execute_result"
    }
   ],
   "source": [
    "values = np.core.defchararray.add(injected_sigs[:,0], \"-\")\n",
    "values = np.core.defchararray.add(values, injected_sigs[:, 1])\n",
    "values = np.core.defchararray.add(values, \"_inj.blsanal\")\n",
    "values"
   ]
  },
  {
   "cell_type": "code",
   "execution_count": 38,
   "metadata": {
    "collapsed": false
   },
   "outputs": [
    {
     "name": "stdout",
     "output_type": "stream",
     "text": [
      "999\n",
      "1999\n",
      "2999\n",
      "3999\n",
      "4999\n",
      "5999\n",
      "6999\n",
      "7999\n",
      "8999\n",
      "9999\n"
     ]
    }
   ],
   "source": [
    "periods_bls = []\n",
    "for i, name in enumerate(values[:10000]):\n",
    "    periods_bls.append(np.loadtxt(\"../../../Training/simulation/injection/\" + name)[0,1])\n",
    "    #print bls_values.head()\n",
    "    #print bls_valu\n",
    "    #break\n",
    "    if i % 1000 ==999:\n",
    "        print i\n",
    "#plt.hist(periods)"
   ]
  },
  {
   "cell_type": "code",
   "execution_count": 39,
   "metadata": {
    "collapsed": true
   },
   "outputs": [],
   "source": [
    "harmonics = np.loadtxt(\"../Data/period_harmonics_10000_inj_signals.txt\")"
   ]
  },
  {
   "cell_type": "code",
   "execution_count": 40,
   "metadata": {
    "collapsed": false
   },
   "outputs": [],
   "source": [
    "def period_func(vals, p_bls, p_inj):\n",
    "    a, b = vals\n",
    "    a = np.rint(a)\n",
    "    b = np.rint(b)\n",
    "    #print a, b\n",
    "    #print a*p_bls-b*p_inj\n",
    "    \n",
    "    return np.abs((a*p_bls - b*p_inj) / 0.5/(a*p_bls + b*p_inj))"
   ]
  },
  {
   "cell_type": "code",
   "execution_count": 41,
   "metadata": {
    "collapsed": false
   },
   "outputs": [
    {
     "name": "stdout",
     "output_type": "stream",
     "text": [
      "(10000, 2)\n"
     ]
    }
   ],
   "source": [
    "rranges = (slice(1,6, 1), slice(1,6, 1))\n",
    "harmonics = np.empty(shape = [10000,2])\n",
    "for i in range(10000):\n",
    "    #periods_bls[0]\n",
    "    #initial = [1,1, periods_bls[i], periods_inj[i]]\n",
    "    #res = minimize(period_func, initial)\n",
    "    #results = fmin(period_func, np.array([1, 1]), args=(periods_bls[i], periods_inj[i]), xtol=0.9)\n",
    "    #print results\n",
    "    #print \"\\n\", periods_bls[i], periods_inj[i]\n",
    "    results = brute(period_func, ranges=rranges, args=(periods_bls[i], periods_inj[i]), full_output=True, finish= None)\n",
    "    #print results[0]\n",
    "    harmonics[i, :] =results[0]\n",
    "    try:\n",
    "        results[0].astype(int)\n",
    "    except:\n",
    "        print i\n",
    "    #break\n",
    "print harmonics.shape"
   ]
  },
  {
   "cell_type": "code",
   "execution_count": 42,
   "metadata": {
    "collapsed": false
   },
   "outputs": [
    {
     "name": "stdout",
     "output_type": "stream",
     "text": [
      "2073\n",
      "8023\n"
     ]
    },
    {
     "data": {
      "text/plain": [
       "(array([  9.57100000e+03,   1.33000000e+02,   4.80000000e+01,\n",
       "          3.80000000e+01,   2.30000000e+01,   3.30000000e+01,\n",
       "          1.70000000e+01,   3.30000000e+01,   2.00000000e+01,\n",
       "          2.00000000e+01,   2.00000000e+01,   1.60000000e+01,\n",
       "          1.70000000e+01,   9.00000000e+00,   2.00000000e+00,\n",
       "          0.00000000e+00,   0.00000000e+00,   0.00000000e+00,\n",
       "          0.00000000e+00]),\n",
       " array([ 0.        ,  0.10526316,  0.21052632,  0.31578947,  0.42105263,\n",
       "         0.52631579,  0.63157895,  0.73684211,  0.84210526,  0.94736842,\n",
       "         1.05263158,  1.15789474,  1.26315789,  1.36842105,  1.47368421,\n",
       "         1.57894737,  1.68421053,  1.78947368,  1.89473684,  2.        ]),\n",
       " <a list of 19 Patch objects>)"
      ]
     },
     "execution_count": 42,
     "metadata": {},
     "output_type": "execute_result"
    },
    {
     "data": {
      "image/png": "[encoded data removed]",
      "text/plain": [
       "<matplotlib.figure.Figure at 0x7fbe7f0ab7d0>"
      ]
     },
     "metadata": {},
     "output_type": "display_data"
    }
   ],
   "source": [
    "tol = np.zeros(10000)\n",
    "for i in range(10000):\n",
    "    tol[i] = period_func( harmonics[i], periods_bls[i], periods_inj[i])\n",
    "    #break\n",
    "#print type(periods_bls)\n",
    "#print type(periods_inj)\n",
    "#print harmonics[tol>2][0], np.array(periods_bls)[tol>2][0], periods_inj[tol>2][0], tol[tol>2][0]\n",
    "print len(np.where(tol>0.0015)[0])\n",
    "print len(np.unique(np.where(harmonics>1)[0]))\n",
    "plt.hist(tol, bins = np.linspace(0,2,20))"
   ]
  },
  {
   "cell_type": "code",
   "execution_count": 43,
   "metadata": {
    "collapsed": false
   },
   "outputs": [
    {
     "name": "stdout",
     "output_type": "stream",
     "text": [
      "(10000, 2) (10000,)\n",
      "(10000, 3)\n"
     ]
    }
   ],
   "source": [
    "print harmonics.shape, tol.shape\n",
    "tot_vals = np.hstack([harmonics, tol.reshape(10000,1)])\n",
    "print tot_vals.shape"
   ]
  },
  {
   "cell_type": "code",
   "execution_count": 44,
   "metadata": {
    "collapsed": true
   },
   "outputs": [],
   "source": [
    "np.savetxt(\"period_harmonics_10000_inj_signals_tol.txt\",tot_vals)"
   ]
  },
  {
   "cell_type": "code",
   "execution_count": 45,
   "metadata": {
    "collapsed": false
   },
   "outputs": [
    {
     "name": "stdout",
     "output_type": "stream",
     "text": [
      "[[ 1.  4.]\n",
      " [ 2.  1.]\n",
      " [ 5.  3.]\n",
      " ..., \n",
      " [ 5.  1.]\n",
      " [ 5.  1.]\n",
      " [ 5.  1.]]\n"
     ]
    }
   ],
   "source": [
    "harmonics = np.rint(harmonics)\n",
    "print harmonics[SNR<6]"
   ]
  },
  {
   "cell_type": "code",
   "execution_count": 46,
   "metadata": {
    "collapsed": false
   },
   "outputs": [
    {
     "ename": "NameError",
     "evalue": "name 'test_data' is not defined",
     "output_type": "error",
     "traceback": [
      "\u001b[0;31m---------------------------------------------------------------------------\u001b[0m",
      "\u001b[0;31mNameError\u001b[0m                                 Traceback (most recent call last)",
      "\u001b[0;32m<ipython-input-46-9084eb143a58>\u001b[0m in \u001b[0;36m<module>\u001b[0;34m()\u001b[0m\n\u001b[1;32m      1\u001b[0m \u001b[0;31m#test_data = np.loadtxt(\"period_harmonics_10000_inj_signals.txt\")\u001b[0m\u001b[0;34m\u001b[0m\u001b[0;34m\u001b[0m\u001b[0m\n\u001b[0;32m----> 2\u001b[0;31m \u001b[0mtest_data\u001b[0m \u001b[0;34m=\u001b[0m \u001b[0mtest_data\u001b[0m\u001b[0;34m.\u001b[0m\u001b[0mastype\u001b[0m\u001b[0;34m(\u001b[0m\u001b[0mint\u001b[0m\u001b[0;34m)\u001b[0m\u001b[0;34m\u001b[0m\u001b[0m\n\u001b[0m\u001b[1;32m      3\u001b[0m \u001b[0mtest_data\u001b[0m\u001b[0;34m[\u001b[0m\u001b[0mSNR\u001b[0m\u001b[0;34m<\u001b[0m\u001b[0;36m6\u001b[0m\u001b[0;34m]\u001b[0m\u001b[0;34m\u001b[0m\u001b[0m\n",
      "\u001b[0;31mNameError\u001b[0m: name 'test_data' is not defined"
     ]
    }
   ],
   "source": [
    "#test_data = np.loadtxt(\"period_harmonics_10000_inj_signals.txt\")\n",
    "test_data = test_data.astype(int)\n",
    "test_data[SNR<6]"
   ]
  },
  {
   "cell_type": "code",
   "execution_count": 47,
   "metadata": {
    "collapsed": false
   },
   "outputs": [
    {
     "ename": "IOError",
     "evalue": "File KOI_feat_files_4251.csv does not exist",
     "output_type": "error",
     "traceback": [
      "\u001b[0;31m---------------------------------------------------------------------------\u001b[0m",
      "\u001b[0;31mIOError\u001b[0m                                   Traceback (most recent call last)",
      "\u001b[0;32m<ipython-input-47-f3bdc340c3d1>\u001b[0m in \u001b[0;36m<module>\u001b[0;34m()\u001b[0m\n\u001b[0;32m----> 1\u001b[0;31m \u001b[0mkoi_feats\u001b[0m\u001b[0;34m=\u001b[0m  \u001b[0mpd\u001b[0m\u001b[0;34m.\u001b[0m\u001b[0mread_csv\u001b[0m\u001b[0;34m(\u001b[0m\u001b[0;34m\"KOI_feat_files_4251.csv\"\u001b[0m\u001b[0;34m,\u001b[0m \u001b[0mindex_col\u001b[0m\u001b[0;34m=\u001b[0m\u001b[0;36m0\u001b[0m\u001b[0;34m)\u001b[0m\u001b[0;34m\u001b[0m\u001b[0m\n\u001b[0m\u001b[1;32m      2\u001b[0m \u001b[0mkoi_feats\u001b[0m\u001b[0;34m.\u001b[0m\u001b[0mhead\u001b[0m\u001b[0;34m(\u001b[0m\u001b[0;34m)\u001b[0m\u001b[0;34m\u001b[0m\u001b[0m\n",
      "\u001b[0;32m/home/xuhuang/anaconda2/lib/python2.7/site-packages/pandas/io/parsers.pyc\u001b[0m in \u001b[0;36mparser_f\u001b[0;34m(filepath_or_buffer, sep, delimiter, header, names, index_col, usecols, squeeze, prefix, mangle_dupe_cols, dtype, engine, converters, true_values, false_values, skipinitialspace, skiprows, nrows, na_values, keep_default_na, na_filter, verbose, skip_blank_lines, parse_dates, infer_datetime_format, keep_date_col, date_parser, dayfirst, iterator, chunksize, compression, thousands, decimal, lineterminator, quotechar, quoting, escapechar, comment, encoding, dialect, tupleize_cols, error_bad_lines, warn_bad_lines, skipfooter, skip_footer, doublequote, delim_whitespace, as_recarray, compact_ints, use_unsigned, low_memory, buffer_lines, memory_map, float_precision)\u001b[0m\n\u001b[1;32m    644\u001b[0m                     skip_blank_lines=skip_blank_lines)\n\u001b[1;32m    645\u001b[0m \u001b[0;34m\u001b[0m\u001b[0m\n\u001b[0;32m--> 646\u001b[0;31m         \u001b[0;32mreturn\u001b[0m \u001b[0m_read\u001b[0m\u001b[0;34m(\u001b[0m\u001b[0mfilepath_or_buffer\u001b[0m\u001b[0;34m,\u001b[0m \u001b[0mkwds\u001b[0m\u001b[0;34m)\u001b[0m\u001b[0;34m\u001b[0m\u001b[0m\n\u001b[0m\u001b[1;32m    647\u001b[0m \u001b[0;34m\u001b[0m\u001b[0m\n\u001b[1;32m    648\u001b[0m     \u001b[0mparser_f\u001b[0m\u001b[0;34m.\u001b[0m\u001b[0m__name__\u001b[0m \u001b[0;34m=\u001b[0m \u001b[0mname\u001b[0m\u001b[0;34m\u001b[0m\u001b[0m\n",
      "\u001b[0;32m/home/xuhuang/anaconda2/lib/python2.7/site-packages/pandas/io/parsers.pyc\u001b[0m in \u001b[0;36m_read\u001b[0;34m(filepath_or_buffer, kwds)\u001b[0m\n\u001b[1;32m    387\u001b[0m \u001b[0;34m\u001b[0m\u001b[0m\n\u001b[1;32m    388\u001b[0m     \u001b[0;31m# Create the parser.\u001b[0m\u001b[0;34m\u001b[0m\u001b[0;34m\u001b[0m\u001b[0m\n\u001b[0;32m--> 389\u001b[0;31m     \u001b[0mparser\u001b[0m \u001b[0;34m=\u001b[0m \u001b[0mTextFileReader\u001b[0m\u001b[0;34m(\u001b[0m\u001b[0mfilepath_or_buffer\u001b[0m\u001b[0;34m,\u001b[0m \u001b[0;34m**\u001b[0m\u001b[0mkwds\u001b[0m\u001b[0;34m)\u001b[0m\u001b[0;34m\u001b[0m\u001b[0m\n\u001b[0m\u001b[1;32m    390\u001b[0m \u001b[0;34m\u001b[0m\u001b[0m\n\u001b[1;32m    391\u001b[0m     \u001b[0;32mif\u001b[0m \u001b[0;34m(\u001b[0m\u001b[0mnrows\u001b[0m \u001b[0;32mis\u001b[0m \u001b[0;32mnot\u001b[0m \u001b[0mNone\u001b[0m\u001b[0;34m)\u001b[0m \u001b[0;32mand\u001b[0m \u001b[0;34m(\u001b[0m\u001b[0mchunksize\u001b[0m \u001b[0;32mis\u001b[0m \u001b[0;32mnot\u001b[0m \u001b[0mNone\u001b[0m\u001b[0;34m)\u001b[0m\u001b[0;34m:\u001b[0m\u001b[0;34m\u001b[0m\u001b[0m\n",
      "\u001b[0;32m/home/xuhuang/anaconda2/lib/python2.7/site-packages/pandas/io/parsers.pyc\u001b[0m in \u001b[0;36m__init__\u001b[0;34m(self, f, engine, **kwds)\u001b[0m\n\u001b[1;32m    728\u001b[0m             \u001b[0mself\u001b[0m\u001b[0;34m.\u001b[0m\u001b[0moptions\u001b[0m\u001b[0;34m[\u001b[0m\u001b[0;34m'has_index_names'\u001b[0m\u001b[0;34m]\u001b[0m \u001b[0;34m=\u001b[0m \u001b[0mkwds\u001b[0m\u001b[0;34m[\u001b[0m\u001b[0;34m'has_index_names'\u001b[0m\u001b[0;34m]\u001b[0m\u001b[0;34m\u001b[0m\u001b[0m\n\u001b[1;32m    729\u001b[0m \u001b[0;34m\u001b[0m\u001b[0m\n\u001b[0;32m--> 730\u001b[0;31m         \u001b[0mself\u001b[0m\u001b[0;34m.\u001b[0m\u001b[0m_make_engine\u001b[0m\u001b[0;34m(\u001b[0m\u001b[0mself\u001b[0m\u001b[0;34m.\u001b[0m\u001b[0mengine\u001b[0m\u001b[0;34m)\u001b[0m\u001b[0;34m\u001b[0m\u001b[0m\n\u001b[0m\u001b[1;32m    731\u001b[0m \u001b[0;34m\u001b[0m\u001b[0m\n\u001b[1;32m    732\u001b[0m     \u001b[0;32mdef\u001b[0m \u001b[0mclose\u001b[0m\u001b[0;34m(\u001b[0m\u001b[0mself\u001b[0m\u001b[0;34m)\u001b[0m\u001b[0;34m:\u001b[0m\u001b[0;34m\u001b[0m\u001b[0m\n",
      "\u001b[0;32m/home/xuhuang/anaconda2/lib/python2.7/site-packages/pandas/io/parsers.pyc\u001b[0m in \u001b[0;36m_make_engine\u001b[0;34m(self, engine)\u001b[0m\n\u001b[1;32m    921\u001b[0m     \u001b[0;32mdef\u001b[0m \u001b[0m_make_engine\u001b[0m\u001b[0;34m(\u001b[0m\u001b[0mself\u001b[0m\u001b[0;34m,\u001b[0m \u001b[0mengine\u001b[0m\u001b[0;34m=\u001b[0m\u001b[0;34m'c'\u001b[0m\u001b[0;34m)\u001b[0m\u001b[0;34m:\u001b[0m\u001b[0;34m\u001b[0m\u001b[0m\n\u001b[1;32m    922\u001b[0m         \u001b[0;32mif\u001b[0m \u001b[0mengine\u001b[0m \u001b[0;34m==\u001b[0m \u001b[0;34m'c'\u001b[0m\u001b[0;34m:\u001b[0m\u001b[0;34m\u001b[0m\u001b[0m\n\u001b[0;32m--> 923\u001b[0;31m             \u001b[0mself\u001b[0m\u001b[0;34m.\u001b[0m\u001b[0m_engine\u001b[0m \u001b[0;34m=\u001b[0m \u001b[0mCParserWrapper\u001b[0m\u001b[0;34m(\u001b[0m\u001b[0mself\u001b[0m\u001b[0;34m.\u001b[0m\u001b[0mf\u001b[0m\u001b[0;34m,\u001b[0m \u001b[0;34m**\u001b[0m\u001b[0mself\u001b[0m\u001b[0;34m.\u001b[0m\u001b[0moptions\u001b[0m\u001b[0;34m)\u001b[0m\u001b[0;34m\u001b[0m\u001b[0m\n\u001b[0m\u001b[1;32m    924\u001b[0m         \u001b[0;32melse\u001b[0m\u001b[0;34m:\u001b[0m\u001b[0;34m\u001b[0m\u001b[0m\n\u001b[1;32m    925\u001b[0m             \u001b[0;32mif\u001b[0m \u001b[0mengine\u001b[0m \u001b[0;34m==\u001b[0m \u001b[0;34m'python'\u001b[0m\u001b[0;34m:\u001b[0m\u001b[0;34m\u001b[0m\u001b[0m\n",
      "\u001b[0;32m/home/xuhuang/anaconda2/lib/python2.7/site-packages/pandas/io/parsers.pyc\u001b[0m in \u001b[0;36m__init__\u001b[0;34m(self, src, **kwds)\u001b[0m\n\u001b[1;32m   1388\u001b[0m         \u001b[0mkwds\u001b[0m\u001b[0;34m[\u001b[0m\u001b[0;34m'allow_leading_cols'\u001b[0m\u001b[0;34m]\u001b[0m \u001b[0;34m=\u001b[0m \u001b[0mself\u001b[0m\u001b[0;34m.\u001b[0m\u001b[0mindex_col\u001b[0m \u001b[0;32mis\u001b[0m \u001b[0;32mnot\u001b[0m \u001b[0mFalse\u001b[0m\u001b[0;34m\u001b[0m\u001b[0m\n\u001b[1;32m   1389\u001b[0m \u001b[0;34m\u001b[0m\u001b[0m\n\u001b[0;32m-> 1390\u001b[0;31m         \u001b[0mself\u001b[0m\u001b[0;34m.\u001b[0m\u001b[0m_reader\u001b[0m \u001b[0;34m=\u001b[0m \u001b[0m_parser\u001b[0m\u001b[0;34m.\u001b[0m\u001b[0mTextReader\u001b[0m\u001b[0;34m(\u001b[0m\u001b[0msrc\u001b[0m\u001b[0;34m,\u001b[0m \u001b[0;34m**\u001b[0m\u001b[0mkwds\u001b[0m\u001b[0;34m)\u001b[0m\u001b[0;34m\u001b[0m\u001b[0m\n\u001b[0m\u001b[1;32m   1391\u001b[0m \u001b[0;34m\u001b[0m\u001b[0m\n\u001b[1;32m   1392\u001b[0m         \u001b[0;31m# XXX\u001b[0m\u001b[0;34m\u001b[0m\u001b[0;34m\u001b[0m\u001b[0m\n",
      "\u001b[0;32mpandas/parser.pyx\u001b[0m in \u001b[0;36mpandas.parser.TextReader.__cinit__ (pandas/parser.c:4184)\u001b[0;34m()\u001b[0m\n",
      "\u001b[0;32mpandas/parser.pyx\u001b[0m in \u001b[0;36mpandas.parser.TextReader._setup_parser_source (pandas/parser.c:8449)\u001b[0;34m()\u001b[0m\n",
      "\u001b[0;31mIOError\u001b[0m: File KOI_feat_files_4251.csv does not exist"
     ]
    }
   ],
   "source": [
    "koi_feats=  pd.read_csv(\"KOI_feat_files_4251.csv\", index_col=0)\n",
    "koi_feats.head()"
   ]
  },
  {
   "cell_type": "code",
   "execution_count": 50,
   "metadata": {
    "collapsed": false
   },
   "outputs": [
    {
     "name": "stdout",
     "output_type": "stream",
     "text": [
      "999\n",
      "1999\n",
      "2999\n"
     ]
    }
   ],
   "source": [
    "file_name = '../../../Training/catalogs/shortperiodbright_KOI.csv'\n",
    "koi = pd.read_csv(file_name)\n",
    "#print koi.columns.values\n",
    "file_list = os.listdir(\"../KOI_ModShiftVals_Try2/.\")\n",
    "\n",
    "star_name = koi[\"kepid\"]\n",
    "periods = koi[\"koi_period\"]\n",
    "data  = np.loadtxt(file_name, dtype = str, delimiter=\",\")#.reshape(data.shape[0], 5)\n",
    "inds = np.where(koi[\"koi_model_snr\"]==np.nan)[0]\n",
    "koi[\"koi_model_snr\"][inds]==1000.\n",
    "values = np.core.defchararray.add(data[:,0], \"-\")\n",
    "values = np.core.defchararray.add(values, data[:, 1])\n",
    "\n",
    "\n",
    "planet_periods = np.zeros(koi_feats.shape[0])\n",
    "\n",
    "#print data.shape\n",
    "start  = time.time\n",
    "\n",
    "# create KOI lc file with p rad, s rad,period,  duration\n",
    "for i, val in enumerate(file_list):\n",
    "    name = int(val.split(\"-\")[0])\n",
    "    file_name = (val.split(\"-\")[0]) + \"-\"+(val.split(\"-\")[1]).split(\"_\")[0]\n",
    "\n",
    "    if name in star_name.tolist():\n",
    "        location = np.where(star_name== int(name))[0]\n",
    "        #planet_num = 0\n",
    "        if len(location) > 1:\n",
    "            planet_num = np.where(koi[\"koi_model_snr\"][location].max() == koi[\"koi_model_snr\"][location])[0]\n",
    "            location =   np.where(star_name== int(name))[0][planet_num]\n",
    "        else:\n",
    "            location = np.where(star_name== int(name))[0][0]\n",
    "        try:\n",
    "            planet_periods[i] = koi[\"koi_period\"][location] #days\n",
    "\n",
    "          \n",
    "        except:\n",
    "            print name\n",
    "        \n",
    "        \n",
    "     \n",
    "    else:\n",
    "        print \"Not in list\", val[:-17]#+\"ltf.lc\"\n",
    "    if i %1000 ==999:\n",
    "        print i\n",
    "\n",
    "#np.savetxt(\"SNR_KOIS_4251.txt\", SNR)\n",
    "#print \"Time\", end - start"
   ]
  },
  {
   "cell_type": "code",
   "execution_count": 51,
   "metadata": {
    "collapsed": false
   },
   "outputs": [
    {
     "data": {
      "text/plain": [
       "(array([ 634.,  477.,  326.,  255.,  236.,  182.,  129.,  164.,  113.,\n",
       "         108.,   72.,   74.,   93.,   97.,   80.,   40.,    0.,    0.,    0.]),\n",
       " array([  0.        ,   1.05263158,   2.10526316,   3.15789474,\n",
       "          4.21052632,   5.26315789,   6.31578947,   7.36842105,\n",
       "          8.42105263,   9.47368421,  10.52631579,  11.57894737,\n",
       "         12.63157895,  13.68421053,  14.73684211,  15.78947368,\n",
       "         16.84210526,  17.89473684,  18.94736842,  20.        ]),\n",
       " <a list of 19 Patch objects>)"
      ]
     },
     "execution_count": 51,
     "metadata": {},
     "output_type": "execute_result"
    },
    {
     "data": {
      "image/png": "[encoded data removed]",
      "text/plain": [
       "<matplotlib.figure.Figure at 0x7fbe75368490>"
      ]
     },
     "metadata": {},
     "output_type": "display_data"
    },
    {
     "data": {
      "image/png": "[encoded data removed]",
      "text/plain": [
       "<matplotlib.figure.Figure at 0x7fbe75368d50>"
      ]
     },
     "metadata": {},
     "output_type": "display_data"
    }
   ],
   "source": [
    "bins = np.linspace(0, 20, 20)\n",
    "plt.hist(planet_periods, bins = bins)\n",
    "plt.figure()\n",
    "plt.hist(koi_feats[\"BLS_Period_1_0\"], bins = bins)"
   ]
  },
  {
   "cell_type": "code",
   "execution_count": 52,
   "metadata": {
    "collapsed": false
   },
   "outputs": [
    {
     "name": "stdout",
     "output_type": "stream",
     "text": [
      "(3080, 2)\n"
     ]
    }
   ],
   "source": [
    "harmonics_koi = np.empty(shape = [koi_feats.shape[0],2])\n",
    "for i in range(koi_feats.shape[0]):\n",
    "    #periods_bls[0]\n",
    "    #initial = [1,1, periods_bls[i], periods_inj[i]]\n",
    "    #res = minimize(period_func, initial)\n",
    "    #results = fmin(period_func, np.array([1, 1]), args=(periods_bls[i], periods_inj[i]), xtol=0.9)\n",
    "    #print results\n",
    "    #print \"\\n\", periods_bls[i], periods_inj[i]\n",
    "    results = brute(period_func, ranges=rranges, args=(koi_feats[\"BLS_Period_1_0\"][i], planet_periods[i]), full_output=True, finish= None)\n",
    "    #print results[0]\n",
    "    harmonics_koi[i, :] =results[0]\n",
    "    try:\n",
    "        results[0].astype(int)\n",
    "    except:\n",
    "        print i\n",
    "    #break\n",
    "print harmonics_koi.shape"
   ]
  },
  {
   "cell_type": "code",
   "execution_count": 68,
   "metadata": {
    "collapsed": false
   },
   "outputs": [
    {
     "name": "stdout",
     "output_type": "stream",
     "text": [
      "1122\n",
      "2818\n"
     ]
    },
    {
     "data": {
      "text/plain": [
       "(0, 0.02)"
      ]
     },
     "execution_count": 68,
     "metadata": {},
     "output_type": "execute_result"
    },
    {
     "data": {
      "image/png": "[encoded data removed]",
      "text/plain": [
       "<matplotlib.figure.Figure at 0x7fbe71027890>"
      ]
     },
     "metadata": {},
     "output_type": "display_data"
    }
   ],
   "source": [
    "tol_koi = np.zeros(koi_feats.shape[0])\n",
    "for i in range(koi_feats.shape[0]):\n",
    "    tol_koi[i] = period_func( harmonics_koi[i], koi_feats[\"BLS_Period_1_0\"][i], planet_periods[i])\n",
    "    #break\n",
    "#print type(periods_bls)\n",
    "#print type(periods_inj)\n",
    "#print harmonics[tol>2][0], np.array(periods_bls)[tol>2][0], periods_inj[tol>2][0], tol[tol>2][0]\n",
    "print len(np.where(tol_koi<0.002)[0])\n",
    "print len(np.unique(np.where(harmonics_koi>1)[0]))\n",
    "plt.figure(figsize=(13, 8))\n",
    "plt.hist(tol_koi, bins = np.linspace(0,0.02,50), edgecolor = \"black\")\n",
    "tot_vals_koi = np.hstack([harmonics_koi, tol_koi.reshape(harmonics_koi.shape[0], 1)]) \n",
    "plt.ylabel(\"Frequency\")\n",
    "plt.xlabel(\"Period Error for 3080 KOI Samples\")\n",
    "plt.xlim([0,0.02])"
   ]
  },
  {
   "cell_type": "code",
   "execution_count": 69,
   "metadata": {
    "collapsed": false
   },
   "outputs": [
    {
     "name": "stdout",
     "output_type": "stream",
     "text": [
      "(3080, 3)\n"
     ]
    }
   ],
   "source": [
    "print tot_vals_koi.shape\n",
    "np.savetxt(\"period_harmonics_3080_koi_signals_tol.txt\", tot_vals_koi)"
   ]
  },
  {
   "cell_type": "code",
   "execution_count": null,
   "metadata": {
    "collapsed": true
   },
   "outputs": [],
   "source": []
  }
 ],
 "metadata": {
  "kernelspec": {
   "display_name": "Python [conda root]",
   "language": "python",
   "name": "conda-root-py"
  },
  "language_info": {
   "codemirror_mode": {
    "name": "ipython",
    "version": 2
   },
   "file_extension": ".py",
   "mimetype": "text/x-python",
   "name": "python",
   "nbconvert_exporter": "python",
   "pygments_lexer": "ipython2",
   "version": "2.7.12"
  }
 },
 "nbformat": 4,
 "nbformat_minor": 1
}
