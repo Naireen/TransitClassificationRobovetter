{
 "cells": [
  {
   "cell_type": "code",
   "execution_count": 1,
   "metadata": {
    "collapsed": false
   },
   "outputs": [],
   "source": [
    "import numpy as np\n",
    "import pandas as pd\n",
    "import os\n",
    "import matplotlib\n",
    "%matplotlib inline\n",
    "from matplotlib import pyplot as plt\n",
    "import time"
   ]
  },
  {
   "cell_type": "code",
   "execution_count": 5,
   "metadata": {
    "collapsed": false
   },
   "outputs": [
    {
     "name": "stdout",
     "output_type": "stream",
     "text": [
      "4251\n",
      "284\n"
     ]
    }
   ],
   "source": [
    "#file_name = \"../nhussain_scripts/InvModShiftVals/10129857-10_feats.txt\"\n",
    "file_list = os.listdir(\"../KOI_ModShiftVals/.\")\n",
    "file_list = [x for x in file_list if \"fixed\" in x]\n",
    "print len(file_list)\n",
    "star_list = [x.split(\"-\")[0] for x in file_list]\n",
    "print len(np.unique(star_list))"
   ]
  },
  {
   "cell_type": "code",
   "execution_count": 6,
   "metadata": {
    "collapsed": false
   },
   "outputs": [
    {
     "name": "stdout",
     "output_type": "stream",
     "text": [
      "(4251, 35)\n"
     ]
    }
   ],
   "source": [
    "# read all the KOI data and save features into one large csv flie\n",
    "col_names = [\"mod_sig_pri_dv\", \"mod_sig_sec_dv\",\"mod_sig_ter_dv\",\n",
    "             \"mod_sig_pos_dv\", \"mod_fa1_dv\",\"mod_fa2_dv\", \"mod_fred_dv\",\n",
    "             \"modshiftval1_dv\", \"modshiftval2_dv\", \"modshiftval3_dv\",\n",
    "             \"modshiftval4_dv\", \"modshiftval5_dv\", \"modshiftval6_dv\", \n",
    "             \"white_noise\", \"red_noise\", \"BLS_Period_1_0\", \"BLS_Tc_1_0\",\n",
    "             \"BLS_SN_1_0\", \"BLS_SR_1_0\", \"BLS_SDE_1_0\", \"BLS_Depth_1_0\",\n",
    "             \"BLS_Qtran_1_0\", \"BLS_Qingress_1_0\", \"BLS_OOTmag_1_0\",\n",
    "             \"BLS_i1_1_0\", \"BLS_i2_1_0\", \"BLS_deltaChi2_1_0\", \n",
    "             \"BLS_fraconenight_1_0\", \"BLS_Npointsintransit_1_0\",\n",
    "             \"BLS_Ntransits_1_0\", \"BLS_Npointsbeforetransit_1_0\", \n",
    "             \"BLS_Npointsaftertransit_1_0\", \"BLS_Rednoise_1_0\",\n",
    "             \"BLS_Whitenoise_1_0\", \"BLS_SignaltoPinknoise_1_0\"]\n",
    "\n",
    "koi_data_feats = np.empty(shape = [0, len(col_names)])\n",
    "for file_name in file_list:\n",
    "    data = np.loadtxt(\"../KOI_ModShiftVals/\" + file_name).reshape((1, len(col_names)))\n",
    "    #print data.shape, koi_data_feats.shape\n",
    "    koi_data_feats = np.append(koi_data_feats, data, axis = 0)\n",
    "print koi_data_feats.shape\n",
    "koi_data_feats=pd.DataFrame(koi_data_feats, columns=col_names)\n",
    "#koi_data_feats.to_csv(\"KOI_feat_files_4251.csv\")"
   ]
  },
  {
   "cell_type": "code",
   "execution_count": 8,
   "metadata": {
    "collapsed": false
   },
   "outputs": [
    {
     "data": {
      "text/html": [
       "<div>\n",
       "<table border=\"1\" class=\"dataframe\">\n",
       "  <thead>\n",
       "    <tr style=\"text-align: right;\">\n",
       "      <th></th>\n",
       "      <th>rowid</th>\n",
       "      <th>kepid</th>\n",
       "      <th>kepoi_name</th>\n",
       "      <th>kepler_name</th>\n",
       "      <th>koi_disposition</th>\n",
       "      <th>koi_pdisposition</th>\n",
       "      <th>koi_score</th>\n",
       "      <th>koi_fpflag_nt</th>\n",
       "      <th>koi_fpflag_ss</th>\n",
       "      <th>koi_fpflag_co</th>\n",
       "      <th>...</th>\n",
       "      <th>koi_steff_err2</th>\n",
       "      <th>koi_slogg</th>\n",
       "      <th>koi_slogg_err1</th>\n",
       "      <th>koi_slogg_err2</th>\n",
       "      <th>koi_srad</th>\n",
       "      <th>koi_srad_err1</th>\n",
       "      <th>koi_srad_err2</th>\n",
       "      <th>ra</th>\n",
       "      <th>dec</th>\n",
       "      <th>koi_kepmag</th>\n",
       "    </tr>\n",
       "  </thead>\n",
       "  <tbody>\n",
       "    <tr>\n",
       "      <th>0</th>\n",
       "      <td>4966</td>\n",
       "      <td>10000941</td>\n",
       "      <td>K04146.01</td>\n",
       "      <td>Kepler-1558 b</td>\n",
       "      <td>CONFIRMED</td>\n",
       "      <td>CANDIDATE</td>\n",
       "      <td>0.999</td>\n",
       "      <td>0</td>\n",
       "      <td>0</td>\n",
       "      <td>0</td>\n",
       "      <td>...</td>\n",
       "      <td>-139.0</td>\n",
       "      <td>4.477</td>\n",
       "      <td>0.095</td>\n",
       "      <td>-0.105</td>\n",
       "      <td>0.854</td>\n",
       "      <td>0.103</td>\n",
       "      <td>-0.093</td>\n",
       "      <td>286.81937</td>\n",
       "      <td>46.911690</td>\n",
       "      <td>13.632</td>\n",
       "    </tr>\n",
       "    <tr>\n",
       "      <th>1</th>\n",
       "      <td>4967</td>\n",
       "      <td>10000941</td>\n",
       "      <td>K04146.02</td>\n",
       "      <td>NaN</td>\n",
       "      <td>CANDIDATE</td>\n",
       "      <td>CANDIDATE</td>\n",
       "      <td>1.000</td>\n",
       "      <td>0</td>\n",
       "      <td>0</td>\n",
       "      <td>0</td>\n",
       "      <td>...</td>\n",
       "      <td>-139.0</td>\n",
       "      <td>4.477</td>\n",
       "      <td>0.095</td>\n",
       "      <td>-0.105</td>\n",
       "      <td>0.854</td>\n",
       "      <td>0.103</td>\n",
       "      <td>-0.093</td>\n",
       "      <td>286.81937</td>\n",
       "      <td>46.911690</td>\n",
       "      <td>13.632</td>\n",
       "    </tr>\n",
       "    <tr>\n",
       "      <th>2</th>\n",
       "      <td>2605</td>\n",
       "      <td>10024701</td>\n",
       "      <td>K02002.01</td>\n",
       "      <td>Kepler-1046 b</td>\n",
       "      <td>CONFIRMED</td>\n",
       "      <td>CANDIDATE</td>\n",
       "      <td>1.000</td>\n",
       "      <td>0</td>\n",
       "      <td>0</td>\n",
       "      <td>0</td>\n",
       "      <td>...</td>\n",
       "      <td>-130.0</td>\n",
       "      <td>4.403</td>\n",
       "      <td>0.076</td>\n",
       "      <td>-0.114</td>\n",
       "      <td>1.053</td>\n",
       "      <td>0.168</td>\n",
       "      <td>-0.104</td>\n",
       "      <td>296.75574</td>\n",
       "      <td>46.998291</td>\n",
       "      <td>13.286</td>\n",
       "    </tr>\n",
       "    <tr>\n",
       "      <th>3</th>\n",
       "      <td>7125</td>\n",
       "      <td>10053138</td>\n",
       "      <td>K07279.01</td>\n",
       "      <td>NaN</td>\n",
       "      <td>CANDIDATE</td>\n",
       "      <td>CANDIDATE</td>\n",
       "      <td>0.769</td>\n",
       "      <td>0</td>\n",
       "      <td>0</td>\n",
       "      <td>0</td>\n",
       "      <td>...</td>\n",
       "      <td>-72.0</td>\n",
       "      <td>4.333</td>\n",
       "      <td>0.154</td>\n",
       "      <td>-0.126</td>\n",
       "      <td>1.056</td>\n",
       "      <td>0.191</td>\n",
       "      <td>-0.173</td>\n",
       "      <td>280.71948</td>\n",
       "      <td>47.072220</td>\n",
       "      <td>13.717</td>\n",
       "    </tr>\n",
       "    <tr>\n",
       "      <th>4</th>\n",
       "      <td>5105</td>\n",
       "      <td>10063208</td>\n",
       "      <td>K04292.01</td>\n",
       "      <td>Kepler-1583 b</td>\n",
       "      <td>CONFIRMED</td>\n",
       "      <td>CANDIDATE</td>\n",
       "      <td>0.995</td>\n",
       "      <td>0</td>\n",
       "      <td>0</td>\n",
       "      <td>0</td>\n",
       "      <td>...</td>\n",
       "      <td>-82.0</td>\n",
       "      <td>4.514</td>\n",
       "      <td>0.032</td>\n",
       "      <td>-0.128</td>\n",
       "      <td>0.888</td>\n",
       "      <td>0.138</td>\n",
       "      <td>-0.046</td>\n",
       "      <td>286.38693</td>\n",
       "      <td>47.016628</td>\n",
       "      <td>12.897</td>\n",
       "    </tr>\n",
       "  </tbody>\n",
       "</table>\n",
       "<p>5 rows × 50 columns</p>\n",
       "</div>"
      ],
      "text/plain": [
       "   rowid     kepid kepoi_name    kepler_name koi_disposition koi_pdisposition  \\\n",
       "0   4966  10000941  K04146.01  Kepler-1558 b       CONFIRMED        CANDIDATE   \n",
       "1   4967  10000941  K04146.02            NaN       CANDIDATE        CANDIDATE   \n",
       "2   2605  10024701  K02002.01  Kepler-1046 b       CONFIRMED        CANDIDATE   \n",
       "3   7125  10053138  K07279.01            NaN       CANDIDATE        CANDIDATE   \n",
       "4   5105  10063208  K04292.01  Kepler-1583 b       CONFIRMED        CANDIDATE   \n",
       "\n",
       "   koi_score  koi_fpflag_nt  koi_fpflag_ss  koi_fpflag_co     ...      \\\n",
       "0      0.999              0              0              0     ...       \n",
       "1      1.000              0              0              0     ...       \n",
       "2      1.000              0              0              0     ...       \n",
       "3      0.769              0              0              0     ...       \n",
       "4      0.995              0              0              0     ...       \n",
       "\n",
       "   koi_steff_err2  koi_slogg  koi_slogg_err1  koi_slogg_err2  koi_srad  \\\n",
       "0          -139.0      4.477           0.095          -0.105     0.854   \n",
       "1          -139.0      4.477           0.095          -0.105     0.854   \n",
       "2          -130.0      4.403           0.076          -0.114     1.053   \n",
       "3           -72.0      4.333           0.154          -0.126     1.056   \n",
       "4           -82.0      4.514           0.032          -0.128     0.888   \n",
       "\n",
       "   koi_srad_err1  koi_srad_err2         ra        dec  koi_kepmag  \n",
       "0          0.103         -0.093  286.81937  46.911690      13.632  \n",
       "1          0.103         -0.093  286.81937  46.911690      13.632  \n",
       "2          0.168         -0.104  296.75574  46.998291      13.286  \n",
       "3          0.191         -0.173  280.71948  47.072220      13.717  \n",
       "4          0.138         -0.046  286.38693  47.016628      12.897  \n",
       "\n",
       "[5 rows x 50 columns]"
      ]
     },
     "execution_count": 8,
     "metadata": {},
     "output_type": "execute_result"
    }
   ],
   "source": [
    "file_name = '../../Training/catalogs/shortperiodbright_KOI.csv'\n",
    "koi = pd.read_csv(file_name)\n",
    "#print koi.columns.values\n",
    "print np.\n",
    "koi.head(5)"
   ]
  },
  {
   "cell_type": "code",
   "execution_count": 4,
   "metadata": {
    "collapsed": false
   },
   "outputs": [
    {
     "ename": "IOError",
     "evalue": "[Errno 2] No such file or directory: '../Training/simulation/primary/10000941-0_prim_ltf.lc'",
     "output_type": "error",
     "traceback": [
      "\u001b[0;31m---------------------------------------------------------------------------\u001b[0m",
      "\u001b[0;31mIOError\u001b[0m                                   Traceback (most recent call last)",
      "\u001b[0;32m<ipython-input-4-f873fba1e305>\u001b[0m in \u001b[0;36m<module>\u001b[0;34m()\u001b[0m\n\u001b[1;32m      6\u001b[0m \u001b[0mperiods\u001b[0m \u001b[0;34m=\u001b[0m \u001b[0mkoi\u001b[0m\u001b[0;34m[\u001b[0m\u001b[0;34m\"koi_period\"\u001b[0m\u001b[0;34m]\u001b[0m\u001b[0;34m\u001b[0m\u001b[0m\n\u001b[1;32m      7\u001b[0m \u001b[0mdata\u001b[0m  \u001b[0;34m=\u001b[0m \u001b[0mnp\u001b[0m\u001b[0;34m.\u001b[0m\u001b[0mloadtxt\u001b[0m\u001b[0;34m(\u001b[0m\u001b[0mfile_name\u001b[0m\u001b[0;34m,\u001b[0m \u001b[0mdtype\u001b[0m \u001b[0;34m=\u001b[0m \u001b[0mstr\u001b[0m\u001b[0;34m,\u001b[0m \u001b[0mdelimiter\u001b[0m\u001b[0;34m=\u001b[0m\u001b[0;34m\",\"\u001b[0m\u001b[0;34m)\u001b[0m\u001b[0;31m#.reshape(data.shape[0], 5)\u001b[0m\u001b[0;34m\u001b[0m\u001b[0m\n\u001b[0;32m----> 8\u001b[0;31m \u001b[0mlc_data\u001b[0m \u001b[0;34m=\u001b[0m \u001b[0mnp\u001b[0m\u001b[0;34m.\u001b[0m\u001b[0mloadtxt\u001b[0m\u001b[0;34m(\u001b[0m\u001b[0;34m\"../Training/simulation/primary/\"\u001b[0m\u001b[0;34m+\u001b[0m\u001b[0mfile_list\u001b[0m\u001b[0;34m[\u001b[0m\u001b[0;36m0\u001b[0m\u001b[0;34m]\u001b[0m\u001b[0;34m[\u001b[0m\u001b[0;34m:\u001b[0m\u001b[0;34m-\u001b[0m\u001b[0;36m15\u001b[0m\u001b[0;34m]\u001b[0m\u001b[0;34m+\u001b[0m\u001b[0;34m\"_prim_ltf.lc\"\u001b[0m\u001b[0;34m)\u001b[0m\u001b[0;34m\u001b[0m\u001b[0m\n\u001b[0m\u001b[1;32m      9\u001b[0m \u001b[0minds\u001b[0m \u001b[0;34m=\u001b[0m \u001b[0mnp\u001b[0m\u001b[0;34m.\u001b[0m\u001b[0mwhere\u001b[0m\u001b[0;34m(\u001b[0m\u001b[0mkoi\u001b[0m\u001b[0;34m[\u001b[0m\u001b[0;34m\"koi_model_snr\"\u001b[0m\u001b[0;34m]\u001b[0m\u001b[0;34m==\u001b[0m\u001b[0mnp\u001b[0m\u001b[0;34m.\u001b[0m\u001b[0mnan\u001b[0m\u001b[0;34m)\u001b[0m\u001b[0;34m[\u001b[0m\u001b[0;36m0\u001b[0m\u001b[0;34m]\u001b[0m\u001b[0;34m\u001b[0m\u001b[0m\n\u001b[1;32m     10\u001b[0m \u001b[0mkoi\u001b[0m\u001b[0;34m[\u001b[0m\u001b[0;34m\"koi_model_snr\"\u001b[0m\u001b[0;34m]\u001b[0m\u001b[0;34m[\u001b[0m\u001b[0minds\u001b[0m\u001b[0;34m]\u001b[0m\u001b[0;34m==\u001b[0m\u001b[0;36m100.\u001b[0m\u001b[0;34m\u001b[0m\u001b[0m\n",
      "\u001b[0;32m/home/xuhuang/anaconda2/lib/python2.7/site-packages/numpy/lib/npyio.pyc\u001b[0m in \u001b[0;36mloadtxt\u001b[0;34m(fname, dtype, comments, delimiter, converters, skiprows, usecols, unpack, ndmin)\u001b[0m\n\u001b[1;32m    801\u001b[0m                 \u001b[0mfh\u001b[0m \u001b[0;34m=\u001b[0m \u001b[0miter\u001b[0m\u001b[0;34m(\u001b[0m\u001b[0mbz2\u001b[0m\u001b[0;34m.\u001b[0m\u001b[0mBZ2File\u001b[0m\u001b[0;34m(\u001b[0m\u001b[0mfname\u001b[0m\u001b[0;34m)\u001b[0m\u001b[0;34m)\u001b[0m\u001b[0;34m\u001b[0m\u001b[0m\n\u001b[1;32m    802\u001b[0m             \u001b[0;32melif\u001b[0m \u001b[0msys\u001b[0m\u001b[0;34m.\u001b[0m\u001b[0mversion_info\u001b[0m\u001b[0;34m[\u001b[0m\u001b[0;36m0\u001b[0m\u001b[0;34m]\u001b[0m \u001b[0;34m==\u001b[0m \u001b[0;36m2\u001b[0m\u001b[0;34m:\u001b[0m\u001b[0;34m\u001b[0m\u001b[0m\n\u001b[0;32m--> 803\u001b[0;31m                 \u001b[0mfh\u001b[0m \u001b[0;34m=\u001b[0m \u001b[0miter\u001b[0m\u001b[0;34m(\u001b[0m\u001b[0mopen\u001b[0m\u001b[0;34m(\u001b[0m\u001b[0mfname\u001b[0m\u001b[0;34m,\u001b[0m \u001b[0;34m'U'\u001b[0m\u001b[0;34m)\u001b[0m\u001b[0;34m)\u001b[0m\u001b[0;34m\u001b[0m\u001b[0m\n\u001b[0m\u001b[1;32m    804\u001b[0m             \u001b[0;32melse\u001b[0m\u001b[0;34m:\u001b[0m\u001b[0;34m\u001b[0m\u001b[0m\n\u001b[1;32m    805\u001b[0m                 \u001b[0mfh\u001b[0m \u001b[0;34m=\u001b[0m \u001b[0miter\u001b[0m\u001b[0;34m(\u001b[0m\u001b[0mopen\u001b[0m\u001b[0;34m(\u001b[0m\u001b[0mfname\u001b[0m\u001b[0;34m)\u001b[0m\u001b[0;34m)\u001b[0m\u001b[0;34m\u001b[0m\u001b[0m\n",
      "\u001b[0;31mIOError\u001b[0m: [Errno 2] No such file or directory: '../Training/simulation/primary/10000941-0_prim_ltf.lc'"
     ]
    }
   ],
   "source": [
    "star_name = koi[\"kepid\"]\n",
    "periods = koi[\"koi_period\"]\n",
    "data  = np.loadtxt(file_name, dtype = str, delimiter=\",\")#.reshape(data.shape[0], 5)\n",
    "lc_data = np.loadtxt(\"../Training/simulation/primary/\"+file_list[0][:-15]+\"_prim_ltf.lc\")\n",
    "inds = np.where(koi[\"koi_model_snr\"]==np.nan)[0]\n",
    "koi[\"koi_model_snr\"][inds]==100.\n",
    "values = np.core.defchararray.add(data[:,0], \"-\")\n",
    "values = np.core.defchararray.add(values, data[:, 1])\n",
    "\n",
    "SNR = np.zeros(len(file_list))\n",
    "other_feats = np.empty(shape=[0,5])\n",
    "koi_lc_data = np.empty(shape=[0,lc_data.shape[0]+4])\n",
    "\n",
    "\n",
    "\n",
    "#print data.shape\n",
    "start  = time.time()\n",
    "# create KOI lc file with p rad, s rad,period,  duration\n",
    "for i, val in enumerate(file_list):\n",
    "    name = int(val.split(\"-\")[0])\n",
    "    file_name = (val.split(\"-\")[0]) + \"-\"+(val.split(\"-\")[1]).split(\"_\")[0]\n",
    "\n",
    "    if name in star_name.tolist():\n",
    "        lc_data = np.loadtxt(\"../Training/simulation/primary/\"+file_name+\"_prim_ltf.lc\")    \n",
    "        location = np.where(star_name== int(name))[0]\n",
    "        #planet_num = 0\n",
    "        if len(location) > 1:\n",
    "            planet_num = np.where(koi[\"koi_model_snr\"][location].max() == koi[\"koi_model_snr\"][location])[0]\n",
    "            location =   np.where(star_name== int(name))[0][planet_num]\n",
    "        else:\n",
    "            location = np.where(star_name== int(name))[0][0]\n",
    "        \n",
    "        #print koi[\"koi_model_snr\"][location]\n",
    "        #location = np.where(star_name== int(name))[0][]\n",
    "        #location = np.where(star_name== int(name))[planet_num]\n",
    "        #print location\n",
    "        #print location ,planet_num, koi[\"koi_model_snr\"][location].values , np.where(star_name == int(name))\n",
    "        #print koi[\"koi_model_snr\"][location][planet_num]\n",
    "        \n",
    "        \n",
    "        try:\n",
    "            depth = ((koi[\"koi_prad\"][location]/ koi[\"koi_srad\"][location])/float(110))**2\n",
    "            #print len(location)\n",
    "       \n",
    "            period = koi[\"koi_period\"][location] #days\n",
    "\n",
    "            duration = koi[\"koi_duration\"][location] #hours\n",
    "            model_snr = koi[\"koi_model_snr\"][location]\n",
    "            n_points = np.floor(duration * 2) # assuming duration is given in hours, as days does not make sense\n",
    "            #print \"SNR\", model_snr, model_snr[planet_num] #\"Dur\", duration, \"depth\", depth, \"period\", period\n",
    "            #\n",
    "            meidan = np.median(lc_data[:,1]) # flux\n",
    "            error = np.median(np.abs(lc_data[:,1]-meidan)**2)**0.5\n",
    "            n_transits = float(26)//float(period) +1\n",
    "            values = np.asarray([koi[\"koi_prad\"][location], koi[\"koi_srad\"][location], period, duration, name]).reshape(1,5)\n",
    "            other_feats = np.append(other_feats, values, axis = 0)\n",
    "\n",
    "            SNR[i] = depth*np.sqrt(n_transits) * np.sqrt(n_points)/(error*np.sqrt(2))\n",
    "        \n",
    "        except:\n",
    "            print name\n",
    "        #'''\n",
    "        \n",
    "        \n",
    "        '''\n",
    "        depth = ((koi[\"koi_prad\"][location]/ koi[\"koi_srad\"][location])/float(110))**2\n",
    "        period = koi[\"koi_period\"][location] #days\n",
    "\n",
    "        duration = koi[\"koi_duration\"][location] #hours\n",
    "        model_snr = koi[\"koi_model_snr\"][location]\n",
    "        n_points = np.floor(duration * 2) # assuming duration is given in hours, as days does not make sense\n",
    "        #print \"SNR\", model_snr, model_snr[planet_num] #\"Dur\", duration, \"depth\", depth, \"period\", period\n",
    "        #\n",
    "        meidan = np.median(lc_data[:,1]) # flux\n",
    "        error = np.median(np.abs(lc_data[:,1]-meidan)**2)**0.5\n",
    "        n_transits = float(26)//float(period) +1\n",
    "        values = np.asarray([koi[\"koi_prad\"][location], koi[\"koi_srad\"][location], period, duration, name]).reshape(1,5)\n",
    "        other_feats = np.append(other_feats, values, axis = 0)\n",
    "         \n",
    "        SNR[i] = depth*np.sqrt(n_transits) * np.sqrt(n_points)/(error*np.sqrt(2))\n",
    "        '''\n",
    "    else:\n",
    "        print \"Not in list\", val[:-17]#+\"ltf.lc\"\n",
    "    if i %1000 ==999:\n",
    "        print i\n",
    "\n",
    "#np.savetxt(\"SNR_KOIS_4251.txt\", SNR)\n",
    "#np.savetxt(\"Extra_feats_KOIS_4251.txt\", other_feats)\n",
    "\n",
    "print SNR.shape\n",
    "SNR = np.asarray(SNR)\n",
    "end = time.time()\n",
    "print \"Time\", end - start\n",
    "np.loadtxt(\"../Training/simulation/primary/10000\")"
   ]
  },
  {
   "cell_type": "code",
   "execution_count": 31,
   "metadata": {
    "collapsed": false
   },
   "outputs": [
    {
     "name": "stdout",
     "output_type": "stream",
     "text": [
      "rowid                           7203\n",
      "kepid                       10736489\n",
      "kepoi_name                 K07368.01\n",
      "kepler_name                      NaN\n",
      "koi_disposition            CANDIDATE\n",
      "koi_pdisposition           CANDIDATE\n",
      "koi_score                          1\n",
      "koi_fpflag_nt                      0\n",
      "koi_fpflag_ss                      0\n",
      "koi_fpflag_co                      0\n",
      "koi_fpflag_ec                      0\n",
      "koi_period                   6.84294\n",
      "koi_period_err1                  NaN\n",
      "koi_period_err2                  NaN\n",
      "koi_time0bk                   137.06\n",
      "koi_time0bk_err1                 NaN\n",
      "koi_time0bk_err2                 NaN\n",
      "koi_impact                       NaN\n",
      "koi_impact_err1                  NaN\n",
      "koi_impact_err2                  NaN\n",
      "koi_duration                     2.8\n",
      "koi_duration_err1                NaN\n",
      "koi_duration_err2                NaN\n",
      "koi_depth                        NaN\n",
      "koi_depth_err1                   NaN\n",
      "koi_depth_err2                   NaN\n",
      "koi_prad                         NaN\n",
      "koi_prad_err1                    NaN\n",
      "koi_prad_err2                    NaN\n",
      "koi_teq                          NaN\n",
      "koi_teq_err1                     NaN\n",
      "koi_teq_err2                     NaN\n",
      "koi_insol                        NaN\n",
      "koi_insol_err1                   NaN\n",
      "koi_insol_err2                   NaN\n",
      "koi_model_snr                    NaN\n",
      "koi_tce_plnt_num                   1\n",
      "koi_tce_delivname    q1_q17_dr25_tce\n",
      "koi_steff                        NaN\n",
      "koi_steff_err1                   NaN\n",
      "koi_steff_err2                   NaN\n",
      "koi_slogg                        NaN\n",
      "koi_slogg_err1                   NaN\n",
      "koi_slogg_err2                   NaN\n",
      "koi_srad                         NaN\n",
      "koi_srad_err1                    NaN\n",
      "koi_srad_err2                    NaN\n",
      "ra                           293.948\n",
      "dec                          48.0653\n",
      "koi_kepmag                     12.92\n",
      "Name: 37, dtype: object\n"
     ]
    }
   ],
   "source": [
    "koi.columns.values\n",
    "np.where(koi[\"kepid\"]==10736489)\n",
    "print koi.iloc[37, :]"
   ]
  },
  {
   "cell_type": "code",
   "execution_count": 37,
   "metadata": {
    "collapsed": false
   },
   "outputs": [
    {
     "name": "stdout",
     "output_type": "stream",
     "text": [
      "0.0 2019.10811137\n"
     ]
    },
    {
     "data": {
      "text/plain": [
       "(array([ 941.,  485.,  411.,  468.,  261.,  229.,  131.,   84.,   97.,\n",
       "          83.,   95.,   80.,   82.,   69.,   51.,   36.,   27.,   12.,   27.]),\n",
       " array([  0.        ,   0.52631579,   1.05263158,   1.57894737,\n",
       "          2.10526316,   2.63157895,   3.15789474,   3.68421053,\n",
       "          4.21052632,   4.73684211,   5.26315789,   5.78947368,\n",
       "          6.31578947,   6.84210526,   7.36842105,   7.89473684,\n",
       "          8.42105263,   8.94736842,   9.47368421,  10.        ]),\n",
       " <a list of 19 Patch objects>)"
      ]
     },
     "execution_count": 37,
     "metadata": {},
     "output_type": "execute_result"
    },
    {
     "data": {
      "image/png": "[encoded data removed]",
      "text/plain": [
       "<matplotlib.figure.Figure at 0x7f331a2d7090>"
      ]
     },
     "metadata": {},
     "output_type": "display_data"
    }
   ],
   "source": [
    "#plt.hist(SNR)\n",
    "\n",
    "SNR = np.loadtxt(\"SNR_KOIS_4251.txt\")\n",
    "\n",
    "SNR = np.nan_to_num(SNR)\n",
    "print SNR.min(), SNR.max()\n",
    "plt.hist(SNR, bins = np.linspace(0,1e1,20))\n",
    "#print SNR\n",
    "\n",
    "#lc_data = np.loadtxt(\"../Training/simulation/primary/\"+file_name+\"_prim_ltf.lc\")\n",
    "\n",
    "#lc_data = np.loadtxt(\"../Training/simulation/primary/\"+file_list[np.where(SNR.max()== SNR)[0]][:-15] + \"_prim_ltf.lc\")\n",
    "#plt.scatter(lc_data[:,0], lc_data[:,1])"
   ]
  },
  {
   "cell_type": "code",
   "execution_count": null,
   "metadata": {
    "collapsed": false
   },
   "outputs": [],
   "source": [
    "print koi.columns.values.tolist()\n",
    "for header in koi.columns.values.tolist():\n",
    "    if koi[header].min()>=0 and koi[header].max()<=1:\n",
    "        print koi[header].min(), koi[header].max(), header"
   ]
  },
  {
   "cell_type": "code",
   "execution_count": null,
   "metadata": {
    "collapsed": false
   },
   "outputs": [],
   "source": [
    "print koi[\"koi_depth\"].max()\n",
    "print np.where(koi[\"koi_depth\"].max()== koi[\"koi_depth\"])\n",
    "print np.where(211== koi[\"koi_depth\"])"
   ]
  },
  {
   "cell_type": "code",
   "execution_count": null,
   "metadata": {
    "collapsed": false
   },
   "outputs": [],
   "source": [
    "#print koi[[\"koi_srad\", \"koi_prad\", \"S_to_P\"]], \n",
    "plt.hist(SNR, alpha = 0.5, bins=np.linspace(1, 30, 20), normed=1, label = \"manual SNR\")\n",
    "#fig = plt.figure()\n",
    "#print koi[\"koi_model_snr\"].min(),  koi[\"koi_model_snr\"].max()\n",
    "koi_model_snr=  np.asarray(koi[\"koi_model_snr\"].values) / 7. \n",
    "koi_model_snr = np.nan_to_num(koi_model_snr)\n",
    "plt.hist(koi_model_snr, bins=np.linspace(1, 30, 20), alpha = 0.5, normed=1, label=\"Model SNR\")\n",
    "plt.legend()"
   ]
  },
  {
   "cell_type": "code",
   "execution_count": 13,
   "metadata": {
    "collapsed": false
   },
   "outputs": [
    {
     "name": "stdout",
     "output_type": "stream",
     "text": [
      "200     26.8\n",
      "201     24.4\n",
      "202     25.8\n",
      "203     39.0\n",
      "204     36.9\n",
      "205      6.0\n",
      "206     82.6\n",
      "207     43.1\n",
      "208     25.6\n",
      "209     18.1\n",
      "210     12.7\n",
      "211     10.9\n",
      "212     12.5\n",
      "213      9.6\n",
      "214    119.3\n",
      "215     53.8\n",
      "216     19.2\n",
      "217     17.4\n",
      "218     15.5\n",
      "219    165.5\n",
      "Name: koi_model_snr, dtype: float64\n"
     ]
    }
   ],
   "source": [
    "print koi[\"koi_model_snr\"][200:220]"
   ]
  },
  {
   "cell_type": "code",
   "execution_count": null,
   "metadata": {
    "collapsed": true
   },
   "outputs": [],
   "source": []
  }
 ],
 "metadata": {
  "kernelspec": {
   "display_name": "Python [conda root]",
   "language": "python",
   "name": "conda-root-py"
  },
  "language_info": {
   "codemirror_mode": {
    "name": "ipython",
    "version": 2
   },
   "file_extension": ".py",
   "mimetype": "text/x-python",
   "name": "python",
   "nbconvert_exporter": "python",
   "pygments_lexer": "ipython2",
   "version": "2.7.12"
  }
 },
 "nbformat": 4,
 "nbformat_minor": 1
}
