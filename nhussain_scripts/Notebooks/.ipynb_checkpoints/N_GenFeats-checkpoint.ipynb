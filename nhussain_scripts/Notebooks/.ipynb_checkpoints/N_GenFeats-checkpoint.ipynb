{
 "cells": [
  {
   "cell_type": "markdown",
   "metadata": {},
   "source": [
    "Used to generate Injected feature files"
   ]
  },
  {
   "cell_type": "code",
   "execution_count": 1,
   "metadata": {
    "collapsed": true
   },
   "outputs": [],
   "source": [
    "import numpy as np\n",
    "import pandas as pd\n",
    "import sklearn\n",
    "import matplotlib \n",
    "from matplotlib import pyplot as plt\n",
    "%matplotlib inline\n"
   ]
  },
  {
   "cell_type": "code",
   "execution_count": 2,
   "metadata": {
    "collapsed": false
   },
   "outputs": [
    {
     "data": {
      "text/plain": [
       "array([['10000198', '0', '0.020139', '1.855512', '0.803056144.823149'],\n",
       "       ['10000198', '1', '0.113809', '14.793140', '0.845054306.327017'],\n",
       "       ['10000198', '2', '0.064718', '8.840684', '0.225823359.938231'],\n",
       "       ..., \n",
       "       ['9999901', '13', '0.080591', '1.771890', '0.3623951338.603838'],\n",
       "       ['9999901', '14', '0.034998', '5.133518', '0.7657581467.734110'],\n",
       "       ['9999901', '15', '0.066202', '1.252430', '0.6986601531.038299']], \n",
       "      dtype='|S19')"
      ]
     },
     "execution_count": 2,
     "metadata": {},
     "output_type": "execute_result"
    }
   ],
   "source": [
    "data = np.loadtxt(\"../Training/simulation/injection/injection.txt\", delimiter=\",\",dtype=str)\n",
    "data"
   ]
  },
  {
   "cell_type": "code",
   "execution_count": 3,
   "metadata": {
    "collapsed": false
   },
   "outputs": [
    {
     "name": "stdout",
     "output_type": "stream",
     "text": [
      "[['10000198' '0']\n",
      " ['10000198' '1']\n",
      " ['10000198' '2']\n",
      " ..., \n",
      " ['9999901' '13']\n",
      " ['9999901' '14']\n",
      " ['9999901' '15']] (195963,)\n",
      "10000198-0_inj\n"
     ]
    }
   ],
   "source": [
    "print data[:, 0:2],\n",
    "#data_names = np.concatenate([str(data[:, 0]), str(data[:, 1])])\n",
    "#print data_names\n",
    "\n",
    "data_names =  np.core.defchararray.add(data[:,0] , \"-\")\n",
    "data_names = np.core.defchararray.add(data_names, data[:,1])\n",
    "data_names = np.core.defchararray.add(data_names, \"_inj.blsanal\")\n",
    "\n",
    "print data_names.shape\n",
    "\n",
    "for name in data_names:\n",
    "    print name[:-8]\n",
    "    break\n"
   ]
  },
  {
   "cell_type": "code",
   "execution_count": 4,
   "metadata": {
    "collapsed": false
   },
   "outputs": [],
   "source": [
    "#for name in data_names[20000:20100]\n",
    "name = \"10000198-1_inj.blsanal\"\n",
    "first_bls = np.loadtxt(\"../Training/simulation/injection/\" + name)[0, 1:]\n",
    "first_lc = np.loadtxt(\"../Training/simulation/injection/10000198-1_inj.txt\")"
   ]
  },
  {
   "cell_type": "code",
   "execution_count": 5,
   "metadata": {
    "collapsed": false
   },
   "outputs": [
    {
     "name": "stdout",
     "output_type": "stream",
     "text": [
      "[  14.83210813  306.30211693]\n",
      "4.095535724e-05 0.999896370747\n",
      "0.01017\n",
      "0.00834 0.0002172987\n"
     ]
    },
    {
     "data": {
      "image/png": "[encoded data removed]",
      "text/plain": [
       "<matplotlib.figure.Figure at 0x7f5753347490>"
      ]
     },
     "metadata": {},
     "output_type": "display_data"
    }
   ],
   "source": [
    "#plt.scatter(first_lc[:,0], first_lc[:,1])\n",
    "print first_bls[0:2]\n",
    "#print first_lc.shape\n",
    "#fold it in phase space\n",
    "phase = ((first_lc[:,0] -first_bls[1])/first_bls[0])%1\n",
    "print phase.min(), phase.max()\n",
    "plt.figure()\n",
    "plt.scatter(phase, first_lc[:,1])\n",
    "depth = first_bls[5]\n",
    "print depth\n",
    "transit_duration = first_bls[6]\n",
    "ingress_duration = first_bls[7]*first_bls[6]*1.5\n",
    "print transit_duration, ingress_duration"
   ]
  },
  {
   "cell_type": "code",
   "execution_count": 6,
   "metadata": {
    "collapsed": false
   },
   "outputs": [
    {
     "name": "stdout",
     "output_type": "stream",
     "text": [
      "0.000358540095417\n"
     ]
    }
   ],
   "source": [
    "white_noise = np.std(first_lc[:,1][(phase>transit_duration/2) & (phase<1-transit_duration/2)])\n",
    "mean_out_transit_flux = np.mean(first_lc[:,1][(phase>transit_duration/2) & (phase<1-transit_duration/2)])\n",
    "#remove in transit portion\n",
    "print white_noise\n",
    "\n",
    "cleaned_vals = np.empty(shape=[0,3])\n",
    "#remove transit signal\n",
    "slope = depth /ingress_duration\n",
    "\n",
    "for i, vals in enumerate(first_lc):\n",
    "    vals =vals.reshape(1,3)\n",
    "    #vals = time, flux, error?\n",
    "    if phase[i] <transit_duration-ingress_duration or phase[i]>1-transit_duration+ingress_duration:\n",
    "        vals[0][1] = vals[0][1]-depth\n",
    "        \n",
    "    elif ((phase[i] > transit_duration-ingress_duration  and phase[i]<transit_duration)) : \n",
    "        vals[0][1] -= (ingress_duration - phase[i]) *slope #vals[0][1]-depth\n",
    "\n",
    "    elif ((phase[i]>1-transit_duration) and (phase[i]<1-transit_duration+ingress_duration)):\n",
    "            \n",
    "        vals[0][1] -= (ingress_duration - (1 - phase[i])) *slope #vals[0][1]-depth\n",
    "\n",
    "    cleaned_vals = np.append(cleaned_vals, vals, axis = 0)"
   ]
  },
  {
   "cell_type": "code",
   "execution_count": 7,
   "metadata": {
    "collapsed": false
   },
   "outputs": [
    {
     "name": "stdout",
     "output_type": "stream",
     "text": [
      "[]\n",
      "0.99166 0.9918772987\n"
     ]
    },
    {
     "data": {
      "image/png": "[encoded data removed]",
      "text/plain": [
       "<matplotlib.figure.Figure at 0x7f575090c6d0>"
      ]
     },
     "metadata": {},
     "output_type": "display_data"
    }
   ],
   "source": [
    "plt.scatter(cleaned_vals[:,0], cleaned_vals[:,1])\n",
    "location = np.where(cleaned_vals[:,1]>10.5)\n",
    "cleaned_vals[location,0]\n",
    "print phase[location]\n",
    "print 1 - transit_duration, 1 - transit_duration+ingress_duration"
   ]
  },
  {
   "cell_type": "code",
   "execution_count": 8,
   "metadata": {
    "collapsed": false
   },
   "outputs": [
    {
     "data": {
      "text/plain": [
       "<matplotlib.collections.PathCollection at 0x7f5752a4ba10>"
      ]
     },
     "execution_count": 8,
     "metadata": {},
     "output_type": "execute_result"
    },
    {
     "data": {
      "image/png": "[encoded data removed]",
      "text/plain": [
       "<matplotlib.figure.Figure at 0x7f575337e150>"
      ]
     },
     "metadata": {},
     "output_type": "display_data"
    }
   ],
   "source": [
    "plt.scatter(phase, cleaned_vals[:,1])\n"
   ]
  },
  {
   "cell_type": "code",
   "execution_count": 9,
   "metadata": {
    "collapsed": false
   },
   "outputs": [
    {
     "name": "stderr",
     "output_type": "stream",
     "text": [
      "/home/xuhuang/anaconda2/lib/python2.7/site-packages/numpy/core/_methods.py:59: RuntimeWarning: Mean of empty slice.\n",
      "  warnings.warn(\"Mean of empty slice.\", RuntimeWarning)\n",
      "/home/xuhuang/anaconda2/lib/python2.7/site-packages/numpy/core/_methods.py:70: RuntimeWarning: invalid value encountered in double_scalars\n",
      "  ret = ret.dtype.type(ret / rcount)\n"
     ]
    }
   ],
   "source": [
    "#using transit width, search through phase space to find secondary and tertiary signals\n",
    "comb = zip(phase, cleaned_vals[:,1]) \n",
    "comb.sort()\n",
    "phase_time, total_flux = zip(*comb)\n",
    "total_flux = np.asarray(total_flux).reshape((1303,1))\n",
    "\n",
    "mod_sig_sec_dv = 0\n",
    "mod_sig_pos_dv = 0\n",
    "sec_loc = 0\n",
    "phase_time = np.asarray(phase_time)\n",
    "\n",
    "cut_phase =  phase_time[(phase_time > transit_duration) & (phase_time<(1-transit_duration))]\n",
    "cut_flux = total_flux[(phase_time > transit_duration) & (phase_time<(1-transit_duration))]\n",
    "\n",
    "for i, vals in enumerate(cut_phase):\n",
    "    section = cut_flux[(cut_phase>cut_phase[i]) & (cut_phase<cut_phase[i]+transit_duration*2)]\n",
    "    depth_two = np.mean(section) - mean_out_transit_flux\n",
    "    if depth_two == max( mod_sig_sec_dv, depth_two):\n",
    "        sec_loc = phase_time[i]\n",
    "    mod_sig_sec_dv = max(mod_sig_sec_dv, depth_two)\n",
    "    mod_sig_pos_dv = min(mod_sig_pos_dv, depth_two) \n"
   ]
  },
  {
   "cell_type": "code",
   "execution_count": 10,
   "metadata": {
    "collapsed": false
   },
   "outputs": [
    {
     "data": {
      "text/plain": [
       "<matplotlib.collections.PathCollection at 0x7f57529a0c50>"
      ]
     },
     "execution_count": 10,
     "metadata": {},
     "output_type": "execute_result"
    },
    {
     "data": {
      "image/png": "[encoded data removed]",
      "text/plain": [
       "<matplotlib.figure.Figure at 0x7f57a05b0b50>"
      ]
     },
     "metadata": {},
     "output_type": "display_data"
    }
   ],
   "source": [
    "#find tertiary transit \n",
    "#remove signal where the secondary transit was found\n",
    "plt.scatter(cut_phase, cut_flux)\n",
    "#just subtract the mean signal from the secondary dip when cleanign for the third"
   ]
  },
  {
   "cell_type": "code",
   "execution_count": 11,
   "metadata": {
    "collapsed": false
   },
   "outputs": [
    {
     "data": {
      "text/plain": [
       "<matplotlib.collections.PathCollection at 0x7f574eb8c3d0>"
      ]
     },
     "execution_count": 11,
     "metadata": {},
     "output_type": "execute_result"
    },
    {
     "data": {
      "image/png": "[encoded data removed]",
      "text/plain": [
       "<matplotlib.figure.Figure at 0x7f5752ae8b90>"
      ]
     },
     "metadata": {},
     "output_type": "display_data"
    }
   ],
   "source": [
    "for i, vals in enumerate(cut_phase):\n",
    "    if (vals< sec_loc+transit_duration) and (vals>sec_loc-transit_duration):\n",
    "        #print  cut_flux[i], mod_sig_sec_dv\n",
    "        cut_flux[i] -= mod_sig_sec_dv\n",
    "        #print cut_flux[i]\n",
    "plt.scatter(cut_phase, cut_flux)\n",
    "\n",
    "#now repeat search for tertiary signal\n"
   ]
  },
  {
   "cell_type": "code",
   "execution_count": 12,
   "metadata": {
    "collapsed": false
   },
   "outputs": [
    {
     "name": "stdout",
     "output_type": "stream",
     "text": [
      "0.000418657614379 9.9999643627\n"
     ]
    }
   ],
   "source": [
    "mod_sig_ter_dv = 0\n",
    "for i, vals in enumerate(cut_phase):\n",
    "    section = cut_flux[(cut_phase>cut_phase[i]) & (cut_phase<cut_phase[i]+transit_duration*2)]\n",
    "    sig = np.mean(section) - mean_out_transit_flux\n",
    "    mod_sig_ter_dv = max(mod_sig_sec_dv, sig)\n",
    "    \n",
    "    \n",
    "mod_sig_sec_dv = mod_sig_sec_dv - mean_out_transit_flux\n",
    "print mod_sig_ter_dv, mean_out_transit_flux\n"
   ]
  },
  {
   "cell_type": "code",
   "execution_count": 13,
   "metadata": {
    "collapsed": false
   },
   "outputs": [],
   "source": [
    "#red noise\n",
    "#red noise^2 = white noise /npoiint + red noise\n",
    "#inverse relationship\n",
    "#try with three timescales, one, two, and threee t durations\n",
    "#look at portions outside of transit?\n",
    "red_noise_1 = []\n",
    "red_noise_2 = []\n",
    "red_noise_3 = []\n",
    "\n",
    "red_noise_1_p = []\n",
    "red_noise_2_p = []\n",
    "red_noise_3_p = []\n",
    "\n",
    "for i, vals in enumerate(cut_phase[:-1]):\n",
    "    section1 = cut_flux[(cut_phase>cut_phase[i]) & (cut_phase<cut_phase[i]+transit_duration)]\n",
    "    section2 = cut_flux[(cut_phase>cut_phase[i]) & (cut_phase<cut_phase[i]+transit_duration*2)]\n",
    "    section3 = cut_flux[(cut_phase>cut_phase[i]) & (cut_phase<cut_phase[i]+transit_duration*3)]\n",
    "    red_noise_1_p.append(section1.shape[0])\n",
    "    red_noise_2_p.append(section2.shape[0])\n",
    "    red_noise_3_p.append(section3.shape[0])\n",
    "    red_noise_1.append(np.var(section1))\n",
    "    red_noise_2.append(np.var(section2))\n",
    "    red_noise_3.append(np.var(section3))\n",
    "    \n",
    "N_p_1 = np.median(red_noise_1_p)\n",
    "N_p_2 = np.median(red_noise_2_p)\n",
    "N_p_3 = np.median(red_noise_3_p)"
   ]
  },
  {
   "cell_type": "code",
   "execution_count": 21,
   "metadata": {
    "collapsed": false
   },
   "outputs": [
    {
     "name": "stdout",
     "output_type": "stream",
     "text": [
      "-7.03479633257e-08\n",
      "0.000317627426959 0.000358540095417 -7.03479633257e-08\n",
      "REd noise 0.00019\n"
     ]
    }
   ],
   "source": [
    "# need only two values, and then solve\n",
    "# use one and two timescales\n",
    "white_noise_2 = (np.mean(red_noise_1) - np.mean(red_noise_2))* (N_p_1 * N_p_2) / (N_p_1+N_p_2)\n",
    "print white_noise_2\n",
    "red_noise = np.sqrt(np.mean(red_noise_1) - white_noise_2/N_p_1)\n",
    "print red_noise, white_noise, white_noise_2\n",
    "print \"Red noise\", first_bls[17]\n",
    "# use first white nosie"
   ]
  },
  {
   "cell_type": "code",
   "execution_count": 15,
   "metadata": {
    "collapsed": false,
    "scrolled": true
   },
   "outputs": [
    {
     "ename": "NameError",
     "evalue": "name 'modshi' is not defined",
     "output_type": "error",
     "traceback": [
      "\u001b[0;31m---------------------------------------------------------------------------\u001b[0m",
      "\u001b[0;31mNameError\u001b[0m                                 Traceback (most recent call last)",
      "\u001b[0;32m<ipython-input-15-f70b56422f55>\u001b[0m in \u001b[0;36m<module>\u001b[0;34m()\u001b[0m\n\u001b[0;32m----> 1\u001b[0;31m \u001b[0mmodshi\u001b[0m\u001b[0;34m\u001b[0m\u001b[0m\n\u001b[0m",
      "\u001b[0;31mNameError\u001b[0m: name 'modshi' is not defined"
     ]
    }
   ],
   "source": [
    "#modshi\n"
   ]
  },
  {
   "cell_type": "code",
   "execution_count": 16,
   "metadata": {
    "collapsed": false
   },
   "outputs": [
    {
     "name": "stdout",
     "output_type": "stream",
     "text": [
      "2.0\n",
      "0.01017 0.885890953395 3.63207918364\n",
      "-3.62059921541 -3.43942775017 -3.43843327467\n",
      "-14.9196373947 -13.4491434553 -13.4481489798\n",
      "(35,)\n",
      "[  1.48321081e+01   3.06302117e+02   9.30173000e+00   7.30000000e-04\n",
      "   8.49247000e+00   1.01700000e-02   8.34000000e-03   1.73700000e-02\n",
      "   1.00000600e+01   9.21690000e-01   9.30030000e-01  -7.00000000e-04\n",
      "   6.00390000e-01   9.00000000e+00   2.00000000e+00   1.00000000e+01\n",
      "   1.10000000e+01   1.90000000e-04   3.80000000e-04   5.51557100e+01]\n"
     ]
    }
   ],
   "source": [
    "from scipy.special import erfcinv\n",
    "\n",
    "period = first_bls[0]\n",
    "n_trans = first_bls[14]\n",
    "\n",
    "print n_trans\n",
    "mod_sig_pri_dv = depth\n",
    "mod_fred_dv = red_noise / white_noise # ratio between the two\n",
    "mod_fa1_dv = np.sqrt(2) * erfcinv(transit_duration/(period* n_trans))\n",
    "mod_fa2_dv = np.sqrt(2) * erfcinv(transit_duration/(period))\n",
    "\n",
    "modshiftval1_dv = mod_sig_pri_dv/mod_fred_dv - mod_fa1_dv\n",
    "modshiftval2_dv = mod_sig_pri_dv - mod_sig_ter_dv-mod_fa2_dv\n",
    "modshiftval3_dv = mod_sig_pri_dv - mod_sig_pos_dv - mod_fa2_dv\n",
    "modshiftval4_dv = mod_sig_sec_dv / mod_fred_dv - mod_fa1_dv\n",
    "modshiftval5_dv = mod_sig_sec_dv - mod_sig_ter_dv - mod_fa2_dv\n",
    "modshiftval6_dv = mod_sig_sec_dv-mod_sig_pos_dv - mod_fa2_dv\n",
    "\n",
    "print mod_sig_pri_dv, mod_fred_dv, mod_fa1_dv\n",
    "print modshiftval1_dv, modshiftval2_dv, modshiftval3_dv\n",
    "print modshiftval4_dv, modshiftval5_dv, modshiftval6_dv\n",
    "\n",
    "vals = [mod_sig_pri_dv, mod_sig_sec_dv, mod_sig_ter_dv, mod_sig_pos_dv, mod_fa1_dv, mod_fa2_dv,\n",
    "       mod_fred_dv, modshiftval1_dv, modshiftval2_dv, modshiftval3_dv, modshiftval4_dv,\n",
    "       modshiftval5_dv, modshiftval6_dv, white_noise, red_noise]\n",
    "\n",
    "total_Vals = np.concatenate([vals, first_bls])\n",
    "print total_Vals.shape\n",
    "head_txt = \"\"\"mod_sig_pri_dv mod_sig_sec_dv mod_sig_ter_dv mod_sig_pos_dv mod_fa1_dv mod_fa2_dv mod_fred_dv modshiftval1_dv modshiftval2_dv modshiftval3_dv modshiftval4_dv modshiftval5_dv modshiftval6_dv white_noise red_noise BLS_Period_1_0 BLS_Tc_1_0 BLS_SN_1_0 BLS_SR_1_0 BLS_SDE_1_0 BLS_Depth_1_0 BLS_Qtran_1_0 BLS_Qingress_1_0 BLS_OOTmag_1_0 BLS_i1_1_0 BLS_i2_1_0 BLS_deltaChi2_1_0 BLS_fraconenight_1_0 BLS_Npointsintransit_1_0 BLS_Ntransits_1_0 BLS_Npointsbeforetransit_1_0 BLS_Npointsaftertransit_1_0 BLS_Rednoise_1_0 BLS_Whitenoise_1_0 BLS_SignaltoPinknoise_1_0 \"\"\"\n",
    "np.savetxt(\"InjModShiftVals/\" + name +\"_feats.txt\", total_Vals, header=head_txt)\n",
    "\n",
    "\n",
    "print first_bls"
   ]
  },
  {
   "cell_type": "code",
   "execution_count": null,
   "metadata": {
    "collapsed": true
   },
   "outputs": [],
   "source": []
  },
  {
   "cell_type": "code",
   "execution_count": null,
   "metadata": {
    "collapsed": true
   },
   "outputs": [],
   "source": []
  }
 ],
 "metadata": {
  "anaconda-cloud": {},
  "kernelspec": {
   "display_name": "Python [conda root]",
   "language": "python",
   "name": "conda-root-py"
  },
  "language_info": {
   "codemirror_mode": {
    "name": "ipython",
    "version": 2
   },
   "file_extension": ".py",
   "mimetype": "text/x-python",
   "name": "python",
   "nbconvert_exporter": "python",
   "pygments_lexer": "ipython2",
   "version": "2.7.12"
  }
 },
 "nbformat": 4,
 "nbformat_minor": 1
}
