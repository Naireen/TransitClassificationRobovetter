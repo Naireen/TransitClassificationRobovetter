{
 "cells": [
  {
   "cell_type": "code",
   "execution_count": 2,
   "metadata": {
    "collapsed": false
   },
   "outputs": [],
   "source": [
    "import numpy as np\n",
    "import pandas as pd\n",
    "import os\n",
    "import matplotlib\n",
    "%matplotlib inline\n",
    "from matplotlib import pyplot as plt\n",
    "import time"
   ]
  },
  {
   "cell_type": "code",
   "execution_count": 3,
   "metadata": {
    "collapsed": false
   },
   "outputs": [
    {
     "name": "stdout",
     "output_type": "stream",
     "text": [
      "4251\n",
      "284\n"
     ]
    }
   ],
   "source": [
    "#file_name = \"../nhussain_scripts/InvModShiftVals/10129857-10_feats.txt\"\n",
    "file_list = os.listdir(\"../KOI_ModShiftVals/.\")\n",
    "file_list = [x for x in file_list if \"fixed\" in x]\n",
    "print len(file_list)\n",
    "star_list = [x.split(\"-\")[0] for x in file_list]\n",
    "print len(np.unique(star_list))"
   ]
  },
  {
   "cell_type": "code",
   "execution_count": 4,
   "metadata": {
    "collapsed": false
   },
   "outputs": [
    {
     "name": "stdout",
     "output_type": "stream",
     "text": [
      "(4251, 35)\n"
     ]
    }
   ],
   "source": [
    "# read all the KOI data and save features into one large csv flie\n",
    "col_names = [\"mod_sig_pri_dv\", \"mod_sig_sec_dv\",\"mod_sig_ter_dv\",\n",
    "             \"mod_sig_pos_dv\", \"mod_fa1_dv\",\"mod_fa2_dv\", \"mod_fred_dv\",\n",
    "             \"modshiftval1_dv\", \"modshiftval2_dv\", \"modshiftval3_dv\",\n",
    "             \"modshiftval4_dv\", \"modshiftval5_dv\", \"modshiftval6_dv\", \n",
    "             \"white_noise\", \"red_noise\", \"BLS_Period_1_0\", \"BLS_Tc_1_0\",\n",
    "             \"BLS_SN_1_0\", \"BLS_SR_1_0\", \"BLS_SDE_1_0\", \"BLS_Depth_1_0\",\n",
    "             \"BLS_Qtran_1_0\", \"BLS_Qingress_1_0\", \"BLS_OOTmag_1_0\",\n",
    "             \"BLS_i1_1_0\", \"BLS_i2_1_0\", \"BLS_deltaChi2_1_0\", \n",
    "             \"BLS_fraconenight_1_0\", \"BLS_Npointsintransit_1_0\",\n",
    "             \"BLS_Ntransits_1_0\", \"BLS_Npointsbeforetransit_1_0\", \n",
    "             \"BLS_Npointsaftertransit_1_0\", \"BLS_Rednoise_1_0\",\n",
    "             \"BLS_Whitenoise_1_0\", \"BLS_SignaltoPinknoise_1_0\"]\n",
    "\n",
    "koi_data_feats = np.empty(shape = [0, len(col_names)])\n",
    "for file_name in file_list:\n",
    "    data = np.loadtxt(\"../KOI_ModShiftVals/\" + file_name).reshape((1, len(col_names)))\n",
    "    #print data.shape, koi_data_feats.shape\n",
    "    koi_data_feats = np.append(koi_data_feats, data, axis = 0)\n",
    "print koi_data_feats.shape\n",
    "koi_data_feats=pd.DataFrame(koi_data_feats, columns=col_names)\n",
    "#koi_data_feats.to_csv(\"KOI_feat_files_4251.csv\")"
   ]
  },
  {
   "cell_type": "code",
   "execution_count": 5,
   "metadata": {
    "collapsed": false
   },
   "outputs": [
    {
     "name": "stdout",
     "output_type": "stream",
     "text": [
      "284 (392, 50)\n"
     ]
    },
    {
     "data": {
      "text/html": [
       "<div>\n",
       "<table border=\"1\" class=\"dataframe\">\n",
       "  <thead>\n",
       "    <tr style=\"text-align: right;\">\n",
       "      <th></th>\n",
       "      <th>rowid</th>\n",
       "      <th>kepid</th>\n",
       "      <th>kepoi_name</th>\n",
       "      <th>kepler_name</th>\n",
       "      <th>koi_disposition</th>\n",
       "      <th>koi_pdisposition</th>\n",
       "      <th>koi_score</th>\n",
       "      <th>koi_fpflag_nt</th>\n",
       "      <th>koi_fpflag_ss</th>\n",
       "      <th>koi_fpflag_co</th>\n",
       "      <th>...</th>\n",
       "      <th>koi_steff_err2</th>\n",
       "      <th>koi_slogg</th>\n",
       "      <th>koi_slogg_err1</th>\n",
       "      <th>koi_slogg_err2</th>\n",
       "      <th>koi_srad</th>\n",
       "      <th>koi_srad_err1</th>\n",
       "      <th>koi_srad_err2</th>\n",
       "      <th>ra</th>\n",
       "      <th>dec</th>\n",
       "      <th>koi_kepmag</th>\n",
       "    </tr>\n",
       "  </thead>\n",
       "  <tbody>\n",
       "    <tr>\n",
       "      <th>0</th>\n",
       "      <td>4966</td>\n",
       "      <td>10000941</td>\n",
       "      <td>K04146.01</td>\n",
       "      <td>Kepler-1558 b</td>\n",
       "      <td>CONFIRMED</td>\n",
       "      <td>CANDIDATE</td>\n",
       "      <td>0.999</td>\n",
       "      <td>0</td>\n",
       "      <td>0</td>\n",
       "      <td>0</td>\n",
       "      <td>...</td>\n",
       "      <td>-139.0</td>\n",
       "      <td>4.477</td>\n",
       "      <td>0.095</td>\n",
       "      <td>-0.105</td>\n",
       "      <td>0.854</td>\n",
       "      <td>0.103</td>\n",
       "      <td>-0.093</td>\n",
       "      <td>286.81937</td>\n",
       "      <td>46.911690</td>\n",
       "      <td>13.632</td>\n",
       "    </tr>\n",
       "    <tr>\n",
       "      <th>1</th>\n",
       "      <td>4967</td>\n",
       "      <td>10000941</td>\n",
       "      <td>K04146.02</td>\n",
       "      <td>NaN</td>\n",
       "      <td>CANDIDATE</td>\n",
       "      <td>CANDIDATE</td>\n",
       "      <td>1.000</td>\n",
       "      <td>0</td>\n",
       "      <td>0</td>\n",
       "      <td>0</td>\n",
       "      <td>...</td>\n",
       "      <td>-139.0</td>\n",
       "      <td>4.477</td>\n",
       "      <td>0.095</td>\n",
       "      <td>-0.105</td>\n",
       "      <td>0.854</td>\n",
       "      <td>0.103</td>\n",
       "      <td>-0.093</td>\n",
       "      <td>286.81937</td>\n",
       "      <td>46.911690</td>\n",
       "      <td>13.632</td>\n",
       "    </tr>\n",
       "    <tr>\n",
       "      <th>2</th>\n",
       "      <td>2605</td>\n",
       "      <td>10024701</td>\n",
       "      <td>K02002.01</td>\n",
       "      <td>Kepler-1046 b</td>\n",
       "      <td>CONFIRMED</td>\n",
       "      <td>CANDIDATE</td>\n",
       "      <td>1.000</td>\n",
       "      <td>0</td>\n",
       "      <td>0</td>\n",
       "      <td>0</td>\n",
       "      <td>...</td>\n",
       "      <td>-130.0</td>\n",
       "      <td>4.403</td>\n",
       "      <td>0.076</td>\n",
       "      <td>-0.114</td>\n",
       "      <td>1.053</td>\n",
       "      <td>0.168</td>\n",
       "      <td>-0.104</td>\n",
       "      <td>296.75574</td>\n",
       "      <td>46.998291</td>\n",
       "      <td>13.286</td>\n",
       "    </tr>\n",
       "    <tr>\n",
       "      <th>3</th>\n",
       "      <td>7125</td>\n",
       "      <td>10053138</td>\n",
       "      <td>K07279.01</td>\n",
       "      <td>NaN</td>\n",
       "      <td>CANDIDATE</td>\n",
       "      <td>CANDIDATE</td>\n",
       "      <td>0.769</td>\n",
       "      <td>0</td>\n",
       "      <td>0</td>\n",
       "      <td>0</td>\n",
       "      <td>...</td>\n",
       "      <td>-72.0</td>\n",
       "      <td>4.333</td>\n",
       "      <td>0.154</td>\n",
       "      <td>-0.126</td>\n",
       "      <td>1.056</td>\n",
       "      <td>0.191</td>\n",
       "      <td>-0.173</td>\n",
       "      <td>280.71948</td>\n",
       "      <td>47.072220</td>\n",
       "      <td>13.717</td>\n",
       "    </tr>\n",
       "    <tr>\n",
       "      <th>4</th>\n",
       "      <td>5105</td>\n",
       "      <td>10063208</td>\n",
       "      <td>K04292.01</td>\n",
       "      <td>Kepler-1583 b</td>\n",
       "      <td>CONFIRMED</td>\n",
       "      <td>CANDIDATE</td>\n",
       "      <td>0.995</td>\n",
       "      <td>0</td>\n",
       "      <td>0</td>\n",
       "      <td>0</td>\n",
       "      <td>...</td>\n",
       "      <td>-82.0</td>\n",
       "      <td>4.514</td>\n",
       "      <td>0.032</td>\n",
       "      <td>-0.128</td>\n",
       "      <td>0.888</td>\n",
       "      <td>0.138</td>\n",
       "      <td>-0.046</td>\n",
       "      <td>286.38693</td>\n",
       "      <td>47.016628</td>\n",
       "      <td>12.897</td>\n",
       "    </tr>\n",
       "  </tbody>\n",
       "</table>\n",
       "<p>5 rows × 50 columns</p>\n",
       "</div>"
      ],
      "text/plain": [
       "   rowid     kepid kepoi_name    kepler_name koi_disposition koi_pdisposition  \\\n",
       "0   4966  10000941  K04146.01  Kepler-1558 b       CONFIRMED        CANDIDATE   \n",
       "1   4967  10000941  K04146.02            NaN       CANDIDATE        CANDIDATE   \n",
       "2   2605  10024701  K02002.01  Kepler-1046 b       CONFIRMED        CANDIDATE   \n",
       "3   7125  10053138  K07279.01            NaN       CANDIDATE        CANDIDATE   \n",
       "4   5105  10063208  K04292.01  Kepler-1583 b       CONFIRMED        CANDIDATE   \n",
       "\n",
       "   koi_score  koi_fpflag_nt  koi_fpflag_ss  koi_fpflag_co     ...      \\\n",
       "0      0.999              0              0              0     ...       \n",
       "1      1.000              0              0              0     ...       \n",
       "2      1.000              0              0              0     ...       \n",
       "3      0.769              0              0              0     ...       \n",
       "4      0.995              0              0              0     ...       \n",
       "\n",
       "   koi_steff_err2  koi_slogg  koi_slogg_err1  koi_slogg_err2  koi_srad  \\\n",
       "0          -139.0      4.477           0.095          -0.105     0.854   \n",
       "1          -139.0      4.477           0.095          -0.105     0.854   \n",
       "2          -130.0      4.403           0.076          -0.114     1.053   \n",
       "3           -72.0      4.333           0.154          -0.126     1.056   \n",
       "4           -82.0      4.514           0.032          -0.128     0.888   \n",
       "\n",
       "   koi_srad_err1  koi_srad_err2         ra        dec  koi_kepmag  \n",
       "0          0.103         -0.093  286.81937  46.911690      13.632  \n",
       "1          0.103         -0.093  286.81937  46.911690      13.632  \n",
       "2          0.168         -0.104  296.75574  46.998291      13.286  \n",
       "3          0.191         -0.173  280.71948  47.072220      13.717  \n",
       "4          0.138         -0.046  286.38693  47.016628      12.897  \n",
       "\n",
       "[5 rows x 50 columns]"
      ]
     },
     "execution_count": 5,
     "metadata": {},
     "output_type": "execute_result"
    }
   ],
   "source": [
    "file_name = '../../Training/catalogs/shortperiodbright_KOI.csv'\n",
    "koi = pd.read_csv(file_name)\n",
    "#print koi.columns.values\n",
    "print len(np.unique(koi[\"kepid\"])),  koi.shape\n",
    "koi.head(5)"
   ]
  },
  {
   "cell_type": "code",
   "execution_count": 6,
   "metadata": {
    "collapsed": false
   },
   "outputs": [
    {
     "name": "stdout",
     "output_type": "stream",
     "text": [
      "209\n"
     ]
    }
   ],
   "source": [
    "star_ids = koi[\"kepid\"].values.tolist()\n",
    "star_planet_count = np.zeros(392)\n",
    "for i, star_id in enumerate(star_ids):\n",
    "    star_planet_count[i] = star_ids.count(star_id)\n",
    "print len(np.where(star_planet_count==1)[0])"
   ]
  },
  {
   "cell_type": "code",
   "execution_count": 7,
   "metadata": {
    "collapsed": false
   },
   "outputs": [
    {
     "name": "stdout",
     "output_type": "stream",
     "text": [
      "999\n",
      "1999\n",
      "2999\n",
      "3999\n",
      "9702072\n",
      "0.00066842491417 7.0 4.0 9.26999999997e-05 26.9796873529\n",
      "9702072\n",
      "0.00066842491417 7.0 4.0 9.02000000007e-05 27.7274613923\n",
      "9702072\n",
      "0.00066842491417 7.0 4.0 9.26000539951e-05 27.0088073355\n",
      "9702072\n",
      "0.00066842491417 7.0 4.0 9.9800000001e-05 25.0602907574\n",
      "9702072\n",
      "0.00066842491417 7.0 4.0 0.000101799999999 24.5679471279\n",
      "9702072\n",
      "0.00066842491417 7.0 4.0 9.31000000008e-05 26.8637703285\n",
      "9702072\n",
      "0.00066842491417 7.0 4.0 9.21500135644e-05 27.1407124196\n",
      "9702072\n",
      "0.00066842491417 7.0 4.0 0.0001055 23.7063224418\n",
      "9702072\n",
      "0.00066842491417 7.0 4.0 0.000102400048829 24.423982666\n",
      "9702072\n",
      "0.00066842491417 7.0 4.0 8.55500584459e-05 29.2345448155\n",
      "9702072\n",
      "0.00066842491417 7.0 4.0 9.17000000005e-05 27.2739042268\n",
      "9702072\n",
      "0.00066842491417 7.0 4.0 8.44999999998e-05 29.597834528\n",
      "9702072\n",
      "0.00066842491417 7.0 4.0 0.00010955001141 22.8299110646\n",
      "9702072\n",
      "0.00066842491417 7.0 4.0 9.09999999994e-05 27.4837034904\n",
      "9702072\n",
      "0.00066842491417 7.0 4.0 9.24500135221e-05 27.0526409064\n",
      "9702072\n",
      "0.00066842491417 7.0 4.0 0.000126999999999 19.6930473829\n",
      "9702072\n",
      "0.00066842491417 7.0 4.0 0.000120100010407 20.8244529632\n",
      "9702072\n",
      "0.00066842491417 7.0 4.0 0.000111450179453 22.4406728629\n"
     ]
    }
   ],
   "source": [
    "star_name = koi[\"kepid\"]\n",
    "periods = koi[\"koi_period\"]\n",
    "#data  = np.loadtxt(file_name, dtype = str, delimiter=\",\")#.reshape(data.shape[0], 5)\n",
    "lc_data = np.loadtxt(\"../../Training/simulation/primaryKOI/\"+file_list[0][:-21]+\"_prim_ltf.lc\")\n",
    "inds = np.where(koi[\"koi_model_snr\"]==np.nan)[0]\n",
    "koi[\"koi_model_snr\"][inds]==100.\n",
    "#values = np.core.defchararray.add(data[:,0], \"-\")\n",
    "#values = np.core.defchararray.add(values, data[:, 1])\n",
    "\n",
    "SNR = np.zeros(len(file_list))\n",
    "periods = np.zeros_like(SNR)\n",
    "star_name_id = np.zeros_like(SNR)\n",
    "star_segment = np.zeros_like(SNR)\n",
    "\n",
    "#other_feats = np.empty(shape=[0,5])\n",
    "#koi_lc_data = np.empty(shape=[0,lc_data.shape[0]+4])\n",
    "#print \"Lenght\", len(file_list)\n",
    "\n",
    "\n",
    "#print data.shape\n",
    "start  = time.time()\n",
    "# create KOI lc file with p rad, s rad,period,  duration\n",
    "for i, val in enumerate(file_list):\n",
    "    name = int(val.split(\"-\")[0])\n",
    "    file_name = (val.split(\"-\")[0]) + \"-\"+(val.split(\"-\")[1]).split(\"_\")[0]\n",
    "   \n",
    "    if name in star_name.tolist():\n",
    "        lc_data = np.loadtxt(\"../../Training/simulation/primaryKOI//\"+file_name+\"_prim_ltf.lc\")    \n",
    "        location = np.where(star_name== int(name))[0]\n",
    "        #planet_num = 0\n",
    "        if len(location) > 1:\n",
    "            planet_num = np.where(koi[\"koi_model_snr\"][location].max() == koi[\"koi_model_snr\"][location])[0]\n",
    "            location =   np.where(star_name== int(name))[0][planet_num]\n",
    "        else:\n",
    "            location = np.where(star_name== int(name))[0][0]\n",
    "        \n",
    "        try:\n",
    "            depth = ((koi[\"koi_prad\"][location]/ koi[\"koi_srad\"][location])/float(110))**2\n",
    "            #print len(location)\n",
    "       \n",
    "            period = koi[\"koi_period\"][location] #days\n",
    "            periods[i] = period\n",
    "            #print period\n",
    "            duration = koi[\"koi_duration\"][location] #hours\n",
    "            model_snr = koi[\"koi_model_snr\"][location]\n",
    "            n_points = np.floor(duration * 2) # assuming duration is given in hours, as days does not make sense\n",
    "            meidan = np.median(lc_data[:,2]) # flux\n",
    "            error = np.median(np.abs(lc_data[:,2]-meidan)**2)**0.5\n",
    "            n_transits = float(26)//float(period) +1\n",
    "            #values = np.asarray([koi[\"koi_prad\"][location], koi[\"koi_srad\"][location], period, duration, name]).reshape(1,5)\n",
    "            #other_feats = np.append(other_feats, values, axis = 0)\n",
    "\n",
    "            SNR[i] = depth*np.sqrt(n_transits) * np.sqrt(n_points)/(error*np.sqrt(2))\n",
    "            star_name_id[i] = val.split(\"-\")[0]\n",
    "            star_segment[i] = (val.split(\"-\")[1]).split(\"_\")[0]\n",
    "            if name == 9702072:\n",
    "                print name\n",
    "                print depth, n_transits, n_points, error, SNR[i]\n",
    "        \n",
    "        except:\n",
    "            #print name\n",
    "            continue\n",
    "        #'''\n",
    "        \n",
    "        \n",
    "       \n",
    "    else:\n",
    "        print \"Not in list\", val[:-17]#+\"ltf.lc\"\n",
    "    if i %1000 ==999:\n",
    "        print i\n",
    "\n"
   ]
  },
  {
   "cell_type": "code",
   "execution_count": 13,
   "metadata": {
    "collapsed": false
   },
   "outputs": [
    {
     "name": "stdout",
     "output_type": "stream",
     "text": [
      "(4251, 3)\n",
      "(4251, 3)\n"
     ]
    }
   ],
   "source": [
    "SNR = np.asarray(SNR)\n",
    "size = SNR.shape[0]\n",
    "SNR_feats = np.hstack([star_name_id.reshape(size, 1), star_segment.reshape(size,1), SNR.reshape(size, 1)])\n",
    "np.savetxt(\"../Data/SNR_feats_KOIS_4251_fixed.txt\", SNR_feats)\n",
    "print SNR_feats.shape\n",
    "print SNR_feats.shape\n",
    "#np.savetxt(\"Extra_feats_KOIS_4251.txt\", other_feats)\n",
    "\n",
    "#print SNR.shape\n",
    "#print periods.shape\n",
    "#end = time.time()\n",
    "#print \"Time\", end - start\n",
    "np.savetxt(\"../Data/koi_periods.txt\", periods)\n"
   ]
  },
  {
   "cell_type": "code",
   "execution_count": 12,
   "metadata": {
    "collapsed": false
   },
   "outputs": [
    {
     "name": "stdout",
     "output_type": "stream",
     "text": [
      "nan\n",
      "0.0 2497.49229089\n"
     ]
    },
    {
     "data": {
      "text/plain": [
       "(array([  1.90100000e+03,   9.84000000e+02,   5.29000000e+02,\n",
       "          3.10000000e+02,   1.09000000e+02,   8.20000000e+01,\n",
       "          4.70000000e+01,   1.90000000e+01,   2.80000000e+01,\n",
       "          3.40000000e+01,   2.40000000e+01,   2.70000000e+01,\n",
       "          2.40000000e+01,   1.70000000e+01,   3.00000000e+00,\n",
       "          3.00000000e+00,   0.00000000e+00,   0.00000000e+00,\n",
       "          1.00000000e+00]),\n",
       " array([   0.        ,    5.26315789,   10.52631579,   15.78947368,\n",
       "          21.05263158,   26.31578947,   31.57894737,   36.84210526,\n",
       "          42.10526316,   47.36842105,   52.63157895,   57.89473684,\n",
       "          63.15789474,   68.42105263,   73.68421053,   78.94736842,\n",
       "          84.21052632,   89.47368421,   94.73684211,  100.        ]),\n",
       " <a list of 19 Patch objects>)"
      ]
     },
     "execution_count": 12,
     "metadata": {},
     "output_type": "execute_result"
    },
    {
     "data": {
      "image/png": "[encoded data removed]",
      "text/plain": [
       "<matplotlib.figure.Figure at 0x7fdd600aded0>"
      ]
     },
     "metadata": {},
     "output_type": "display_data"
    }
   ],
   "source": [
    "#plt.hist(SNR)\n",
    "\n",
    "SNR = np.loadtxt(\"../Data/SNR_feats_KOIS_4251_fixed.txt\")[:,2]\n",
    "print SNR.min()\n",
    "SNR = np.nan_to_num(SNR)\n",
    "print SNR.min(), SNR.max()\n",
    "plt.hist(SNR, bins = np.linspace(0,1e2,20))\n",
    "#print SNR\n",
    "\n",
    "#lc_data = np.loadtxt(\"../Training/simulation/primary/\"+file_name+\"_prim_ltf.lc\")\n",
    "\n",
    "#lc_data = np.loadtxt(\"../Training/simulation/primary/\"+file_list[np.where(SNR.max()== SNR)[0]][:-15] + \"_prim_ltf.lc\")\n",
    "#plt.scatter(lc_data[:,0], lc_data[:,1])"
   ]
  },
  {
   "cell_type": "code",
   "execution_count": null,
   "metadata": {
    "collapsed": false
   },
   "outputs": [],
   "source": [
    "print koi.columns.values.tolist()\n",
    "for header in koi.columns.values.tolist():\n",
    "    if koi[header].min()>=0 and koi[header].max()<=1:\n",
    "        print koi[header].min(), koi[header].max(), header"
   ]
  },
  {
   "cell_type": "code",
   "execution_count": null,
   "metadata": {
    "collapsed": false
   },
   "outputs": [],
   "source": [
    "print koi[\"koi_depth\"].max()\n",
    "print np.where(koi[\"koi_depth\"].max()== koi[\"koi_depth\"])\n",
    "print np.where(211== koi[\"koi_depth\"])"
   ]
  },
  {
   "cell_type": "code",
   "execution_count": null,
   "metadata": {
    "collapsed": false
   },
   "outputs": [],
   "source": [
    "#print koi[[\"koi_srad\", \"koi_prad\", \"S_to_P\"]], \n",
    "plt.hist(SNR, alpha = 0.5, bins=np.linspace(1, 30, 20), normed=1, label = \"manual SNR\")\n",
    "#fig = plt.figure()\n",
    "#print koi[\"koi_model_snr\"].min(),  koi[\"koi_model_snr\"].max()\n",
    "koi_model_snr=  np.asarray(koi[\"koi_model_snr\"].values) / 7. \n",
    "koi_model_snr = np.nan_to_num(koi_model_snr)\n",
    "plt.hist(koi_model_snr, bins=np.linspace(1, 30, 20), alpha = 0.5, normed=1, label=\"Model SNR\")\n",
    "plt.legend()"
   ]
  },
  {
   "cell_type": "code",
   "execution_count": 13,
   "metadata": {
    "collapsed": false
   },
   "outputs": [
    {
     "name": "stdout",
     "output_type": "stream",
     "text": [
      "200     26.8\n",
      "201     24.4\n",
      "202     25.8\n",
      "203     39.0\n",
      "204     36.9\n",
      "205      6.0\n",
      "206     82.6\n",
      "207     43.1\n",
      "208     25.6\n",
      "209     18.1\n",
      "210     12.7\n",
      "211     10.9\n",
      "212     12.5\n",
      "213      9.6\n",
      "214    119.3\n",
      "215     53.8\n",
      "216     19.2\n",
      "217     17.4\n",
      "218     15.5\n",
      "219    165.5\n",
      "Name: koi_model_snr, dtype: float64\n"
     ]
    }
   ],
   "source": [
    "print koi[\"koi_model_snr\"][200:220]"
   ]
  },
  {
   "cell_type": "code",
   "execution_count": null,
   "metadata": {
    "collapsed": true
   },
   "outputs": [],
   "source": []
  }
 ],
 "metadata": {
  "kernelspec": {
   "display_name": "Python [conda root]",
   "language": "python",
   "name": "conda-root-py"
  },
  "language_info": {
   "codemirror_mode": {
    "name": "ipython",
    "version": 2
   },
   "file_extension": ".py",
   "mimetype": "text/x-python",
   "name": "python",
   "nbconvert_exporter": "python",
   "pygments_lexer": "ipython2",
   "version": "2.7.12"
  }
 },
 "nbformat": 4,
 "nbformat_minor": 1
}
