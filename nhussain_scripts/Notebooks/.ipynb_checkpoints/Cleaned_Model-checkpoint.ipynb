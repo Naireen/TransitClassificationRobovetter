{
 "cells": [
  {
   "cell_type": "code",
   "execution_count": 1,
   "metadata": {
    "collapsed": false
   },
   "outputs": [
    {
     "name": "stderr",
     "output_type": "stream",
     "text": [
      "/home/xuhuang/anaconda2/lib/python2.7/site-packages/sklearn/cross_validation.py:44: DeprecationWarning: This module was deprecated in version 0.18 in favor of the model_selection module into which all the refactored classes and functions are moved. Also note that the interface of the new CV iterators are different from that of this module. This module will be removed in 0.20.\n",
      "  \"This module will be removed in 0.20.\", DeprecationWarning)\n"
     ]
    }
   ],
   "source": [
    "#readFeats\n",
    "import numpy as np\n",
    "import pandas as pd\n",
    "import sklearn\n",
    "import matplotlib \n",
    "from matplotlib import pyplot as plt\n",
    "%matplotlib inline\n",
    "import os\n",
    "from sklearn.utils import shuffle\n",
    "import xgboost as xgb\n",
    "from xgboost import XGBClassifier\n",
    "from sklearn.model_selection import train_test_split\n",
    "from sklearn import metrics\n",
    "from sklearn.model_selection import cross_val_score\n",
    "from sklearn.ensemble import RandomForestClassifier\n"
   ]
  },
  {
   "cell_type": "code",
   "execution_count": 2,
   "metadata": {
    "collapsed": false
   },
   "outputs": [
    {
     "ename": "IOError",
     "evalue": "File Injected_feat_files_10000_fixed.csv does not exist",
     "output_type": "error",
     "traceback": [
      "\u001b[0;31m---------------------------------------------------------------------------\u001b[0m",
      "\u001b[0;31mIOError\u001b[0m                                   Traceback (most recent call last)",
      "\u001b[0;32m<ipython-input-2-dba0eff2e3f1>\u001b[0m in \u001b[0;36m<module>\u001b[0;34m()\u001b[0m\n\u001b[0;32m----> 1\u001b[0;31m \u001b[0minj\u001b[0m \u001b[0;34m=\u001b[0m \u001b[0mpd\u001b[0m\u001b[0;34m.\u001b[0m\u001b[0mread_csv\u001b[0m\u001b[0;34m(\u001b[0m\u001b[0;34m\"Injected_feat_files_10000_fixed.csv\"\u001b[0m\u001b[0;34m,\u001b[0m \u001b[0mindex_col\u001b[0m\u001b[0;34m=\u001b[0m\u001b[0;36m0\u001b[0m\u001b[0;34m)\u001b[0m\u001b[0;34m\u001b[0m\u001b[0m\n\u001b[0m\u001b[1;32m      2\u001b[0m \u001b[0;32mprint\u001b[0m \u001b[0mnp\u001b[0m\u001b[0;34m.\u001b[0m\u001b[0mwhere\u001b[0m\u001b[0;34m(\u001b[0m\u001b[0minj\u001b[0m \u001b[0;34m==\u001b[0m \u001b[0mnp\u001b[0m\u001b[0;34m.\u001b[0m\u001b[0mnan\u001b[0m\u001b[0;34m)\u001b[0m\u001b[0;34m\u001b[0m\u001b[0m\n\u001b[1;32m      3\u001b[0m \u001b[0;34m\u001b[0m\u001b[0m\n\u001b[1;32m      4\u001b[0m \u001b[0minv\u001b[0m \u001b[0;34m=\u001b[0m \u001b[0mpd\u001b[0m\u001b[0;34m.\u001b[0m\u001b[0mread_csv\u001b[0m\u001b[0;34m(\u001b[0m\u001b[0;34m\"Inverted_feat_files_fixed.csv\"\u001b[0m\u001b[0;34m,\u001b[0m \u001b[0mindex_col\u001b[0m\u001b[0;34m=\u001b[0m\u001b[0;36m0\u001b[0m\u001b[0;34m)\u001b[0m\u001b[0;34m\u001b[0m\u001b[0m\n\u001b[1;32m      5\u001b[0m \u001b[0;32mprint\u001b[0m \u001b[0mlen\u001b[0m\u001b[0;34m(\u001b[0m\u001b[0mnp\u001b[0m\u001b[0;34m.\u001b[0m\u001b[0mwhere\u001b[0m\u001b[0;34m(\u001b[0m\u001b[0minv\u001b[0m \u001b[0;34m==\u001b[0m \u001b[0mnp\u001b[0m\u001b[0;34m.\u001b[0m\u001b[0mnan\u001b[0m\u001b[0;34m)\u001b[0m\u001b[0;34m[\u001b[0m\u001b[0;36m0\u001b[0m\u001b[0;34m]\u001b[0m\u001b[0;34m)\u001b[0m\u001b[0;34m\u001b[0m\u001b[0m\n",
      "\u001b[0;32m/home/xuhuang/anaconda2/lib/python2.7/site-packages/pandas/io/parsers.pyc\u001b[0m in \u001b[0;36mparser_f\u001b[0;34m(filepath_or_buffer, sep, delimiter, header, names, index_col, usecols, squeeze, prefix, mangle_dupe_cols, dtype, engine, converters, true_values, false_values, skipinitialspace, skiprows, nrows, na_values, keep_default_na, na_filter, verbose, skip_blank_lines, parse_dates, infer_datetime_format, keep_date_col, date_parser, dayfirst, iterator, chunksize, compression, thousands, decimal, lineterminator, quotechar, quoting, escapechar, comment, encoding, dialect, tupleize_cols, error_bad_lines, warn_bad_lines, skipfooter, skip_footer, doublequote, delim_whitespace, as_recarray, compact_ints, use_unsigned, low_memory, buffer_lines, memory_map, float_precision)\u001b[0m\n\u001b[1;32m    644\u001b[0m                     skip_blank_lines=skip_blank_lines)\n\u001b[1;32m    645\u001b[0m \u001b[0;34m\u001b[0m\u001b[0m\n\u001b[0;32m--> 646\u001b[0;31m         \u001b[0;32mreturn\u001b[0m \u001b[0m_read\u001b[0m\u001b[0;34m(\u001b[0m\u001b[0mfilepath_or_buffer\u001b[0m\u001b[0;34m,\u001b[0m \u001b[0mkwds\u001b[0m\u001b[0;34m)\u001b[0m\u001b[0;34m\u001b[0m\u001b[0m\n\u001b[0m\u001b[1;32m    647\u001b[0m \u001b[0;34m\u001b[0m\u001b[0m\n\u001b[1;32m    648\u001b[0m     \u001b[0mparser_f\u001b[0m\u001b[0;34m.\u001b[0m\u001b[0m__name__\u001b[0m \u001b[0;34m=\u001b[0m \u001b[0mname\u001b[0m\u001b[0;34m\u001b[0m\u001b[0m\n",
      "\u001b[0;32m/home/xuhuang/anaconda2/lib/python2.7/site-packages/pandas/io/parsers.pyc\u001b[0m in \u001b[0;36m_read\u001b[0;34m(filepath_or_buffer, kwds)\u001b[0m\n\u001b[1;32m    387\u001b[0m \u001b[0;34m\u001b[0m\u001b[0m\n\u001b[1;32m    388\u001b[0m     \u001b[0;31m# Create the parser.\u001b[0m\u001b[0;34m\u001b[0m\u001b[0;34m\u001b[0m\u001b[0m\n\u001b[0;32m--> 389\u001b[0;31m     \u001b[0mparser\u001b[0m \u001b[0;34m=\u001b[0m \u001b[0mTextFileReader\u001b[0m\u001b[0;34m(\u001b[0m\u001b[0mfilepath_or_buffer\u001b[0m\u001b[0;34m,\u001b[0m \u001b[0;34m**\u001b[0m\u001b[0mkwds\u001b[0m\u001b[0;34m)\u001b[0m\u001b[0;34m\u001b[0m\u001b[0m\n\u001b[0m\u001b[1;32m    390\u001b[0m \u001b[0;34m\u001b[0m\u001b[0m\n\u001b[1;32m    391\u001b[0m     \u001b[0;32mif\u001b[0m \u001b[0;34m(\u001b[0m\u001b[0mnrows\u001b[0m \u001b[0;32mis\u001b[0m \u001b[0;32mnot\u001b[0m \u001b[0mNone\u001b[0m\u001b[0;34m)\u001b[0m \u001b[0;32mand\u001b[0m \u001b[0;34m(\u001b[0m\u001b[0mchunksize\u001b[0m \u001b[0;32mis\u001b[0m \u001b[0;32mnot\u001b[0m \u001b[0mNone\u001b[0m\u001b[0;34m)\u001b[0m\u001b[0;34m:\u001b[0m\u001b[0;34m\u001b[0m\u001b[0m\n",
      "\u001b[0;32m/home/xuhuang/anaconda2/lib/python2.7/site-packages/pandas/io/parsers.pyc\u001b[0m in \u001b[0;36m__init__\u001b[0;34m(self, f, engine, **kwds)\u001b[0m\n\u001b[1;32m    728\u001b[0m             \u001b[0mself\u001b[0m\u001b[0;34m.\u001b[0m\u001b[0moptions\u001b[0m\u001b[0;34m[\u001b[0m\u001b[0;34m'has_index_names'\u001b[0m\u001b[0;34m]\u001b[0m \u001b[0;34m=\u001b[0m \u001b[0mkwds\u001b[0m\u001b[0;34m[\u001b[0m\u001b[0;34m'has_index_names'\u001b[0m\u001b[0;34m]\u001b[0m\u001b[0;34m\u001b[0m\u001b[0m\n\u001b[1;32m    729\u001b[0m \u001b[0;34m\u001b[0m\u001b[0m\n\u001b[0;32m--> 730\u001b[0;31m         \u001b[0mself\u001b[0m\u001b[0;34m.\u001b[0m\u001b[0m_make_engine\u001b[0m\u001b[0;34m(\u001b[0m\u001b[0mself\u001b[0m\u001b[0;34m.\u001b[0m\u001b[0mengine\u001b[0m\u001b[0;34m)\u001b[0m\u001b[0;34m\u001b[0m\u001b[0m\n\u001b[0m\u001b[1;32m    731\u001b[0m \u001b[0;34m\u001b[0m\u001b[0m\n\u001b[1;32m    732\u001b[0m     \u001b[0;32mdef\u001b[0m \u001b[0mclose\u001b[0m\u001b[0;34m(\u001b[0m\u001b[0mself\u001b[0m\u001b[0;34m)\u001b[0m\u001b[0;34m:\u001b[0m\u001b[0;34m\u001b[0m\u001b[0m\n",
      "\u001b[0;32m/home/xuhuang/anaconda2/lib/python2.7/site-packages/pandas/io/parsers.pyc\u001b[0m in \u001b[0;36m_make_engine\u001b[0;34m(self, engine)\u001b[0m\n\u001b[1;32m    921\u001b[0m     \u001b[0;32mdef\u001b[0m \u001b[0m_make_engine\u001b[0m\u001b[0;34m(\u001b[0m\u001b[0mself\u001b[0m\u001b[0;34m,\u001b[0m \u001b[0mengine\u001b[0m\u001b[0;34m=\u001b[0m\u001b[0;34m'c'\u001b[0m\u001b[0;34m)\u001b[0m\u001b[0;34m:\u001b[0m\u001b[0;34m\u001b[0m\u001b[0m\n\u001b[1;32m    922\u001b[0m         \u001b[0;32mif\u001b[0m \u001b[0mengine\u001b[0m \u001b[0;34m==\u001b[0m \u001b[0;34m'c'\u001b[0m\u001b[0;34m:\u001b[0m\u001b[0;34m\u001b[0m\u001b[0m\n\u001b[0;32m--> 923\u001b[0;31m             \u001b[0mself\u001b[0m\u001b[0;34m.\u001b[0m\u001b[0m_engine\u001b[0m \u001b[0;34m=\u001b[0m \u001b[0mCParserWrapper\u001b[0m\u001b[0;34m(\u001b[0m\u001b[0mself\u001b[0m\u001b[0;34m.\u001b[0m\u001b[0mf\u001b[0m\u001b[0;34m,\u001b[0m \u001b[0;34m**\u001b[0m\u001b[0mself\u001b[0m\u001b[0;34m.\u001b[0m\u001b[0moptions\u001b[0m\u001b[0;34m)\u001b[0m\u001b[0;34m\u001b[0m\u001b[0m\n\u001b[0m\u001b[1;32m    924\u001b[0m         \u001b[0;32melse\u001b[0m\u001b[0;34m:\u001b[0m\u001b[0;34m\u001b[0m\u001b[0m\n\u001b[1;32m    925\u001b[0m             \u001b[0;32mif\u001b[0m \u001b[0mengine\u001b[0m \u001b[0;34m==\u001b[0m \u001b[0;34m'python'\u001b[0m\u001b[0;34m:\u001b[0m\u001b[0;34m\u001b[0m\u001b[0m\n",
      "\u001b[0;32m/home/xuhuang/anaconda2/lib/python2.7/site-packages/pandas/io/parsers.pyc\u001b[0m in \u001b[0;36m__init__\u001b[0;34m(self, src, **kwds)\u001b[0m\n\u001b[1;32m   1388\u001b[0m         \u001b[0mkwds\u001b[0m\u001b[0;34m[\u001b[0m\u001b[0;34m'allow_leading_cols'\u001b[0m\u001b[0;34m]\u001b[0m \u001b[0;34m=\u001b[0m \u001b[0mself\u001b[0m\u001b[0;34m.\u001b[0m\u001b[0mindex_col\u001b[0m \u001b[0;32mis\u001b[0m \u001b[0;32mnot\u001b[0m \u001b[0mFalse\u001b[0m\u001b[0;34m\u001b[0m\u001b[0m\n\u001b[1;32m   1389\u001b[0m \u001b[0;34m\u001b[0m\u001b[0m\n\u001b[0;32m-> 1390\u001b[0;31m         \u001b[0mself\u001b[0m\u001b[0;34m.\u001b[0m\u001b[0m_reader\u001b[0m \u001b[0;34m=\u001b[0m \u001b[0m_parser\u001b[0m\u001b[0;34m.\u001b[0m\u001b[0mTextReader\u001b[0m\u001b[0;34m(\u001b[0m\u001b[0msrc\u001b[0m\u001b[0;34m,\u001b[0m \u001b[0;34m**\u001b[0m\u001b[0mkwds\u001b[0m\u001b[0;34m)\u001b[0m\u001b[0;34m\u001b[0m\u001b[0m\n\u001b[0m\u001b[1;32m   1391\u001b[0m \u001b[0;34m\u001b[0m\u001b[0m\n\u001b[1;32m   1392\u001b[0m         \u001b[0;31m# XXX\u001b[0m\u001b[0;34m\u001b[0m\u001b[0;34m\u001b[0m\u001b[0m\n",
      "\u001b[0;32mpandas/parser.pyx\u001b[0m in \u001b[0;36mpandas.parser.TextReader.__cinit__ (pandas/parser.c:4184)\u001b[0;34m()\u001b[0m\n",
      "\u001b[0;32mpandas/parser.pyx\u001b[0m in \u001b[0;36mpandas.parser.TextReader._setup_parser_source (pandas/parser.c:8449)\u001b[0;34m()\u001b[0m\n",
      "\u001b[0;31mIOError\u001b[0m: File Injected_feat_files_10000_fixed.csv does not exist"
     ]
    }
   ],
   "source": [
    "inj = pd.read_csv(\"../Injected_feat_files_10000_fixed.csv\", index_col=0)\n",
    "print np.where(inj == np.nan)\n",
    "\n",
    "inv = pd.read_csv(\"Inverted_feat_files_fixed.csv\", index_col=0)\n",
    "print len(np.where(inv == np.nan)[0])\n",
    "#inj.head()\n"
   ]
  },
  {
   "cell_type": "code",
   "execution_count": null,
   "metadata": {
    "collapsed": false
   },
   "outputs": [],
   "source": [
    "\n",
    "\n",
    "#inv.head()\n",
    "#total_data_inv_frame.to_csv(\"Inverted_feat_files.csv\")"
   ]
  },
  {
   "cell_type": "code",
   "execution_count": null,
   "metadata": {
    "collapsed": false
   },
   "outputs": [],
   "source": [
    "SNR_inj = np.loadtxt(\"SNR_10000_corrected.txt\")[:10000]\n",
    "true_trans = (SNR_inj>=6).astype(int)\n",
    "print \"Retained Transits\", len(np.where(true_trans==1)[0])\n",
    "\n",
    "inj[\"Y\"] = true_trans\n",
    "zero_length = np.zeros(inv.shape[0])\n",
    "inv[\"Y\"] = zero_length\n",
    "total_signals = pd.concat([inj, inv], axis = 0)\n",
    "\n",
    "drop_columns = [x for x in total_signals.columns.values.tolist() if \"BLS\"  in x]\n",
    "#drop_columns = [\"BLS_Npointsaftertransit_1_0\", \"BLS_Npointsintransit_1_0\",\n",
    "#                \"BLS_Npointsbeforetransit_1_0\",\"BLS_OOTmag_1_0\" , \"BLS_Tc_1_0\" ]\n",
    "#del total_signals[\"BLS_Npointsaftertransit_1_0\"]\n",
    "#del total_signals[\"BLS_Npointsintransit_1_0\"]\n",
    "#del total_signals[\"BLS_Npointsbeforetransit_1_0\"]\n",
    "#del total_signals[\"BLS_OOTmag_1_0\"]\n",
    "#del total_signals[\"BLS_Tc_1_0\"]\n",
    "\n",
    "total_signals= total_signals.drop(drop_columns, axis =1)\n",
    "\n",
    "print total_signals.columns.values\n",
    "\n",
    "labels = total_signals[\"Y\"]\n",
    "del  total_signals[\"Y\"]\n",
    "total_signals = total_signals.replace(np.nan, 0)\n",
    "total_signals = total_signals.replace(np.inf, 0)\n",
    "total_signals = total_signals.replace(-np.inf, 0)\n",
    "print total_signals.columns.values\n",
    "\n",
    "object_label = np.ones_like(true_trans)#vi\n",
    "object_label[true_trans==1] =2 \n",
    "inv_labels = np.zeros(inv.shape[0])\n",
    "inv_labels.fill(3)\n",
    "object_label = np.append(object_label, inv_labels)\n",
    "print np.unique(object_label)"
   ]
  },
  {
   "cell_type": "code",
   "execution_count": null,
   "metadata": {
    "collapsed": false
   },
   "outputs": [],
   "source": [
    "shuffleX, shuffleY , shuffle_labels= shuffle(total_signals, labels, object_label, random_state =0)\n",
    "shuffleX = shuffleX.reset_index(drop = True)\n",
    "shuffleY = shuffleY.reset_index(drop = True)\n",
    "\n",
    "print shuffleX.shape, shuffleY.shape #, train_label.shape\n",
    "\n",
    "trainX, testX, trainY, testY, train_label, test_label = train_test_split(shuffleX, shuffleY, shuffle_labels, stratify =shuffle_labels, test_size = 0.20,random_state = 0 )\n",
    "\n",
    "print \"Strong Transits in training\" , len(np.where([(trainY==1) & (train_label==2)])[0]) \n",
    "print \"Weak Transits in training\" , len(np.where([(trainY==0) & (train_label==1)])[0]) \n",
    "print \"Inverted Signals in training\" , len(np.where([(trainY==0) & (train_label==3)])[0]) , \"\\n\"\n",
    "print \"Strong Transits in testing\" , len(np.where([(testY==1) & (test_label==2)])[0]) \n",
    "print \"Weak Signals in testing\" , len(np.where([(testY==0) & (test_label==1)])[0]) \n",
    "print \"Inverted Signals in testing\" , len(np.where([(testY==0) & (test_label==3)])[0]) \n",
    "\n",
    "#print \"\\n\",shuffleX.columns.values"
   ]
  },
  {
   "cell_type": "code",
   "execution_count": null,
   "metadata": {
    "collapsed": false
   },
   "outputs": [],
   "source": [
    "# try cross validation\n",
    "xgbc = XGBClassifier(n_estimators = 300, seed=8, max_depth = 8, colsample_bytree=0.95, subsample=0.85)\n",
    "xgb_params  = xgbc.get_params()\n",
    "dtrain = xgb.DMatrix(shuffleX, label=shuffleY)\n",
    "scores = xgb.cv(xgb_params, dtrain, metrics=\"auc\", seed=0 ,nfold=5, stratified=True)\n",
    "np.mean(scores)"
   ]
  },
  {
   "cell_type": "code",
   "execution_count": null,
   "metadata": {
    "collapsed": false
   },
   "outputs": [],
   "source": [
    "xgbc.fit(trainX, trainY)\n",
    "preds = xgbc.predict(testX)\n",
    "print metrics.average_precision_score(testY, preds)\n",
    "print metrics.f1_score(testY, preds)\n",
    "preds = xgbc.predict(testX)\n"
   ]
  },
  {
   "cell_type": "code",
   "execution_count": null,
   "metadata": {
    "collapsed": false
   },
   "outputs": [],
   "source": [
    "#try determine  things like false positive rate\n",
    "print \"Precision\", metrics.precision_score(testY, preds)\n",
    "print \"Recall\", metrics.recall_score(testY, preds)\n",
    "print \"ROC\" , metrics.roc_auc_score(testY, preds)\n",
    "#print len(preds)\n",
    "\n",
    "false_positive_inverted  = len(np.where([(preds==1) & (testY==0) & (test_label==3)])[0])\n",
    "false_positive_weak_sig  = len(np.where([(preds==1) & (testY==0) & (test_label==1)])[0])\n",
    "false_negative_strong_sig  = len(np.where([(preds==0) & (testY==1) & (test_label==2)])[0])\n",
    "\n",
    "#how many weak, and strong signals and inverted in test sample?\n",
    "print \"Inverted\", len(np.where([(testY==0) & (test_label==3)])[0])\n",
    "print \"Strong Transit\", len(np.where([(testY==1) & (test_label==2)])[0])\n",
    "print \"Weak transit \", len(np.where([(testY==0) & (test_label==1)])[0]) ,\"\\n\"\n",
    "\n",
    "print \"Num of false positive inverted,  and false_negative strong sig, false positive weak sig\"\n",
    "print false_positive_inverted,  false_negative_strong_sig, false_positive_weak_sig\n",
    "\n",
    "\n",
    "#how many weak, and strong signals and inverted in test sample?\n",
    "print \"Inverted Percent False Positive Rate\", float(false_positive_inverted) / len(np.where([(testY==0) & (test_label==3)])[0])\n",
    "print \"Strong Transit False Negative Rate?\", float(false_negative_strong_sig) / len(np.where([(testY==1) & (test_label==2)])[0])\n",
    "print \"Weak transit False Positive Rate\", float(false_positive_weak_sig) / len(np.where([(testY==0) & (test_label==1)])[0])"
   ]
  },
  {
   "cell_type": "code",
   "execution_count": null,
   "metadata": {
    "collapsed": false
   },
   "outputs": [],
   "source": [
    "#load the testing _kois\n",
    "koi_SNR = np.loadtxt(\"SNR_KOIS_4251.txt\")\n",
    "koi = pd.read_csv(\"KOI_feat_files_4251.csv\", index_col=0)\n",
    "koi_true = (koi_SNR>6).astype(int)\n",
    "print \"Retained Transits\", len(np.where(koi_true==1)[0]), \"from\", koi.shape[0]\n",
    "print koi.shape\n",
    "print koi.columns.values\n",
    "koi = koi.drop(drop_columns, axis=1)"
   ]
  },
  {
   "cell_type": "code",
   "execution_count": null,
   "metadata": {
    "collapsed": false
   },
   "outputs": [],
   "source": [
    "preds =  xgbc.predict(koi)\n",
    "print \"Scores with treating all KOIS as real:\"\n",
    "print \"Recall\", metrics.recall_score(np.ones_like(preds), preds)\n",
    "print \"False Negatives:\", len(np.where(preds ==0)[0])\n",
    "print \"Precision\", metrics.precision_score(np.ones_like(preds), preds)\n",
    "\n",
    "print \"\\n Scores with the SNR cut made to the true values\"\n",
    "print \"Recall\", metrics.recall_score(koi_true, preds)\n",
    "print \"False Postives:\", len(np.where((koi_true==0) & (preds==1))[0])\n",
    "print \"False Negative:\", len(np.where((koi_true==1) & (preds==0))[0])\n",
    "print \"Precision\", metrics.precision_score(koi_true, preds)\n",
    "\n",
    "\n",
    "feat_imp = pd.Series(xgbc.booster().get_fscore()).sort_values(ascending= False)\n",
    "feat_imp.plot(kind = \"bar\", figsize = (12, 8))"
   ]
  },
  {
   "cell_type": "code",
   "execution_count": null,
   "metadata": {
    "collapsed": false
   },
   "outputs": [],
   "source": []
  },
  {
   "cell_type": "code",
   "execution_count": null,
   "metadata": {
    "collapsed": true
   },
   "outputs": [],
   "source": []
  }
 ],
 "metadata": {
  "anaconda-cloud": {},
  "kernelspec": {
   "display_name": "Python [conda root]",
   "language": "python",
   "name": "conda-root-py"
  },
  "language_info": {
   "codemirror_mode": {
    "name": "ipython",
    "version": 2
   },
   "file_extension": ".py",
   "mimetype": "text/x-python",
   "name": "python",
   "nbconvert_exporter": "python",
   "pygments_lexer": "ipython2",
   "version": "2.7.12"
  }
 },
 "nbformat": 4,
 "nbformat_minor": 1
}
