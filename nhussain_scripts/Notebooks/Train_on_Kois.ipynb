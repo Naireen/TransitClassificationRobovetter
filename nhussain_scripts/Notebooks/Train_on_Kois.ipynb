{
 "cells": [
  {
   "cell_type": "code",
   "execution_count": 1,
   "metadata": {
    "collapsed": false
   },
   "outputs": [
    {
     "name": "stderr",
     "output_type": "stream",
     "text": [
      "/home/xuhuang/anaconda2/lib/python2.7/site-packages/sklearn/cross_validation.py:44: DeprecationWarning: This module was deprecated in version 0.18 in favor of the model_selection module into which all the refactored classes and functions are moved. Also note that the interface of the new CV iterators are different from that of this module. This module will be removed in 0.20.\n",
      "  \"This module will be removed in 0.20.\", DeprecationWarning)\n"
     ]
    }
   ],
   "source": [
    "import numpy as np\n",
    "import pandas as pd\n",
    "import sklearn\n",
    "import matplotlib \n",
    "from matplotlib import pyplot as plt\n",
    "%matplotlib inline\n",
    "import os\n",
    "from sklearn.utils import shuffle\n",
    "import xgboost as xgb\n",
    "from xgboost import XGBClassifier\n",
    "from sklearn.model_selection import train_test_split\n",
    "from sklearn import metrics\n",
    "from sklearn.model_selection import cross_val_score\n",
    "from sklearn.ensemble import RandomForestClassifier\n",
    "import hyperopt\n",
    "from hyperopt import  hp, fmin, tpe, STATUS_OK, Trials"
   ]
  },
  {
   "cell_type": "code",
   "execution_count": 30,
   "metadata": {
    "collapsed": true
   },
   "outputs": [],
   "source": [
    "inj = pd.read_csv(\"../Data/Injected_feat_files_10000_fixed.csv\", index_col=0)\n",
    "inv = pd.read_csv(\"../Data/Inverted_feat_files_fixed.csv\", index_col=0)\n",
    "inj_periods = np.loadtxt(\"../../Training/simulation/injection/injection.txt\", dtype= str, delimiter=\",\")[:10000, 3].astype(\"float64\")\n",
    "inj_SNR = np.loadtxt(\"../Data/SNR_10000_corrected.txt\")[:10000]\n",
    "inj_tol = np.loadtxt(\"../Data/period_harmonics_10000_inj_signals_tol_5x5.txt\")\n",
    "\n",
    "#kois\n",
    "koi = pd.read_csv(\"../Data/KOI_feat_files_4251_fixed_ordered.csv\", index_col=0)\n",
    "koi_tol = np.loadtxt(\"../Data/period_harmonics_4251_koi_signals_tol_5x5_ordered.txt\")\n",
    "koi_SNR = np.loadtxt(\"../Data/SNR_feats_KOIS_4251.txt\")\n",
    "koi_periods = np.loadtxt(\"../Data/koi_periods.txt\")\n"
   ]
  },
  {
   "cell_type": "code",
   "execution_count": 35,
   "metadata": {
    "collapsed": false
   },
   "outputs": [
    {
     "name": "stdout",
     "output_type": "stream",
     "text": [
      "Tolerance Cut 9565\n",
      "SNR Cut 9255\n",
      "Retained Transits 5463\n",
      "Retained Transits 368 from 4251\n"
     ]
    },
    {
     "data": {
      "text/html": [
       "<div>\n",
       "<table border=\"1\" class=\"dataframe\">\n",
       "  <thead>\n",
       "    <tr style=\"text-align: right;\">\n",
       "      <th></th>\n",
       "      <th>mod_sig_pri_dv</th>\n",
       "      <th>mod_sig_sec_dv</th>\n",
       "      <th>mod_sig_ter_dv</th>\n",
       "      <th>mod_sig_pos_dv</th>\n",
       "      <th>mod_fa1_dv</th>\n",
       "      <th>mod_fa2_dv</th>\n",
       "      <th>mod_fred_dv</th>\n",
       "      <th>modshiftval1_dv</th>\n",
       "      <th>modshiftval2_dv</th>\n",
       "      <th>modshiftval3_dv</th>\n",
       "      <th>...</th>\n",
       "      <th>BLS_Qtran_1_0</th>\n",
       "      <th>BLS_Qingress_1_0</th>\n",
       "      <th>BLS_i1_1_0</th>\n",
       "      <th>BLS_i2_1_0</th>\n",
       "      <th>BLS_deltaChi2_1_0</th>\n",
       "      <th>BLS_fraconenight_1_0</th>\n",
       "      <th>BLS_Ntransits_1_0</th>\n",
       "      <th>BLS_Rednoise_1_0</th>\n",
       "      <th>BLS_Whitenoise_1_0</th>\n",
       "      <th>BLS_SignaltoPinknoise_1_0</th>\n",
       "    </tr>\n",
       "  </thead>\n",
       "  <tbody>\n",
       "    <tr>\n",
       "      <th>0</th>\n",
       "      <td>0.00028</td>\n",
       "      <td>-9.999884</td>\n",
       "      <td>0.000098</td>\n",
       "      <td>-0.000186</td>\n",
       "      <td>2.991073</td>\n",
       "      <td>2.538906</td>\n",
       "      <td>1.040623</td>\n",
       "      <td>-2.990804</td>\n",
       "      <td>-2.538725</td>\n",
       "      <td>-2.53844</td>\n",
       "      <td>...</td>\n",
       "      <td>0.08623</td>\n",
       "      <td>0.18903</td>\n",
       "      <td>0.35772</td>\n",
       "      <td>0.44395</td>\n",
       "      <td>-0.00001</td>\n",
       "      <td>0.31843</td>\n",
       "      <td>4.0</td>\n",
       "      <td>0.00004</td>\n",
       "      <td>0.00031</td>\n",
       "      <td>7.72038</td>\n",
       "    </tr>\n",
       "  </tbody>\n",
       "</table>\n",
       "<p>1 rows × 30 columns</p>\n",
       "</div>"
      ],
      "text/plain": [
       "   mod_sig_pri_dv  mod_sig_sec_dv  mod_sig_ter_dv  mod_sig_pos_dv  mod_fa1_dv  \\\n",
       "0         0.00028       -9.999884        0.000098       -0.000186    2.991073   \n",
       "\n",
       "   mod_fa2_dv  mod_fred_dv  modshiftval1_dv  modshiftval2_dv  modshiftval3_dv  \\\n",
       "0    2.538906     1.040623        -2.990804        -2.538725         -2.53844   \n",
       "\n",
       "             ...              BLS_Qtran_1_0  BLS_Qingress_1_0  BLS_i1_1_0  \\\n",
       "0            ...                    0.08623           0.18903     0.35772   \n",
       "\n",
       "   BLS_i2_1_0  BLS_deltaChi2_1_0  BLS_fraconenight_1_0  BLS_Ntransits_1_0  \\\n",
       "0     0.44395           -0.00001               0.31843                4.0   \n",
       "\n",
       "   BLS_Rednoise_1_0  BLS_Whitenoise_1_0  BLS_SignaltoPinknoise_1_0  \n",
       "0           0.00004             0.00031                    7.72038  \n",
       "\n",
       "[1 rows x 30 columns]"
      ]
     },
     "execution_count": 35,
     "metadata": {},
     "output_type": "execute_result"
    }
   ],
   "source": [
    "#make cuts to inj determine correct y values\n",
    "inj_enough_transits = ((26//inj_periods) > 3).astype(int)\n",
    "inj_low_tol = ((inj_tol[:,0]==1)+(inj_tol[: ,1]==1) + (inj_tol[:,0] == inj_tol[:,1])).astype(int)\n",
    "\n",
    "print \"Tolerance Cut\", len(np.where(inj_low_tol==1)[0])\n",
    "print \"SNR Cut\", len(np.where(inj_SNR>6)[0])\n",
    "inj_true_trans = ((inj_SNR>=6)*(inj_tol[:,2]<0.002)*(inj_low_tol==1)*(inj_enough_transits)).astype(int)\n",
    "print \"Retained Transits\", len(np.where(inj_true_trans==1)[0])\n",
    "\n",
    "\n",
    "#koi_cuts\n",
    "koi_enough_trans = (26//koi_periods > 3).astype(int)\n",
    "koi_low_tol = ((koi_tol[:,0]==1)+(koi_tol[: ,1]==1) + (koi_tol[:,0] == koi_tol[:,1])).astype(int)\n",
    "\n",
    "koi_true_trans = ((koi_SNR[:, -1]>=6)* (koi_tol[:,2]<0.002) * (koi_enough_trans==1)).astype(int)\n",
    "print \"Retained Transits\", len(np.where(koi_true_trans==1)[0]), \"from\", koi.shape[0]\n",
    "\n",
    "\n",
    "#append Y values\n",
    "inj[\"Y\"] = inj_true_trans\n",
    "zero_length = np.zeros(inv.shape[0])\n",
    "inv[\"Y\"] = zero_length\n",
    "koi[\"Y\"] = koi_true_trans\n",
    "object_labels = np.hstack([np.ones(inj.shape[0]),np.zeros(inv.shape[0])+2, np.zeros(koi.shape[0])+3 ])\n",
    "\n",
    "\n",
    "\n",
    "\n",
    "total_signals = pd.concat([inj, inv, koi], axis = 0)\n",
    "total_signals[\"Markers\"] = object_labels\n",
    "\n",
    "# 1 inj , 2 inv, 3 koi\n",
    "drop_column =  [\"BLS_Npointsaftertransit_1_0\", \"BLS_Npointsintransit_1_0\", \"BLS_Npointsbeforetransit_1_0\",\n",
    "                \"BLS_OOTmag_1_0\", \"BLS_Tc_1_0\", \"Markers\"]\n",
    "total_signals = total_signals.drop(drop_column, axis = 1)\n",
    "labels = total_signals[\"Y\"]\n",
    "del total_signals[\"Y\"]\n",
    "total_signals.head(1)"
   ]
  },
  {
   "cell_type": "code",
   "execution_count": 39,
   "metadata": {
    "collapsed": false
   },
   "outputs": [],
   "source": [
    "shuffleX, shuffleY, shuffle_labels = shuffle(total_signals, labels, object_labels ,random_state = 0)\n",
    "trainX, testX, trainY, testY, trainL, testL = train_test_split(shuffleX, shuffleY, shuffle_labels, random_state = 0, stratify=shuffle_labels, test_size = 0.2)"
   ]
  },
  {
   "cell_type": "code",
   "execution_count": 41,
   "metadata": {
    "collapsed": false
   },
   "outputs": [
    {
     "name": "stdout",
     "output_type": "stream",
     "text": [
      "0.981654739377\n"
     ]
    }
   ],
   "source": [
    "xgbc = XGBClassifier(seed = 0, max_depth=10, min_child_weight=5, subsample=0.8)\n",
    "xgbc.fit(trainX, trainY)\n",
    "preds = xgbc.predict(testX)\n"
   ]
  },
  {
   "cell_type": "code",
   "execution_count": 42,
   "metadata": {
    "collapsed": false
   },
   "outputs": [
    {
     "name": "stdout",
     "output_type": "stream",
     "text": [
      "AUC 0.981654739377\n",
      "Precison 0.984105044921\n",
      "Recall 0.974008207934\n"
     ]
    }
   ],
   "source": [
    "score = metrics.average_precision_score(testY, preds)\n",
    "print \"AUC\", score\n",
    "print \"Precison\", metrics.precision_score(testY, preds)\n",
    "print \"Recall\", metrics.recall_score(testY, preds)"
   ]
  },
  {
   "cell_type": "code",
   "execution_count": 45,
   "metadata": {
    "collapsed": false
   },
   "outputs": [
    {
     "data": {
      "text/plain": [
       "<matplotlib.axes._subplots.AxesSubplot at 0x7fc1238d3b50>"
      ]
     },
     "execution_count": 45,
     "metadata": {},
     "output_type": "execute_result"
    },
    {
     "data": {
      "image/png": "[encoded data removed]",
      "text/plain": [
       "<matplotlib.figure.Figure at 0x7fc11f0d0f10>"
      ]
     },
     "metadata": {},
     "output_type": "display_data"
    }
   ],
   "source": [
    "importances = pd.Series(xgbc.booster().get_fscore()).sort_values(ascending=False)\n",
    "importances.plot(kind = \"bar\", figsize = (12,8))"
   ]
  },
  {
   "cell_type": "code",
   "execution_count": 60,
   "metadata": {
    "collapsed": false
   },
   "outputs": [
    {
     "name": "stdout",
     "output_type": "stream",
     "text": [
      "Training Set\n",
      "\n"
     ]
    }
   ],
   "source": [
    "# total number of strong koi in \n",
    "print (\"Training Set\\n\")\n",
    "print \"Strong KOIS correctly accepted:\", len(np.where((preds==1)&(testL==3)&(testY==1))[0]), \"from\", len(np.where((testL==3)&(testY==1))[0])\n"
   ]
  },
  {
   "cell_type": "code",
   "execution_count": 57,
   "metadata": {
    "collapsed": false
   },
   "outputs": [
    {
     "name": "stdout",
     "output_type": "stream",
     "text": [
      "Strong KOIS correctly accepted: 72 from 88\n",
      "Weak KOIS correctly rejected: 963 from 975\n",
      "Injected Signals correctly accepted: 1352 from 1374\n",
      "Injected Signals correctly rejected: 1115 from 1126\n",
      "Inverted Signals correctly rejected: 3750 from 3750\n"
     ]
    }
   ],
   "source": [
    "# how many kois, etc were caught?\n",
    "print \"Strong KOIS correctly accepted:\", len(np.where((preds==1)&(testL==3)&(testY==1))[0]), \"from\", len(np.where((testL==3)&(testY==1))[0])\n",
    "print \"Weak KOIS correctly rejected:\" ,len(np.where((preds==0)&(testL==3)&(testY==0))[0]),\"from\", len(np.where((testL==3)&(testY==0))[0])\n",
    "\n",
    "print \"Injected Signals correctly accepted:\" , len(np.where((preds==1)&(testL==1)&(testY==1))[0]), \"from\", len(np.where((testL==1)&(testY==1))[0])\n",
    "print \"Injected Signals correctly rejected:\" , len(np.where((preds==0)&(testL==1)&(testY==0))[0]), \"from\", len(np.where((testL==1)&(testY==0))[0])\n",
    "\n",
    "print \"Inverted Signals correctly rejected:\" , len(np.where((preds==0)&(testL==2)&(testY==0))[0]), \"from\", len(np.where((testL==2)&(testY==0))[0])\n",
    "\n"
   ]
  },
  {
   "cell_type": "code",
   "execution_count": 59,
   "metadata": {
    "collapsed": false
   },
   "outputs": [
    {
     "name": "stdout",
     "output_type": "stream",
     "text": [
      "Inj transits with low snr and tol accepted 11 from 1126\n",
      "Weak KOIS still accepted: 12 from 975\n"
     ]
    }
   ],
   "source": [
    "# how many weak transits were accepted (weak by both tolerance and SNR)?\n",
    "print \"Inj transits with low snr and tol accepted\",  len(np.where((preds==1)&(testL==1)&(testY==0))[0]), \"from\", len(np.where((testL==1)&(testY==0))[0])\n",
    "print \"Weak KOIS still accepted:\", len(np.where((preds==1)&(testL==3)&(testY==0))[0]), \"from\", len(np.where((testL==3)&(testY==0))[0])\n"
   ]
  },
  {
   "cell_type": "code",
   "execution_count": 63,
   "metadata": {
    "collapsed": false
   },
   "outputs": [
    {
     "name": "stdout",
     "output_type": "stream",
     "text": [
      "280\n"
     ]
    }
   ],
   "source": [
    "print len(np.where( (trainY==1) & (trainL ==3))[0])"
   ]
  },
  {
   "cell_type": "code",
   "execution_count": null,
   "metadata": {
    "collapsed": true
   },
   "outputs": [],
   "source": []
  }
 ],
 "metadata": {
  "anaconda-cloud": {},
  "kernelspec": {
   "display_name": "Python [conda root]",
   "language": "python",
   "name": "conda-root-py"
  },
  "language_info": {
   "codemirror_mode": {
    "name": "ipython",
    "version": 2
   },
   "file_extension": ".py",
   "mimetype": "text/x-python",
   "name": "python",
   "nbconvert_exporter": "python",
   "pygments_lexer": "ipython2",
   "version": "2.7.12"
  }
 },
 "nbformat": 4,
 "nbformat_minor": 1
}
