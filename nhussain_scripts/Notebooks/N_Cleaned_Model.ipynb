{
 "cells": [
  {
   "cell_type": "code",
   "execution_count": 1,
   "metadata": {
    "collapsed": false
   },
   "outputs": [
    {
     "name": "stderr",
     "output_type": "stream",
     "text": [
      "/home/xuhuang/anaconda2/lib/python2.7/site-packages/sklearn/cross_validation.py:44: DeprecationWarning: This module was deprecated in version 0.18 in favor of the model_selection module into which all the refactored classes and functions are moved. Also note that the interface of the new CV iterators are different from that of this module. This module will be removed in 0.20.\n",
      "  \"This module will be removed in 0.20.\", DeprecationWarning)\n"
     ]
    },
    {
     "data": {
      "text/plain": [
       "'/home/xuhuang/anaconda2/lib/python2.7/site-packages/xgboost/__init__.pyc'"
      ]
     },
     "execution_count": 1,
     "metadata": {},
     "output_type": "execute_result"
    }
   ],
   "source": [
    "#readFeats\n",
    "import numpy as np\n",
    "import pandas as pd\n",
    "import sklearn\n",
    "import matplotlib \n",
    "from matplotlib import pyplot as plt\n",
    "%matplotlib inline\n",
    "import os\n",
    "from sklearn.utils import shuffle\n",
    "import xgboost as xgb\n",
    "from xgboost import XGBClassifier\n",
    "from sklearn.model_selection import train_test_split\n",
    "from sklearn import metrics\n",
    "from sklearn.model_selection import cross_val_score\n",
    "from sklearn.ensemble import RandomForestClassifier\n",
    "import hyperopt\n",
    "from hyperopt import  hp, fmin, tpe, STATUS_OK, Trials\n",
    "xgb.__file__"
   ]
  },
  {
   "cell_type": "code",
   "execution_count": 2,
   "metadata": {
    "collapsed": false
   },
   "outputs": [],
   "source": [
    "inj = pd.read_csv(\"../Data/Injected_feat_files_10000_fixed.csv\", index_col=0)\n",
    "inv = pd.read_csv(\"../Data/Inverted_feat_files_fixed.csv\", index_col=0)\n",
    "inj_periods = np.loadtxt(\"../../Training/simulation/injection/injection.txt\", dtype= str, delimiter=\",\")[:10000, 3].astype(\"float64\")\n"
   ]
  },
  {
   "cell_type": "code",
   "execution_count": 3,
   "metadata": {
    "collapsed": false
   },
   "outputs": [
    {
     "name": "stdout",
     "output_type": "stream",
     "text": [
      "[1 0 0 ..., 1 1 0]\n",
      "Harmonic Cut 9565\n",
      "SNR Cut 9255\n",
      "Retained Transits 6215\n",
      "['mod_sig_pri_dv' 'mod_sig_sec_dv' 'mod_sig_ter_dv' 'mod_sig_pos_dv'\n",
      " 'mod_fa1_dv' 'mod_fa2_dv' 'mod_fred_dv' 'modshiftval1_dv'\n",
      " 'modshiftval2_dv' 'modshiftval3_dv' 'modshiftval4_dv' 'modshiftval5_dv'\n",
      " 'modshiftval6_dv' 'white_noise' 'red_noise' 'Y']\n",
      "['mod_sig_pri_dv' 'mod_sig_sec_dv' 'mod_sig_ter_dv' 'mod_sig_pos_dv'\n",
      " 'mod_fa1_dv' 'mod_fa2_dv' 'mod_fred_dv' 'modshiftval1_dv'\n",
      " 'modshiftval2_dv' 'modshiftval3_dv' 'modshiftval4_dv' 'modshiftval5_dv'\n",
      " 'modshiftval6_dv' 'white_noise' 'red_noise']\n",
      "[ 1.  2.  3.]\n"
     ]
    }
   ],
   "source": [
    "SNR_inj = np.loadtxt(\"../Data/SNR_10000_corrected.txt\")[:10000]\n",
    "correct_sig = np.loadtxt(\"../Data/period_harmonics_10000_inj_signals_tol_5x5.txt\")\n",
    "#print inj_periods\n",
    "enough_transits = ((26./inj_periods) > 3).astype(int)\n",
    "print enough_transits\n",
    "one_harmonic = ((correct_sig[:,0]==1)+(correct_sig[: ,1]==1) + (correct_sig[:,0] == correct_sig[:,1])).astype(int)\n",
    "print \"Harmonic Cut\", len(np.where(one_harmonic==1)[0])\n",
    "print \"SNR Cut\", len(np.where(SNR_inj>6)[0])\n",
    "true_trans = ((SNR_inj>=6)*(correct_sig[:,2]<0.002)*(one_harmonic==1)*(enough_transits)).astype(int)\n",
    "print \"Retained Transits\", len(np.where(true_trans==1)[0])\n",
    "\n",
    "inj[\"Y\"] = true_trans\n",
    "zero_length = np.zeros(inv.shape[0])\n",
    "inv[\"Y\"] = zero_length\n",
    "total_signals = pd.concat([inj, inv], axis = 0)\n",
    "\n",
    "drop_columns = [x for x in total_signals.columns.values.tolist() if \"BLS\"  in x]\n",
    "total_signals= total_signals.drop(drop_columns, axis =1)\n",
    "print total_signals.columns.values\n",
    "labels = total_signals[\"Y\"]\n",
    "del  total_signals[\"Y\"]\n",
    "total_signals = total_signals.replace(np.nan, 0)\n",
    "total_signals = total_signals.replace(np.inf, 0)\n",
    "total_signals = total_signals.replace(-np.inf, 0)\n",
    "print total_signals.columns.values\n",
    "object_label = np.ones_like(true_trans)#vi\n",
    "object_label[true_trans==1] =2 \n",
    "inv_labels = np.zeros(inv.shape[0])\n",
    "inv_labels.fill(3)\n",
    "object_label = np.append(object_label, inv_labels)\n",
    "print np.unique(object_label)"
   ]
  },
  {
   "cell_type": "code",
   "execution_count": 4,
   "metadata": {
    "collapsed": false
   },
   "outputs": [
    {
     "data": {
      "text/plain": [
       "array([3, 3])"
      ]
     },
     "execution_count": 4,
     "metadata": {},
     "output_type": "execute_result"
    }
   ],
   "source": [
    "correct_sig[273,:2].astype(int)"
   ]
  },
  {
   "cell_type": "code",
   "execution_count": 5,
   "metadata": {
    "collapsed": false
   },
   "outputs": [
    {
     "name": "stdout",
     "output_type": "stream",
     "text": [
      "(25000, 15) (25000,)\n",
      "Strong Transits in training 4972\n",
      "Weak Transits in training 3028\n",
      "Inverted Signals in training 12000 \n",
      "\n",
      "Strong Transits in testing 1243\n",
      "Weak Signals in testing 757\n",
      "Inverted Signals in testing 3000\n"
     ]
    }
   ],
   "source": [
    "shuffleX, shuffleY , shuffle_labels= shuffle(total_signals, labels, object_label, random_state =0)\n",
    "shuffleX = shuffleX.reset_index(drop = True)\n",
    "shuffleY = shuffleY.reset_index(drop = True)\n",
    "\n",
    "print shuffleX.shape, shuffleY.shape #, train_label.shape\n",
    "\n",
    "trainX, testX, trainY, testY, train_label, test_label = train_test_split(shuffleX, shuffleY, shuffle_labels, stratify =shuffle_labels, test_size = 0.20,random_state = 0 )\n",
    "\n",
    "print \"Strong Transits in training\" , len(np.where([(trainY==1) & (train_label==2)])[0]) \n",
    "print \"Weak Transits in training\" , len(np.where([(trainY==0) & (train_label==1)])[0]) \n",
    "print \"Inverted Signals in training\" , len(np.where([(trainY==0) & (train_label==3)])[0]) , \"\\n\"\n",
    "print \"Strong Transits in testing\" , len(np.where([(testY==1) & (test_label==2)])[0]) \n",
    "print \"Weak Signals in testing\" , len(np.where([(testY==0) & (test_label==1)])[0]) \n",
    "print \"Inverted Signals in testing\" , len(np.where([(testY==0) & (test_label==3)])[0]) \n",
    "\n",
    "#print \"\\n\",shuffleX.columns.values"
   ]
  },
  {
   "cell_type": "code",
   "execution_count": 6,
   "metadata": {
    "collapsed": true
   },
   "outputs": [],
   "source": [
    "# try tuning, which is fairly important here with all the noise and tolerance cuts\n",
    "space ={\n",
    "        'max_depth': hp.quniform('x_max_depth', 1, 20,1),\n",
    "        'min_child_weight': hp.quniform ('x_min_child', 1, 20, 1),\n",
    "        'subsample': hp.uniform ('x_subsample', 0.7, 1),\n",
    "        'colsample_bytree': hp.uniform ('x_tree_colsample', 0.7,1),\n",
    "        'learning_rate': hp.uniform ('x_learning_rate', 0.001, 0.1)\n",
    "}\n",
    "\n",
    "#implemented with xgb cv\n",
    "\n",
    "dtrain = xgb.DMatrix(trainX, label=trainY)\n",
    "\n",
    "def objective(space):\n",
    "\n",
    "    clf = XGBClassifier(n_estimators = 100, \n",
    "                            max_depth = space['max_depth'], \n",
    "                            min_child_weight =space['min_child_weight'],\n",
    "                            subsample = space['subsample'],\n",
    "                            colsample_bytree =space['colsample_bytree'],\n",
    "                            learning_rate = space['learning_rate'])\n",
    "    start = time.time()\n",
    "    \n",
    "    cv_result = xgb.cv(clf.get_xgb_params(),dtrain, num_boost_round=50, nfold=5, metrics='auc', early_stopping_rounds=5 )\n",
    "    end = time.time()\n",
    "    #score = cross_val_score(clf, trainX, trainY, cv = 5, scoring=\"average_precision\")\n",
    "    score =  cv_result.iloc[-1][\"test-auc-mean\"]\n",
    "    score_std =  cv_result.iloc[-1][\"test-auc-std\"]\n",
    "    print (\"SCORE %f, in : %f s:\" % (score, (end-start)))\n",
    "\n",
    "    return{'loss':1-score, 'status': STATUS_OK, \"cv_score\":score, \"test_avg\": score_std }\n",
    "\n",
    "\n"
   ]
  },
  {
   "cell_type": "code",
   "execution_count": 7,
   "metadata": {
    "collapsed": false
   },
   "outputs": [
    {
     "name": "stdout",
     "output_type": "stream",
     "text": [
      "('Optimization Time: %f seconds', 3.409385681152344e-05)\n"
     ]
    }
   ],
   "source": [
    "trials= Trials()\n",
    "import time\n",
    "start = time.time()\n",
    "#best = fmin(fn=objective, space = space, algo = tpe.suggest, max_evals = 5, trials = trials)\n",
    "end = time.time()\n",
    "print(\"Optimization Time: %f seconds\", (end  -start))\n",
    "#print best"
   ]
  },
  {
   "cell_type": "code",
   "execution_count": 47,
   "metadata": {
    "collapsed": false,
    "scrolled": true
   },
   "outputs": [
    {
     "data": {
      "text/plain": [
       "test-auc-mean     0.995684\n",
       "test-auc-std      0.000725\n",
       "train-auc-mean    0.998173\n",
       "train-auc-std     0.000090\n",
       "dtype: float64"
      ]
     },
     "execution_count": 47,
     "metadata": {},
     "output_type": "execute_result"
    }
   ],
   "source": [
    "# try cross validation\n",
    "#xgbc = XGBClassifier(n_estimators = 500, seed=8, max_depth = int(best[\"x_max_depth\"]),\n",
    "#                     colsample_bytree=best[\"x_tree_colsample\"], \n",
    "#                     subsample=best[\"x_subsample\"], scale_pos_weight=2,\n",
    "#                    min_child_weight = best[\"x_min_child\"], learning_rate = best[\"x_learning_rate\"])\n",
    "xgbc = XGBClassifier(seed = 0, n_estimators=500, max_depth=15, min_child_weight=5, subsample=0.9, scale_pos_weight=3, colsample_bytree=0.8)\n",
    "xgb_params  = xgbc.get_params()\n",
    "dtrain = xgb.DMatrix(shuffleX, label=shuffleY)\n",
    "scores = xgb.cv(xgb_params, dtrain, metrics=\"auc\", seed=0 ,nfold=5, stratified=True)\n",
    "np.mean(scores)"
   ]
  },
  {
   "cell_type": "code",
   "execution_count": 48,
   "metadata": {
    "collapsed": false
   },
   "outputs": [
    {
     "name": "stdout",
     "output_type": "stream",
     "text": [
      "0.960739620556\n",
      "0.956694477553\n"
     ]
    },
    {
     "data": {
      "text/plain": [
       "[<matplotlib.lines.Line2D at 0x7f9652c476d0>]"
      ]
     },
     "execution_count": 48,
     "metadata": {},
     "output_type": "execute_result"
    },
    {
     "data": {
      "image/png": "[encoded data removed]",
      "text/plain": [
       "<matplotlib.figure.Figure at 0x7f9652b29ed0>"
      ]
     },
     "metadata": {},
     "output_type": "display_data"
    }
   ],
   "source": [
    "xgbc.fit(trainX, trainY)\n",
    "preds = xgbc.predict(testX)\n",
    "preds_proba = xgbc.predict_proba(testX)[:,1]\n",
    "print metrics.average_precision_score(testY, preds)\n",
    "print metrics.f1_score(testY, preds)\n",
    "preds = xgbc.predict(testX)\n",
    "precision, recall, threholds = metrics.precision_recall_curve(testY, preds_proba)\n",
    "plt.plot(recall, precision)"
   ]
  },
  {
   "cell_type": "code",
   "execution_count": 49,
   "metadata": {
    "collapsed": false
   },
   "outputs": [
    {
     "name": "stdout",
     "output_type": "stream",
     "text": [
      "Precision 0.945054945055\n",
      "Recall 0.968624296058\n",
      "ROC 0.974996204457\n",
      "Inverted 3000\n",
      "Strong Transit 1243\n",
      "Weak transit  757 \n",
      "\n",
      "Num of false positive inverted,  and false_negative strong sig, false positive weak sig\n",
      "0 39 70\n",
      "Inverted Percent False Positive Rate 0.0\n",
      "Strong Transit False Negative Rate? 0.0313757039421\n",
      "Weak transit False Positive Rate 0.0924702774108\n"
     ]
    }
   ],
   "source": [
    "#try determine  things like false positive rate\n",
    "print \"Precision\", metrics.precision_score(testY, preds)\n",
    "print \"Recall\", metrics.recall_score(testY, preds)\n",
    "print \"ROC\" , metrics.roc_auc_score(testY, preds)\n",
    "#print len(preds)\n",
    "\n",
    "false_positive_inverted  = len(np.where([(preds==1) & (testY==0) & (test_label==3)])[0])\n",
    "false_positive_weak_sig  = len(np.where([(preds==1) & (testY==0) & (test_label==1)])[0])\n",
    "false_negative_strong_sig  = len(np.where([(preds==0) & (testY==1) & (test_label==2)])[0])\n",
    "\n",
    "#how many weak, and strong signals and inverted in test sample?\n",
    "print \"Inverted\", len(np.where([(testY==0) & (test_label==3)])[0])\n",
    "print \"Strong Transit\", len(np.where([(testY==1) & (test_label==2)])[0])\n",
    "print \"Weak transit \", len(np.where([(testY==0) & (test_label==1)])[0]) ,\"\\n\"\n",
    "\n",
    "print \"Num of false positive inverted,  and false_negative strong sig, false positive weak sig\"\n",
    "print false_positive_inverted,  false_negative_strong_sig, false_positive_weak_sig\n",
    "\n",
    "\n",
    "#how many weak, and strong signals and inverted in test sample?\n",
    "print \"Inverted Percent False Positive Rate\", float(false_positive_inverted) / len(np.where([(testY==0) & (test_label==3)])[0])\n",
    "print \"Strong Transit False Negative Rate?\", float(false_negative_strong_sig) / len(np.where([(testY==1) & (test_label==2)])[0])\n",
    "print \"Weak transit False Positive Rate\", float(false_positive_weak_sig) / len(np.where([(testY==0) & (test_label==1)])[0])"
   ]
  },
  {
   "cell_type": "code",
   "execution_count": 101,
   "metadata": {
    "collapsed": false
   },
   "outputs": [
    {
     "name": "stdout",
     "output_type": "stream",
     "text": [
      "(4251, 3)\n",
      "Retained Transits 681 from 4251\n",
      "(4251, 35)\n",
      "['mod_sig_pri_dv' 'mod_sig_sec_dv' 'mod_sig_ter_dv' 'mod_sig_pos_dv'\n",
      " 'mod_fa1_dv' 'mod_fa2_dv' 'mod_fred_dv' 'modshiftval1_dv'\n",
      " 'modshiftval2_dv' 'modshiftval3_dv' 'modshiftval4_dv' 'modshiftval5_dv'\n",
      " 'modshiftval6_dv' 'white_noise' 'red_noise']\n",
      "(4251, 3)\n"
     ]
    },
    {
     "data": {
      "text/plain": [
       "(array([  1.90100000e+03,   9.84000000e+02,   5.29000000e+02,\n",
       "          3.10000000e+02,   1.09000000e+02,   8.20000000e+01,\n",
       "          4.70000000e+01,   1.90000000e+01,   2.80000000e+01,\n",
       "          3.40000000e+01,   2.40000000e+01,   2.70000000e+01,\n",
       "          2.40000000e+01,   1.70000000e+01,   3.00000000e+00,\n",
       "          3.00000000e+00,   0.00000000e+00,   0.00000000e+00,\n",
       "          1.00000000e+00]),\n",
       " array([   0.        ,    5.26315789,   10.52631579,   15.78947368,\n",
       "          21.05263158,   26.31578947,   31.57894737,   36.84210526,\n",
       "          42.10526316,   47.36842105,   52.63157895,   57.89473684,\n",
       "          63.15789474,   68.42105263,   73.68421053,   78.94736842,\n",
       "          84.21052632,   89.47368421,   94.73684211,  100.        ]),\n",
       " <a list of 19 Patch objects>)"
      ]
     },
     "execution_count": 101,
     "metadata": {},
     "output_type": "execute_result"
    },
    {
     "data": {
      "image/png": "[encoded data removed]",
      "text/plain": [
       "<matplotlib.figure.Figure at 0x7f9656fff950>"
      ]
     },
     "metadata": {},
     "output_type": "display_data"
    }
   ],
   "source": [
    "#load the testing _kois\n",
    "koi_SNR = np.loadtxt(\"../Data/SNR_feats_KOIS_4251_fixed.txt\")\n",
    "koi_SNR = np.nan_to_num(koi_SNR)\n",
    "print koi_SNR.shape\n",
    "koi_tol = np.loadtxt(\"../Data/period_harmonics_4251_koi_signals_tol_5x5_ordered.txt\")\n",
    "koi = pd.read_csv(\"../Data/KOI_feat_files_4251_fixed_ordered.csv\", index_col=0)\n",
    "\n",
    "koi_periods = np.loadtxt(\"../Data/koi_periods_ordered.txt\")\n",
    "#print koi_periods\n",
    "enough_trans = (26//koi_periods > 3).astype(int)\n",
    "\n",
    "koi_true = ((koi_SNR[:, -1]>6)* (koi_tol[:,2]<0.002) * (enough_trans)).astype(int)\n",
    "#koi_tol = np.loadtxt(\"//\")\n",
    "print \"Retained Transits\", len(np.where(koi_true==1)[0]), \"from\", koi.shape[0]\n",
    "print koi.shape\n",
    "koi = koi.drop(drop_columns, axis=1)\n",
    "print koi.columns.values\n",
    "print koi_SNR.shape\n",
    "plt.hist(koi_SNR[:, 2], bins = np.linspace(0, 100, 20))"
   ]
  },
  {
   "cell_type": "code",
   "execution_count": 51,
   "metadata": {
    "collapsed": false
   },
   "outputs": [
    {
     "name": "stdout",
     "output_type": "stream",
     "text": [
      "0.0\n"
     ]
    }
   ],
   "source": [
    "print koi_SNR[:,2].min()\n",
    "preds = xgbc.predict(testX)"
   ]
  },
  {
   "cell_type": "code",
   "execution_count": 102,
   "metadata": {
    "collapsed": false,
    "scrolled": true
   },
   "outputs": [
    {
     "name": "stdout",
     "output_type": "stream",
     "text": [
      "\n",
      "Scores with the SNR and tol cut made to the true values\n",
      "True kois 681\n",
      "(4251,)\n",
      "Strong false KOI classified as true 131 from 876\n",
      "Strong true KOI classified as false 402 from 1287\n",
      "Weak true KOI classified as true 15 from 92\n",
      "Weak false KOI classified as true 92 from 1996\n"
     ]
    }
   ],
   "source": [
    "preds =  xgbc.predict(koi)\n",
    "print \"\\nScores with the SNR and tol cut made to the true values\"\n",
    "\n",
    "\n",
    "print  \"True kois\", len(np.where(koi_true==1)[0])\n",
    "print preds.shape\n",
    "#strong false objects classifed s true\n",
    "print \"Strong false KOI classified as true\", len(np.where((koi_true==0) * (koi_tol[:,2]>0.002) * (preds==1))[0]) ,\"from\", len(np.where((koi_SNR[:,2]>6)*(koi_tol[:,2]>0.002))[0])\n",
    "print \"Strong true KOI classified as false\", len(np.where((koi_true==1) * (preds==0))[0]) ,\"from\", len(np.where((koi_SNR[:,2]>6)*(koi_tol[:,2]<0.002))[0])\n",
    "\n",
    "print \"Weak true KOI classified as true\", len(np.where((koi_SNR[:,2]<6) * (koi_tol[:,2]<0.002) * (preds==1))[0]) ,\"from\", len(np.where((koi_SNR[:,2]<6)*(koi_tol[:,2]<0.002))[0])\n",
    "\n",
    "print \"Weak false KOI classified as true\", len(np.where((koi_SNR[:,2]<6) * (koi_tol[:,2]>0.002) * (preds==1))[0]) ,\"from\", len(np.where((koi_SNR[:,2]<6)*(koi_tol[:,2]>0.002))[0])\n",
    "\n",
    "\n",
    "\n"
   ]
  },
  {
   "cell_type": "code",
   "execution_count": 118,
   "metadata": {
    "collapsed": false,
    "scrolled": true
   },
   "outputs": [
    {
     "name": "stdout",
     "output_type": "stream",
     "text": [
      "Unique starts 284\n",
      "Stars detected 109\n",
      "Stars that should be detected 65\n",
      "Stars Missed 175\n",
      "Stars detected 109\n",
      "ID: 2304320.0\n",
      "KOI_SNR: [ 7.00250733  6.0013242   6.81057033  6.9897986   6.81358519  5.52169037\n",
      "  5.6101661   6.84689605  5.7397601   5.68049966  6.17208178  5.60200586\n",
      "  5.4941213   6.25223663  5.90702305  6.08432516]\n",
      "KOI_SNR_MEAN: 6.04282468251\n",
      "YLabels [0 0 0 0 0 0 0 0 0 0 0 0 0 0 0 0]\n",
      "KOI tol err  [  1.45703721e+00   1.55471521e+00   1.19090654e-03   1.29690190e+00\n",
      "   4.06848162e-02   9.82675967e-02   1.37834009e+00   1.19388877e+00\n",
      "   1.00787170e+00   2.93166102e-01   5.34556041e-02   7.01597111e-01\n",
      "   2.45406153e-02   1.07829843e+00   7.74699005e-01   1.53397848e+00]\n",
      "KOI tol err mean 0.89128535506\n",
      "Periods 16.54081386 \n",
      "\n",
      "0 -------------------------------------\n",
      "\n",
      "ID: 2438513.0\n",
      "KOI_SNR: [ 9.01201257  7.7636132   8.20384399  8.5986597   9.3539721   6.32940683\n",
      "  6.9580463   8.98767223  9.22755117  6.71072952  6.91467146  7.00565398\n",
      "  8.26240009  8.77438534  5.41747215  5.58805313  5.56585405  6.12833452\n",
      "  8.69414883]\n",
      "KOI_SNR_MEAN: 7.76361320022\n",
      "YLabels [0 0 0 0 0 0 0 0 0 0 0 0 0 0 0 0 0 0 0]\n",
      "KOI tol err  [ 0.00147306  0.09725339  0.6168926   0.11261847  0.00159568  0.01554303\n",
      "  0.07079159  0.42515864  0.10516752  0.09562011  0.20197666  0.11724562\n",
      "  0.04605024  0.15262487  0.13111545  0.07972033  0.0300708   0.02942241\n",
      "  0.04888117]\n",
      "KOI tol err mean 0.0956201062444\n",
      "Periods 12.18420006 \n",
      "\n",
      "1 -------------------------------------\n",
      "\n",
      "ID: 2853446.0\n",
      "KOI_SNR: [ 11.56082589  10.35211868  12.90343826  13.1008819   10.49014147\n",
      "  10.40391693  12.01905846  10.74572078  10.54715858  10.80555292\n",
      "  10.39646899  11.10226968  11.10226968]\n",
      "KOI_SNR_MEAN: 10.8055529246\n",
      "YLabels [0 0 0 0 0 0 0 0 0 0 0 0 0]\n",
      "KOI tol err  [  7.22308071e-05   3.11733613e-01   2.50364541e-01   5.44770721e-01\n",
      "   1.22880804e-03   1.08140266e+00   9.97677004e-01   1.01944757e+00\n",
      "   4.66811775e-04   6.14781349e-01   1.08629603e+00   6.63525056e-01\n",
      "   1.07068653e+00]\n",
      "KOI tol err mean 0.614781348627\n",
      "Periods 7.37290344 \n",
      "\n",
      "2 -------------------------------------\n",
      "\n",
      "ID: 2989404.0\n",
      "KOI_SNR: [ 13.49084011  12.75291197  13.16846322  12.48157342  12.2544828\n",
      "  13.65289224  13.69401541  13.90339996  12.70834943  13.08320321\n",
      "  13.12096138  12.89762586  12.77979478  13.53099142  13.75616677\n",
      "  13.23555493  11.8627769   13.56126209]\n",
      "KOI_SNR_MEAN: 13.1447122965\n",
      "YLabels [0 1 0 0 1 0 1 1 0 0 0 0 0 1 0 0 1 0]\n",
      "KOI tol err  [ 0.05730943  0.00187832  0.05740688  0.05539103  0.00060208  0.05704953\n",
      "  0.0007397   0.00053326  0.0562369   0.05695205  0.05769915  0.0573744\n",
      "  0.05808872  0.00105084  0.05727695  0.05613933  0.00053326  0.05691956]\n",
      "KOI tol err mean 0.056578227325\n",
      "Periods 3.553831111 \n",
      "\n",
      "3 -------------------------------------\n",
      "\n",
      "ID: 3446746.0\n",
      "KOI_SNR: [ 7.0881953   6.57003295  6.26752298  7.15329004  7.08103551  7.51363896\n",
      "  6.41374671  6.55774102  7.68665039  7.15329097  6.12781919  5.95095514\n",
      "  6.39909947  6.67004568  6.51205239  5.66711815  5.61716579  7.12418956]\n",
      "KOI_SNR_MEAN: 6.56388698405\n",
      "YLabels [0 0 0 0 0 0 0 0 0 0 0 0 0 0 0 0 0 0]\n",
      "KOI tol err  [  7.74122002e-02   2.13077048e-03   1.59146345e-04   3.40068241e-03\n",
      "   1.40507462e-01   1.41274146e-01   9.00502699e-01   9.97830248e-01\n",
      "   1.13724794e-01   8.59242173e-04   9.31453455e-01   2.99092877e-02\n",
      "   5.82570754e-03   7.98103288e-01   4.13905460e-04   9.68268187e-02\n",
      "   1.23964437e+00   9.55483541e-05]\n",
      "KOI tol err mean 0.0871195094543\n",
      "Periods 13.14496741 \n",
      "\n",
      "4 -------------------------------------\n",
      "\n",
      "ID: 3541946.0\n",
      "KOI_SNR: [ 19.11343619  15.95352123  14.04407003  15.16651708  15.36631182\n",
      "  15.19557616  13.50371001  13.28654765  17.89731669  16.85525777\n",
      "  16.05686388  15.7883972   14.32819862  12.57465243  11.87437884\n",
      "  16.05031844]\n",
      "KOI_SNR_MEAN: 15.2809439875\n",
      "YLabels [0 0 0 0 0 0 0 0 0 0 0 0 0 0 0 0]\n",
      "KOI tol err  [  1.08899044e+00   1.42630157e-01   7.97355207e-04   5.81246575e-02\n",
      "   6.24941706e-03   6.49914452e-02   1.62740481e-03   1.08205171e-01\n",
      "   2.80049330e-04   1.33615299e-01   1.08841794e+00   1.08884738e+00\n",
      "   1.44237482e-03   1.01220897e-01   7.79078312e-02   7.97355207e-04]\n",
      "KOI tol err mean 0.0714496382051\n",
      "Periods 17.79001678 \n",
      "\n",
      "5 -------------------------------------\n",
      "\n",
      "ID: 4349442.0\n",
      "KOI_SNR: [  7.4189188    9.32977145  21.34276518   3.30223699  12.68647492\n",
      "  13.95068438   5.93885129   5.74904452  24.51438017  24.1374143\n",
      "  22.23128373  14.10645182  13.41245238  24.51437193  18.96006263\n",
      "   5.02901855   4.5961749    6.16066718   5.90906811   8.24823107]\n",
      "KOI_SNR_MEAN: 11.0081231866\n",
      "YLabels [0 0 1 0 1 1 0 0 1 1 1 1 1 1 1 0 0 0 0 0]\n",
      "KOI tol err  [  1.20199453e-01   6.12573175e-02   4.96538186e-04   1.38402352e-01\n",
      "   2.94928370e-04   7.34904222e-04   1.11748007e-01   6.90819265e-02\n",
      "   7.34904222e-04   1.18992616e-04   1.44853394e-04   1.44853394e-04\n",
      "   7.60222562e-04   5.69124105e-05   2.32786687e-04   6.65062959e-02\n",
      "   1.36138229e-01   1.52207515e-02   2.08664567e-02   9.23606271e-02]\n",
      "KOI tol err mean 0.0079904870176\n",
      "Periods 4.539297295 \n",
      "\n",
      "6 -------------------------------------\n",
      "\n",
      "ID: 4644604.0\n",
      "KOI_SNR: [ 13.36753515  12.51703379  12.90778953  10.71612019  11.03105955\n",
      "  12.50057844  12.57774128  13.06150183  13.18216745  12.69529024\n",
      "  12.50057844  12.56666079  12.52252853  12.34905628  11.8268325\n",
      "  13.79415861  12.17508599  12.83812781  12.6952915   12.22207369\n",
      "  12.37047702]\n",
      "KOI_SNR_MEAN: 12.522528534\n",
      "YLabels [0 0 0 0 0 0 0 0 0 0 0 0 0 0 0 0 0 0 0 0 0]\n",
      "KOI tol err  [  1.66501446e-02   5.89051949e-02   1.17339710e-03   4.76340461e-02\n",
      "   7.14912327e-01   9.32300417e-01   5.00455256e-05   2.47288926e-03\n",
      "   6.11563814e-04   4.46820897e-01   6.11563814e-04   3.70555683e-03\n",
      "   2.01673884e-03   3.42388907e-03   1.17339710e-03   8.12215152e-01\n",
      "   5.45833952e-02   2.57936165e-03   1.45443179e-03   2.33364104e-02\n",
      "   3.25129341e-03]\n",
      "KOI tol err mean 0.00342388907264\n",
      "Periods 14.48584765 \n",
      "\n",
      "7 -------------------------------------\n",
      "\n",
      "ID: 4827723.0\n",
      "KOI_SNR: [ 8.39719025  8.61586845  8.30352391  8.37825647  8.41142411  8.66601902\n",
      "  8.74746155  8.9151022   8.20287143  8.57616399  8.60590791  8.02167063\n",
      "  8.38300714  8.5221641   8.49299525  5.18391959  5.35932931  7.77046903]\n",
      "KOI_SNR_MEAN: 8.40430718204\n",
      "YLabels [0 0 0 0 0 0 0 0 0 0 0 0 0 0 0 0 0 0]\n",
      "KOI tol err  [  8.33858339e-05   2.23613000e-04   1.97128307e-04   2.46111787e-02\n",
      "   5.50158562e-02   2.60447416e-03   6.18046091e-04   4.19010489e-02\n",
      "   3.03001234e-02   1.20465439e-03   9.24454821e-04   1.67358400e-02\n",
      "   1.21378644e-01   1.25081752e-02   2.60447416e-03   1.06700516e-01\n",
      "   8.86546417e-02   1.06456485e-03]\n",
      "KOI tol err mean 0.00755632468237\n",
      "Periods 7.23858162 \n",
      "\n",
      "8 -------------------------------------\n",
      "\n",
      "ID: 4857213.0\n",
      "KOI_SNR: [ 6.4724486   5.28598514  6.40671535  6.42030099  6.31847652  6.65160979\n",
      "  6.038719    6.21472014  6.04836213  6.19438205  6.22238316  6.36630351\n",
      "  6.42575116  6.52546109]\n",
      "KOI_SNR_MEAN: 6.34239001149\n",
      "YLabels [0 0 0 0 0 0 0 0 0 0 0 0 0 0]\n",
      "KOI tol err  [  5.67592512e-01   1.14223296e-02   2.92171148e-02   6.55096967e-01\n",
      "   4.76366675e-01   1.60854655e-01   3.18479409e-01   3.06353915e-03\n",
      "   3.70704884e-02   7.02900106e-04   1.96554390e-01   7.44446445e-01\n",
      "   5.98773427e-04   6.63119291e-03]\n",
      "KOI tol err mean 0.0989625715096\n",
      "Periods 8.77425786 \n",
      "\n",
      "9 -------------------------------------\n",
      "\n",
      "Weak stars detected with low period err: 2 from 3\n",
      "Weak stars detected with high period err: 50 from 139\n",
      "Strong stars detected with low period err: 42 from 86\n",
      "Strong stars detected with high period err: 15 from 56\n",
      "Strong stars with low period err but not enough transits 28\n",
      "[  2304320.   2438513.   2853446.   2989404.   3446746.   3541946.\n",
      "   4349442.   4644604.   4827723.   4857213.   5020319.   5185897.\n",
      "   5369827.   5695396.   5796675.   5941160.   6289257.   6442340.\n",
      "   6541920.   6779260.   7115785.   7202957.   7269493.   7419318.\n",
      "   7509886.   8552719.   8628758.   8738735.   8766650.   8802165.\n",
      "   8962094.   9002278.   9139084.   9266431.   9471268.   9489524.\n",
      "   9527334.   9597058.   9597345.   9790806.   9885417.  10024701.\n",
      "  10130039.  10154388.  10187017.  10252275.  10545066.  10676014.\n",
      "  11017901.  11241912.  11253711.  11395587.  11923284.  11954842.\n",
      "  12068975.  12785320.]\n"
     ]
    }
   ],
   "source": [
    "star_list_ids = np.unique(koi_SNR[:,0])\n",
    "\n",
    "partially_detected = np.zeros_like(star_list_ids)\n",
    "detection_counts = np.zeros_like(star_list_ids)\n",
    "normalized_detection_counts = np.zeros_like(star_list_ids)\n",
    "not_detected = np.zeros_like(star_list_ids)\n",
    "should_be_detected = np.zeros_like(star_list_ids)\n",
    "\n",
    "star_SNR =np.zeros_like(star_list_ids)\n",
    "star_tol = np.zeros_like(star_list_ids)\n",
    "star_transits = np.zeros_like(star_list_ids)\n",
    "\n",
    "print \"Unique starts\" ,len(star_list_ids)\n",
    "#print koi_SNR\n",
    "for i,id_num in enumerate(star_list_ids):\n",
    "    indices = np.where(id_num == koi_SNR[:,0])[0]\n",
    "    #print indices\n",
    "    if  preds[indices].sum() >=1:\n",
    "        partially_detected[i] = star_list_ids[i]\n",
    "    else  :\n",
    "        not_detected[i] = star_list_ids[i]\n",
    "    detection_counts[i]=preds[indices].sum()\n",
    "    normalized_detection_counts[i] = np.nansum(preds[indices]/float(len(preds[indices])))\n",
    "    should_be_detected[i] = np.mean(koi_true[indices])\n",
    "    \n",
    "    #other params\n",
    "    star_SNR[i] = np.median(koi_SNR[indices,2])\n",
    "    star_transits[i] = np.median(26//koi_periods[indices])\n",
    "    star_tol[i] = np.median(koi_tol[indices,2])\n",
    "\n",
    "print \"Stars detected\", len(np.where(partially_detected!=0)[0])\n",
    "print \"Stars that should be detected\", len(np.where(should_be_detected!=0)[0])\n",
    "\n",
    "#plt.hist(detection_counts)\n",
    "#plt.hist(normalized_detection_counts)\n",
    "\n",
    "\n",
    "print \"Stars Missed\" , len(not_detected[np.where(not_detected!=0)[0]])\n",
    "print \"Stars detected\", len(np.where(partially_detected!=0)[0])\n",
    "\n",
    "\n",
    "#iterate over msised stars\n",
    "old_star_ids = [ 5735762. ,  6198182.,   6278762. , 10545066.,  10748390. , 11100383., 11709006.]\n",
    "\n",
    "#print star_list_ids[np.where( (star_tol>0.002) &(star_SNR>6))[0]]\n",
    "#'''\n",
    "for i, id_num in enumerate(star_list_ids[np.where( (star_tol>0.002) &(star_SNR>6))[0]][:10]):\n",
    "    #if id_num in old_star_ids:\n",
    "        indices = np.where(id_num == koi_SNR[:,0])[0]\n",
    "        print \"ID:\", id_num\n",
    "        print \"KOI_SNR:\", koi_SNR[indices,2]\n",
    "        print \"KOI_SNR_MEAN:\", np.median(koi_SNR[indices,2])\n",
    "        print \"YLabels\", koi_true[indices]\n",
    "        print \"KOI tol err \", koi_tol[indices,2]\n",
    "        print \"KOI tol err mean\", np.median(koi_tol[indices,2])\n",
    "        print \"Periods\", koi_periods[indices][0], \"\\n\"\n",
    "        print i,\"-------------------------------------\\n\"\n",
    "        #break\n",
    "''''''\n",
    "print \"Weak stars detected with low period err:\", len(np.where( (partially_detected>0)& (star_tol<0.002) &(star_SNR<6))[0]), \\\n",
    "     \"from\", len(np.where( (star_tol<0.002) &(star_SNR<6))[0])\n",
    "print \"Weak stars detected with high period err:\", len(np.where( (partially_detected>0)& (star_tol>0.002) & (star_SNR<6))[0]) ,\\\n",
    " \"from\", len(np.where( (star_tol>0.002) &(star_SNR<6))[0])\n",
    "print \"Strong stars detected with low period err:\", len(np.where( (partially_detected>0)& (star_tol<0.002) &(star_SNR>6))[0]), \\\n",
    " \"from\", len(np.where( (star_tol<0.002) &(star_SNR>6))[0])\n",
    "\n",
    "print \"Strong stars detected with high period err:\", len(np.where( (partially_detected>0)& (star_tol>0.002) &(star_SNR>6))[0]), \\\n",
    " \"from\", len(np.where( (star_tol>0.002) &(star_SNR>6))[0])\n",
    "print \"Strong stars with low period err but not enough transits\", len(np.where((star_transits<3)* (star_SNR>6) * (star_tol<0.002))[0])\n",
    "print star_list_ids[np.where( (star_tol>0.002) &(star_SNR>6))[0]]"
   ]
  },
  {
   "cell_type": "code",
   "execution_count": 125,
   "metadata": {
    "collapsed": false
   },
   "outputs": [
    {
     "name": "stdout",
     "output_type": "stream",
     "text": [
      "43\n",
      "True\n",
      "5735762.0 \n",
      "\n",
      "True\n",
      "6198182.0 \n",
      "\n",
      "True\n",
      "6278762.0 \n",
      "\n",
      "True\n",
      "10545066.0 \n",
      "\n",
      "True\n",
      "10748390.0 \n",
      "\n",
      "True\n",
      "11100383.0 \n",
      "\n",
      "True\n",
      "11709006.0 \n",
      "\n"
     ]
    },
    {
     "data": {
      "text/plain": [
       "26.009999999999998"
      ]
     },
     "execution_count": 125,
     "metadata": {},
     "output_type": "execute_result"
    }
   ],
   "source": [
    "print len(np.unique(koi_SNR[np.where((koi_periods>8.67) * (koi_periods<13))[0],0]))\n",
    "old_star_ids = [ 5735762. ,  6198182.,   6278762. , 10545066.,  10748390. , 11100383., 11709006.]\n",
    "#print old_star_ids in not_detected[np.where(not_detected!=0)[0]]\n",
    "#print not_detected[np.where(not_detected!=0)[0]]\n",
    "for old_star in old_star_ids:\n",
    "    print old_star in not_detected[np.where(not_detected!=0)[0]]\n",
    "    print old_star, \"\\n\"\n",
    "8.67*3\n"
   ]
  },
  {
   "cell_type": "code",
   "execution_count": 15,
   "metadata": {
    "collapsed": false
   },
   "outputs": [
    {
     "data": {
      "image/png": "[encoded data removed]",
      "text/plain": [
       "<matplotlib.figure.Figure at 0x7f96529bfa10>"
      ]
     },
     "metadata": {},
     "output_type": "display_data"
    }
   ],
   "source": [
    "# Examine noise distributions\n",
    "def plot_property(name, bins = np.linspace(0,1e-3, 20 )):\n",
    "    fig = plt.figure()\n",
    "    ax = fig.add_subplot(\"111\")\n",
    "    #print inj.columns.values\n",
    "    #bins = np.linspace(0,1e-3, 20 )\n",
    "    inj.hist(name, alpha = 0.5, bins = bins , edgecolor = \"black\", linewidth = 1, ax  = ax, label = \"inj\", color = \"red\")\n",
    "    inv.hist(name, alpha = 0.4, bins = bins , edgecolor = \"black\", linewidth = 1, ax = ax, label = \"inv\", color = \"blue\")\n",
    "    koi.hist(name, alpha = 0.6, bins = bins , edgecolor = \"black\", linewidth = 1, ax = ax,label = \"koi\", color = \"yellow\")\n",
    "    plt.legend()\n",
    "plot_property(\"white_noise\")"
   ]
  },
  {
   "cell_type": "code",
   "execution_count": 16,
   "metadata": {
    "collapsed": false
   },
   "outputs": [
    {
     "data": {
      "image/png": "[encoded data removed]",
      "text/plain": [
       "<matplotlib.figure.Figure at 0x7f9657405510>"
      ]
     },
     "metadata": {},
     "output_type": "display_data"
    }
   ],
   "source": [
    "plot_property(\"modshiftval5_dv\", bins = np.linspace(-16, -10, 20))"
   ]
  },
  {
   "cell_type": "code",
   "execution_count": 17,
   "metadata": {
    "collapsed": false
   },
   "outputs": [
    {
     "data": {
      "image/png": "[encoded data removed]",
      "text/plain": [
       "<matplotlib.figure.Figure at 0x7f9652dba810>"
      ]
     },
     "metadata": {},
     "output_type": "display_data"
    }
   ],
   "source": [
    "plot_property(\"modshiftval6_dv\", bins = np.linspace(-16, -10, 20))"
   ]
  },
  {
   "cell_type": "code",
   "execution_count": 18,
   "metadata": {
    "collapsed": false,
    "scrolled": true
   },
   "outputs": [
    {
     "data": {
      "image/png": "[encoded data removed]",
      "text/plain": [
       "<matplotlib.figure.Figure at 0x7f9652bce750>"
      ]
     },
     "metadata": {},
     "output_type": "display_data"
    }
   ],
   "source": [
    "plot_property(\"modshiftval2_dv\", bins = None)"
   ]
  },
  {
   "cell_type": "code",
   "execution_count": 19,
   "metadata": {
    "collapsed": false
   },
   "outputs": [
    {
     "name": "stdout",
     "output_type": "stream",
     "text": [
      "0\n",
      "0\n",
      "0\n"
     ]
    }
   ],
   "source": [
    "#where is secondary signifcance relateive to tertiarty event equal to secondary significance compared to positive event\n",
    "print len(np.where(koi[\"modshiftval5_dv\"] == koi['modshiftval6_dv'])[0])\n",
    "print len(np.where(inj[\"modshiftval5_dv\"] == inj['modshiftval6_dv'])[0])\n",
    "print len(np.where(inv[\"modshiftval5_dv\"] == inv['modshiftval6_dv'])[0])\n"
   ]
  },
  {
   "cell_type": "code",
   "execution_count": 20,
   "metadata": {
    "collapsed": false
   },
   "outputs": [
    {
     "data": {
      "image/png": "[encoded data removed]",
      "text/plain": [
       "<matplotlib.figure.Figure at 0x7f9652c95490>"
      ]
     },
     "metadata": {},
     "output_type": "display_data"
    }
   ],
   "source": [
    "plot_property(\"modshiftval1_dv\", bins = None)\n",
    "#odd, as this shows that most are not significant"
   ]
  },
  {
   "cell_type": "code",
   "execution_count": 21,
   "metadata": {
    "collapsed": false
   },
   "outputs": [
    {
     "data": {
      "text/plain": [
       "array([  1161345.,   1718958.,   1865042.,   2299738.,   2302548.,\n",
       "         2304320.,   2438513.,   2441495.,   2444412.,   2571238.,\n",
       "         2692377.,   2831055.,   2849805.,   2853446.,   2970670.,\n",
       "         2985767.,   2989404.,   3102384.,   3129238.,   3328080.,\n",
       "         3440118.,   3446746.,   3541946.,   3544595.,   3545135.,\n",
       "         3733628.,   3852655.,   3934657.,   4048898.,   4049901.,\n",
       "         4149450.,   4164922.,   4180280.,   4278221.,   4349442.,\n",
       "         4365645.,   4472818.,   4563268.,   4644604.,   4644952.,\n",
       "         4813793.,   4827723.,   4840672.,   4857213.,   4947556.,\n",
       "         4991208.,   5020319.,   5084942.,   5088536.,   5185897.,\n",
       "         5253802.,   5272233.,   5339567.,   5369827.,   5375194.,\n",
       "         5383248.,   5612697.,   5613821.,   5652893.,   5683219.,\n",
       "         5688683.,   5695396.,   5709906.,   5735762.,   5794570.,\n",
       "         5796675.,   5809890.,   5859725.,   5881120.,   5941160.,\n",
       "         5946568.,   5959719.,   6020753.,   6021275.,   6029239.,\n",
       "         6058816.,   6062088.,   6063220.,   6153407.,   6184894.,\n",
       "         6198182.,   6265792.,   6278762.,   6289257.,   6307083.,\n",
       "         6362874.,   6442340.,   6467363.,   6523351.,   6527078.,\n",
       "         6541920.,   6605493.,   6607357.,   6678383.,   6717252.,\n",
       "         6752002.,   6752502.,   6763884.,   6779260.,   6839010.,\n",
       "         6850504.,   6851425.,   6938264.,   6974658.,   7100673.,\n",
       "         7106173.,   7115785.,   7202957.,   7211221.,   7256914.,\n",
       "         7259298.,   7269493.,   7273277.,   7287028.,   7295235.,\n",
       "         7335514.,   7419318.,   7447200.,   7455981.,   7509886.,\n",
       "         7610663.,   7626506.,   7661893.,   7668663.,   7673841.,\n",
       "         7746958.,   7762723.,   7887791.,   7905106.,   7906892.,\n",
       "         7967100.,   7976520.,   8008067.,   8016692.,   8081899.,\n",
       "         8095441.,   8105398.,   8107150.,   8107380.,   8142942.,\n",
       "         8145958.,   8222395.,   8240797.,   8277797.,   8278371.,\n",
       "         8280511.,   8359498.,   8394475.,   8395660.,   8415200.,\n",
       "         8454250.,   8456679.,   8480285.,   8488381.,   8552719.,\n",
       "         8557374.,   8581240.,   8628758.,   8644288.,   8644365.,\n",
       "         8653134.,   8692861.,   8711794.,   8738735.,   8741470.,\n",
       "         8750043.,   8753657.,   8766650.,   8802165.,   8804455.,\n",
       "         8827575.,   8894646.,   8962094.,   9002278.,   9006186.,\n",
       "         9011877.,   9139084.,   9177629.,   9209624.,   9221517.,\n",
       "         9266431.,   9283156.,   9334893.,   9364609.,   9455325.,\n",
       "         9458266.,   9468848.,   9471268.,   9489524.,   9527334.,\n",
       "         9527915.,   9569711.,   9573539.,   9579641.,   9597058.,\n",
       "         9597345.,   9602613.,   9655129.,   9702072.,   9704384.,\n",
       "         9718066.,   9790806.,   9822284.,   9881662.,   9885417.,\n",
       "         9886661.,   9898447.,   9909735.,   9950612.,   9963524.,\n",
       "         9995402.,  10000941.,  10024701.,  10053138.,  10063208.,\n",
       "        10130039.,  10154388.,  10155029.,  10158418.,  10187017.,\n",
       "        10190777.,  10220837.,  10252275.,  10318874.,  10319385.,\n",
       "        10337517.,  10352333.,  10384298.,  10387742.,  10397751.,\n",
       "        10531955.,  10545066.,  10552611.,  10657406.,  10676014.,\n",
       "        10722485.,  10736489.,  10748390.,  10777591.,  10878263.,\n",
       "        10917433.,  10925104.,  10971674.,  10984090.,  11017901.,\n",
       "        11069176.,  11075737.,  11100383.,  11125797.,  11197853.,\n",
       "        11241912.,  11253711.,  11359879.,  11361646.,  11394027.,\n",
       "        11395587.,  11402995.,  11446443.,  11547505.,  11547513.,\n",
       "        11551692.,  11554435.,  11568987.,  11600889.,  11651712.,\n",
       "        11709006.,  11752632.,  11760860.,  11764462.,  11773625.,\n",
       "        11818872.,  11923284.,  11954842.,  11970988.,  12068975.,\n",
       "        12072872.,  12105051.,  12252424.,  12301181.,  12404954.,\n",
       "        12458605.,  12505503.,  12554212.,  12785320.])"
      ]
     },
     "execution_count": 21,
     "metadata": {},
     "output_type": "execute_result"
    }
   ],
   "source": [
    "star_list_ids"
   ]
  },
  {
   "cell_type": "code",
   "execution_count": 22,
   "metadata": {
    "collapsed": false
   },
   "outputs": [
    {
     "name": "stdout",
     "output_type": "stream",
     "text": [
      "(284, 22)\n"
     ]
    },
    {
     "name": "stderr",
     "output_type": "stream",
     "text": [
      "/home/xuhuang/anaconda2/lib/python2.7/site-packages/numpy/core/numeric.py:297: VisibleDeprecationWarning: using a non-integer number instead of an integer will result in an error in the future\n",
      "  a = empty(shape, dtype, order)\n"
     ]
    }
   ],
   "source": [
    "uni_Stars = len(np.unique(star_list_ids))\n",
    "largest_seg = np.max(koi_SNR[:,1].max())\n",
    "table = np.full((uni_Stars, largest_seg +2), np.nan, dtype=\"float64\")\n",
    "print table.shape"
   ]
  },
  {
   "cell_type": "code",
   "execution_count": 23,
   "metadata": {
    "collapsed": false
   },
   "outputs": [
    {
     "name": "stdout",
     "output_type": "stream",
     "text": [
      "[[  1161345.         0.         0. ...,        nan        nan        nan]\n",
      " [  1718958.         0.         0. ...,        nan        nan        nan]\n",
      " [  1865042.         0.         0. ...,        nan        nan        nan]\n",
      " ..., \n",
      " [ 12505503.         0.         0. ...,        nan        nan        nan]\n",
      " [ 12554212.         0.         0. ...,        nan        nan        nan]\n",
      " [ 12785320.         0.         0. ...,        nan        nan        nan]]\n"
     ]
    },
    {
     "name": "stderr",
     "output_type": "stream",
     "text": [
      "/home/xuhuang/anaconda2/lib/python2.7/site-packages/ipykernel/__main__.py:9: VisibleDeprecationWarning: using a non-integer number instead of an integer will result in an error in the future\n"
     ]
    }
   ],
   "source": [
    "table[:,0] = star_list_ids\n",
    "#print table\n",
    "for i, info in enumerate(koi_SNR):\n",
    "    #print info\n",
    "    try:\n",
    "        row_ind = np.where(info[0]==table[:, 0])[0]\n",
    "        col_ind = info[1] +1 \n",
    "        pred = preds[i]\n",
    "        table[row_ind, col_ind]= pred\n",
    "    #break\n",
    "    except   Exception as e:\n",
    "        print info, e\n",
    "        #break\n",
    "    #print row_ind, col_ind\n",
    "    \n",
    "print table"
   ]
  },
  {
   "cell_type": "code",
   "execution_count": 24,
   "metadata": {
    "collapsed": false
   },
   "outputs": [
    {
     "name": "stdout",
     "output_type": "stream",
     "text": [
      "[  0.   1.   2.   3.   4.   5.   6.   7.   8.   9.  10.  11.  12.  13.  14.\n",
      "  15.  16.  17.  18.  19.  20.]\n",
      "22 ['Star_id', 'Seg0.0', 'Seg1.0', 'Seg2.0', 'Seg3.0', 'Seg4.0', 'Seg5.0', 'Seg6.0', 'Seg7.0', 'Seg8.0', 'Seg9.0', 'Seg10.0', 'Seg11.0', 'Seg12.0', 'Seg13.0', 'Seg14.0', 'Seg15.0', 'Seg16.0', 'Seg17.0', 'Seg18.0', 'Seg19.0', 'Seg20.0']\n"
     ]
    }
   ],
   "source": [
    "nums = np.arange(largest_seg+1)\n",
    "print nums\n",
    "col_names = [\"Star_id\"] + [\"Seg\"+(str(x)) for x in nums ]\n",
    "print len(col_names), col_names\n",
    "#\n",
    "table_Vals = pd.DataFrame(table, columns=col_names)\n",
    "table_Vals.head()\n",
    "table_Vals.to_csv(\"../Data/predicted_koi_table.csv\")"
   ]
  },
  {
   "cell_type": "code",
   "execution_count": 25,
   "metadata": {
    "collapsed": false
   },
   "outputs": [
    {
     "name": "stdout",
     "output_type": "stream",
     "text": [
      "0.000441578177744 11.340199782 0.669310092 1 1\n",
      "9.13406334954e-05 12.211871172 0.669310092 1 1\n",
      "0.000208070238087 11.4290589172 0.669310092 1 1\n",
      "0.000169156904556 12.0287305724 0.669310092 1 1\n",
      "0.000169156904556 12.4390687748 0.669310092 1 1\n",
      "0.000272927407696 12.4874660394 0.669310092 1 1\n",
      "0.000310624757612 12.5952894188 0.669310092 1 1\n",
      "0.000169156904556 10.9831613413 0.669310092 1 1\n",
      "0.00018213814269 12.249159328 0.669310092 1 1\n",
      "0.000363738300282 12.7656314396 0.669310092 1 1\n",
      "0.00051802861901 12.5263672817 0.669310092 1 1\n",
      "0.000843838469746 12.2678889293 0.669310092 1 1\n",
      "0.000829050582173 11.8336273743 0.669310092 1 1\n",
      "0.000103174243179 11.494554957 0.669310092 1 1\n",
      "0.000298872084884 10.3125934486 0.669310092 1 1\n",
      "0.00023401659822 10.0164786015 0.669310092 1 1\n"
     ]
    },
    {
     "name": "stderr",
     "output_type": "stream",
     "text": [
      "/home/xuhuang/anaconda2/lib/python2.7/site-packages/ipykernel/__main__.py:13: VisibleDeprecationWarning: using a non-integer number instead of an integer will result in an error in the future\n"
     ]
    }
   ],
   "source": [
    "#print table\n",
    "#print info.shape\n",
    "table = np.full(table.shape, np.nan, \"float64\")\n",
    "# 242 10971674.0\n",
    "table[:, 0] = star_list_ids\n",
    "\n",
    "for i, info in enumerate(koi_SNR):\n",
    "    #print info\n",
    "    try:\n",
    "        row_ind = np.where(info[0]==table[:, 0])[0]\n",
    "        col_ind = info[1] +1 \n",
    "     \n",
    "        table[row_ind, col_ind]= koi_true[i]\n",
    "        if info[0] == 11600889:\n",
    "            print koi_tol[i, 2], koi_SNR[i, 2], koi_periods[i], koi_true[i], enough_trans[i]\n",
    "    #break\n",
    "    except   Exception as e:\n",
    "        print info, e\n",
    "        #break\n",
    "    #print row_ind, col_ind\n",
    "    \n",
    "#print table.astype(\"int64\")\n",
    "nums = np.arange(largest_seg+1)\n",
    "#print nums\n",
    "col_names = [\"Star_id\"] + [\"Seg\"+(str(x)) for x in nums ]\n",
    "#print len(col_names), col_names\n",
    "#\n",
    "table_Vals = pd.DataFrame(table, columns=col_names)\n",
    "table_Vals.head()\n",
    "table_Vals.to_csv(\"../Data/true_koi_table.csv\")\n"
   ]
  },
  {
   "cell_type": "code",
   "execution_count": 26,
   "metadata": {
    "collapsed": false
   },
   "outputs": [
    {
     "data": {
      "text/html": [
       "<div>\n",
       "<table border=\"1\" class=\"dataframe\">\n",
       "  <thead>\n",
       "    <tr style=\"text-align: right;\">\n",
       "      <th></th>\n",
       "      <th>Star_id</th>\n",
       "      <th>Seg0.0</th>\n",
       "      <th>Seg1.0</th>\n",
       "      <th>Seg2.0</th>\n",
       "      <th>Seg3.0</th>\n",
       "      <th>Seg4.0</th>\n",
       "      <th>Seg5.0</th>\n",
       "      <th>Seg6.0</th>\n",
       "      <th>Seg7.0</th>\n",
       "      <th>Seg8.0</th>\n",
       "      <th>...</th>\n",
       "      <th>Seg11.0</th>\n",
       "      <th>Seg12.0</th>\n",
       "      <th>Seg13.0</th>\n",
       "      <th>Seg14.0</th>\n",
       "      <th>Seg15.0</th>\n",
       "      <th>Seg16.0</th>\n",
       "      <th>Seg17.0</th>\n",
       "      <th>Seg18.0</th>\n",
       "      <th>Seg19.0</th>\n",
       "      <th>Seg20.0</th>\n",
       "    </tr>\n",
       "  </thead>\n",
       "  <tbody>\n",
       "    <tr>\n",
       "      <th>0</th>\n",
       "      <td>1161345.0</td>\n",
       "      <td>1.0</td>\n",
       "      <td>1.0</td>\n",
       "      <td>1.0</td>\n",
       "      <td>0.0</td>\n",
       "      <td>0.0</td>\n",
       "      <td>1.0</td>\n",
       "      <td>1.0</td>\n",
       "      <td>0.0</td>\n",
       "      <td>1.0</td>\n",
       "      <td>...</td>\n",
       "      <td>NaN</td>\n",
       "      <td>NaN</td>\n",
       "      <td>NaN</td>\n",
       "      <td>NaN</td>\n",
       "      <td>NaN</td>\n",
       "      <td>NaN</td>\n",
       "      <td>NaN</td>\n",
       "      <td>NaN</td>\n",
       "      <td>NaN</td>\n",
       "      <td>NaN</td>\n",
       "    </tr>\n",
       "    <tr>\n",
       "      <th>1</th>\n",
       "      <td>1718958.0</td>\n",
       "      <td>0.0</td>\n",
       "      <td>0.0</td>\n",
       "      <td>0.0</td>\n",
       "      <td>0.0</td>\n",
       "      <td>0.0</td>\n",
       "      <td>0.0</td>\n",
       "      <td>0.0</td>\n",
       "      <td>0.0</td>\n",
       "      <td>0.0</td>\n",
       "      <td>...</td>\n",
       "      <td>NaN</td>\n",
       "      <td>NaN</td>\n",
       "      <td>NaN</td>\n",
       "      <td>NaN</td>\n",
       "      <td>NaN</td>\n",
       "      <td>NaN</td>\n",
       "      <td>NaN</td>\n",
       "      <td>NaN</td>\n",
       "      <td>NaN</td>\n",
       "      <td>NaN</td>\n",
       "    </tr>\n",
       "    <tr>\n",
       "      <th>2</th>\n",
       "      <td>1865042.0</td>\n",
       "      <td>0.0</td>\n",
       "      <td>0.0</td>\n",
       "      <td>0.0</td>\n",
       "      <td>0.0</td>\n",
       "      <td>0.0</td>\n",
       "      <td>0.0</td>\n",
       "      <td>0.0</td>\n",
       "      <td>0.0</td>\n",
       "      <td>0.0</td>\n",
       "      <td>...</td>\n",
       "      <td>0.0</td>\n",
       "      <td>0.0</td>\n",
       "      <td>0.0</td>\n",
       "      <td>0.0</td>\n",
       "      <td>0.0</td>\n",
       "      <td>0.0</td>\n",
       "      <td>NaN</td>\n",
       "      <td>NaN</td>\n",
       "      <td>NaN</td>\n",
       "      <td>NaN</td>\n",
       "    </tr>\n",
       "    <tr>\n",
       "      <th>3</th>\n",
       "      <td>2299738.0</td>\n",
       "      <td>0.0</td>\n",
       "      <td>0.0</td>\n",
       "      <td>0.0</td>\n",
       "      <td>0.0</td>\n",
       "      <td>0.0</td>\n",
       "      <td>0.0</td>\n",
       "      <td>0.0</td>\n",
       "      <td>0.0</td>\n",
       "      <td>0.0</td>\n",
       "      <td>...</td>\n",
       "      <td>0.0</td>\n",
       "      <td>0.0</td>\n",
       "      <td>NaN</td>\n",
       "      <td>NaN</td>\n",
       "      <td>NaN</td>\n",
       "      <td>NaN</td>\n",
       "      <td>NaN</td>\n",
       "      <td>NaN</td>\n",
       "      <td>NaN</td>\n",
       "      <td>NaN</td>\n",
       "    </tr>\n",
       "    <tr>\n",
       "      <th>4</th>\n",
       "      <td>2302548.0</td>\n",
       "      <td>0.0</td>\n",
       "      <td>0.0</td>\n",
       "      <td>0.0</td>\n",
       "      <td>0.0</td>\n",
       "      <td>0.0</td>\n",
       "      <td>0.0</td>\n",
       "      <td>0.0</td>\n",
       "      <td>0.0</td>\n",
       "      <td>0.0</td>\n",
       "      <td>...</td>\n",
       "      <td>0.0</td>\n",
       "      <td>0.0</td>\n",
       "      <td>0.0</td>\n",
       "      <td>NaN</td>\n",
       "      <td>NaN</td>\n",
       "      <td>NaN</td>\n",
       "      <td>NaN</td>\n",
       "      <td>NaN</td>\n",
       "      <td>NaN</td>\n",
       "      <td>NaN</td>\n",
       "    </tr>\n",
       "  </tbody>\n",
       "</table>\n",
       "<p>5 rows × 22 columns</p>\n",
       "</div>"
      ],
      "text/plain": [
       "     Star_id  Seg0.0  Seg1.0  Seg2.0  Seg3.0  Seg4.0  Seg5.0  Seg6.0  Seg7.0  \\\n",
       "0  1161345.0     1.0     1.0     1.0     0.0     0.0     1.0     1.0     0.0   \n",
       "1  1718958.0     0.0     0.0     0.0     0.0     0.0     0.0     0.0     0.0   \n",
       "2  1865042.0     0.0     0.0     0.0     0.0     0.0     0.0     0.0     0.0   \n",
       "3  2299738.0     0.0     0.0     0.0     0.0     0.0     0.0     0.0     0.0   \n",
       "4  2302548.0     0.0     0.0     0.0     0.0     0.0     0.0     0.0     0.0   \n",
       "\n",
       "   Seg8.0   ...     Seg11.0  Seg12.0  Seg13.0  Seg14.0  Seg15.0  Seg16.0  \\\n",
       "0     1.0   ...         NaN      NaN      NaN      NaN      NaN      NaN   \n",
       "1     0.0   ...         NaN      NaN      NaN      NaN      NaN      NaN   \n",
       "2     0.0   ...         0.0      0.0      0.0      0.0      0.0      0.0   \n",
       "3     0.0   ...         0.0      0.0      NaN      NaN      NaN      NaN   \n",
       "4     0.0   ...         0.0      0.0      0.0      NaN      NaN      NaN   \n",
       "\n",
       "   Seg17.0  Seg18.0  Seg19.0  Seg20.0  \n",
       "0      NaN      NaN      NaN      NaN  \n",
       "1      NaN      NaN      NaN      NaN  \n",
       "2      NaN      NaN      NaN      NaN  \n",
       "3      NaN      NaN      NaN      NaN  \n",
       "4      NaN      NaN      NaN      NaN  \n",
       "\n",
       "[5 rows x 22 columns]"
      ]
     },
     "execution_count": 26,
     "metadata": {},
     "output_type": "execute_result"
    }
   ],
   "source": [
    "table_Vals.head()"
   ]
  },
  {
   "cell_type": "code",
   "execution_count": 27,
   "metadata": {
    "collapsed": false
   },
   "outputs": [
    {
     "data": {
      "text/plain": [
       "array([ 1161345.,  1718958.,  1865042.,  2299738.,  2302548.,  2304320.,\n",
       "        2438513.,  2441495.,  2444412.,  2571238.])"
      ]
     },
     "execution_count": 27,
     "metadata": {},
     "output_type": "execute_result"
    }
   ],
   "source": [
    "star_list_ids[:10]"
   ]
  },
  {
   "cell_type": "code",
   "execution_count": 28,
   "metadata": {
    "collapsed": false
   },
   "outputs": [
    {
     "data": {
      "text/plain": [
       "<matplotlib.legend.Legend at 0x7f964cf968d0>"
      ]
     },
     "execution_count": 28,
     "metadata": {},
     "output_type": "execute_result"
    },
    {
     "data": {
      "image/png": "[encoded data removed]",
      "text/plain": [
       "<matplotlib.figure.Figure at 0x7f964d0985d0>"
      ]
     },
     "metadata": {},
     "output_type": "display_data"
    }
   ],
   "source": [
    "true_Vals = pd.read_csv(\"../Data/true_koi_table.csv\")\n",
    "pred_Vals = pd.read_csv(\"../Data/predicted_koi_table.csv\")\n",
    "def sum_partial(row):\n",
    "    return np.nansum(row[2:])\n",
    "true_Vals['sums'] = true_Vals.apply(sum_partial, axis=1)\n",
    "bins = np.linspace(1,20,20)\n",
    "pred_Vals[\"sums\"] = pred_Vals.apply(sum_partial, axis =1)\n",
    "#sums_pred = true_Vals.sum(axis= 1)\n",
    "fig = plt.figure()\n",
    "ax = fig.add_subplot(\"111\")\n",
    "true_Vals.hist('sums', ax = ax, alpha = 0.5, bins = bins, label = \"true\")\n",
    "pred_Vals.hist(\"sums\", ax = ax, alpha = 0.5, bins = bins, label = \"predicted\")\n",
    "#print true_Vals['sums']\n",
    "plt.legend()"
   ]
  },
  {
   "cell_type": "code",
   "execution_count": 29,
   "metadata": {
    "collapsed": false
   },
   "outputs": [
    {
     "name": "stdout",
     "output_type": "stream",
     "text": [
      "[127 131 155 176 201 271]\n",
      "127     7887791.0\n",
      "131     7976520.0\n",
      "155     8557374.0\n",
      "176     9139084.0\n",
      "201     9790806.0\n",
      "271    11923284.0\n",
      "Name: Star_id, dtype: float64\n"
     ]
    }
   ],
   "source": [
    "print np.where(true_Vals[\"sums\"]==1)[0]\n",
    "print pred_Vals[\"Star_id\"][np.where(true_Vals[\"sums\"]==1)[0]]"
   ]
  },
  {
   "cell_type": "code",
   "execution_count": 117,
   "metadata": {
    "collapsed": false,
    "scrolled": true
   },
   "outputs": [
    {
     "name": "stdout",
     "output_type": "stream",
     "text": [
      "[[  1.00009410e+07   6.00000000e+00   2.15832333e+00]]\n",
      "[[  2.43851300e+06   0.00000000e+00   9.01201257e+00]\n",
      " [  2.43851300e+06   1.00000000e+00   7.76361320e+00]\n",
      " [  2.43851300e+06   2.00000000e+00   8.20384399e+00]\n",
      " [  2.43851300e+06   3.00000000e+00   8.59865970e+00]\n",
      " [  2.43851300e+06   4.00000000e+00   9.35397210e+00]\n",
      " [  2.43851300e+06   5.00000000e+00   6.32940683e+00]\n",
      " [  2.43851300e+06   6.00000000e+00   6.95804630e+00]\n",
      " [  2.43851300e+06   7.00000000e+00   8.98767223e+00]\n",
      " [  2.43851300e+06   8.00000000e+00   9.22755117e+00]\n",
      " [  2.43851300e+06   9.00000000e+00   6.71072952e+00]\n",
      " [  2.43851300e+06   1.00000000e+01   6.91467146e+00]\n",
      " [  2.43851300e+06   1.10000000e+01   7.00565398e+00]\n",
      " [  2.43851300e+06   1.20000000e+01   8.26240009e+00]\n",
      " [  2.43851300e+06   1.30000000e+01   8.77438534e+00]\n",
      " [  2.43851300e+06   1.40000000e+01   5.41747215e+00]\n",
      " [  2.43851300e+06   1.50000000e+01   5.58805313e+00]\n",
      " [  2.43851300e+06   1.60000000e+01   5.56585405e+00]\n",
      " [  2.43851300e+06   1.70000000e+01   6.12833452e+00]\n",
      " [  2.43851300e+06   1.80000000e+01   8.69414883e+00]]\n"
     ]
    }
   ],
   "source": [
    "print koi_SNR[np.where(true_Vals[\"Star_id\"]==2438513)[0]]\n",
    "print koi_SNR[koi_SNR[:,0]==2438513]\n",
    "#true_Vals.iloc[198,:]\n",
    "#true_Vals.iloc[263,:]\n",
    "#true_Vals.iloc[268,:]"
   ]
  },
  {
   "cell_type": "code",
   "execution_count": null,
   "metadata": {
    "collapsed": true
   },
   "outputs": [],
   "source": []
  }
 ],
 "metadata": {
  "anaconda-cloud": {},
  "kernelspec": {
   "display_name": "Python [conda root]",
   "language": "python",
   "name": "conda-root-py"
  },
  "language_info": {
   "codemirror_mode": {
    "name": "ipython",
    "version": 2
   },
   "file_extension": ".py",
   "mimetype": "text/x-python",
   "name": "python",
   "nbconvert_exporter": "python",
   "pygments_lexer": "ipython2",
   "version": "2.7.12"
  }
 },
 "nbformat": 4,
 "nbformat_minor": 1
}
