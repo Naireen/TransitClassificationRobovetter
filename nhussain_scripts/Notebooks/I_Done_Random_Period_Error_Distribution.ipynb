{
 "cells": [
  {
   "cell_type": "markdown",
   "metadata": {},
   "source": [
    "Draw one sets of randomly generated values from 0 to 10000, and then convert that to a corresponding frequncy value from a grid ranging from 0.05 to 2 with 10000 increments in between. Draw the other set of periods from a uniformly distributed set of frequencies from .05 to 2. We want the number of both random runs to be equivalent to the number of valid primary KOI segments we have. We then conclude with a comparison of the error distribution of the random generated periods compared to the bls period error of teh primary KOIS. "
   ]
  },
  {
   "cell_type": "code",
   "execution_count": 1,
   "metadata": {
    "collapsed": true
   },
   "outputs": [],
   "source": [
    "import os\n",
    "import numpy as np\n",
    "import pandas as pd\n",
    "import time\n",
    "import matplotlib\n",
    "%matplotlib inline\n",
    "from matplotlib import pyplot as plt\n",
    "from scipy.optimize import minimize, fmin, fminbound, fmin_slsqp, brute"
   ]
  },
  {
   "cell_type": "code",
   "execution_count": 2,
   "metadata": {
    "collapsed": true
   },
   "outputs": [],
   "source": [
    "#Period Error Function\n",
    "\n",
    "def period_func(vals, p_bls, p_inj):\n",
    "    a, b = vals\n",
    "    a = np.rint(a)\n",
    "    b = np.rint(b)\n",
    "    #print a, b\n",
    "    #print a*p_bls-b*p_inj\n",
    "    \n",
    "    return np.abs((a*p_bls - b*p_inj) / 0.5/(a*p_bls + b*p_inj))\n"
   ]
  },
  {
   "cell_type": "code",
   "execution_count": 3,
   "metadata": {
    "collapsed": false
   },
   "outputs": [
    {
     "name": "stdout",
     "output_type": "stream",
     "text": [
      "[ 1.61701096  2.04277572  1.18286502 ...,  3.13764865  0.81653983\n",
      "  0.67490501] 19.7687061382 0.5\n"
     ]
    }
   ],
   "source": [
    "np.random.seed(5)\n",
    "runs = 3080 # number of primary koi segments\n",
    "draw1 = np.random.randint(0,10001, size = runs)\n",
    "draw2 = np.random.randint(0,10001, size = runs)\n",
    "\n",
    "\n",
    "val1 = 1./ (draw1* (1.95/10000) + 0.05)\n",
    "print val1, val1.max(), val1.min()\n",
    "val2 = 1./ (draw2* (1.95/10000) + 0.05)\n",
    "val2 = 1./np.random.uniform(0.05, 2, size=3080)\n"
   ]
  },
  {
   "cell_type": "code",
   "execution_count": 4,
   "metadata": {
    "collapsed": false
   },
   "outputs": [
    {
     "name": "stdout",
     "output_type": "stream",
     "text": [
      "(3080, 2)\n"
     ]
    }
   ],
   "source": [
    "rranges = (slice(1,6, 1), slice(1,6, 1))\n",
    "harmonics = np.empty(shape = [runs,2])\n",
    "for i in range(runs):\n",
    "    results = brute(period_func, ranges=rranges, args=(val1[i], val2[i]), full_output=True, finish= None)\n",
    "    harmonics[i, :] =results[0]\n",
    "    try:\n",
    "        results[0].astype(int)\n",
    "    except:\n",
    "        print i\n",
    "    #break\n",
    "print harmonics.shape"
   ]
  },
  {
   "cell_type": "code",
   "execution_count": 5,
   "metadata": {
    "collapsed": false
   },
   "outputs": [
    {
     "name": "stdout",
     "output_type": "stream",
     "text": [
      "3028\n",
      "52\n"
     ]
    }
   ],
   "source": [
    "tol = np.zeros(runs)\n",
    "for i in range(runs):\n",
    "    tol[i] = period_func( harmonics[i],val1[i], val2[i])\n",
    "\n",
    "    \n",
    "print len(np.where(tol>0.002)[0])\n",
    "print len(np.where(tol<0.002)[0])\n",
    "#plt.figure(figsize=(13, 8))\n",
    "\n",
    "#plt.hist(tol, bins = np.linspace(0,0.025,50), edgecolor = \"black\")\n",
    "#plt.ylabel(\"Frequency\")\n",
    "#plt.xlabel(\"Period Error for 3080 Randomly Generated Samples\")\n",
    "#plt.xlim([0,0.025])"
   ]
  },
  {
   "cell_type": "code",
   "execution_count": 6,
   "metadata": {
    "collapsed": false
   },
   "outputs": [
    {
     "data": {
      "text/plain": [
       "<matplotlib.legend.Legend at 0x7f45400eff90>"
      ]
     },
     "execution_count": 6,
     "metadata": {},
     "output_type": "execute_result"
    },
    {
     "data": {
      "image/png": "[encoded data removed]",
      "text/plain": [
       "<matplotlib.figure.Figure at 0x7f4510cbe050>"
      ]
     },
     "metadata": {},
     "output_type": "display_data"
    }
   ],
   "source": [
    "koi_tol = np.loadtxt(\"period_harmonics_3080_koi_signals_tol.txt\")[:,2]\n",
    "plt.figure(figsize=(13, 8))\n",
    "plt.hist(tol, bins = np.linspace(0,0.025,50), edgecolor = \"black\", alpha=0.5, color = \"purple\", label = \"Random Period Error\")\n",
    "plt.ylabel(\"Frequency\")\n",
    "plt.xlabel(\"Period Error Distribution for 3080 Randomly Generated Samples and KOIS\")\n",
    "plt.xlim([0,0.025])\n",
    "plt.hist(koi_tol, bins = np.linspace(0,0.025,50), alpha = 0.5, edgecolor = \"black\", color = \"green\", label= \"KOI Period Error\")\n",
    "plt.axvline(x= 0.002, label=\"Error Threshold\", ls = \"--\")\n",
    "plt.legend()"
   ]
  },
  {
   "cell_type": "code",
   "execution_count": null,
   "metadata": {
    "collapsed": true
   },
   "outputs": [],
   "source": []
  }
 ],
 "metadata": {
  "anaconda-cloud": {},
  "kernelspec": {
   "display_name": "Python [conda root]",
   "language": "python",
   "name": "conda-root-py"
  },
  "language_info": {
   "codemirror_mode": {
    "name": "ipython",
    "version": 2
   },
   "file_extension": ".py",
   "mimetype": "text/x-python",
   "name": "python",
   "nbconvert_exporter": "python",
   "pygments_lexer": "ipython2",
   "version": "2.7.12"
  }
 },
 "nbformat": 4,
 "nbformat_minor": 1
}
