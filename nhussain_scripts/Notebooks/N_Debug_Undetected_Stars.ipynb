{
 "cells": [
  {
   "cell_type": "code",
   "execution_count": 1,
   "metadata": {
    "collapsed": true
   },
   "outputs": [],
   "source": [
    "#[  5735762.   6198182.   6278762.  10545066.  10748390.  11100383. 11709006.]\n",
    "import numpy as np \n",
    "import pandas as pd\n",
    "import matplotlib \n",
    "from matplotlib import pyplot as plt\n",
    "%matplotlib inline\n",
    "import os\n",
    "import time\n"
   ]
  },
  {
   "cell_type": "code",
   "execution_count": 3,
   "metadata": {
    "collapsed": false
   },
   "outputs": [
    {
     "name": "stdout",
     "output_type": "stream",
     "text": [
      "['rowid' 'kepid' 'kepoi_name' 'kepler_name' 'koi_disposition'\n",
      " 'koi_pdisposition' 'koi_score' 'koi_fpflag_nt' 'koi_fpflag_ss'\n",
      " 'koi_fpflag_co' 'koi_fpflag_ec' 'koi_period' 'koi_period_err1'\n",
      " 'koi_period_err2' 'koi_time0bk' 'koi_time0bk_err1' 'koi_time0bk_err2'\n",
      " 'koi_impact' 'koi_impact_err1' 'koi_impact_err2' 'koi_duration'\n",
      " 'koi_duration_err1' 'koi_duration_err2' 'koi_depth' 'koi_depth_err1'\n",
      " 'koi_depth_err2' 'koi_prad' 'koi_prad_err1' 'koi_prad_err2' 'koi_teq'\n",
      " 'koi_teq_err1' 'koi_teq_err2' 'koi_insol' 'koi_insol_err1'\n",
      " 'koi_insol_err2' 'koi_model_snr' 'koi_tce_plnt_num' 'koi_tce_delivname'\n",
      " 'koi_steff' 'koi_steff_err1' 'koi_steff_err2' 'koi_slogg' 'koi_slogg_err1'\n",
      " 'koi_slogg_err2' 'koi_srad' 'koi_srad_err1' 'koi_srad_err2' 'ra' 'dec'\n",
      " 'koi_kepmag']\n"
     ]
    },
    {
     "data": {
      "text/html": [
       "<div>\n",
       "<table border=\"1\" class=\"dataframe\">\n",
       "  <thead>\n",
       "    <tr style=\"text-align: right;\">\n",
       "      <th></th>\n",
       "      <th>rowid</th>\n",
       "      <th>kepid</th>\n",
       "      <th>kepoi_name</th>\n",
       "      <th>kepler_name</th>\n",
       "      <th>koi_disposition</th>\n",
       "      <th>koi_pdisposition</th>\n",
       "      <th>koi_score</th>\n",
       "      <th>koi_fpflag_nt</th>\n",
       "      <th>koi_fpflag_ss</th>\n",
       "      <th>koi_fpflag_co</th>\n",
       "      <th>...</th>\n",
       "      <th>koi_steff_err2</th>\n",
       "      <th>koi_slogg</th>\n",
       "      <th>koi_slogg_err1</th>\n",
       "      <th>koi_slogg_err2</th>\n",
       "      <th>koi_srad</th>\n",
       "      <th>koi_srad_err1</th>\n",
       "      <th>koi_srad_err2</th>\n",
       "      <th>ra</th>\n",
       "      <th>dec</th>\n",
       "      <th>koi_kepmag</th>\n",
       "    </tr>\n",
       "  </thead>\n",
       "  <tbody>\n",
       "    <tr>\n",
       "      <th>0</th>\n",
       "      <td>4966</td>\n",
       "      <td>10000941</td>\n",
       "      <td>K04146.01</td>\n",
       "      <td>Kepler-1558 b</td>\n",
       "      <td>CONFIRMED</td>\n",
       "      <td>CANDIDATE</td>\n",
       "      <td>0.999</td>\n",
       "      <td>0</td>\n",
       "      <td>0</td>\n",
       "      <td>0</td>\n",
       "      <td>...</td>\n",
       "      <td>-139.0</td>\n",
       "      <td>4.477</td>\n",
       "      <td>0.095</td>\n",
       "      <td>-0.105</td>\n",
       "      <td>0.854</td>\n",
       "      <td>0.103</td>\n",
       "      <td>-0.093</td>\n",
       "      <td>286.81937</td>\n",
       "      <td>46.911690</td>\n",
       "      <td>13.632</td>\n",
       "    </tr>\n",
       "    <tr>\n",
       "      <th>1</th>\n",
       "      <td>4967</td>\n",
       "      <td>10000941</td>\n",
       "      <td>K04146.02</td>\n",
       "      <td>NaN</td>\n",
       "      <td>CANDIDATE</td>\n",
       "      <td>CANDIDATE</td>\n",
       "      <td>1.000</td>\n",
       "      <td>0</td>\n",
       "      <td>0</td>\n",
       "      <td>0</td>\n",
       "      <td>...</td>\n",
       "      <td>-139.0</td>\n",
       "      <td>4.477</td>\n",
       "      <td>0.095</td>\n",
       "      <td>-0.105</td>\n",
       "      <td>0.854</td>\n",
       "      <td>0.103</td>\n",
       "      <td>-0.093</td>\n",
       "      <td>286.81937</td>\n",
       "      <td>46.911690</td>\n",
       "      <td>13.632</td>\n",
       "    </tr>\n",
       "    <tr>\n",
       "      <th>2</th>\n",
       "      <td>2605</td>\n",
       "      <td>10024701</td>\n",
       "      <td>K02002.01</td>\n",
       "      <td>Kepler-1046 b</td>\n",
       "      <td>CONFIRMED</td>\n",
       "      <td>CANDIDATE</td>\n",
       "      <td>1.000</td>\n",
       "      <td>0</td>\n",
       "      <td>0</td>\n",
       "      <td>0</td>\n",
       "      <td>...</td>\n",
       "      <td>-130.0</td>\n",
       "      <td>4.403</td>\n",
       "      <td>0.076</td>\n",
       "      <td>-0.114</td>\n",
       "      <td>1.053</td>\n",
       "      <td>0.168</td>\n",
       "      <td>-0.104</td>\n",
       "      <td>296.75574</td>\n",
       "      <td>46.998291</td>\n",
       "      <td>13.286</td>\n",
       "    </tr>\n",
       "    <tr>\n",
       "      <th>3</th>\n",
       "      <td>7125</td>\n",
       "      <td>10053138</td>\n",
       "      <td>K07279.01</td>\n",
       "      <td>NaN</td>\n",
       "      <td>CANDIDATE</td>\n",
       "      <td>CANDIDATE</td>\n",
       "      <td>0.769</td>\n",
       "      <td>0</td>\n",
       "      <td>0</td>\n",
       "      <td>0</td>\n",
       "      <td>...</td>\n",
       "      <td>-72.0</td>\n",
       "      <td>4.333</td>\n",
       "      <td>0.154</td>\n",
       "      <td>-0.126</td>\n",
       "      <td>1.056</td>\n",
       "      <td>0.191</td>\n",
       "      <td>-0.173</td>\n",
       "      <td>280.71948</td>\n",
       "      <td>47.072220</td>\n",
       "      <td>13.717</td>\n",
       "    </tr>\n",
       "    <tr>\n",
       "      <th>4</th>\n",
       "      <td>5105</td>\n",
       "      <td>10063208</td>\n",
       "      <td>K04292.01</td>\n",
       "      <td>Kepler-1583 b</td>\n",
       "      <td>CONFIRMED</td>\n",
       "      <td>CANDIDATE</td>\n",
       "      <td>0.995</td>\n",
       "      <td>0</td>\n",
       "      <td>0</td>\n",
       "      <td>0</td>\n",
       "      <td>...</td>\n",
       "      <td>-82.0</td>\n",
       "      <td>4.514</td>\n",
       "      <td>0.032</td>\n",
       "      <td>-0.128</td>\n",
       "      <td>0.888</td>\n",
       "      <td>0.138</td>\n",
       "      <td>-0.046</td>\n",
       "      <td>286.38693</td>\n",
       "      <td>47.016628</td>\n",
       "      <td>12.897</td>\n",
       "    </tr>\n",
       "  </tbody>\n",
       "</table>\n",
       "<p>5 rows × 50 columns</p>\n",
       "</div>"
      ],
      "text/plain": [
       "   rowid     kepid kepoi_name    kepler_name koi_disposition koi_pdisposition  \\\n",
       "0   4966  10000941  K04146.01  Kepler-1558 b       CONFIRMED        CANDIDATE   \n",
       "1   4967  10000941  K04146.02            NaN       CANDIDATE        CANDIDATE   \n",
       "2   2605  10024701  K02002.01  Kepler-1046 b       CONFIRMED        CANDIDATE   \n",
       "3   7125  10053138  K07279.01            NaN       CANDIDATE        CANDIDATE   \n",
       "4   5105  10063208  K04292.01  Kepler-1583 b       CONFIRMED        CANDIDATE   \n",
       "\n",
       "   koi_score  koi_fpflag_nt  koi_fpflag_ss  koi_fpflag_co     ...      \\\n",
       "0      0.999              0              0              0     ...       \n",
       "1      1.000              0              0              0     ...       \n",
       "2      1.000              0              0              0     ...       \n",
       "3      0.769              0              0              0     ...       \n",
       "4      0.995              0              0              0     ...       \n",
       "\n",
       "   koi_steff_err2  koi_slogg  koi_slogg_err1  koi_slogg_err2  koi_srad  \\\n",
       "0          -139.0      4.477           0.095          -0.105     0.854   \n",
       "1          -139.0      4.477           0.095          -0.105     0.854   \n",
       "2          -130.0      4.403           0.076          -0.114     1.053   \n",
       "3           -72.0      4.333           0.154          -0.126     1.056   \n",
       "4           -82.0      4.514           0.032          -0.128     0.888   \n",
       "\n",
       "   koi_srad_err1  koi_srad_err2         ra        dec  koi_kepmag  \n",
       "0          0.103         -0.093  286.81937  46.911690      13.632  \n",
       "1          0.103         -0.093  286.81937  46.911690      13.632  \n",
       "2          0.168         -0.104  296.75574  46.998291      13.286  \n",
       "3          0.191         -0.173  280.71948  47.072220      13.717  \n",
       "4          0.138         -0.046  286.38693  47.016628      12.897  \n",
       "\n",
       "[5 rows x 50 columns]"
      ]
     },
     "execution_count": 3,
     "metadata": {},
     "output_type": "execute_result"
    }
   ],
   "source": [
    "koi_table = pd.read_csv(\"../../../Training/catalogs/shortperiodbright_KOI.csv\")\n",
    "print koi_table.columns.values\n",
    "koi_table.head()"
   ]
  },
  {
   "cell_type": "code",
   "execution_count": 4,
   "metadata": {
    "collapsed": true
   },
   "outputs": [],
   "source": [
    "#Strong stars we are still missing as at SNR at or greater 13\n",
    "#9790806 -> ~9 SNR peak strength, period mostly correctly detected except for one, SNR = 20\n",
    "#11551692 --> multiplanet system, SNR = 60\n",
    "#10878263 --multiplanet system, SNR = 20\n",
    "#9527334 --> single planet, high SNR, correctly detected period, SNR = 19\n",
    "#8142942 --> some low signal peak strength, sinlge planet, SNR = 13.7 (SNR takes segments SNR median, thus not affected by a few bad cases)\n",
    "#7626506 --> single strong planet with small enough period, but odd second signal in light curves, SNR = 21\n",
    "#7447200 --> multiplanet sytem with both strong signals, thrown of by tertiary signals SNR = 70\n",
    "#6029239 --> unsure why this i sbeing missed, multiplanet system, but secondary plant is too weak to mess up signal, SNR =21\n",
    "#4563268 --> the secondary planets signal is strong enough to be seen in some segments, SNR =14"
   ]
  },
  {
   "cell_type": "code",
   "execution_count": 71,
   "metadata": {
    "collapsed": false
   },
   "outputs": [
    {
     "name": "stdout",
     "output_type": "stream",
     "text": [
      "10187017\n",
      "19.96367208\n"
     ]
    },
    {
     "data": {
      "text/html": [
       "<div>\n",
       "<table border=\"1\" class=\"dataframe\">\n",
       "  <thead>\n",
       "    <tr style=\"text-align: right;\">\n",
       "      <th></th>\n",
       "      <th>rowid</th>\n",
       "      <th>kepid</th>\n",
       "      <th>kepoi_name</th>\n",
       "      <th>kepler_name</th>\n",
       "      <th>koi_disposition</th>\n",
       "      <th>koi_pdisposition</th>\n",
       "      <th>koi_score</th>\n",
       "      <th>koi_fpflag_nt</th>\n",
       "      <th>koi_fpflag_ss</th>\n",
       "      <th>koi_fpflag_co</th>\n",
       "      <th>...</th>\n",
       "      <th>koi_steff_err2</th>\n",
       "      <th>koi_slogg</th>\n",
       "      <th>koi_slogg_err1</th>\n",
       "      <th>koi_slogg_err2</th>\n",
       "      <th>koi_srad</th>\n",
       "      <th>koi_srad_err1</th>\n",
       "      <th>koi_srad_err2</th>\n",
       "      <th>ra</th>\n",
       "      <th>dec</th>\n",
       "      <th>koi_kepmag</th>\n",
       "    </tr>\n",
       "  </thead>\n",
       "  <tbody>\n",
       "    <tr>\n",
       "      <th>10</th>\n",
       "      <td>63</td>\n",
       "      <td>10187017</td>\n",
       "      <td>K00082.01</td>\n",
       "      <td>Kepler-102 e</td>\n",
       "      <td>CONFIRMED</td>\n",
       "      <td>CANDIDATE</td>\n",
       "      <td>1.0</td>\n",
       "      <td>0</td>\n",
       "      <td>0</td>\n",
       "      <td>0</td>\n",
       "      <td>...</td>\n",
       "      <td>-98.0</td>\n",
       "      <td>4.602</td>\n",
       "      <td>0.017</td>\n",
       "      <td>-0.049</td>\n",
       "      <td>0.741</td>\n",
       "      <td>0.048</td>\n",
       "      <td>-0.03</td>\n",
       "      <td>281.48273</td>\n",
       "      <td>47.208031</td>\n",
       "      <td>11.492</td>\n",
       "    </tr>\n",
       "    <tr>\n",
       "      <th>11</th>\n",
       "      <td>64</td>\n",
       "      <td>10187017</td>\n",
       "      <td>K00082.02</td>\n",
       "      <td>Kepler-102 d</td>\n",
       "      <td>CONFIRMED</td>\n",
       "      <td>CANDIDATE</td>\n",
       "      <td>1.0</td>\n",
       "      <td>0</td>\n",
       "      <td>0</td>\n",
       "      <td>0</td>\n",
       "      <td>...</td>\n",
       "      <td>-98.0</td>\n",
       "      <td>4.602</td>\n",
       "      <td>0.017</td>\n",
       "      <td>-0.049</td>\n",
       "      <td>0.741</td>\n",
       "      <td>0.048</td>\n",
       "      <td>-0.03</td>\n",
       "      <td>281.48273</td>\n",
       "      <td>47.208031</td>\n",
       "      <td>11.492</td>\n",
       "    </tr>\n",
       "    <tr>\n",
       "      <th>12</th>\n",
       "      <td>66</td>\n",
       "      <td>10187017</td>\n",
       "      <td>K00082.04</td>\n",
       "      <td>Kepler-102 c</td>\n",
       "      <td>CONFIRMED</td>\n",
       "      <td>CANDIDATE</td>\n",
       "      <td>1.0</td>\n",
       "      <td>0</td>\n",
       "      <td>0</td>\n",
       "      <td>0</td>\n",
       "      <td>...</td>\n",
       "      <td>-98.0</td>\n",
       "      <td>4.602</td>\n",
       "      <td>0.017</td>\n",
       "      <td>-0.049</td>\n",
       "      <td>0.741</td>\n",
       "      <td>0.048</td>\n",
       "      <td>-0.03</td>\n",
       "      <td>281.48273</td>\n",
       "      <td>47.208031</td>\n",
       "      <td>11.492</td>\n",
       "    </tr>\n",
       "    <tr>\n",
       "      <th>13</th>\n",
       "      <td>67</td>\n",
       "      <td>10187017</td>\n",
       "      <td>K00082.05</td>\n",
       "      <td>Kepler-102 b</td>\n",
       "      <td>CONFIRMED</td>\n",
       "      <td>CANDIDATE</td>\n",
       "      <td>1.0</td>\n",
       "      <td>0</td>\n",
       "      <td>0</td>\n",
       "      <td>0</td>\n",
       "      <td>...</td>\n",
       "      <td>-98.0</td>\n",
       "      <td>4.602</td>\n",
       "      <td>0.017</td>\n",
       "      <td>-0.049</td>\n",
       "      <td>0.741</td>\n",
       "      <td>0.048</td>\n",
       "      <td>-0.03</td>\n",
       "      <td>281.48273</td>\n",
       "      <td>47.208031</td>\n",
       "      <td>11.492</td>\n",
       "    </tr>\n",
       "  </tbody>\n",
       "</table>\n",
       "<p>4 rows × 50 columns</p>\n",
       "</div>"
      ],
      "text/plain": [
       "    rowid     kepid kepoi_name   kepler_name koi_disposition koi_pdisposition  \\\n",
       "10     63  10187017  K00082.01  Kepler-102 e       CONFIRMED        CANDIDATE   \n",
       "11     64  10187017  K00082.02  Kepler-102 d       CONFIRMED        CANDIDATE   \n",
       "12     66  10187017  K00082.04  Kepler-102 c       CONFIRMED        CANDIDATE   \n",
       "13     67  10187017  K00082.05  Kepler-102 b       CONFIRMED        CANDIDATE   \n",
       "\n",
       "    koi_score  koi_fpflag_nt  koi_fpflag_ss  koi_fpflag_co     ...      \\\n",
       "10        1.0              0              0              0     ...       \n",
       "11        1.0              0              0              0     ...       \n",
       "12        1.0              0              0              0     ...       \n",
       "13        1.0              0              0              0     ...       \n",
       "\n",
       "    koi_steff_err2  koi_slogg  koi_slogg_err1  koi_slogg_err2  koi_srad  \\\n",
       "10           -98.0      4.602           0.017          -0.049     0.741   \n",
       "11           -98.0      4.602           0.017          -0.049     0.741   \n",
       "12           -98.0      4.602           0.017          -0.049     0.741   \n",
       "13           -98.0      4.602           0.017          -0.049     0.741   \n",
       "\n",
       "    koi_srad_err1  koi_srad_err2         ra        dec  koi_kepmag  \n",
       "10          0.048          -0.03  281.48273  47.208031      11.492  \n",
       "11          0.048          -0.03  281.48273  47.208031      11.492  \n",
       "12          0.048          -0.03  281.48273  47.208031      11.492  \n",
       "13          0.048          -0.03  281.48273  47.208031      11.492  \n",
       "\n",
       "[4 rows x 50 columns]"
      ]
     },
     "execution_count": 71,
     "metadata": {},
     "output_type": "execute_result"
    }
   ],
   "source": [
    "#missed_strong = np.loadtxt(\"../Data/Missed_Strong_Stars.txt\").astype(int)\n",
    "#missed_strong = np.loadtxt(\"../Data/Missed_Strong_Stars_Period_Cut.txt\").astype(int)\n",
    "unique_ids = np.unique(koi_table[\"kepid\"])\n",
    "#print koi_table.columns.values\n",
    "#np.savetxt(\"../Data/Unique_Stars.txt\", unique_ids)\n",
    "#print missed_strong.shape\n",
    "multi_planet_stars = np.unique(koi_table['kepid'][ np.where(koi_table[\"koi_tce_plnt_num\"]>1)[0]])\n",
    "#star_id = 2302548\n",
    "#star_id=missed_strong[12]\n",
    "star_id = multi_planet_stars[4]\n",
    "star_id = 10187017# 10130039 # 8008067\n",
    "#8644288# 6850504   #5735762 #10725104 #8644288 #6850504#5735762#2989404\n",
    "#10736489#4563268#6029239#7447200#7626506#8142942#9527334#9790806#10878263#11017901\n",
    "print star_id\n",
    "star_table = koi_table[koi_table[\"kepid\"] == star_id]\n",
    "star_table[[\"kepid\",\"koi_period\", \"koi_model_snr\"]]\n",
    "#koi_table[\"kepid\"]\n",
    "print koi_table[\"koi_period\"].max()\n",
    "#[  4563268.   6029239.   7447200.   7626506.   8142942.   9527334.  9790806.  10878263.  11551692.]\n",
    "star_table"
   ]
  },
  {
   "cell_type": "code",
   "execution_count": 72,
   "metadata": {
    "collapsed": false
   },
   "outputs": [
    {
     "name": "stdout",
     "output_type": "stream",
     "text": [
      "10    16.145672\n",
      "11    10.311748\n",
      "12     7.071361\n",
      "13     5.286920\n",
      "Name: koi_period, dtype: float64\n",
      "10    242.7\n",
      "11     81.7\n",
      "12     22.4\n",
      "13     15.8\n",
      "Name: koi_model_snr, dtype: float64\n"
     ]
    }
   ],
   "source": [
    "detected_period = star_table[\"koi_period\"]#.values[0]\n",
    "print detected_period\n",
    "print star_table[\"koi_model_snr\"]#.values[0]/7"
   ]
  },
  {
   "cell_type": "code",
   "execution_count": 73,
   "metadata": {
    "collapsed": false
   },
   "outputs": [
    {
     "name": "stdout",
     "output_type": "stream",
     "text": [
      "['10187017-0_prim_ltf.blsanal', '10187017-1_prim_ltf.blsanal', '10187017-2_prim_ltf.blsanal', '10187017-3_prim_ltf.blsanal', '10187017-4_prim_ltf.blsanal', '10187017-5_prim_ltf.blsanal', '10187017-6_prim_ltf.blsanal']\n"
     ]
    }
   ],
   "source": [
    "files = os.listdir(\"../../../Training/simulation/primaryKOI_try2//\")\n",
    "files = [x for x in files if str(star_id) in x and \"blsanal\" in x]\n",
    "print files"
   ]
  },
  {
   "cell_type": "code",
   "execution_count": 74,
   "metadata": {
    "collapsed": false,
    "scrolled": true
   },
   "outputs": [
    {
     "name": "stdout",
     "output_type": "stream",
     "text": [
      "10    16.145672\n",
      "11    10.311748\n",
      "12     7.071361\n",
      "13     5.286920\n",
      "Name: koi_period, dtype: float64\n",
      "10187017-0_prim_ltf.blsanal 8.06094133 20.11284\n",
      "10187017-1_prim_ltf.blsanal 14.58070043 17.94198\n",
      "10187017-2_prim_ltf.blsanal 8.07607741 15.75656\n",
      "10187017-3_prim_ltf.blsanal 8.07355078 15.187\n",
      "10187017-4_prim_ltf.blsanal 5.3876413 18.14895\n",
      "10187017-5_prim_ltf.blsanal 8.07607741 18.21176\n",
      "10187017-6_prim_ltf.blsanal 8.07102574 17.13625\n"
     ]
    }
   ],
   "source": [
    "print detected_period\n",
    "\n",
    "for file_name in files:\n",
    "    bls = np.loadtxt(\"../../../Training/simulation/primaryKOI_try2///\" + file_name)[0,1:]\n",
    "    bls_period = bls[0]\n",
    "    bls_SNR = bls[-1]\n",
    "    print file_name, bls_period, bls_SNR\n",
    "    #print np.abs(bls_period-detected_period)/ (0.5*(bls_period+detected_period))\n",
    "    #print bls_period+detected_period"
   ]
  },
  {
   "cell_type": "code",
   "execution_count": 75,
   "metadata": {
    "collapsed": false
   },
   "outputs": [
    {
     "name": "stdout",
     "output_type": "stream",
     "text": [
      "[ 16.14567193  10.31174786   7.07136119   5.28691996]\n"
     ]
    },
    {
     "data": {
      "text/plain": [
       "(9.9986516000000005, 10.0017619)"
      ]
     },
     "execution_count": 75,
     "metadata": {},
     "output_type": "execute_result"
    },
    {
     "data": {
      "image/png": "[encoded data removed]",
      "text/plain": [
       "<matplotlib.figure.Figure at 0x7f18a3702250>"
      ]
     },
     "metadata": {},
     "output_type": "display_data"
    }
   ],
   "source": [
    "data = np.loadtxt(\"../../../Training/simulation/primaryKOI_try2/\"+str(star_id)+\"-0_prim_ltf.lc\")\n",
    "print detected_period.values\n",
    "plt.scatter(data[:,0], data[:,2], marker = \".\")\n",
    "#plt.scatter(data[:,0], data[:,2], marker = \".\")\n",
    "axes = plt.gca()\n",
    "axes.set_ylim([data[:,2].min()-0.001, data[:,2].max()+0.001])"
   ]
  },
  {
   "cell_type": "code",
   "execution_count": null,
   "metadata": {
    "collapsed": true
   },
   "outputs": [],
   "source": []
  }
 ],
 "metadata": {
  "kernelspec": {
   "display_name": "Python [conda root]",
   "language": "python",
   "name": "conda-root-py"
  },
  "language_info": {
   "codemirror_mode": {
    "name": "ipython",
    "version": 2
   },
   "file_extension": ".py",
   "mimetype": "text/x-python",
   "name": "python",
   "nbconvert_exporter": "python",
   "pygments_lexer": "ipython2",
   "version": "2.7.12"
  }
 },
 "nbformat": 4,
 "nbformat_minor": 1
}
