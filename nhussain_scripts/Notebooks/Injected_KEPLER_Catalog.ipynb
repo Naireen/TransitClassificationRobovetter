{
 "cells": [
  {
   "cell_type": "code",
   "execution_count": 2,
   "metadata": {
    "collapsed": false
   },
   "outputs": [],
   "source": [
    "import numpy as np\n",
    "import pandas as pd"
   ]
  },
  {
   "cell_type": "code",
   "execution_count": 3,
   "metadata": {
    "collapsed": false
   },
   "outputs": [],
   "source": [
    "catalog = np.loadtxt(\"../../../Training/catalogs/short_file.txt\", dtype = str)"
   ]
  },
  {
   "cell_type": "code",
   "execution_count": 4,
   "metadata": {
    "collapsed": false
   },
   "outputs": [
    {
     "name": "stdout",
     "output_type": "stream",
     "text": [
      "(146294, 25)\n"
     ]
    },
    {
     "data": {
      "text/plain": [
       "array([['11445144', '8', '70.0385', ..., 'null', 'null', 'null'],\n",
       "       ['11496840', '8', '87.8829', ..., 'null', 'null', 'null'],\n",
       "       ['11497236', '8', '88.3020', ..., 'null', 'null', 'null'],\n",
       "       ..., \n",
       "       ['10477762', '39', '246.9499', ..., 'null', 'null', 'null'],\n",
       "       ['10477794', '39', '15.3987', ..., 'null', 'null', 'null'],\n",
       "       ['10477878', '39', '44.5426', ..., 'null', 'null', 'null']], \n",
       "      dtype='|S12')"
      ]
     },
     "execution_count": 4,
     "metadata": {},
     "output_type": "execute_result"
    }
   ],
   "source": [
    "print catalog.shape\n",
    "catalog"
   ]
  },
  {
   "cell_type": "code",
   "execution_count": 5,
   "metadata": {
    "collapsed": true
   },
   "outputs": [],
   "source": [
    "catalog_header = np.loadtxt(\"../../../Training/catalogs/short_file_header_cleaned.txt\", dtype = str)\n"
   ]
  },
  {
   "cell_type": "code",
   "execution_count": 6,
   "metadata": {
    "collapsed": false
   },
   "outputs": [
    {
     "name": "stdout",
     "output_type": "stream",
     "text": [
      "(25,)\n"
     ]
    }
   ],
   "source": [
    "print catalog_header.shape"
   ]
  },
  {
   "cell_type": "code",
   "execution_count": 7,
   "metadata": {
    "collapsed": false
   },
   "outputs": [
    {
     "data": {
      "text/plain": [
       "array(['KIC_ID', 'Sky_Group', 'i_period', 'i_epoch', 'N_Transit',\n",
       "       'i_depth', 'i_dur', 'i_b', 'i_ror', 'i_dor', 'EB_injection',\n",
       "       'Offset_from_source', 'Offset_distance', 'Expected_MES',\n",
       "       'Recovered', 'TCE_ID', 'Measured_MES', 'r_period', 'r_epoch',\n",
       "       'r_depth', 'r_dur', 'r_b', 'r_ror', 'r_dor', 'Fit_Provenance'], \n",
       "      dtype='|S18')"
      ]
     },
     "execution_count": 7,
     "metadata": {},
     "output_type": "execute_result"
    }
   ],
   "source": [
    "catalog_header"
   ]
  },
  {
   "cell_type": "code",
   "execution_count": 8,
   "metadata": {
    "collapsed": false
   },
   "outputs": [
    {
     "name": "stdout",
     "output_type": "stream",
     "text": [
      "['1' '10' '11' '12' '13' '14' '15' '16' '17' '18' '19' '2' '20' '21' '22'\n",
      " '23' '24' '25' '26' '27' '28' '29' '3' '30' '31' '32' '33' '34' '35' '36'\n",
      " '37' '38' '39' '4' '40' '41' '42' '43' '44' '45' '46' '47' '48' '49' '5'\n",
      " '50' '51' '52' '53' '54' '55' '56' '57' '58' '59' '6' '60' '61' '62' '63'\n",
      " '64' '65' '66' '67' '68' '69' '7' '70' '71' '72' '73' '74' '75' '76' '77'\n",
      " '78' '79' '8' '80' '81' '82' '83' '84' '9']\n"
     ]
    },
    {
     "data": {
      "text/html": [
       "<div>\n",
       "<table border=\"1\" class=\"dataframe\">\n",
       "  <thead>\n",
       "    <tr style=\"text-align: right;\">\n",
       "      <th></th>\n",
       "      <th>KIC_ID</th>\n",
       "      <th>Sky_Group</th>\n",
       "      <th>i_period</th>\n",
       "      <th>i_epoch</th>\n",
       "      <th>N_Transit</th>\n",
       "      <th>i_depth</th>\n",
       "      <th>i_dur</th>\n",
       "      <th>i_b</th>\n",
       "      <th>i_ror</th>\n",
       "      <th>i_dor</th>\n",
       "      <th>...</th>\n",
       "      <th>TCE_ID</th>\n",
       "      <th>Measured_MES</th>\n",
       "      <th>r_period</th>\n",
       "      <th>r_epoch</th>\n",
       "      <th>r_depth</th>\n",
       "      <th>r_dur</th>\n",
       "      <th>r_b</th>\n",
       "      <th>r_ror</th>\n",
       "      <th>r_dor</th>\n",
       "      <th>Fit_Provenance</th>\n",
       "    </tr>\n",
       "  </thead>\n",
       "  <tbody>\n",
       "    <tr>\n",
       "      <th>0</th>\n",
       "      <td>11445144</td>\n",
       "      <td>8</td>\n",
       "      <td>70.0385</td>\n",
       "      <td>107.4886</td>\n",
       "      <td>0.9808</td>\n",
       "      <td>1662</td>\n",
       "      <td>4.02030</td>\n",
       "      <td>0.4141</td>\n",
       "      <td>0.0306</td>\n",
       "      <td>126.498</td>\n",
       "      <td>...</td>\n",
       "      <td>null</td>\n",
       "      <td>null</td>\n",
       "      <td>null</td>\n",
       "      <td>null</td>\n",
       "      <td>null</td>\n",
       "      <td>null</td>\n",
       "      <td>null</td>\n",
       "      <td>null</td>\n",
       "      <td>null</td>\n",
       "      <td>null</td>\n",
       "    </tr>\n",
       "    <tr>\n",
       "      <th>1</th>\n",
       "      <td>11496840</td>\n",
       "      <td>8</td>\n",
       "      <td>87.8829</td>\n",
       "      <td>103.9753</td>\n",
       "      <td>0.9808</td>\n",
       "      <td>1561</td>\n",
       "      <td>2.20705</td>\n",
       "      <td>0.7649</td>\n",
       "      <td>0.0350</td>\n",
       "      <td>214.397</td>\n",
       "      <td>...</td>\n",
       "      <td>null</td>\n",
       "      <td>null</td>\n",
       "      <td>null</td>\n",
       "      <td>null</td>\n",
       "      <td>null</td>\n",
       "      <td>null</td>\n",
       "      <td>null</td>\n",
       "      <td>null</td>\n",
       "      <td>null</td>\n",
       "      <td>null</td>\n",
       "    </tr>\n",
       "    <tr>\n",
       "      <th>2</th>\n",
       "      <td>11497236</td>\n",
       "      <td>8</td>\n",
       "      <td>88.3020</td>\n",
       "      <td>84.4552</td>\n",
       "      <td>0.9808</td>\n",
       "      <td>1332</td>\n",
       "      <td>2.11234</td>\n",
       "      <td>0.8100</td>\n",
       "      <td>0.0334</td>\n",
       "      <td>207.336</td>\n",
       "      <td>...</td>\n",
       "      <td>null</td>\n",
       "      <td>null</td>\n",
       "      <td>null</td>\n",
       "      <td>null</td>\n",
       "      <td>null</td>\n",
       "      <td>null</td>\n",
       "      <td>null</td>\n",
       "      <td>null</td>\n",
       "      <td>null</td>\n",
       "      <td>null</td>\n",
       "    </tr>\n",
       "    <tr>\n",
       "      <th>3</th>\n",
       "      <td>11548779</td>\n",
       "      <td>8</td>\n",
       "      <td>35.4942</td>\n",
       "      <td>73.9562</td>\n",
       "      <td>2.9425</td>\n",
       "      <td>686</td>\n",
       "      <td>1.00655</td>\n",
       "      <td>0.8915</td>\n",
       "      <td>0.0247</td>\n",
       "      <td>138.661</td>\n",
       "      <td>...</td>\n",
       "      <td>null</td>\n",
       "      <td>null</td>\n",
       "      <td>null</td>\n",
       "      <td>null</td>\n",
       "      <td>null</td>\n",
       "      <td>null</td>\n",
       "      <td>null</td>\n",
       "      <td>null</td>\n",
       "      <td>null</td>\n",
       "      <td>null</td>\n",
       "    </tr>\n",
       "    <tr>\n",
       "      <th>4</th>\n",
       "      <td>11600744</td>\n",
       "      <td>8</td>\n",
       "      <td>48.8212</td>\n",
       "      <td>97.2396</td>\n",
       "      <td>23.2943</td>\n",
       "      <td>372</td>\n",
       "      <td>1.77915</td>\n",
       "      <td>0.8738</td>\n",
       "      <td>0.0183</td>\n",
       "      <td>110.768</td>\n",
       "      <td>...</td>\n",
       "      <td>null</td>\n",
       "      <td>null</td>\n",
       "      <td>null</td>\n",
       "      <td>null</td>\n",
       "      <td>null</td>\n",
       "      <td>null</td>\n",
       "      <td>null</td>\n",
       "      <td>null</td>\n",
       "      <td>null</td>\n",
       "      <td>null</td>\n",
       "    </tr>\n",
       "  </tbody>\n",
       "</table>\n",
       "<p>5 rows × 25 columns</p>\n",
       "</div>"
      ],
      "text/plain": [
       "     KIC_ID Sky_Group i_period   i_epoch N_Transit i_depth    i_dur     i_b  \\\n",
       "0  11445144         8  70.0385  107.4886    0.9808    1662  4.02030  0.4141   \n",
       "1  11496840         8  87.8829  103.9753    0.9808    1561  2.20705  0.7649   \n",
       "2  11497236         8  88.3020   84.4552    0.9808    1332  2.11234  0.8100   \n",
       "3  11548779         8  35.4942   73.9562    2.9425     686  1.00655  0.8915   \n",
       "4  11600744         8  48.8212   97.2396   23.2943     372  1.77915  0.8738   \n",
       "\n",
       "    i_ror    i_dor      ...       TCE_ID Measured_MES r_period r_epoch  \\\n",
       "0  0.0306  126.498      ...         null         null     null    null   \n",
       "1  0.0350  214.397      ...         null         null     null    null   \n",
       "2  0.0334  207.336      ...         null         null     null    null   \n",
       "3  0.0247  138.661      ...         null         null     null    null   \n",
       "4  0.0183  110.768      ...         null         null     null    null   \n",
       "\n",
       "  r_depth r_dur   r_b r_ror r_dor Fit_Provenance  \n",
       "0    null  null  null  null  null           null  \n",
       "1    null  null  null  null  null           null  \n",
       "2    null  null  null  null  null           null  \n",
       "3    null  null  null  null  null           null  \n",
       "4    null  null  null  null  null           null  \n",
       "\n",
       "[5 rows x 25 columns]"
      ]
     },
     "execution_count": 8,
     "metadata": {},
     "output_type": "execute_result"
    }
   ],
   "source": [
    "complete_catalog = pd.DataFrame(catalog, columns=catalog_header)\n",
    "print np.unique(complete_catalog[\"Sky_Group\"])\n",
    "complete_catalog.head()\n"
   ]
  },
  {
   "cell_type": "code",
   "execution_count": 9,
   "metadata": {
    "collapsed": false
   },
   "outputs": [
    {
     "name": "stdout",
     "output_type": "stream",
     "text": [
      "['kplr001026032-0_prim.txt' 'kplr001026032-1_prim.txt'\n",
      " 'kplr001026032-2_prim.txt' 'kplr001026032-3_prim.txt'\n",
      " 'kplr001026032-4_prim.txt' 'kplr001026326-0_prim.txt'\n",
      " 'kplr001026326-1_prim.txt' 'kplr001026326-2_prim.txt'\n",
      " 'kplr001026326-3_prim.txt' 'kplr001026326-4_prim.txt']\n"
     ]
    }
   ],
   "source": [
    "#load catalog of files that we actually have, and only process the first 10000\n",
    "catalog_used = np.loadtxt(\"../../../Training/simulation/primaryinj1/prim.ls\", dtype = str)[:10000]\n",
    "print catalog_used[:10]\n",
    "#prim_ltf.lc.bls"
   ]
  },
  {
   "cell_type": "code",
   "execution_count": 10,
   "metadata": {
    "collapsed": false
   },
   "outputs": [
    {
     "name": "stdout",
     "output_type": "stream",
     "text": [
      "['11445144-8' '11496840-8' '11497236-8' ..., '10477762-39' '10477794-39'\n",
      " '10477878-39']\n",
      "(146294,)\n"
     ]
    }
   ],
   "source": [
    "#try generating one feat, then make it a script\n",
    "#0 for star name, then id, then 35 feats\n",
    "inj_feats = np.zeros((10000,37))\n",
    "data_labels = np.core.defchararray.add(catalog[:,0], \"-\")\n",
    "data_labels = np.core.defchararray.add(data_labels, catalog[:,1])\n",
    "print data_labels\n",
    "print data_labels.shape"
   ]
  },
  {
   "cell_type": "code",
   "execution_count": 11,
   "metadata": {
    "collapsed": false
   },
   "outputs": [
    {
     "name": "stdout",
     "output_type": "stream",
     "text": [
      "(10000, 37)\n",
      "[ 0.  1.  2.  3.  4.  5.  6.  7.  8.]\n"
     ]
    },
    {
     "data": {
      "text/html": [
       "<div>\n",
       "<table border=\"1\" class=\"dataframe\">\n",
       "  <thead>\n",
       "    <tr style=\"text-align: right;\">\n",
       "      <th></th>\n",
       "      <th>star_id</th>\n",
       "      <th>segment</th>\n",
       "      <th>mod_sig_pri_dv</th>\n",
       "      <th>mod_sig_sec_dv</th>\n",
       "      <th>mod_sig_ter_dv</th>\n",
       "      <th>mod_sig_pos_dv</th>\n",
       "      <th>mod_fa1_dv</th>\n",
       "      <th>mod_fa2_dv</th>\n",
       "      <th>mod_fred_dv</th>\n",
       "      <th>modshiftval1_dv</th>\n",
       "      <th>...</th>\n",
       "      <th>BLS_i2_1_0</th>\n",
       "      <th>BLS_deltaChi2_1_0</th>\n",
       "      <th>BLS_fraconenight_1_0</th>\n",
       "      <th>BLS_Npointsintransit_1_0</th>\n",
       "      <th>BLS_Ntransits_1_0</th>\n",
       "      <th>BLS_Npointsbeforetransit_1_0</th>\n",
       "      <th>BLS_Npointsaftertransit_1_0</th>\n",
       "      <th>BLS_Rednoise_1_0</th>\n",
       "      <th>BLS_Whitenoise_1_0</th>\n",
       "      <th>BLS_SignaltoPinknoise_1_0</th>\n",
       "    </tr>\n",
       "  </thead>\n",
       "  <tbody>\n",
       "    <tr>\n",
       "      <th>0</th>\n",
       "      <td>1026032.0</td>\n",
       "      <td>0.0</td>\n",
       "      <td>0.06869</td>\n",
       "      <td>-9.991249</td>\n",
       "      <td>0.009099</td>\n",
       "      <td>-0.020914</td>\n",
       "      <td>3.361927</td>\n",
       "      <td>3.045619</td>\n",
       "      <td>1.248157</td>\n",
       "      <td>-3.306894</td>\n",
       "      <td>...</td>\n",
       "      <td>0.74126</td>\n",
       "      <td>-0.00034</td>\n",
       "      <td>0.49239</td>\n",
       "      <td>18.0</td>\n",
       "      <td>3.0</td>\n",
       "      <td>23.0</td>\n",
       "      <td>23.0</td>\n",
       "      <td>0.00174</td>\n",
       "      <td>0.00330</td>\n",
       "      <td>54.05323</td>\n",
       "    </tr>\n",
       "    <tr>\n",
       "      <th>1</th>\n",
       "      <td>1026032.0</td>\n",
       "      <td>1.0</td>\n",
       "      <td>0.06987</td>\n",
       "      <td>-9.991297</td>\n",
       "      <td>0.008799</td>\n",
       "      <td>-0.010148</td>\n",
       "      <td>3.424279</td>\n",
       "      <td>3.027516</td>\n",
       "      <td>1.213860</td>\n",
       "      <td>-3.366719</td>\n",
       "      <td>...</td>\n",
       "      <td>0.13143</td>\n",
       "      <td>-0.00063</td>\n",
       "      <td>0.25802</td>\n",
       "      <td>35.0</td>\n",
       "      <td>4.0</td>\n",
       "      <td>26.0</td>\n",
       "      <td>33.0</td>\n",
       "      <td>0.00178</td>\n",
       "      <td>0.00286</td>\n",
       "      <td>68.95900</td>\n",
       "    </tr>\n",
       "    <tr>\n",
       "      <th>2</th>\n",
       "      <td>1026032.0</td>\n",
       "      <td>2.0</td>\n",
       "      <td>0.07517</td>\n",
       "      <td>-9.989414</td>\n",
       "      <td>0.011299</td>\n",
       "      <td>-0.018384</td>\n",
       "      <td>3.422635</td>\n",
       "      <td>3.025687</td>\n",
       "      <td>1.261802</td>\n",
       "      <td>-3.363062</td>\n",
       "      <td>...</td>\n",
       "      <td>0.42787</td>\n",
       "      <td>-0.00068</td>\n",
       "      <td>0.26134</td>\n",
       "      <td>33.0</td>\n",
       "      <td>4.0</td>\n",
       "      <td>27.0</td>\n",
       "      <td>31.0</td>\n",
       "      <td>0.00177</td>\n",
       "      <td>0.00294</td>\n",
       "      <td>73.44339</td>\n",
       "    </tr>\n",
       "    <tr>\n",
       "      <th>3</th>\n",
       "      <td>1026032.0</td>\n",
       "      <td>3.0</td>\n",
       "      <td>0.07313</td>\n",
       "      <td>-9.989979</td>\n",
       "      <td>0.010481</td>\n",
       "      <td>-0.016087</td>\n",
       "      <td>3.423239</td>\n",
       "      <td>3.026359</td>\n",
       "      <td>1.210633</td>\n",
       "      <td>-3.362833</td>\n",
       "      <td>...</td>\n",
       "      <td>0.22083</td>\n",
       "      <td>-0.00067</td>\n",
       "      <td>0.25854</td>\n",
       "      <td>35.0</td>\n",
       "      <td>4.0</td>\n",
       "      <td>27.0</td>\n",
       "      <td>32.0</td>\n",
       "      <td>0.00183</td>\n",
       "      <td>0.00305</td>\n",
       "      <td>69.53263</td>\n",
       "    </tr>\n",
       "    <tr>\n",
       "      <th>4</th>\n",
       "      <td>1026032.0</td>\n",
       "      <td>4.0</td>\n",
       "      <td>0.07558</td>\n",
       "      <td>-9.990860</td>\n",
       "      <td>0.009420</td>\n",
       "      <td>-0.021778</td>\n",
       "      <td>3.418987</td>\n",
       "      <td>3.021628</td>\n",
       "      <td>1.209183</td>\n",
       "      <td>-3.356482</td>\n",
       "      <td>...</td>\n",
       "      <td>0.85813</td>\n",
       "      <td>-0.00051</td>\n",
       "      <td>0.33593</td>\n",
       "      <td>28.0</td>\n",
       "      <td>4.0</td>\n",
       "      <td>32.0</td>\n",
       "      <td>30.0</td>\n",
       "      <td>0.00182</td>\n",
       "      <td>0.00311</td>\n",
       "      <td>69.66765</td>\n",
       "    </tr>\n",
       "  </tbody>\n",
       "</table>\n",
       "<p>5 rows × 37 columns</p>\n",
       "</div>"
      ],
      "text/plain": [
       "     star_id  segment  mod_sig_pri_dv  mod_sig_sec_dv  mod_sig_ter_dv  \\\n",
       "0  1026032.0      0.0         0.06869       -9.991249        0.009099   \n",
       "1  1026032.0      1.0         0.06987       -9.991297        0.008799   \n",
       "2  1026032.0      2.0         0.07517       -9.989414        0.011299   \n",
       "3  1026032.0      3.0         0.07313       -9.989979        0.010481   \n",
       "4  1026032.0      4.0         0.07558       -9.990860        0.009420   \n",
       "\n",
       "   mod_sig_pos_dv  mod_fa1_dv  mod_fa2_dv  mod_fred_dv  modshiftval1_dv  \\\n",
       "0       -0.020914    3.361927    3.045619     1.248157        -3.306894   \n",
       "1       -0.010148    3.424279    3.027516     1.213860        -3.366719   \n",
       "2       -0.018384    3.422635    3.025687     1.261802        -3.363062   \n",
       "3       -0.016087    3.423239    3.026359     1.210633        -3.362833   \n",
       "4       -0.021778    3.418987    3.021628     1.209183        -3.356482   \n",
       "\n",
       "             ...              BLS_i2_1_0  BLS_deltaChi2_1_0  \\\n",
       "0            ...                 0.74126           -0.00034   \n",
       "1            ...                 0.13143           -0.00063   \n",
       "2            ...                 0.42787           -0.00068   \n",
       "3            ...                 0.22083           -0.00067   \n",
       "4            ...                 0.85813           -0.00051   \n",
       "\n",
       "   BLS_fraconenight_1_0  BLS_Npointsintransit_1_0  BLS_Ntransits_1_0  \\\n",
       "0               0.49239                      18.0                3.0   \n",
       "1               0.25802                      35.0                4.0   \n",
       "2               0.26134                      33.0                4.0   \n",
       "3               0.25854                      35.0                4.0   \n",
       "4               0.33593                      28.0                4.0   \n",
       "\n",
       "   BLS_Npointsbeforetransit_1_0  BLS_Npointsaftertransit_1_0  \\\n",
       "0                          23.0                         23.0   \n",
       "1                          26.0                         33.0   \n",
       "2                          27.0                         31.0   \n",
       "3                          27.0                         32.0   \n",
       "4                          32.0                         30.0   \n",
       "\n",
       "   BLS_Rednoise_1_0  BLS_Whitenoise_1_0  BLS_SignaltoPinknoise_1_0  \n",
       "0           0.00174             0.00330                   54.05323  \n",
       "1           0.00178             0.00286                   68.95900  \n",
       "2           0.00177             0.00294                   73.44339  \n",
       "3           0.00183             0.00305                   69.53263  \n",
       "4           0.00182             0.00311                   69.66765  \n",
       "\n",
       "[5 rows x 37 columns]"
      ]
     },
     "execution_count": 11,
     "metadata": {},
     "output_type": "execute_result"
    }
   ],
   "source": [
    "#load feat files\n",
    "feat_files = pd.read_csv(\"../Data/Kplr_feat_files_10000.csv\", index_col =0 )\n",
    "print feat_files.shape\n",
    "print np.unique(feat_files[\"segment\"])\n",
    "feat_files.head()"
   ]
  },
  {
   "cell_type": "code",
   "execution_count": 12,
   "metadata": {
    "collapsed": true
   },
   "outputs": [],
   "source": [
    "from matplotlib import pyplot as plt\n",
    "%matplotlib inline\n",
    "import time"
   ]
  },
  {
   "cell_type": "code",
   "execution_count": 13,
   "metadata": {
    "collapsed": false,
    "scrolled": false
   },
   "outputs": [
    {
     "name": "stdout",
     "output_type": "stream",
     "text": [
      "\n",
      "[  1587   2135   9931  10259  15422  32913  33028  45129  45873  47248\n",
      "  51482  53728  55485  60571  61126  62742  63458  66758  67525  68020\n",
      "  68108  70961  71717  71823  76700  78520  81841  89123  90157  94573\n",
      "  95499  98300  98923 104265 105587 105910 112665 114750 119388 131620\n",
      " 132003 133865 135769 137476]\n"
     ]
    },
    {
     "data": {
      "text/html": [
       "<div>\n",
       "<table border=\"1\" class=\"dataframe\">\n",
       "  <thead>\n",
       "    <tr style=\"text-align: right;\">\n",
       "      <th></th>\n",
       "      <th>KIC_ID</th>\n",
       "      <th>Sky_Group</th>\n",
       "      <th>i_period</th>\n",
       "      <th>i_epoch</th>\n",
       "      <th>N_Transit</th>\n",
       "      <th>i_depth</th>\n",
       "      <th>i_dur</th>\n",
       "      <th>i_b</th>\n",
       "      <th>i_ror</th>\n",
       "      <th>i_dor</th>\n",
       "      <th>...</th>\n",
       "      <th>TCE_ID</th>\n",
       "      <th>Measured_MES</th>\n",
       "      <th>r_period</th>\n",
       "      <th>r_epoch</th>\n",
       "      <th>r_depth</th>\n",
       "      <th>r_dur</th>\n",
       "      <th>r_b</th>\n",
       "      <th>r_ror</th>\n",
       "      <th>r_dor</th>\n",
       "      <th>Fit_Provenance</th>\n",
       "    </tr>\n",
       "  </thead>\n",
       "  <tbody>\n",
       "    <tr>\n",
       "      <th>0</th>\n",
       "      <td>11445144</td>\n",
       "      <td>8</td>\n",
       "      <td>70.0385</td>\n",
       "      <td>107.4886</td>\n",
       "      <td>0.9808</td>\n",
       "      <td>1662</td>\n",
       "      <td>4.02030</td>\n",
       "      <td>0.4141</td>\n",
       "      <td>0.0306</td>\n",
       "      <td>126.498</td>\n",
       "      <td>...</td>\n",
       "      <td>null</td>\n",
       "      <td>null</td>\n",
       "      <td>null</td>\n",
       "      <td>null</td>\n",
       "      <td>null</td>\n",
       "      <td>null</td>\n",
       "      <td>null</td>\n",
       "      <td>null</td>\n",
       "      <td>null</td>\n",
       "      <td>null</td>\n",
       "    </tr>\n",
       "    <tr>\n",
       "      <th>1</th>\n",
       "      <td>11496840</td>\n",
       "      <td>8</td>\n",
       "      <td>87.8829</td>\n",
       "      <td>103.9753</td>\n",
       "      <td>0.9808</td>\n",
       "      <td>1561</td>\n",
       "      <td>2.20705</td>\n",
       "      <td>0.7649</td>\n",
       "      <td>0.0350</td>\n",
       "      <td>214.397</td>\n",
       "      <td>...</td>\n",
       "      <td>null</td>\n",
       "      <td>null</td>\n",
       "      <td>null</td>\n",
       "      <td>null</td>\n",
       "      <td>null</td>\n",
       "      <td>null</td>\n",
       "      <td>null</td>\n",
       "      <td>null</td>\n",
       "      <td>null</td>\n",
       "      <td>null</td>\n",
       "    </tr>\n",
       "    <tr>\n",
       "      <th>2</th>\n",
       "      <td>11497236</td>\n",
       "      <td>8</td>\n",
       "      <td>88.3020</td>\n",
       "      <td>84.4552</td>\n",
       "      <td>0.9808</td>\n",
       "      <td>1332</td>\n",
       "      <td>2.11234</td>\n",
       "      <td>0.8100</td>\n",
       "      <td>0.0334</td>\n",
       "      <td>207.336</td>\n",
       "      <td>...</td>\n",
       "      <td>null</td>\n",
       "      <td>null</td>\n",
       "      <td>null</td>\n",
       "      <td>null</td>\n",
       "      <td>null</td>\n",
       "      <td>null</td>\n",
       "      <td>null</td>\n",
       "      <td>null</td>\n",
       "      <td>null</td>\n",
       "      <td>null</td>\n",
       "    </tr>\n",
       "    <tr>\n",
       "      <th>3</th>\n",
       "      <td>11548779</td>\n",
       "      <td>8</td>\n",
       "      <td>35.4942</td>\n",
       "      <td>73.9562</td>\n",
       "      <td>2.9425</td>\n",
       "      <td>686</td>\n",
       "      <td>1.00655</td>\n",
       "      <td>0.8915</td>\n",
       "      <td>0.0247</td>\n",
       "      <td>138.661</td>\n",
       "      <td>...</td>\n",
       "      <td>null</td>\n",
       "      <td>null</td>\n",
       "      <td>null</td>\n",
       "      <td>null</td>\n",
       "      <td>null</td>\n",
       "      <td>null</td>\n",
       "      <td>null</td>\n",
       "      <td>null</td>\n",
       "      <td>null</td>\n",
       "      <td>null</td>\n",
       "    </tr>\n",
       "    <tr>\n",
       "      <th>4</th>\n",
       "      <td>11600744</td>\n",
       "      <td>8</td>\n",
       "      <td>48.8212</td>\n",
       "      <td>97.2396</td>\n",
       "      <td>23.2943</td>\n",
       "      <td>372</td>\n",
       "      <td>1.77915</td>\n",
       "      <td>0.8738</td>\n",
       "      <td>0.0183</td>\n",
       "      <td>110.768</td>\n",
       "      <td>...</td>\n",
       "      <td>null</td>\n",
       "      <td>null</td>\n",
       "      <td>null</td>\n",
       "      <td>null</td>\n",
       "      <td>null</td>\n",
       "      <td>null</td>\n",
       "      <td>null</td>\n",
       "      <td>null</td>\n",
       "      <td>null</td>\n",
       "      <td>null</td>\n",
       "    </tr>\n",
       "  </tbody>\n",
       "</table>\n",
       "<p>5 rows × 25 columns</p>\n",
       "</div>"
      ],
      "text/plain": [
       "     KIC_ID Sky_Group i_period   i_epoch N_Transit i_depth    i_dur     i_b  \\\n",
       "0  11445144         8  70.0385  107.4886    0.9808    1662  4.02030  0.4141   \n",
       "1  11496840         8  87.8829  103.9753    0.9808    1561  2.20705  0.7649   \n",
       "2  11497236         8  88.3020   84.4552    0.9808    1332  2.11234  0.8100   \n",
       "3  11548779         8  35.4942   73.9562    2.9425     686  1.00655  0.8915   \n",
       "4  11600744         8  48.8212   97.2396   23.2943     372  1.77915  0.8738   \n",
       "\n",
       "    i_ror    i_dor      ...       TCE_ID Measured_MES r_period r_epoch  \\\n",
       "0  0.0306  126.498      ...         null         null     null    null   \n",
       "1  0.0350  214.397      ...         null         null     null    null   \n",
       "2  0.0334  207.336      ...         null         null     null    null   \n",
       "3  0.0247  138.661      ...         null         null     null    null   \n",
       "4  0.0183  110.768      ...         null         null     null    null   \n",
       "\n",
       "  r_depth r_dur   r_b r_ror r_dor Fit_Provenance  \n",
       "0    null  null  null  null  null           null  \n",
       "1    null  null  null  null  null           null  \n",
       "2    null  null  null  null  null           null  \n",
       "3    null  null  null  null  null           null  \n",
       "4    null  null  null  null  null           null  \n",
       "\n",
       "[5 rows x 25 columns]"
      ]
     },
     "execution_count": 13,
     "metadata": {},
     "output_type": "execute_result"
    }
   ],
   "source": [
    "print\n",
    "print np.where( max(complete_catalog[\"i_depth\"]) ==complete_catalog)[0]\n",
    "complete_catalog.head()"
   ]
  },
  {
   "cell_type": "code",
   "execution_count": 90,
   "metadata": {
    "collapsed": false,
    "scrolled": true
   },
   "outputs": [
    {
     "name": "stdout",
     "output_type": "stream",
     "text": [
      "(10000,)\n",
      "999\n",
      "1999\n",
      "2999\n",
      "3999\n",
      "4999\n",
      "5999\n",
      "6999\n",
      "7999\n",
      "8999\n",
      "9999\n",
      "Time 425.205909014 seconds\n"
     ]
    }
   ],
   "source": [
    "start = time.time()\n",
    "SNR = np.zeros(10000)\n",
    "SNR_raw = np.zeros(10000)\n",
    "\n",
    "bls_periods = np.zeros_like(SNR)\n",
    "real_periods = np.zeros_like(SNR)\n",
    "i_ror = np.zeros_like(SNR)\n",
    "#load data\n",
    "print catalog_used.shape\n",
    "for i, name in enumerate(catalog_used[:]):\n",
    "    bls_name = name.split(\".\")[0] + \"_ltf.blsanal\"\n",
    "    detrended = name.split(\".\")[0] + \"_ltf.lc\"\n",
    "    bls_data = np.loadtxt(\"../../../Training/simulation/primaryinj1/\"+bls_name)[0, 0:]\n",
    "    first_lc = np.loadtxt(\"../../../Training/simulation/primaryinj1/\" + name)\n",
    "    lc_detrended = np.loadtxt(\"../../../Training/simulation/primaryinj1/\" + detrended)\n",
    "    \n",
    "    #print bls_name, name\n",
    "    #print \"BLS vals\"\n",
    "    #print bls_data\n",
    "    starname =  str(int(name.split(\"kplr\")[1].split(\"-\")[0]))\n",
    "    star_segment = name.split(\"kplr\")[1].split(\"-\")[1].split(\"_\")[0]\n",
    "    #print starname, star_segment\n",
    "    #plt.figure(figsize=(15,10))\n",
    "    #plt.scatter(first_lc[:, 0], first_lc[:,1], marker = \".\")\n",
    "    #plt.scatter(lc_detrended[:, 0], lc_detrended[:, 2])\n",
    "    #print \"Days?\", first_lc.shape[0]/48.\n",
    "    #assuming this is still at 30 min cadence\n",
    "    transit_duration_phase = np.abs(bls_data[7])\n",
    "    period = bls_data[1]\n",
    "    bls_periods[i] = period\n",
    "    #print \"BLS period\", period\n",
    "    n_points_transit = transit_duration_phase*period *float(48)\n",
    "    #print starname, star_segment\n",
    "    data_duration = first_lc.shape[0]/48. # days\n",
    "    #print \"Data duration\", data_duration\n",
    "    location = np.where(starname == complete_catalog[\"KIC_ID\"] )[0]\n",
    "    #print location\n",
    "    real_periods[i] = float(complete_catalog[\"i_period\"][location])\n",
    "    i_ror[i] = float(complete_catalog[\"i_ror\"][location])\n",
    "    #plt.figure(figsize=(15,10))\n",
    "    #plt.scatter((lc_detrended[:,0]/real_periods[i]) %1, lc_detrended[:,1], marker = \".\")\n",
    "    #plt.scatter((lc_detrended[:,0]/bls_periods[i]) %1, lc_detrended[:,1])\n",
    "\n",
    "    \n",
    "    #print \"Real:\", real_periods[i], \"Inj:\", bls_periods[i]#, period\n",
    "    #print location\n",
    "    #print complete_catalog.loc[location]\n",
    "    depth = float(complete_catalog[\"i_depth\"][location]) \n",
    "    median = np.median(lc_detrended[:,2]) # flux\n",
    "    error = np.median(np.abs(lc_detrended[:,2]-median)**2)**0.5\n",
    "    transits = data_duration//float(complete_catalog[\"i_period\"][location]) +1\n",
    "    SNR[i] = depth*np.sqrt(transits) * np.sqrt(n_points_transit)/(error*np.sqrt(2))\n",
    "    SNR_raw[i] = i_ror[i]**2 *np.sqrt(transits) * np.sqrt(n_points_transit)/(error*np.sqrt(2))\n",
    "\n",
    "    if i %1000 == 999:\n",
    "        print i\n",
    "    #break\n",
    "    #print transits, i, data_duration, float(complete_catalog[\"i_period\"][location]), location\n",
    "    #print n_points_transit, transit_duration_phase\n",
    "\n",
    "    #print feat_files.columns.values[17:]\n",
    "    #print bls_data\n",
    "    #print period\n",
    "    #break\n",
    "    \n",
    "end = time.time()\n",
    "print\"Time\", end - start, \"seconds\"\n",
    "    "
   ]
  },
  {
   "cell_type": "code",
   "execution_count": 159,
   "metadata": {
    "collapsed": false
   },
   "outputs": [
    {
     "name": "stdout",
     "output_type": "stream",
     "text": [
      "Above Threshold of 6 358\n",
      "Above Threshold of 6 for Raw SNR 241\n"
     ]
    },
    {
     "data": {
      "text/plain": [
       "<matplotlib.text.Text at 0x7f9324f9e610>"
      ]
     },
     "execution_count": 159,
     "metadata": {},
     "output_type": "execute_result"
    },
    {
     "data": {
      "image/png": "[encoded data removed]",
      "text/plain": [
       "<matplotlib.figure.Figure at 0x7f9325987e10>"
      ]
     },
     "metadata": {},
     "output_type": "display_data"
    },
    {
     "data": {
      "image/png": "[encoded data removed]",
      "text/plain": [
       "<matplotlib.figure.Figure at 0x7f9327ae06d0>"
      ]
     },
     "metadata": {},
     "output_type": "display_data"
    },
    {
     "data": {
      "image/png": "[encoded data removed]",
      "text/plain": [
       "<matplotlib.figure.Figure at 0x7f9326113d10>"
      ]
     },
     "metadata": {},
     "output_type": "display_data"
    },
    {
     "data": {
      "image/png": "[encoded data removed]",
      "text/plain": [
       "<matplotlib.figure.Figure at 0x7f932507bf50>"
      ]
     },
     "metadata": {},
     "output_type": "display_data"
    }
   ],
   "source": [
    "fixed_SNR = SNR/1000000. # parts per million conversion\n",
    "plt.figure(figsize = (12, 8))\n",
    "bins = np.linspace(0,10,100)\n",
    "plt.hist(fixed_SNR, bins = bins, alpha = 0.5, label = \"fixed _SNR\")\n",
    "plt.title(\"SNR_corrected vs SNR_raw\")\n",
    "print \"Above Threshold of 6\", len(np.where(fixed_SNR>6)[0])\n",
    "#plt.figure()\n",
    "plt.hist(SNR_raw, bins = bins, alpha = 0.5, label = \"raw_SNR\")\n",
    "#plt.title(\"Raw_SNR\")\n",
    "print \"Above Threshold of 6 for Raw SNR\", len(np.where(SNR_raw>6)[0])\n",
    "plt.legend()\n",
    "#print len(np.where(fixed_SNR>6)[0])\n",
    "#print catalog_used[:10]\n",
    "#print feat_files[[\"star_id\", \"segment\"]]\n",
    "plt.figure(figsize = (12, 8))\n",
    "plt.hist(i_ror, bins = np.linspace(0,0.03, 20)) # planet to stellar radius ratio\n",
    "plt.title(\"Planet to stellar radius\")\n",
    "plt.figure()\n",
    "plt.title(\"Depth\")\n",
    "plt.hist(i_ror**2, bins = np.linspace(0,0.03**2, 20)) # depth\n",
    "\n",
    "#stars with planets with periods under 10 days\n",
    "short_planets_ind = np.where(real_periods < 10)[0]\n",
    "plt.figure(figsize = (12, 8))\n",
    "bins = np.linspace(0,0.02, 20)\n",
    "plt.hist(i_ror, bins = bins, alpha = .5, label = \"All Planets\")\n",
    "plt.hist(i_ror[short_planets_ind], bins = bins, alpha = 1, label = \"Short period < 10\")\n",
    "\n",
    "plt.legend()\n",
    "\n",
    "plt.title(\"Planet to stellar radius ratio for Planets with p < 10\")\n"
   ]
  },
  {
   "cell_type": "code",
   "execution_count": 95,
   "metadata": {
    "collapsed": false
   },
   "outputs": [],
   "source": [
    "##save the necessary periods\n",
    "size = real_periods.shape[0]\n",
    "period_feats = np.hstack([feat_files[[\"star_id\", \"segment\"]].values, real_periods.reshape(size, 1)])\n",
    "np.savetxt(\"../Data/Kplr_inj_periods_10000.txt\", period_feats)\n",
    "\n",
    "period_feats = np.hstack([feat_files[[\"star_id\", \"segment\"]].values, bls_periods.reshape(size, 1)])\n",
    "np.savetxt(\"../Data/Kplr_bls_periods_10000.txt\", period_feats)"
   ]
  },
  {
   "cell_type": "code",
   "execution_count": 96,
   "metadata": {
    "collapsed": false
   },
   "outputs": [
    {
     "name": "stdout",
     "output_type": "stream",
     "text": [
      "(10000, 2)\n",
      "(10000, 1)\n",
      "(10000, 3)\n"
     ]
    }
   ],
   "source": [
    "print feat_files[[\"star_id\", \"segment\"]].values.shape\n",
    "print fixed_SNR.reshape((10000,1)).shape\n",
    "size = SNR.shape[0]\n",
    "SNR_feats = np.hstack([feat_files[[\"star_id\", \"segment\"]].values, fixed_SNR.reshape(size, 1)])\n",
    "print SNR_feats.shape\n",
    "np.savetxt(\"../Data/SNR_feats_kplr_inj_10000_detrended.txt\", SNR_feats)"
   ]
  },
  {
   "cell_type": "code",
   "execution_count": 97,
   "metadata": {
    "collapsed": false
   },
   "outputs": [
    {
     "data": {
      "text/plain": [
       "(array([  8.81300000e+03,   9.87000000e+02,   1.00000000e+02,\n",
       "          3.80000000e+01,   3.30000000e+01,   1.50000000e+01,\n",
       "          5.00000000e+00,   4.00000000e+00,   3.00000000e+00,\n",
       "          2.00000000e+00]),\n",
       " array([  2.55416979e-02,   3.76555886e+00,   7.50557601e+00,\n",
       "          1.12455932e+01,   1.49856103e+01,   1.87256275e+01,\n",
       "          2.24656446e+01,   2.62056618e+01,   2.99456790e+01,\n",
       "          3.36856961e+01,   3.74257133e+01]),\n",
       " <a list of 10 Patch objects>)"
      ]
     },
     "execution_count": 97,
     "metadata": {},
     "output_type": "execute_result"
    },
    {
     "data": {
      "image/png": "[encoded data removed]",
      "text/plain": [
       "<matplotlib.figure.Figure at 0x7f9327b15410>"
      ]
     },
     "metadata": {},
     "output_type": "display_data"
    }
   ],
   "source": [
    "real_periods = np.loadtxt(\"../Data/Kplr_inj_periods_10000.txt\")[:,-1]\n",
    "bls_periods = np.loadtxt(\"../Data/Kplr_bls_periods_10000.txt\")[:,-1]\n",
    "SNR_feats = np.loadtxt(\"../Data/SNR_feats_kplr_inj_10000_detrended.txt\")\n",
    "plt.hist(SNR_feats[:,-1])"
   ]
  },
  {
   "cell_type": "code",
   "execution_count": 98,
   "metadata": {
    "collapsed": true
   },
   "outputs": [],
   "source": [
    "#generate period error\n",
    "#period error function\n",
    "def period_func(vals, p_bls, p_inj):\n",
    "    a, b = vals\n",
    "    a = np.rint(a)\n",
    "    b = np.rint(b)   \n",
    "    return np.abs((a*p_bls - b*p_inj) / 0.5/(a*p_bls + b*p_inj))"
   ]
  },
  {
   "cell_type": "code",
   "execution_count": 99,
   "metadata": {
    "collapsed": true
   },
   "outputs": [],
   "source": [
    "from scipy.optimize import brute"
   ]
  },
  {
   "cell_type": "code",
   "execution_count": 100,
   "metadata": {
    "collapsed": false
   },
   "outputs": [
    {
     "name": "stdout",
     "output_type": "stream",
     "text": [
      "(10000, 2)\n",
      "(10000, 2)\n",
      "[[ 1.  5.]\n",
      " [ 1.  5.]\n",
      " [ 1.  5.]\n",
      " [ 1.  5.]\n",
      " [ 1.  5.]\n",
      " [ 4.  5.]\n",
      " [ 3.  2.]\n",
      " [ 3.  5.]\n",
      " [ 2.  5.]\n",
      " [ 1.  5.]]\n",
      "[ 1.7255  1.7255  1.7255  1.7255  1.7255  2.2181  2.2181  2.2181  2.2181\n",
      "  2.2181] [  8.47108156   8.45997335   8.46136028   8.45997335   8.45997335\n",
      "   2.6097475    1.47296574   3.89504691   6.01278481  11.18901228]\n"
     ]
    }
   ],
   "source": [
    "rranges=(slice(1, 6, 1), slice(1, 6, 1))\n",
    "harmonics_kplr = np.empty(shape = [catalog_used.shape[0],2])\n",
    "print harmonics_kplr.shape\n",
    "for i in range(catalog_used.shape[0]):\n",
    "    results = brute(period_func, ranges=rranges, args=(bls_periods[i], real_periods[i]), full_output=True, finish= None)\n",
    "    #print results[0]\n",
    "    harmonics_kplr[i, :] =results[0]\n",
    "    try:\n",
    "        results[0].astype(int)\n",
    "    except:\n",
    "        print i\n",
    "    #print results[0], print \n",
    "    #break\n",
    "print harmonics_kplr.shape\n",
    "print harmonics_kplr[:10, :]\n",
    "print real_periods[:10], bls_periods[:10]"
   ]
  },
  {
   "cell_type": "code",
   "execution_count": 64,
   "metadata": {
    "collapsed": true
   },
   "outputs": [],
   "source": [
    "#calculate the error\n",
    "#save the real periods\n",
    "#np.savetxt(\"../Data/Kplr_periods_10000.txt\", real_periods)\n"
   ]
  },
  {
   "cell_type": "code",
   "execution_count": 65,
   "metadata": {
    "collapsed": false
   },
   "outputs": [
    {
     "name": "stdout",
     "output_type": "stream",
     "text": [
      "[ 0.01829607  0.01960812  0.01944421  0.01960812  0.01960812  0.06052257\n",
      "  0.00390798  0.05221726  0.08090213  0.00884331]\n"
     ]
    }
   ],
   "source": [
    "#calculate error\n",
    "tol = np.zeros_like(SNR)\n",
    "for i in range(catalog_used.shape[0]):\n",
    "    tol[i] = period_func(harmonics_kplr[i, :], bls_periods[i], real_periods[i])#, ranges=rranges, args=(bls_periods[i], real_periods[i]), full_output=True, finish= None)\n",
    "    #print results[0]\n",
    "    #harmonics_kplr[i, :] =results[0]\n",
    "    #try:\n",
    "    #    results[0].astype(int)\n",
    "    ##except:\n",
    "    #   print i\n",
    "    #print results[0], print \n",
    "    #break\n",
    "print tol[:10]"
   ]
  },
  {
   "cell_type": "code",
   "execution_count": 109,
   "metadata": {
    "collapsed": false
   },
   "outputs": [
    {
     "data": {
      "text/plain": [
       "(array([ 5034.,   476.,   491.,   498.,   536.,   643.,   653.,   640.,\n",
       "          649.,   380.]),\n",
       " array([  1.20269787e-05,   1.54699578e-01,   3.09387128e-01,\n",
       "          4.64074679e-01,   6.18762230e-01,   7.73449781e-01,\n",
       "          9.28137331e-01,   1.08282488e+00,   1.23751243e+00,\n",
       "          1.39219998e+00,   1.54688753e+00]),\n",
       " <a list of 10 Patch objects>)"
      ]
     },
     "execution_count": 109,
     "metadata": {},
     "output_type": "execute_result"
    },
    {
     "data": {
      "image/png": "[encoded data removed]",
      "text/plain": [
       "<matplotlib.figure.Figure at 0x7f93275ddb50>"
      ]
     },
     "metadata": {},
     "output_type": "display_data"
    }
   ],
   "source": [
    "plt.hist(tol)"
   ]
  },
  {
   "cell_type": "code",
   "execution_count": 110,
   "metadata": {
    "collapsed": false
   },
   "outputs": [
    {
     "name": "stdout",
     "output_type": "stream",
     "text": [
      "358\n",
      "146\n",
      "84\n",
      "[ 6.2115  0.9023  0.9023  0.9023  0.9023  0.9023  0.9023  4.3602  7.4269\n",
      "  7.4269  7.3187  4.0101  0.7414  0.7414  2.0182  3.1074  2.4894  1.4448\n",
      "  2.1871  2.1871  1.2821  1.2821  2.5807  5.4075  3.2616  0.6888  0.6888\n",
      "  1.7613  1.7613  3.5052  3.5052  3.5052  2.0611  2.0611  0.9215  4.6136\n",
      "  4.6136  6.9352  6.9352  6.7611  6.7611  5.7183  0.507   0.507   0.507\n",
      "  2.0798  6.2571  6.9029  5.8375  5.8375  1.914   1.55    5.2798  5.2798\n",
      "  5.2798  7.4973  4.2297  4.2297  3.0787  3.0787  3.0787  3.0787  3.0787\n",
      "  0.9452  6.0343  6.0343  4.2512  5.4382  5.4382  8.5665  1.0466  7.3413\n",
      "  7.9092  7.9092  7.9092  1.9409  1.9409  1.9409  4.3891  3.6161  0.8094\n",
      "  4.382   0.9035  3.6085] [ 14.94809223   5.89197689   7.66812043   5.02712791   7.51515493\n",
      "   5.06014997   6.24184261   3.35215588  13.90504497   5.1067122\n",
      "   4.56473139  15.09233773   5.16135526  10.08492855   3.74470236\n",
      "  12.14473634   2.17638113   4.58378527  10.22883409  13.86768364\n",
      "   3.01073715   2.78072383   6.06507128  14.77690347   1.40883596\n",
      "   4.31585932   9.4290311    2.70621844  14.1141849    4.23441983\n",
      "   5.10570185   9.79218331   4.42008951  15.11886381  11.52892348\n",
      "  15.57510684   6.69093829   4.49633264   2.38077977  11.94240717\n",
      "   1.47032217   1.55455372   3.56051263  14.53553064   8.78542483\n",
      "  14.61786687  11.33896035   4.28184453   2.99831905   4.13038731\n",
      "  14.11032622  12.93292594  10.87773306  14.32971206   5.54627547\n",
      "  14.43794329   0.82150306   7.5569683    2.90156523   5.58106048\n",
      "   1.48692699  11.73869406   6.29053108  13.75679463   2.69083962\n",
      "   6.40290695   9.49145464   0.73848267   0.72403101  15.07910957\n",
      "   9.09345322  15.42153253   4.59071633   2.97464462  15.20796145\n",
      "   4.75437184  13.18063416  12.18487689  15.90631089  10.45467852\n",
      "  13.10366743  14.87056899  11.52120283   4.95046086]\n"
     ]
    }
   ],
   "source": [
    "\n",
    "print len(np.where((fixed_SNR>6))[0])\n",
    "\n",
    "print len(np.where((fixed_SNR>6)* (real_periods<(26./3)))[0])\n",
    "\n",
    "#only 4117 true signals that should be seen\n",
    "print len(np.where((fixed_SNR>6)* (real_periods<(26./3))*(tol>0.02) )[0])\n",
    "#error is larger than previous tolerance in 3404 cases\n",
    "indices = np.where((fixed_SNR>6)* (real_periods<(26./3))*(tol>0.02) )[0]\n",
    "print real_periods[indices], bls_periods[indices]"
   ]
  },
  {
   "cell_type": "code",
   "execution_count": 130,
   "metadata": {
    "collapsed": false
   },
   "outputs": [
    {
     "name": "stdout",
     "output_type": "stream",
     "text": [
      "I: 0 Index 89  ,Star: [1430893       6] SNR: 6.79416176133\n",
      "Real: 6.2115 BLS 14.94809223 Tol 0.0381048512584 [ 2.  5.]\n",
      "\n",
      "\n",
      "I: 1 Index 170  ,Star: [1572558       1] SNR: 7.56375153675\n",
      "Real: 0.9023 BLS 5.89197689 Tol 0.265387601587 [ 1.  5.]\n",
      "\n",
      "\n",
      "I: 2 Index 171  ,Star: [1572558       2] SNR: 7.68735727008\n",
      "Real: 0.9023 BLS 7.66812043 Tol 0.518344631205 [ 1.  5.]\n",
      "\n",
      "\n",
      "I: 3 Index 172  ,Star: [1572558       3] SNR: 7.39263495385\n",
      "Real: 0.9023 BLS 5.02712791 Tol 0.108113643779 [ 1.  5.]\n",
      "\n",
      "\n",
      "I: 4 Index 173  ,Star: [1572558       4] SNR: 6.68867983135\n",
      "Real: 0.9023 BLS 7.51515493 Tol 0.499499644329 [ 1.  5.]\n",
      "\n",
      "\n",
      "I: 5 Index 174  ,Star: [1572558       5] SNR: 7.90670723975\n",
      "Real: 0.9023 BLS 5.06014997 Tol 0.114640625539 [ 1.  5.]\n",
      "\n",
      "\n",
      "I: 6 Index 175  ,Star: [1572558       6] SNR: 8.01214876792\n",
      "Real: 0.9023 BLS 6.24184261 Tol 0.321824138364 [ 1.  5.]\n",
      "\n",
      "\n",
      "I: 7 Index 249  ,Star: [1849714       0] SNR: 6.98419672964\n",
      "Real: 4.3602 BLS 3.35215588 Tol 0.0247665636369 [ 4.  3.]\n",
      "\n",
      "\n",
      "I: 8 Index 299  ,Star: [1870480       0] SNR: 10.4265205228\n",
      "Real: 7.4269 BLS 13.90504497 Tol 0.0659800510757 [ 1.  2.]\n",
      "\n",
      "\n",
      "I: 9 Index 301  ,Star: [1870480       2] SNR: 6.83516657804\n",
      "Real: 7.4269 BLS 5.1067122 Tol 0.0309098946009 [ 3.  2.]\n",
      "\n",
      "\n",
      "I: 10 Index 454  ,Star: [2303304       4] SNR: 7.3450559153\n",
      "Real: 7.3187 BLS 4.56473139 Tol 0.0387477292907 [ 5.  3.]\n",
      "\n",
      "\n",
      "I: 11 Index 1101  ,Star: [3103752       6] SNR: 7.76801661083\n",
      "Real: 4.0101 BLS 15.09233773 Tol 0.0609045229637 [ 1.  4.]\n",
      "\n",
      "\n",
      "I: 12 Index 1275  ,Star: [3218009       0] SNR: 6.11736524691\n",
      "Real: 0.7414 BLS 5.16135526 Tol 0.327987595752 [ 1.  5.]\n",
      "\n",
      "\n",
      "I: 13 Index 1278  ,Star: [3218009       3] SNR: 6.27485183099\n",
      "Real: 0.7414 BLS 10.08492855 Tol 0.92487842101 [ 1.  5.]\n",
      "\n",
      "\n",
      "I: 14 Index 2064  ,Star: [3558958       3] SNR: 6.20021809936\n",
      "Real: 2.0182 BLS 3.74470236 Tol 0.0749759163944 [ 1.  2.]\n",
      "\n",
      "\n",
      "I: 15 Index 2135  ,Star: [3630375       7] SNR: 6.6740576094\n",
      "Real: 3.1074 BLS 12.14473634 Tol 0.0231838334154 [ 1.  4.]\n",
      "\n",
      "\n",
      "I: 16 Index 2144  ,Star: [3640606       4] SNR: 6.29794727238\n",
      "Real: 2.4894 BLS 2.17638113 Tol 0.0887070610526 [ 5.  4.]\n",
      "\n",
      "\n",
      "I: 17 Index 2485  ,Star: [3750964       7] SNR: 6.43750650221\n",
      "Real: 1.4448 BLS 4.58378527 Tol 0.0559273579657 [ 1.  3.]\n",
      "\n",
      "\n",
      "I: 18 Index 2871  ,Star: [3940372       4] SNR: 8.17726470488\n",
      "Real: 2.1871 BLS 10.22883409 Tol 0.0667789411181 [ 1.  5.]\n",
      "\n",
      "\n",
      "I: 19 Index 2872  ,Star: [3940372       5] SNR: 6.56181427071\n",
      "Real: 2.1871 BLS 13.86768364 Tol 0.236436070672 [ 1.  5.]\n",
      "\n",
      "\n",
      "I: 20 Index 3027  ,Star: [3973141       1] SNR: 6.838525472\n",
      "Real: 1.2821 BLS 3.01073715 Tol 0.06258470145 [ 2.  5.]\n",
      "\n",
      "\n",
      "I: 21 Index 3028  ,Star: [3973141       2] SNR: 6.31640614263\n",
      "Real: 1.2821 BLS 2.78072383 Tol 0.0810203613323 [ 1.  2.]\n",
      "\n",
      "\n",
      "I: 22 Index 3250  ,Star: [4136992       1] SNR: 6.98498028852\n",
      "Real: 2.5807 BLS 6.06507128 Tol 0.0617854503712 [ 2.  5.]\n",
      "\n",
      "\n",
      "I: 23 Index 3805  ,Star: [4445785       1] SNR: 7.49354680445\n",
      "Real: 5.4075 BLS 14.77690347 Tol 0.0889290979856 [ 2.  5.]\n",
      "\n",
      "\n",
      "I: 24 Index 4239  ,Star: [4673009       0] SNR: 6.01964315448\n",
      "Real: 3.2616 BLS 1.40883596 Tol 0.0767988819772 [ 5.  2.]\n",
      "\n",
      "\n",
      "I: 25 Index 4318  ,Star: [4736294       5] SNR: 6.10069598974\n",
      "Real: 0.6888 BLS 4.31585932 Tol 0.224710084048 [ 1.  5.]\n",
      "\n",
      "\n",
      "I: 26 Index 4320  ,Star: [4736294       7] SNR: 9.36525493697\n",
      "Real: 0.6888 BLS 9.4290311 Tol 0.929855766448 [ 1.  5.]\n",
      "\n",
      "\n",
      "I: 27 Index 4513  ,Star: [4770008       2] SNR: 6.6294717732\n",
      "Real: 1.7613 BLS 2.70621844 Tol 0.0240338129664 [ 2.  3.]\n",
      "\n",
      "\n",
      "I: 28 Index 4517  ,Star: [4770008       6] SNR: 8.18713165634\n",
      "Real: 1.7613 BLS 14.1141849 Tol 0.463134930143 [ 1.  5.]\n",
      "\n",
      "\n",
      "I: 29 Index 4792  ,Star: [4851427       0] SNR: 6.68644690623\n",
      "Real: 3.5052 BLS 4.23441983 Tol 0.0341414899168 [ 4.  5.]\n",
      "\n",
      "\n",
      "I: 30 Index 4793  ,Star: [4851427       1] SNR: 6.98165507923\n",
      "Real: 3.5052 BLS 5.10570185 Tol 0.0293526555408 [ 2.  3.]\n",
      "\n",
      "\n",
      "I: 31 Index 4794  ,Star: [4851427       2] SNR: 7.61548169911\n",
      "Real: 3.5052 BLS 9.79218331 Tol 0.0712452638436 [ 1.  3.]\n",
      "\n",
      "\n",
      "I: 32 Index 4847  ,Star: [4861448       3] SNR: 8.16580188215\n",
      "Real: 2.0611 BLS 4.42008951 Tol 0.0697446532692 [ 1.  2.]\n",
      "\n",
      "\n",
      "I: 33 Index 4851  ,Star: [4861448       7] SNR: 9.23101922064\n",
      "Real: 2.0611 BLS 15.11886381 Tol 0.378641829229 [ 1.  5.]\n",
      "\n",
      "\n",
      "I: 34 Index 5270  ,Star: [5008373       0] SNR: 8.17744162277\n",
      "Real: 0.9215 BLS 11.52892348 Tol 0.85786339068 [ 1.  5.]\n",
      "\n",
      "\n",
      "I: 35 Index 5362  ,Star: [5036291       3] SNR: 7.10206070073\n",
      "Real: 4.6136 BLS 15.57510684 Tol 0.117916258671 [ 1.  3.]\n",
      "\n",
      "\n",
      "I: 36 Index 5363  ,Star: [5036291       4] SNR: 6.79893449619\n",
      "Real: 4.6136 BLS 6.69093829 Tol 0.0337162599461 [ 2.  3.]\n",
      "\n",
      "\n",
      "I: 37 Index 5375  ,Star: [5037114       1] SNR: 6.50330676626\n",
      "Real: 6.9352 BLS 4.49633264 Tol 0.0278808825483 [ 3.  2.]\n",
      "\n",
      "\n",
      "I: 38 Index 5376  ,Star: [5037114       2] SNR: 6.67330219756\n",
      "Real: 6.9352 BLS 2.38077977 Tol 0.0294283404846 [ 3.  1.]\n",
      "\n",
      "\n",
      "I: 39 Index 5431  ,Star: [5080003       4] SNR: 10.7065213687\n",
      "Real: 6.7611 BLS 11.94240717 Tol 0.0580681457269 [ 3.  5.]\n",
      "\n",
      "\n",
      "I: 40 Index 5432  ,Star: [5080003       5] SNR: 7.02384110992\n",
      "Real: 6.7611 BLS 1.47032217 Tol 0.0836849640408 [ 5.  1.]\n",
      "\n",
      "\n",
      "I: 41 Index 5524  ,Star: [5097045       0] SNR: 6.11428846804\n",
      "Real: 5.7183 BLS 1.55455372 Tol 0.0837622848923 [ 4.  1.]\n",
      "\n",
      "\n",
      "I: 42 Index 5902  ,Star: [5213532       1] SNR: 6.19596816101\n",
      "Real: 0.507 BLS 3.56051263 Tol 0.336481176317 [ 1.  5.]\n",
      "\n",
      "\n",
      "I: 43 Index 5903  ,Star: [5213532       2] SNR: 7.58190757897\n",
      "Real: 0.507 BLS 14.53553064 Tol 1.40599386077 [ 1.  5.]\n",
      "\n",
      "\n",
      "I: 44 Index 5907  ,Star: [5213532       6] SNR: 7.67737981148\n",
      "Real: 0.507 BLS 8.78542483 Tol 1.10427389853 [ 1.  5.]\n",
      "\n",
      "\n",
      "I: 45 Index 6109  ,Star: [5283399       0] SNR: 6.09669648154\n",
      "Real: 2.0798 BLS 14.61786687 Tol 0.337281794073 [ 1.  5.]\n",
      "\n",
      "\n",
      "I: 46 Index 6275  ,Star: [5353137       0] SNR: 6.28811162173\n",
      "Real: 6.2571 BLS 11.33896035 Tol 0.0836533371703 [ 3.  5.]\n",
      "\n",
      "\n",
      "I: 47 Index 6566  ,Star: [5430495       6] SNR: 29.3461339001\n",
      "Real: 6.9029 BLS 4.28184453 Tol 0.0332648243752 [ 5.  3.]\n",
      "\n",
      "\n",
      "I: 48 Index 6600  ,Star: [5443536       1] SNR: 6.21441962674\n",
      "Real: 5.8375 BLS 2.99831905 Tol 0.0268947512113 [ 2.  1.]\n",
      "\n",
      "\n",
      "I: 49 Index 6603  ,Star: [5443536       4] SNR: 6.50725504949\n",
      "Real: 5.8375 BLS 4.13038731 Tol 0.0582329039376 [ 4.  3.]\n",
      "\n",
      "\n",
      "I: 50 Index 6743  ,Star: [5469689       3] SNR: 8.56630967315\n",
      "Real: 1.914 BLS 14.11032622 Tol 0.383468215583 [ 1.  5.]\n",
      "\n",
      "\n",
      "I: 51 Index 7056  ,Star: [5565179       1] SNR: 7.25109929499\n",
      "Real: 1.55 BLS 12.93292594 Tol 0.501179180841 [ 1.  5.]\n",
      "\n",
      "\n",
      "I: 52 Index 7120  ,Star: [5612188       0] SNR: 7.78832521697\n",
      "Real: 5.2798 BLS 10.87773306 Tol 0.0296802833738 [ 1.  2.]\n",
      "\n",
      "\n",
      "I: 53 Index 7121  ,Star: [5612188       1] SNR: 7.10458094885\n",
      "Real: 5.2798 BLS 14.32971206 Tol 0.0821100188074 [ 2.  5.]\n",
      "\n",
      "\n",
      "I: 54 Index 7122  ,Star: [5612188       2] SNR: 8.12856859415\n",
      "Real: 5.2798 BLS 5.54627547 Tol 0.0492284523119 [ 3.  3.]\n",
      "\n",
      "\n",
      "I: 55 Index 7446  ,Star: [5718327       2] SNR: 8.95899284165\n",
      "Real: 7.4973 BLS 14.43794329 Tol 0.0378259333225 [ 1.  2.]\n",
      "\n",
      "\n",
      "I: 56 Index 7552  ,Star: [5774607       3] SNR: 9.473156104\n",
      "Real: 4.2297 BLS 0.82150306 Tol 0.0293106740329 [ 5.  1.]\n",
      "\n",
      "\n",
      "I: 57 Index 7553  ,Star: [5774607       4] SNR: 19.694151501\n",
      "Real: 4.2297 BLS 7.5569683 Tol 0.0694854210583 [ 3.  5.]\n",
      "\n",
      "\n",
      "I: 58 Index 7668  ,Star: [5858361       2] SNR: 29.9719569025\n",
      "Real: 3.0787 BLS 2.90156523 Tol 0.0592397705411 [ 3.  3.]\n",
      "\n",
      "\n",
      "I: 59 Index 7670  ,Star: [5858361       4] SNR: 28.4402662325\n",
      "Real: 3.0787 BLS 5.58106048 Tol 0.0839963169514 [ 3.  5.]\n",
      "\n",
      "\n",
      "I: 60 Index 7671  ,Star: [5858361       5] SNR: 14.9019058829\n",
      "Real: 3.0787 BLS 1.48692699 Tol 0.0346452160019 [ 2.  1.]\n",
      "\n",
      "\n",
      "I: 61 Index 7672  ,Star: [5858361       6] SNR: 17.8353111454\n",
      "Real: 3.0787 BLS 11.73869406 Tol 0.047902058517 [ 1.  4.]\n",
      "\n",
      "\n",
      "I: 62 Index 7673  ,Star: [5858361       7] SNR: 20.3039153374\n",
      "Real: 3.0787 BLS 6.29053108 Tol 0.0213900734418 [ 1.  2.]\n",
      "\n",
      "\n",
      "I: 63 Index 7797  ,Star: [5953179       0] SNR: 8.40072873945\n",
      "Real: 0.9452 BLS 13.75679463 Tol 0.977210947888 [ 1.  5.]\n",
      "\n",
      "\n",
      "I: 64 Index 7864  ,Star: [5989157       0] SNR: 6.95020813435\n",
      "Real: 6.0343 BLS 2.69083962 Tol 0.108577288005 [ 5.  2.]\n",
      "\n",
      "\n",
      "I: 65 Index 7865  ,Star: [5989157       1] SNR: 7.47852573135\n",
      "Real: 6.0343 BLS 6.40290695 Tol 0.0592748760203 [ 5.  5.]\n",
      "\n",
      "\n",
      "I: 66 Index 8253  ,Star: [6186054       2] SNR: 6.09225170904\n",
      "Real: 4.2512 BLS 9.49145464 Tol 0.10993249193 [ 1.  2.]\n",
      "\n",
      "\n",
      "I: 67 Index 8296  ,Star: [6205405       0] SNR: 7.4115040243\n",
      "Real: 5.4382 BLS 0.73848267 Tol 0.382402930248 [ 5.  1.]\n",
      "\n",
      "\n",
      "I: 68 Index 8302  ,Star: [6205405       6] SNR: 6.52656645024\n",
      "Real: 5.4382 BLS 0.72403101 Tol 0.401407306286 [ 5.  1.]\n",
      "\n",
      "\n",
      "I: 69 Index 8527  ,Star: [6306891       0] SNR: 6.59061475428\n",
      "Real: 8.5665 BLS 15.07910957 Tol 0.0546118630006 [ 3.  5.]\n",
      "\n",
      "\n",
      "I: 70 Index 9100  ,Star: [6526689       6] SNR: 7.04098572538\n",
      "Real: 1.0466 BLS 9.09345322 Tol 0.538926580183 [ 1.  5.]\n",
      "\n",
      "\n",
      "I: 71 Index 9126  ,Star: [6528650       5] SNR: 6.50839769601\n",
      "Real: 7.3413 BLS 15.42153253 Tol 0.0490917670033 [ 1.  2.]\n",
      "\n",
      "\n",
      "I: 72 Index 9161  ,Star: [6529892       0] SNR: 8.23712400308\n",
      "Real: 7.9092 BLS 4.59071633 Tol 0.0331619004764 [ 5.  3.]\n",
      "\n",
      "\n",
      "I: 73 Index 9165  ,Star: [6529892       4] SNR: 6.18598360879\n",
      "Real: 7.9092 BLS 2.97464462 Tol 0.0615918484937 [ 5.  2.]\n",
      "\n",
      "\n",
      "I: 74 Index 9166  ,Star: [6529892       5] SNR: 7.0399300545\n",
      "Real: 7.9092 BLS 15.20796145 Tol 0.0393496705041 [ 1.  2.]\n",
      "\n",
      "\n",
      "I: 75 Index 9332  ,Star: [6600771       0] SNR: 7.65141834046\n",
      "Real: 1.9409 BLS 4.75437184 Tol 0.0203772276311 [ 2.  5.]\n",
      "\n",
      "\n",
      "I: 76 Index 9335  ,Star: [6600771       3] SNR: 6.59456515318\n",
      "Real: 1.9409 BLS 13.18063416 Tol 0.303789712195 [ 1.  5.]\n",
      "\n",
      "\n",
      "I: 77 Index 9336  ,Star: [6600771       4] SNR: 8.11125269937\n",
      "Real: 1.9409 BLS 12.18487689 Tol 0.226628368863 [ 1.  5.]\n",
      "\n",
      "\n",
      "I: 78 Index 9603  ,Star: [6671020       7] SNR: 6.0336386157\n",
      "Real: 4.3891 BLS 15.90631089 Tol 0.0986225602238 [ 1.  4.]\n",
      "\n",
      "\n",
      "I: 79 Index 9626  ,Star: [6680622       2] SNR: 7.09615593821\n",
      "Real: 3.6161 BLS 10.45467852 Tol 0.0369545957745 [ 1.  3.]\n",
      "\n",
      "\n",
      "I: 80 Index 9826  ,Star: [6757116       2] SNR: 6.13278276109\n",
      "Real: 0.8094 BLS 13.10366743 Tol 1.05613002724 [ 1.  5.]\n",
      "\n",
      "\n",
      "I: 81 Index 9881  ,Star: [6768036       0] SNR: 9.04917975267\n",
      "Real: 4.382 BLS 14.87056899 Tol 0.123110648603 [ 1.  3.]\n",
      "\n",
      "\n",
      "I: 82 Index 9893  ,Star: [6775103       4] SNR: 7.02344888077\n",
      "Real: 0.9035 BLS 11.52120283 Tol 0.873350283278 [ 1.  5.]\n",
      "\n",
      "\n",
      "I: 83 Index 9965  ,Star: [6792473       6] SNR: 6.01630661907\n",
      "Real: 3.6085 BLS 4.95046086 Tol 0.0285044990524 [ 3.  4.]\n",
      "\n",
      "\n"
     ]
    }
   ],
   "source": [
    "for i, element in enumerate(indices):\n",
    "    print \"I:\", i,\"Index\", element,\" ,Star:\", SNR_feats[element, :2].astype(int),\"SNR:\", SNR_feats[element, -1]\n",
    "    print \"Real:\", real_periods[element], \"BLS\", bls_periods[element], \"Tol\", tol[element], harmonics_kplr[element]  #, \"SNR\", SNR_fixed[element]\n",
    "    print \"\\n\""
   ]
  },
  {
   "cell_type": "code",
   "execution_count": 134,
   "metadata": {
    "collapsed": false
   },
   "outputs": [
    {
     "name": "stdout",
     "output_type": "stream",
     "text": [
      "51\n"
     ]
    }
   ],
   "source": [
    "print len(np.unique(SNR_feats[indices,0]))\n",
    "#print indices.shape\n",
    "#print SNR_feats[indices, 0:2].astype(int)\n",
    "#np.savetxt(\"../Data/Weird_Star_Ids_fixed.txt\", np.unique(SNR_feats[indices],0))\n",
    "np.savetxt(\"../Data/Weird_Ids_3.txt\", SNR_feats[indices, 0:2].astype(int) )\n",
    "np.savetxt(\"../Data/Weird_Ids_Real_Period.txt\", real_periods[indices])\n",
    "np.savetxt(\"../Data/Weird_Ids_BLS_Period.txt\", bls_periods[indices])"
   ]
  },
  {
   "cell_type": "code",
   "execution_count": 157,
   "metadata": {
    "collapsed": false
   },
   "outputs": [
    {
     "name": "stdout",
     "output_type": "stream",
     "text": [
      "kplr003940372-4_prim.txt\n",
      "Days? 28.6458333333\n"
     ]
    },
    {
     "data": {
      "text/plain": [
       "<matplotlib.text.Text at 0x7f9325b35150>"
      ]
     },
     "execution_count": 157,
     "metadata": {},
     "output_type": "execute_result"
    },
    {
     "data": {
      "image/png": "[encoded data removed]",
      "text/plain": [
       "<matplotlib.figure.Figure at 0x7f932541a710>"
      ]
     },
     "metadata": {},
     "output_type": "display_data"
    },
    {
     "data": {
      "image/png": "[encoded data removed]",
      "text/plain": [
       "<matplotlib.figure.Figure at 0x7f93261ab210>"
      ]
     },
     "metadata": {},
     "output_type": "display_data"
    },
    {
     "data": {
      "image/png": "[encoded data removed]",
      "text/plain": [
       "<matplotlib.figure.Figure at 0x7f9325c01890>"
      ]
     },
     "metadata": {},
     "output_type": "display_data"
    }
   ],
   "source": [
    "weird_ids = np.loadtxt(\"../Data/Weird_Ids_3.txt\").astype(int)\n",
    "weird_periods = np.loadtxt(\"../Data/Weird_Ids_Real_Period.txt\")\n",
    "weird_bls = np.loadtxt(\"../Data/Weird_Ids_BLS_Period.txt\")\n",
    "#print weird_ids\n",
    "#plot above\n",
    "ind = 18\n",
    "name = \"kplr00{0}-{1}_prim.txt\".format(weird_ids[ind, 0], weird_ids[ind, 1])\n",
    "print name\n",
    "bls_name = name.split(\".\")[0] + \"_ltf.blsanal\"\n",
    "detrended = name.split(\".\")[0] + \"_ltf.lc\"\n",
    "bls_data = np.loadtxt(\"../../../Training/simulation/primaryinj1/\"+bls_name)[0, 0:]\n",
    "first_lc = np.loadtxt(\"../../../Training/simulation/primaryinj1/\" + name)\n",
    "lc_detrended = np.loadtxt(\"../../../Training/simulation/primaryinj1/\" + detrended)\n",
    "    \n",
    "    \n",
    "plt.figure(figsize=(15,8))\n",
    "#plt.scatter(first_lc[:, 0], first_lc[:,1], marker = \".\")\n",
    "plt.scatter(lc_detrended[:, 0], lc_detrended[:, 2])\n",
    "print \"Days?\", first_lc.shape[0]/48.\n",
    "#assuming this is still at 30 min cadence\n",
    "plt.ylim([lc_detrended[:,2].min()-0.002, lc_detrended[:,2].max()+0.002])\n",
    "\n",
    "plt.figure(figsize =(15, 7))\n",
    "plt.title(\"REal_Period: {0}\".format(weird_periods[ind]))\n",
    "plt.ylim([lc_detrended[:,2].min()-0.001, lc_detrended[:,2].max()+0.001])\n",
    "plt.scatter((lc_detrended[:,0]/weird_periods[ind]) %1, lc_detrended[:,2], marker = \"o\", label = \"Fold with real_P\")\n",
    "plt.figure(figsize=(15, 7))\n",
    "plt.ylim([lc_detrended[:,2].min()-0.001, lc_detrended[:,2].max()+0.001])\n",
    "plt.scatter((lc_detrended[:,0]/weird_bls[ind]) %1, lc_detrended[:,2], marker=\"o\", label = \"Fold with bls_P\")\n",
    "#plt.legend()\n",
    "plt.title(\"BLS_Period: {0}\".format(weird_bls[ind]))"
   ]
  },
  {
   "cell_type": "code",
   "execution_count": 170,
   "metadata": {
    "collapsed": false
   },
   "outputs": [
    {
     "name": "stdout",
     "output_type": "stream",
     "text": [
      "[ 0.01829607  0.01960812  0.01944421 ...,  0.0633545   0.61675588\n",
      "  0.72203434]\n",
      "684\n"
     ]
    }
   ],
   "source": [
    "print tol\n",
    "print len(np.where((tol<0.02)* (SNR>6)* (real_periods<(26.//3)))[0])\n",
    "tol_feats = np.hstack([SNR_feats[:,:2], tol.reshape(10000,1)])\n",
    "np.savetxt(\"../Data/Kplr_tol.txt\",tol_feats)"
   ]
  },
  {
   "cell_type": "code",
   "execution_count": null,
   "metadata": {
    "collapsed": true
   },
   "outputs": [],
   "source": []
  }
 ],
 "metadata": {
  "anaconda-cloud": {},
  "kernelspec": {
   "display_name": "Python [conda root]",
   "language": "python",
   "name": "conda-root-py"
  },
  "language_info": {
   "codemirror_mode": {
    "name": "ipython",
    "version": 2
   },
   "file_extension": ".py",
   "mimetype": "text/x-python",
   "name": "python",
   "nbconvert_exporter": "python",
   "pygments_lexer": "ipython2",
   "version": "2.7.12"
  }
 },
 "nbformat": 4,
 "nbformat_minor": 1
}
