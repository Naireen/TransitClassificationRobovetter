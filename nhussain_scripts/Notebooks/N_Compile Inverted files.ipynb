{
 "cells": [
  {
   "cell_type": "code",
   "execution_count": 57,
   "metadata": {
    "collapsed": true
   },
   "outputs": [],
   "source": [
    "#readFeats\n",
    "import numpy as np\n",
    "import pandas as pd\n",
    "import sklearn\n",
    "import matplotlib \n",
    "from matplotlib import pyplot as plt\n",
    "%matplotlib inline\n",
    "import os\n",
    "\n"
   ]
  },
  {
   "cell_type": "code",
   "execution_count": 58,
   "metadata": {
    "collapsed": true
   },
   "outputs": [],
   "source": [
    "#consistent way of doing this\n",
    "col_names = [\"mod_sig_pri_dv\", \"mod_sig_sec_dv\",\"mod_sig_ter_dv\",\n",
    "             \"mod_sig_pos_dv\", \"mod_fa1_dv\",\"mod_fa2_dv\", \"mod_fred_dv\",\n",
    "             \"modshiftval1_dv\", \"modshiftval2_dv\", \"modshiftval3_dv\",\n",
    "             \"modshiftval4_dv\", \"modshiftval5_dv\", \"modshiftval6_dv\", \n",
    "             \"white_noise\", \"red_noise\", \"BLS_Period_1_0\", \"BLS_Tc_1_0\",\n",
    "             \"BLS_SN_1_0\", \"BLS_SR_1_0\", \"BLS_SDE_1_0\", \"BLS_Depth_1_0\",\n",
    "             \"BLS_Qtran_1_0\", \"BLS_Qingress_1_0\", \"BLS_OOTmag_1_0\",\n",
    "             \"BLS_i1_1_0\", \"BLS_i2_1_0\", \"BLS_deltaChi2_1_0\", \n",
    "             \"BLS_fraconenight_1_0\", \"BLS_Npointsintransit_1_0\",\n",
    "             \"BLS_Ntransits_1_0\", \"BLS_Npointsbeforetransit_1_0\", \n",
    "             \"BLS_Npointsaftertransit_1_0\", \"BLS_Rednoise_1_0\",\n",
    "             \"BLS_Whitenoise_1_0\", \"BLS_SignaltoPinknoise_1_0\"] \n"
   ]
  },
  {
   "cell_type": "code",
   "execution_count": 35,
   "metadata": {
    "collapsed": false
   },
   "outputs": [
    {
     "name": "stdout",
     "output_type": "stream",
     "text": [
      "10130039-0_inv.txt 3991\n",
      "10130039-10_inv.txt 3992\n",
      "10130039-11_inv.txt 3993\n",
      "10130039-12_inv.txt 3994\n",
      "10130039-13_inv.txt 3995\n",
      "10130039-14_inv.txt 3996\n",
      "10130039-15_inv.txt 3997\n",
      "10130039-16_inv.txt 3998\n",
      "10130039-17_inv.txt 3999\n",
      "10130039-18_inv.txt 4000\n",
      "10130039-19_inv.txt 4001\n",
      "10130039-1_inv.txt 4002\n",
      "10130039-20_inv.txt 4003\n",
      "10130039-2_inv.txt 4004\n",
      "10130039-3_inv.txt 4005\n",
      "10130039-4_inv.txt 4006\n",
      "10130039-5_inv.txt 4007\n",
      "10130039-6_inv.txt 4008\n",
      "10130039-7_inv.txt 4009\n",
      "10130039-8_inv.txt 4010\n",
      "10130039-9_inv.txt 4011\n"
     ]
    }
   ],
   "source": [
    "order = np.loadtxt(\"../../Training/simulation/invert/invert.ls\", dtype=str)\n",
    "total_data_inv = np.empty(shape=[15000, len(col_names)])\n",
    "\n",
    "#10000198-10_feats_fixed_new.txt\n",
    "#10000198-10_inv_ltf.lc\n",
    "for i, name in enumerate(order[:15000]):#\n",
    "    try:\n",
    "        data = np.loadtxt(\"../InvModShiftVals/\" + name.split(\"_\")[0] +\"_feats_fixed_new.txt\")\n",
    "        total_data_inv[i, :] = data\n",
    "    except:\n",
    "        print name, i"
   ]
  },
  {
   "cell_type": "code",
   "execution_count": 52,
   "metadata": {
    "collapsed": false
   },
   "outputs": [
    {
     "name": "stdout",
     "output_type": "stream",
     "text": [
      "15000\n"
     ]
    },
    {
     "name": "stderr",
     "output_type": "stream",
     "text": [
      "/home/xuhuang/anaconda2/lib/python2.7/site-packages/ipykernel/__main__.py:5: FutureWarning: elementwise comparison failed; returning scalar instead, but in the future will perform elementwise comparison\n"
     ]
    }
   ],
   "source": [
    "condensed_inv_Data= np.empty(shape=[15000, len(col_names)])\n",
    "counter = 0\n",
    "all_zeros = np.zeros_like(col_names)\n",
    "for i, vals in enumerate(total_data_inv):\n",
    "    if vals != all_zeros:\n",
    "        condensed_inv_Data[counter, :] = vals\n",
    "        counter +=1\n",
    "        #print vals\n",
    "    else:\n",
    "        print i, vals#, (not np.any(vals ==0))\n",
    "        \n",
    "    #break\n",
    "print counter\n",
    "#print np.where(total_data_inv == 0)\n",
    "#total_data_inv[-100:,:]"
   ]
  },
  {
   "cell_type": "code",
   "execution_count": 55,
   "metadata": {
    "collapsed": false
   },
   "outputs": [
    {
     "name": "stderr",
     "output_type": "stream",
     "text": [
      "/home/xuhuang/anaconda2/lib/python2.7/site-packages/ipykernel/__main__.py:2: FutureWarning: elementwise comparison failed; returning scalar instead, but in the future will perform elementwise comparison\n",
      "  from ipykernel import kernelapp as app\n"
     ]
    }
   ],
   "source": [
    "for i, vals in enumerate(condensed_inv_Data):\n",
    "    if vals ==all_zeros:\n",
    "        print i\n",
    "        break\n",
    "    "
   ]
  },
  {
   "cell_type": "code",
   "execution_count": 61,
   "metadata": {
    "collapsed": false
   },
   "outputs": [
    {
     "data": {
      "text/html": [
       "<div>\n",
       "<table border=\"1\" class=\"dataframe\">\n",
       "  <thead>\n",
       "    <tr style=\"text-align: right;\">\n",
       "      <th></th>\n",
       "      <th>mod_sig_pri_dv</th>\n",
       "      <th>mod_sig_sec_dv</th>\n",
       "      <th>mod_sig_ter_dv</th>\n",
       "      <th>mod_sig_pos_dv</th>\n",
       "      <th>mod_fa1_dv</th>\n",
       "      <th>mod_fa2_dv</th>\n",
       "      <th>mod_fred_dv</th>\n",
       "      <th>modshiftval1_dv</th>\n",
       "      <th>modshiftval2_dv</th>\n",
       "      <th>modshiftval3_dv</th>\n",
       "      <th>...</th>\n",
       "      <th>BLS_i2_1_0</th>\n",
       "      <th>BLS_deltaChi2_1_0</th>\n",
       "      <th>BLS_fraconenight_1_0</th>\n",
       "      <th>BLS_Npointsintransit_1_0</th>\n",
       "      <th>BLS_Ntransits_1_0</th>\n",
       "      <th>BLS_Npointsbeforetransit_1_0</th>\n",
       "      <th>BLS_Npointsaftertransit_1_0</th>\n",
       "      <th>BLS_Rednoise_1_0</th>\n",
       "      <th>BLS_Whitenoise_1_0</th>\n",
       "      <th>BLS_SignaltoPinknoise_1_0</th>\n",
       "    </tr>\n",
       "  </thead>\n",
       "  <tbody>\n",
       "    <tr>\n",
       "      <th>0</th>\n",
       "      <td>0.00040</td>\n",
       "      <td>-11.999802</td>\n",
       "      <td>0.000185</td>\n",
       "      <td>-0.000369</td>\n",
       "      <td>3.091579</td>\n",
       "      <td>2.879592</td>\n",
       "      <td>1.102101</td>\n",
       "      <td>-3.091216</td>\n",
       "      <td>-2.879377</td>\n",
       "      <td>-2.878823</td>\n",
       "      <td>...</td>\n",
       "      <td>0.89199</td>\n",
       "      <td>-0.00001</td>\n",
       "      <td>0.59813</td>\n",
       "      <td>70.0</td>\n",
       "      <td>2.0</td>\n",
       "      <td>69.0</td>\n",
       "      <td>70.0</td>\n",
       "      <td>0.00007</td>\n",
       "      <td>0.00031</td>\n",
       "      <td>6.45979</td>\n",
       "    </tr>\n",
       "    <tr>\n",
       "      <th>1</th>\n",
       "      <td>0.00024</td>\n",
       "      <td>-11.999760</td>\n",
       "      <td>0.000211</td>\n",
       "      <td>-0.000126</td>\n",
       "      <td>2.896455</td>\n",
       "      <td>2.671643</td>\n",
       "      <td>1.115170</td>\n",
       "      <td>-2.896240</td>\n",
       "      <td>-2.671614</td>\n",
       "      <td>-2.671277</td>\n",
       "      <td>...</td>\n",
       "      <td>0.99751</td>\n",
       "      <td>-0.00001</td>\n",
       "      <td>0.30359</td>\n",
       "      <td>127.0</td>\n",
       "      <td>2.0</td>\n",
       "      <td>132.0</td>\n",
       "      <td>186.0</td>\n",
       "      <td>0.00005</td>\n",
       "      <td>0.00031</td>\n",
       "      <td>5.55725</td>\n",
       "    </tr>\n",
       "    <tr>\n",
       "      <th>2</th>\n",
       "      <td>0.00041</td>\n",
       "      <td>-11.999778</td>\n",
       "      <td>0.000201</td>\n",
       "      <td>-0.000233</td>\n",
       "      <td>3.236829</td>\n",
       "      <td>2.908991</td>\n",
       "      <td>1.140020</td>\n",
       "      <td>-3.236469</td>\n",
       "      <td>-2.908782</td>\n",
       "      <td>-2.908347</td>\n",
       "      <td>...</td>\n",
       "      <td>0.31310</td>\n",
       "      <td>-0.00001</td>\n",
       "      <td>0.48785</td>\n",
       "      <td>77.0</td>\n",
       "      <td>3.0</td>\n",
       "      <td>73.0</td>\n",
       "      <td>71.0</td>\n",
       "      <td>0.00006</td>\n",
       "      <td>0.00032</td>\n",
       "      <td>7.94170</td>\n",
       "    </tr>\n",
       "    <tr>\n",
       "      <th>3</th>\n",
       "      <td>0.00028</td>\n",
       "      <td>-11.999878</td>\n",
       "      <td>0.000096</td>\n",
       "      <td>-0.000201</td>\n",
       "      <td>2.956968</td>\n",
       "      <td>2.294747</td>\n",
       "      <td>1.035927</td>\n",
       "      <td>-2.956698</td>\n",
       "      <td>-2.294563</td>\n",
       "      <td>-2.294266</td>\n",
       "      <td>...</td>\n",
       "      <td>0.29662</td>\n",
       "      <td>-0.00001</td>\n",
       "      <td>0.17703</td>\n",
       "      <td>119.0</td>\n",
       "      <td>7.0</td>\n",
       "      <td>122.0</td>\n",
       "      <td>121.0</td>\n",
       "      <td>0.00009</td>\n",
       "      <td>0.00033</td>\n",
       "      <td>6.32951</td>\n",
       "    </tr>\n",
       "    <tr>\n",
       "      <th>4</th>\n",
       "      <td>0.00054</td>\n",
       "      <td>-11.999830</td>\n",
       "      <td>0.000157</td>\n",
       "      <td>-0.000259</td>\n",
       "      <td>3.327621</td>\n",
       "      <td>3.129369</td>\n",
       "      <td>0.940060</td>\n",
       "      <td>-3.327046</td>\n",
       "      <td>-3.128986</td>\n",
       "      <td>-3.128570</td>\n",
       "      <td>...</td>\n",
       "      <td>0.52992</td>\n",
       "      <td>-0.00001</td>\n",
       "      <td>0.61526</td>\n",
       "      <td>29.0</td>\n",
       "      <td>2.0</td>\n",
       "      <td>30.0</td>\n",
       "      <td>31.0</td>\n",
       "      <td>0.00012</td>\n",
       "      <td>0.00033</td>\n",
       "      <td>5.09551</td>\n",
       "    </tr>\n",
       "  </tbody>\n",
       "</table>\n",
       "<p>5 rows × 35 columns</p>\n",
       "</div>"
      ],
      "text/plain": [
       "   mod_sig_pri_dv  mod_sig_sec_dv  mod_sig_ter_dv  mod_sig_pos_dv  mod_fa1_dv  \\\n",
       "0         0.00040      -11.999802        0.000185       -0.000369    3.091579   \n",
       "1         0.00024      -11.999760        0.000211       -0.000126    2.896455   \n",
       "2         0.00041      -11.999778        0.000201       -0.000233    3.236829   \n",
       "3         0.00028      -11.999878        0.000096       -0.000201    2.956968   \n",
       "4         0.00054      -11.999830        0.000157       -0.000259    3.327621   \n",
       "\n",
       "   mod_fa2_dv  mod_fred_dv  modshiftval1_dv  modshiftval2_dv  modshiftval3_dv  \\\n",
       "0    2.879592     1.102101        -3.091216        -2.879377        -2.878823   \n",
       "1    2.671643     1.115170        -2.896240        -2.671614        -2.671277   \n",
       "2    2.908991     1.140020        -3.236469        -2.908782        -2.908347   \n",
       "3    2.294747     1.035927        -2.956698        -2.294563        -2.294266   \n",
       "4    3.129369     0.940060        -3.327046        -3.128986        -3.128570   \n",
       "\n",
       "             ...              BLS_i2_1_0  BLS_deltaChi2_1_0  \\\n",
       "0            ...                 0.89199           -0.00001   \n",
       "1            ...                 0.99751           -0.00001   \n",
       "2            ...                 0.31310           -0.00001   \n",
       "3            ...                 0.29662           -0.00001   \n",
       "4            ...                 0.52992           -0.00001   \n",
       "\n",
       "   BLS_fraconenight_1_0  BLS_Npointsintransit_1_0  BLS_Ntransits_1_0  \\\n",
       "0               0.59813                      70.0                2.0   \n",
       "1               0.30359                     127.0                2.0   \n",
       "2               0.48785                      77.0                3.0   \n",
       "3               0.17703                     119.0                7.0   \n",
       "4               0.61526                      29.0                2.0   \n",
       "\n",
       "   BLS_Npointsbeforetransit_1_0  BLS_Npointsaftertransit_1_0  \\\n",
       "0                          69.0                         70.0   \n",
       "1                         132.0                        186.0   \n",
       "2                          73.0                         71.0   \n",
       "3                         122.0                        121.0   \n",
       "4                          30.0                         31.0   \n",
       "\n",
       "   BLS_Rednoise_1_0  BLS_Whitenoise_1_0  BLS_SignaltoPinknoise_1_0  \n",
       "0           0.00007             0.00031                    6.45979  \n",
       "1           0.00005             0.00031                    5.55725  \n",
       "2           0.00006             0.00032                    7.94170  \n",
       "3           0.00009             0.00033                    6.32951  \n",
       "4           0.00012             0.00033                    5.09551  \n",
       "\n",
       "[5 rows x 35 columns]"
      ]
     },
     "execution_count": 61,
     "metadata": {},
     "output_type": "execute_result"
    }
   ],
   "source": [
    "#print condensed_inv_Data[2804:2810, : ]\n",
    "condensed_inv_Data_frame = pd.DataFrame(condensed_inv_Data, columns= col_names)\n",
    "condensed_inv_Data_frame.to_csv(\"../Data/Inverted_feat_files_fixed_detrended.csv\")\n",
    "condensed_inv_Data_frame.head()"
   ]
  },
  {
   "cell_type": "code",
   "execution_count": null,
   "metadata": {
    "collapsed": true
   },
   "outputs": [],
   "source": [
    "#should not be doing it this way\n",
    "inv_filenames = os.listdir(\"../nhussain_scripts/InvModShiftVals/\")#[:15000]\n",
    "inv_filenames_fixed = [x for x in inv_filenames if \"fixed\" in x][:15000]\n",
    "total_data_inv = np.empty(shape=[0, len(col_names)])\n",
    "for name in inv_filenames_fixed:\n",
    "    try:\n",
    "        data = np.loadtxt(\"InvModShiftVals/\" + name).reshape(1, len(col_names))\n",
    "        total_data_inv = np.append(total_data_inv, data, axis =0)\n",
    "\n",
    "    except:\n",
    "        continue\n",
    "    #print data.shape\n",
    "    #break\n",
    "print total_data_inv.shape\n",
    "total_data_inv_frame = pd.DataFrame(total_data_inv, columns=col_names)\n",
    "total_data_inv_frame.hist(\"BLS_Period_1_0\")\n",
    "print total_data_inv_frame.shape\n",
    "#total_data_inv_frame.to_csv(\"Inverted_feat_files_fixed.csv\")"
   ]
  }
 ],
 "metadata": {
  "anaconda-cloud": {},
  "kernelspec": {
   "display_name": "Python [conda root]",
   "language": "python",
   "name": "conda-root-py"
  },
  "language_info": {
   "codemirror_mode": {
    "name": "ipython",
    "version": 2
   },
   "file_extension": ".py",
   "mimetype": "text/x-python",
   "name": "python",
   "nbconvert_exporter": "python",
   "pygments_lexer": "ipython2",
   "version": "2.7.12"
  }
 },
 "nbformat": 4,
 "nbformat_minor": 1
}
