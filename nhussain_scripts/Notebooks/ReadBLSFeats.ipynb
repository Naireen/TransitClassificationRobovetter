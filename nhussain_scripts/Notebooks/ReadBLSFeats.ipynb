{
 "cells": [
  {
   "cell_type": "code",
   "execution_count": 1,
   "metadata": {
    "collapsed": false
   },
   "outputs": [
    {
     "name": "stderr",
     "output_type": "stream",
     "text": [
      "/home/xuhuang/anaconda2/lib/python2.7/site-packages/sklearn/cross_validation.py:44: DeprecationWarning: This module was deprecated in version 0.18 in favor of the model_selection module into which all the refactored classes and functions are moved. Also note that the interface of the new CV iterators are different from that of this module. This module will be removed in 0.20.\n",
      "  \"This module will be removed in 0.20.\", DeprecationWarning)\n"
     ]
    }
   ],
   "source": [
    "#readFeats\n",
    "import numpy as np\n",
    "import pandas as pd\n",
    "import sklearn\n",
    "import matplotlib \n",
    "from matplotlib import pyplot as plt\n",
    "%matplotlib inline\n",
    "import os\n",
    "from sklearn.utils import shuffle\n",
    "import xgboost as xgb\n",
    "from xgboost import XGBClassifier\n",
    "from sklearn.model_selection import train_test_split\n",
    "from sklearn import metrics\n",
    "from sklearn.model_selection import cross_val_score\n"
   ]
  },
  {
   "cell_type": "code",
   "execution_count": 2,
   "metadata": {
    "collapsed": false
   },
   "outputs": [
    {
     "data": {
      "text/plain": [
       "['10853667-4_inj_feats.txt',\n",
       " '10853667-6_inj_feats.txt',\n",
       " '10853667-8_inj_feats.txt',\n",
       " '10000198-1_inj_feats.txt',\n",
       " '10853667-7_inj_feats.txt']"
      ]
     },
     "execution_count": 2,
     "metadata": {},
     "output_type": "execute_result"
    }
   ],
   "source": [
    "file_list = os.listdir(\"../nhussain_scripts/InjModShiftVals/\")[:10000]\n",
    "file_list[:5]"
   ]
  },
  {
   "cell_type": "code",
   "execution_count": 3,
   "metadata": {
    "collapsed": false
   },
   "outputs": [
    {
     "data": {
      "text/plain": [
       "(10000, 35)"
      ]
     },
     "execution_count": 3,
     "metadata": {},
     "output_type": "execute_result"
    }
   ],
   "source": [
    "col_names = [\"mod_sig_pri_dv\", \"mod_sig_sec_dv\",\"mod_sig_ter_dv\",\n",
    "             \"mod_sig_pos_dv\", \"mod_fa1_dv\",\"mod_fa2_dv\", \"mod_fred_dv\",\n",
    "             \"modshiftval1_dv\", \"modshiftval2_dv\", \"modshiftval3_dv\",\n",
    "             \"modshiftval4_dv\", \"modshiftval5_dv\", \"modshiftval6_dv\", \n",
    "             \"white_noise\", \"red_noise\", \"BLS_Period_1_0\", \"BLS_Tc_1_0\",\n",
    "             \"BLS_SN_1_0\", \"BLS_SR_1_0\", \"BLS_SDE_1_0\", \"BLS_Depth_1_0\",\n",
    "             \"BLS_Qtran_1_0\", \"BLS_Qingress_1_0\", \"BLS_OOTmag_1_0\",\n",
    "             \"BLS_i1_1_0\", \"BLS_i2_1_0\", \"BLS_deltaChi2_1_0\", \n",
    "             \"BLS_fraconenight_1_0\", \"BLS_Npointsintransit_1_0\",\n",
    "             \"BLS_Ntransits_1_0\", \"BLS_Npointsbeforetransit_1_0\", \n",
    "             \"BLS_Npointsaftertransit_1_0\", \"BLS_Rednoise_1_0\",\n",
    "             \"BLS_Whitenoise_1_0\", \"BLS_SignaltoPinknoise_1_0\"] \n",
    "\n",
    "total_data = np.empty(shape=[0, len(col_names)])\n",
    "\n",
    "for name in file_list:\n",
    "    data = np.loadtxt(\"InjModShiftVals/\" + name).reshape(1, len(col_names))\n",
    "    #print data.shape\n",
    "    total_data = np.append(total_data, data, axis =0)\n",
    "    #break\n",
    "total_data.shape\n"
   ]
  },
  {
   "cell_type": "code",
   "execution_count": 4,
   "metadata": {
    "collapsed": false
   },
   "outputs": [],
   "source": [
    "total_data_frame = pd.DataFrame(total_data, columns=col_names)"
   ]
  },
  {
   "cell_type": "code",
   "execution_count": 26,
   "metadata": {
    "collapsed": false
   },
   "outputs": [
    {
     "name": "stdout",
     "output_type": "stream",
     "text": [
      "745\n",
      "[ 2.  2.  2. ...,  2.  2.  2.]\n",
      "9255\n"
     ]
    }
   ],
   "source": [
    "yvals = np.loadtxt(\"SNR_10000_corrected.txt\")[:10000]\n",
    "true_trans = (yvals>6).astype(int) \n",
    "print len(np.where(true_trans==0)[0])\n",
    "object_label = np.ones_like(yvals)\n",
    "object_label[true_trans==1] =2 # labeled transits =2, ignored transits = 1\n",
    "print object_label\n",
    "print len(np.where(object_label==2)[0])"
   ]
  },
  {
   "cell_type": "code",
   "execution_count": 27,
   "metadata": {
    "collapsed": false
   },
   "outputs": [],
   "source": [
    "inv_filenames = os.listdir(\"../nhussain_scripts/InvModShiftVals/\")[:15000]"
   ]
  },
  {
   "cell_type": "code",
   "execution_count": 28,
   "metadata": {
    "collapsed": false
   },
   "outputs": [
    {
     "data": {
      "text/plain": [
       "(15000, 35)"
      ]
     },
     "execution_count": 28,
     "metadata": {},
     "output_type": "execute_result"
    }
   ],
   "source": [
    "total_data_inv = np.empty(shape=[0, len(col_names)])\n",
    "for name in inv_filenames:\n",
    "    try:\n",
    "        data = np.loadtxt(\"InvModShiftVals/\" + name).reshape(1, len(col_names))\n",
    "        total_data_inv = np.append(total_data_inv, data, axis =0)\n",
    "\n",
    "    except:\n",
    "        continue\n",
    "    #print data.shape\n",
    "    #break\n",
    "total_data_inv.shape"
   ]
  },
  {
   "cell_type": "code",
   "execution_count": 29,
   "metadata": {
    "collapsed": true
   },
   "outputs": [],
   "source": [
    "total_data_inv_frame = pd.DataFrame(total_data_inv, columns=col_names)"
   ]
  },
  {
   "cell_type": "code",
   "execution_count": 30,
   "metadata": {
    "collapsed": false
   },
   "outputs": [
    {
     "name": "stdout",
     "output_type": "stream",
     "text": [
      "(15000,) 3.0\n",
      "(25000,)\n"
     ]
    }
   ],
   "source": [
    "inv_labels = np.zeros(total_data_inv.shape[0])\n",
    "inv_labels.fill(3)\n",
    "print inv_labels.shape, inv_labels[2]\n",
    "object_label = np.append(object_label, inv_labels)\n",
    "print object_label.shape # one is a missed transit, 2 is a transit, 3 in an inverted signal"
   ]
  },
  {
   "cell_type": "code",
   "execution_count": 31,
   "metadata": {
    "collapsed": false
   },
   "outputs": [
    {
     "name": "stdout",
     "output_type": "stream",
     "text": [
      "Int64Index([    0,     1,     2,     3,     4,     5,     6,     7,     8,\n",
      "                9,\n",
      "            ...\n",
      "            14990, 14991, 14992, 14993, 14994, 14995, 14996, 14997, 14998,\n",
      "            14999],\n",
      "           dtype='int64', length=25000)\n",
      "(25000, 31)\n",
      "1.0\n",
      "9255\n",
      "15745\n",
      "(25000, 30)\n",
      "(array([12178, 13731, 14890, 16796, 21441, 21591, 22727]), array([7, 7, 7, 7, 7, 7, 7]))\n",
      "(array([12178, 13731, 14890, 16796, 21441, 21591, 22727]), array([10, 10, 10, 10, 10, 10, 10]))\n",
      "(array([], dtype=int64), array([], dtype=int64))\n",
      "['mod_sig_pri_dv' 'mod_sig_sec_dv' 'mod_sig_ter_dv' 'mod_sig_pos_dv'\n",
      " 'mod_fa1_dv' 'mod_fa2_dv' 'mod_fred_dv' 'modshiftval1_dv'\n",
      " 'modshiftval2_dv' 'modshiftval3_dv' 'modshiftval4_dv' 'modshiftval5_dv'\n",
      " 'modshiftval6_dv' 'white_noise' 'red_noise' 'BLS_Period_1_0' 'BLS_SN_1_0'\n",
      " 'BLS_SR_1_0' 'BLS_SDE_1_0' 'BLS_Depth_1_0' 'BLS_Qtran_1_0'\n",
      " 'BLS_Qingress_1_0' 'BLS_i1_1_0' 'BLS_i2_1_0' 'BLS_deltaChi2_1_0'\n",
      " 'BLS_fraconenight_1_0' 'BLS_Ntransits_1_0' 'BLS_Rednoise_1_0'\n",
      " 'BLS_Whitenoise_1_0' 'BLS_SignaltoPinknoise_1_0']\n"
     ]
    }
   ],
   "source": [
    "total_data_frame[\"Y\"] = true_trans\n",
    "zero_lenght = np.zeros(total_data_inv_frame.shape[0])\n",
    "total_data_inv_frame[\"Y\"] = zero_lenght\n",
    "data = pd.concat([total_data_frame, total_data_inv_frame], axis = 0)\n",
    "\n",
    "print data.index\n",
    "\n",
    "\n",
    "del data[\"BLS_Npointsaftertransit_1_0\"]\n",
    "del data[\"BLS_Npointsintransit_1_0\"]\n",
    "del data[\"BLS_Npointsbeforetransit_1_0\"]\n",
    "del data[\"BLS_OOTmag_1_0\"]\n",
    "del data[\"BLS_Tc_1_0\"]\n",
    "\n",
    "print data.shape\n",
    "print data[\"BLS_Ntransits_1_0\"].min()\n",
    "print len(np.where(data[\"Y\"]==1)[0])\n",
    "print len(np.where(data[\"Y\"]==0)[0])\n",
    "labels = data[\"Y\"]\n",
    "del  data[\"Y\"]\n",
    "print data.shape\n",
    "print np.where(data ==np.inf)\n",
    "print np.where(data ==-np.inf)\n",
    "print np.where(data ==np.nan)\n",
    "data = data.replace(np.inf, 0)\n",
    "data = data.replace(-np.inf, 0)\n",
    "print data.columns.values\n"
   ]
  },
  {
   "cell_type": "code",
   "execution_count": 47,
   "metadata": {
    "collapsed": false
   },
   "outputs": [
    {
     "name": "stdout",
     "output_type": "stream",
     "text": [
      "(25000, 30) (25000,)\n",
      "Strong Transits in training 1851\n",
      "Weak Transits in training 149\n",
      "Inverted Signals in training 3000 \n",
      "\n",
      "Strong Transits in testing 7404\n",
      "Weak Signals in testing 596\n",
      "Inverted Signals in testing 12000\n",
      "['mod_sig_pri_dv' 'mod_sig_sec_dv' 'mod_sig_ter_dv' 'mod_sig_pos_dv'\n",
      " 'mod_fa1_dv' 'mod_fa2_dv' 'mod_fred_dv' 'modshiftval1_dv'\n",
      " 'modshiftval2_dv' 'modshiftval3_dv' 'modshiftval4_dv' 'modshiftval5_dv'\n",
      " 'modshiftval6_dv' 'white_noise' 'red_noise' 'BLS_Period_1_0' 'BLS_SN_1_0'\n",
      " 'BLS_SR_1_0' 'BLS_SDE_1_0' 'BLS_Depth_1_0' 'BLS_Qtran_1_0'\n",
      " 'BLS_Qingress_1_0' 'BLS_i1_1_0' 'BLS_i2_1_0' 'BLS_deltaChi2_1_0'\n",
      " 'BLS_fraconenight_1_0' 'BLS_Ntransits_1_0' 'BLS_Rednoise_1_0'\n",
      " 'BLS_Whitenoise_1_0' 'BLS_SignaltoPinknoise_1_0']\n"
     ]
    }
   ],
   "source": [
    "shuffleX, shuffleY , shuffle_labels= shuffle(data, labels, object_label, random_state =0)\n",
    "shuffleX = shuffleX.reset_index(drop = True)\n",
    "shuffleY = shuffleY.reset_index(drop = True)\n",
    "#print shuffleY.head()\n",
    "#shuffle_labels = pd.Series(shuffle_labels)\n",
    "#shuffle_labels = shuffle_labels.reset_index()\n",
    "\n",
    "print shuffleX.shape, shuffleY.shape #, train_label.shape\n",
    "\n",
    "trainX, testX, trainY, testY, train_label, test_label = train_test_split(shuffleX, shuffleY, shuffle_labels, stratify =shuffle_labels, test_size = 0.80,random_state = 0 )\n",
    "\n",
    "#print train_label.shape, test_label.shape\n",
    "print \"Strong Transits in training\" , len(np.where([(trainY==1) & (train_label==2)])[0]) \n",
    "print \"Weak Transits in training\" , len(np.where([(trainY==0) & (train_label==1)])[0]) \n",
    "print \"Inverted Signals in training\" , len(np.where([(trainY==0) & (train_label==3)])[0]) , \"\\n\"\n",
    "print \"Strong Transits in testing\" , len(np.where([(testY==1) & (test_label==2)])[0]) \n",
    "print \"Weak Signals in testing\" , len(np.where([(testY==0) & (test_label==1)])[0]) \n",
    "print \"Inverted Signals in testing\" , len(np.where([(testY==0) & (test_label==3)])[0]) \n",
    "\n",
    "print shuffleX.columns.values"
   ]
  },
  {
   "cell_type": "code",
   "execution_count": null,
   "metadata": {
    "collapsed": false
   },
   "outputs": [],
   "source": []
  },
  {
   "cell_type": "code",
   "execution_count": 48,
   "metadata": {
    "collapsed": false
   },
   "outputs": [],
   "source": [
    "xgbc = XGBClassifier(n_estimators = 300, seed=8, max_depth = 8, colsample_bytree=0.95, subsample=0.85)\n",
    "#xgbc.fit(trainX, trainY)"
   ]
  },
  {
   "cell_type": "code",
   "execution_count": 49,
   "metadata": {
    "collapsed": false
   },
   "outputs": [
    {
     "data": {
      "text/plain": [
       "test-auc-mean     0.977087\n",
       "test-auc-std      0.000872\n",
       "train-auc-mean    0.982928\n",
       "train-auc-std     0.000913\n",
       "dtype: float64"
      ]
     },
     "execution_count": 49,
     "metadata": {},
     "output_type": "execute_result"
    }
   ],
   "source": [
    "# try cross validation\n",
    "xgb_params  = xgbc.get_params()\n",
    "dtrain = xgb.DMatrix(shuffleX, label=shuffleY)\n",
    "scores = xgb.cv(xgb_params, dtrain, metrics=\"auc\", seed=0 ,nfold=5, stratified=True)\n",
    "np.mean(scores)"
   ]
  },
  {
   "cell_type": "code",
   "execution_count": null,
   "metadata": {
    "collapsed": false
   },
   "outputs": [],
   "source": []
  },
  {
   "cell_type": "code",
   "execution_count": 42,
   "metadata": {
    "collapsed": false
   },
   "outputs": [
    {
     "name": "stdout",
     "output_type": "stream",
     "text": [
      "0.962325266974\n",
      "0.96070152647\n",
      "[ 0.0754717   0.03741054  0.05774235  0.0396877   0.05465192  0.02212101\n",
      "  0.0125244   0.06148341  0.02277163  0.00780742  0.00292778  0.04066363\n",
      "  0.01984385  0.00292778  0.03318152  0.04212752  0.03399479  0.0375732\n",
      "  0.01984385  0.05074821  0.00195185  0.02667534  0.06408588  0.04538061\n",
      "  0.04407937  0.00699414  0.04163956  0.00992193  0.02456083  0.01268705\n",
      "  0.04651919]\n"
     ]
    },
    {
     "data": {
      "text/plain": [
       "<matplotlib.axes._subplots.AxesSubplot at 0x7f0c9f2defd0>"
      ]
     },
     "execution_count": 42,
     "metadata": {},
     "output_type": "execute_result"
    },
    {
     "data": {
      "image/png": "[encoded data removed]",
      "text/plain": [
       "<matplotlib.figure.Figure at 0x7f0c9f29eed0>"
      ]
     },
     "metadata": {},
     "output_type": "display_data"
    }
   ],
   "source": [
    "xgbc.fit(trainX, trainY)\n",
    "preds = xgbc.predict(testX)\n",
    "print metrics.average_precision_score(testY, preds)\n",
    "print metrics.f1_score(testY, preds)\n",
    "preds_p = xgbc.predict_proba(testX)[:,1]\n",
    "precis, recall, thresholds = metrics.precision_recall_curve(testY, preds_p, ) \n",
    "#print metrics.auc(fpr, tpr)\n",
    "\n",
    "print xgbc.feature_importances_\n",
    "feat_imp = pd.Series(xgbc.booster().get_fscore()).sort_values(ascending = False)\n",
    "feat_imp.plot(kind = 'bar')"
   ]
  },
  {
   "cell_type": "code",
   "execution_count": 16,
   "metadata": {
    "collapsed": false
   },
   "outputs": [
    {
     "data": {
      "image/png": "[encoded data removed]",
      "text/plain": [
       "<matplotlib.figure.Figure at 0x7f0c9ee7a5d0>"
      ]
     },
     "metadata": {},
     "output_type": "display_data"
    }
   ],
   "source": [
    "plt.plot( recall, precis)\n",
    "plt.ylim=([0,1])\n",
    "plt.xlabel(\"REcall\")\n",
    "plt.ylabel(\"Precision\")\n",
    "plt.title(\"AUC score %f\" % metrics.average_precision_score(testY, preds))\n",
    "plt.show()"
   ]
  },
  {
   "cell_type": "code",
   "execution_count": 17,
   "metadata": {
    "collapsed": false
   },
   "outputs": [
    {
     "data": {
      "text/plain": [
       "'/home/xuhuang/anaconda2/lib/python2.7/site-packages/xgboost/__init__.pyc'"
      ]
     },
     "execution_count": 17,
     "metadata": {},
     "output_type": "execute_result"
    }
   ],
   "source": [
    "import hyperopt\n",
    "from hyperopt import  hp, fmin, tpe, STATUS_OK, Trials\n",
    "xgb.__file__"
   ]
  },
  {
   "cell_type": "code",
   "execution_count": 18,
   "metadata": {
    "collapsed": false
   },
   "outputs": [],
   "source": [
    "space ={\n",
    "        'max_depth': hp.quniform('x_max_depth', 1, 20,1),\n",
    "        'min_child_weight': hp.quniform ('x_min_child', 1, 20, 1),\n",
    "        'subsample': hp.uniform ('x_subsample', 0.7, 1),\n",
    "        'colsample_bytree': hp.uniform ('x_tree_colsample', 0.7,1),\n",
    "        'learning_rate': hp.uniform ('x_learning_rate', 0.001, 0.1)\n",
    "}\n"
   ]
  },
  {
   "cell_type": "code",
   "execution_count": 19,
   "metadata": {
    "collapsed": true
   },
   "outputs": [],
   "source": [
    "#implemented with xgb cv\n",
    "\n",
    "def objective4(space3):\n",
    "\n",
    "    clf = XGBClassifier(n_estimators = 500, \n",
    "                            max_depth = space3['max_depth'], \n",
    "                            min_child_weight =space3['min_child_weight'],\n",
    "                            subsample = space3['subsample'],\n",
    "                            colsample_bytree =space3['colsample_bytree'],\n",
    "                            learning_rate = space3['learning_rate'])\n",
    "    start = time.time()\n",
    "    cv_result = xgb.cv(clf.get_xgb_params(),dtrain, num_boost_round=50, nfold=5, metrics='auc', early_stopping_rounds=5 )\n",
    "    end = time.time()\n",
    "    #score = cross_val_score(clf, trainX, trainY, cv = 5, scoring=\"average_precision\")\n",
    "    score =  cv_result.iloc[-1][\"test-auc-mean\"]\n",
    "    score_std =  cv_result.iloc[-1][\"test-auc-std\"]\n",
    "    print (\"SCORE %f, in : %f s:\" % (score, (end-start)))\n",
    "\n",
    "    return{'loss':1-score, 'status': STATUS_OK, \"cv_score\":score, \"test_avg\": score_std }\n"
   ]
  },
  {
   "cell_type": "code",
   "execution_count": 20,
   "metadata": {
    "collapsed": false,
    "scrolled": true
   },
   "outputs": [
    {
     "name": "stdout",
     "output_type": "stream",
     "text": [
      "SCORE 0.981775, in : 1.996164 s:\n",
      "SCORE 0.981376, in : 2.615103 s:\n",
      "SCORE 0.981925, in : 9.442953 s:\n",
      "SCORE 0.981213, in : 3.471376 s:\n",
      "SCORE 0.981587, in : 3.395648 s:\n",
      "SCORE 0.982069, in : 6.098662 s:\n",
      "SCORE 0.981561, in : 2.179871 s:\n",
      "SCORE 0.982075, in : 8.805900 s:\n",
      "SCORE 0.981544, in : 2.033367 s:\n",
      "SCORE 0.981702, in : 2.772571 s:\n",
      "SCORE 0.980470, in : 1.217991 s:\n",
      "SCORE 0.981111, in : 2.141726 s:\n",
      "SCORE 0.981217, in : 9.081353 s:\n",
      "SCORE 0.980659, in : 1.452645 s:\n",
      "SCORE 0.981467, in : 2.124759 s:\n",
      "SCORE 0.981319, in : 1.801364 s:\n",
      "SCORE 0.981108, in : 1.810310 s:\n",
      "SCORE 0.981142, in : 2.908367 s:\n",
      "SCORE 0.980844, in : 2.787410 s:\n",
      "SCORE 0.980903, in : 2.637302 s:\n",
      "SCORE 0.981516, in : 1.610411 s:\n",
      "SCORE 0.981538, in : 2.727510 s:\n",
      "SCORE 0.981455, in : 2.318108 s:\n",
      "SCORE 0.981506, in : 1.503200 s:\n",
      "SCORE 0.981535, in : 3.170987 s:\n",
      "SCORE 0.981567, in : 5.918131 s:\n",
      "SCORE 0.980996, in : 2.332400 s:\n",
      "SCORE 0.982296, in : 5.488578 s:\n",
      "SCORE 0.981679, in : 2.290241 s:\n",
      "SCORE 0.981819, in : 2.147970 s:\n",
      "SCORE 0.981144, in : 2.846304 s:\n",
      "SCORE 0.981455, in : 1.791526 s:\n",
      "SCORE 0.981395, in : 1.969852 s:\n",
      "SCORE 0.981706, in : 5.918978 s:\n",
      "SCORE 0.981639, in : 2.335769 s:\n",
      "SCORE 0.981280, in : 2.730344 s:\n",
      "SCORE 0.981741, in : 2.035958 s:\n",
      "SCORE 0.981552, in : 1.861493 s:\n",
      "SCORE 0.981368, in : 3.327417 s:\n",
      "SCORE 0.981351, in : 2.204118 s:\n",
      "SCORE 0.981426, in : 3.488482 s:\n",
      "SCORE 0.980036, in : 0.659997 s:\n",
      "SCORE 0.981370, in : 2.269310 s:\n",
      "SCORE 0.981403, in : 4.023968 s:\n",
      "SCORE 0.981393, in : 3.835252 s:\n",
      "SCORE 0.981472, in : 9.687444 s:\n",
      "SCORE 0.981462, in : 2.111014 s:\n",
      "SCORE 0.981162, in : 4.963865 s:\n",
      "SCORE 0.981546, in : 1.910832 s:\n",
      "SCORE 0.981965, in : 4.743196 s:\n",
      "('Optimization Time: %f seconds', 165.43368005752563)\n"
     ]
    }
   ],
   "source": [
    "trials4= Trials()\n",
    "import time\n",
    "start = time.time()\n",
    "best4 = fmin(fn=objective4, space = space, algo = tpe.suggest, max_evals = 50, trials = trials4)\n",
    "end = time.time()\n",
    "print(\"Optimization Time: %f seconds\", (end  -start))"
   ]
  },
  {
   "cell_type": "code",
   "execution_count": 21,
   "metadata": {
    "collapsed": false
   },
   "outputs": [
    {
     "name": "stdout",
     "output_type": "stream",
     "text": [
      "{'x_min_child': 13.0, 'x_tree_colsample': 0.7829184980779225, 'x_max_depth': 20.0, 'x_subsample': 0.7849939872988385, 'x_learning_rate': 0.04083576352908885}\n"
     ]
    }
   ],
   "source": [
    "print best4\n",
    "#parameters determined with 10000 injected signals, and 15000 inverted signals\n",
    "#{'x_min_child': 6.0, 'x_tree_colsample': 0.7354020408903529, 'x_max_depth': 14.0, 'x_subsample': 0.9234005631737567, 'x_learning_rate': 0.0010610314208362149}"
   ]
  },
  {
   "cell_type": "code",
   "execution_count": 50,
   "metadata": {
    "collapsed": false
   },
   "outputs": [
    {
     "name": "stdout",
     "output_type": "stream",
     "text": [
      "0.976290790135\n",
      "0.925281391032\n",
      "0.961308750974\n"
     ]
    }
   ],
   "source": [
    "#try testing on the holdout set with ALL of the selected parameters\n",
    "test_best = XGBClassifier(seed = 0, min_child_weight=best4[\"x_min_child\"],\n",
    "                         max_depth = int(best4[\"x_max_depth\"]),\n",
    "                         subsample = best4[\"x_subsample\"],\n",
    "                         colsample_bytree = best4[\"x_tree_colsample\"],\n",
    "                         learning_rate = best4[\"x_learning_rate\"], \n",
    "                         n_estimators = 100)\n",
    "#print trainX.shape, trainY.shape, testX.shape, testY.shape\n",
    "test_best.fit(trainX, trainY)\n",
    "preds = test_best.predict_proba(testX)[:,1]\n",
    "auc_Score = metrics.roc_auc_score(testY,preds)\n",
    "print auc_Score\n",
    "#print metrics.precision_recall_(testY, preds)\n",
    "print metrics.average_precision_score(testY, preds)\n",
    "preds = test_best.predict(testX)\n",
    "print metrics.f1_score(testY, preds)"
   ]
  },
  {
   "cell_type": "code",
   "execution_count": 61,
   "metadata": {
    "collapsed": false,
    "scrolled": false
   },
   "outputs": [
    {
     "data": {
      "text/plain": [
       "<matplotlib.axes._subplots.AxesSubplot at 0x7f0c93cbb4d0>"
      ]
     },
     "execution_count": 61,
     "metadata": {},
     "output_type": "execute_result"
    },
    {
     "data": {
      "image/png": "[encoded data removed]",
      "text/plain": [
       "<matplotlib.figure.Figure at 0x7f0c9f2f1050>"
      ]
     },
     "metadata": {},
     "output_type": "display_data"
    }
   ],
   "source": [
    "#feautres plot\n",
    "#test_best= XGBClassifier(seed = 0, n_estimators = 100, min_child = best4[\"x_min_child\"])\n",
    "feat_impo = pd.Series(test_best.booster().get_fscore()  ).sort_values(ascending = False)# .feature_importances_\n",
    "sum_vals =  np.sum(feat_impo.values)\n",
    "\n",
    "feat_impo.plot(kind = \"bar\", figsize = (12, 8), title = \"Feature Importances\")"
   ]
  },
  {
   "cell_type": "code",
   "execution_count": null,
   "metadata": {
    "collapsed": false
   },
   "outputs": [],
   "source": [
    "#drop the last five, since they contribute very little, and see how the performance is\n",
    "feat_impo_trimmed = feat_impo[:-5].index\n",
    "print feat_impo_trimmed\n",
    "reduced_feat = trainX[feat_impo_trimmed]\n",
    "print reduced_feat.shape"
   ]
  },
  {
   "cell_type": "code",
   "execution_count": null,
   "metadata": {
    "collapsed": false
   },
   "outputs": [],
   "source": [
    "test_best.fit(reduced_feat, trainY)\n",
    "reduced_test = testX[feat_impo_trimmed]\n",
    "preds = test_best.predict(reduced_test)\n",
    "score = metrics.roc_auc_score(testY, preds)\n",
    "print score"
   ]
  },
  {
   "cell_type": "code",
   "execution_count": 25,
   "metadata": {
    "collapsed": false
   },
   "outputs": [
    {
     "name": "stdout",
     "output_type": "stream",
     "text": [
      "618 0\n",
      "Precision 0.937575757576\n",
      "Recall 1.0\n",
      "ROC 0.980023273856\n",
      "Inverted 14850\n",
      "Strong Transit 9282\n",
      "Weak transit  618 \n",
      "\n",
      "Num of false positive inverted,  and false_negative strong sig, false positive weak sig\n",
      "0 0 618\n",
      "Inverted Percent False Positive Rate 0.0\n",
      "Strong Transit False Negative Rate? 0.0\n",
      "Weak transit False Positive Rate 1.0\n"
     ]
    }
   ],
   "source": [
    "#try determine  things like false positive rate\n",
    "false_positives = len(np.where([(preds==1) & (testY==0)])[0])\n",
    "false_negatives = len(np.where([(preds==0) & (testY==1)])[0])\n",
    "print false_positives, false_negatives\n",
    "print \"Precision\", metrics.precision_score(testY, preds)\n",
    "print \"Recall\", metrics.recall_score(testY, preds)\n",
    "print \"ROC\" , metrics.roc_auc_score(testY, preds)\n",
    "#print len(preds)\n",
    "\n",
    "false_positive_inverted  = len(np.where([(preds==1) & (testY==0) & (test_label==3)])[0])\n",
    "false_positive_weak_sig  = len(np.where([(preds==1) & (testY==0) & (test_label==1)])[0])\n",
    "false_negative_strong_sig  = len(np.where([(preds==0) & (testY==1) & (test_label==2)])[0])\n",
    "\n",
    "#how many weak, and strong signals and inverted in test sample?\n",
    "print \"Inverted\", len(np.where([(testY==0) & (test_label==3)])[0])\n",
    "print \"Strong Transit\", len(np.where([(testY==1) & (test_label==2)])[0])\n",
    "print \"Weak transit \", len(np.where([(testY==0) & (test_label==1)])[0]) ,\"\\n\"\n",
    "\n",
    "print \"Num of false positive inverted,  and false_negative strong sig, false positive weak sig\"\n",
    "print false_positive_inverted,  false_negative_strong_sig, false_positive_weak_sig\n",
    "\n",
    "\n",
    "#how many weak, and strong signals and inverted in test sample?\n",
    "print \"Inverted Percent False Positive Rate\", float(false_positive_inverted) / len(np.where([(testY==0) & (test_label==3)])[0])\n",
    "print \"Strong Transit False Negative Rate?\", float(false_negative_strong_sig) / len(np.where([(testY==1) & (test_label==2)])[0])\n",
    "print \"Weak transit False Positive Rate\", float(false_positive_weak_sig) / len(np.where([(testY==0) & (test_label==1)])[0])"
   ]
  },
  {
   "cell_type": "code",
   "execution_count": null,
   "metadata": {
    "collapsed": true
   },
   "outputs": [],
   "source": []
  }
 ],
 "metadata": {
  "anaconda-cloud": {},
  "kernelspec": {
   "display_name": "Python [conda root]",
   "language": "python",
   "name": "conda-root-py"
  },
  "language_info": {
   "codemirror_mode": {
    "name": "ipython",
    "version": 2
   },
   "file_extension": ".py",
   "mimetype": "text/x-python",
   "name": "python",
   "nbconvert_exporter": "python",
   "pygments_lexer": "ipython2",
   "version": "2.7.12"
  }
 },
 "nbformat": 4,
 "nbformat_minor": 1
}
