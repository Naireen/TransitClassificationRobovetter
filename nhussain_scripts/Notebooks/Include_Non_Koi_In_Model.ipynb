{
 "cells": [
  {
   "cell_type": "code",
   "execution_count": 63,
   "metadata": {
    "collapsed": false
   },
   "outputs": [
    {
     "data": {
      "text/plain": [
       "'/home/xuhuang/anaconda2/lib/python2.7/site-packages/xgboost/__init__.pyc'"
      ]
     },
     "execution_count": 63,
     "metadata": {},
     "output_type": "execute_result"
    }
   ],
   "source": [
    "#readFeats\n",
    "import numpy as np\n",
    "import pandas as pd\n",
    "import sklearn\n",
    "import matplotlib \n",
    "from matplotlib import pyplot as plt\n",
    "%matplotlib inline\n",
    "import os\n",
    "from sklearn.utils import shuffle\n",
    "import xgboost as xgb\n",
    "from xgboost import XGBClassifier\n",
    "from sklearn.model_selection import train_test_split\n",
    "from sklearn import metrics\n",
    "from sklearn.model_selection import cross_val_score\n",
    "from sklearn.ensemble import RandomForestClassifier\n",
    "import hyperopt\n",
    "from hyperopt import  hp, fmin, tpe, STATUS_OK, Trials\n",
    "import time\n",
    "xgb.__file__\n"
   ]
  },
  {
   "cell_type": "code",
   "execution_count": 64,
   "metadata": {
    "collapsed": false
   },
   "outputs": [],
   "source": [
    "inj = pd.read_csv(\"../Data/Injected_feat_files_10000_fixed.csv\", index_col=0)\n",
    "inv = pd.read_csv(\"../Data/Inverted_feat_files_fixed_detrended.csv\", index_col=0)\n",
    "inj_periods = np.loadtxt(\"../../Training/simulation/injection/injection.txt\", dtype= str, delimiter=\",\")[:10000, 3].astype(\"float64\")\n",
    "inj_SNR = np.loadtxt(\"../Data/SNR_10000_corrected.txt\")[:10000]\n",
    "inj_tol = np.loadtxt(\"../Data/period_harmonics_10000_inj_signals_tol_5x5.txt\")\n",
    "\n",
    "#kois\n",
    "#koi = pd.read_csv(\"../Data/KOI_feat_files_4251_fixed_ordered.csv\", index_col=0)\n",
    "#koi_tol = np.loadtxt(\"../Data/period_harmonics_4251_koi_signals_tol_5x5_ordered.txt\")\n",
    "#koi_SNR = np.loadtxt(\"../Data/SNR_feats_KOIS_4251_fixed.txt\")\n",
    "#koi_periods = np.loadtxt(\"../Data/koi_periods.txt\")\n",
    "\n",
    "koi = pd.read_csv(\"../Data/KOI_feat_files_3080_fixed_ordered_try2.csv\", index_col =0 )\n",
    "koi_tol = np.loadtxt(\"../Data/period_harmonics_3080_koi_signals_tol_5x5_ordered_try2.txt\")\n",
    "koi_SNR = np.loadtxt(\"../Data/SNR_feats_KOIS_3080_fixed_try2.txt\")\n",
    "koi_periods = np.loadtxt(\"../Data/koi_periods_try2.txt\")\n",
    "\n",
    "#non pimary koi\n",
    "non_koi = pd.read_csv(\"../Data/KOI_non_prim_feat_files_20000_new_detrending.csv\", index_col=0)[4000:5000]\n",
    "test_non_kois = pd.read_csv(\"../Data/KOI_non_prim_feat_files_20000_new_detrending.csv\", index_col=0)[5000:15000]"
   ]
  },
  {
   "cell_type": "code",
   "execution_count": 65,
   "metadata": {
    "collapsed": false
   },
   "outputs": [
    {
     "name": "stdout",
     "output_type": "stream",
     "text": [
      "Tolerance Cut 9565\n",
      "SNR Cut 9255\n",
      "Retained Transits 6215\n",
      "[913 914 915 916 917 918 919 920 921 922 923 924]\n",
      "Retained Transits 690 from 3080\n"
     ]
    },
    {
     "data": {
      "text/html": [
       "<div>\n",
       "<table border=\"1\" class=\"dataframe\">\n",
       "  <thead>\n",
       "    <tr style=\"text-align: right;\">\n",
       "      <th></th>\n",
       "      <th>mod_sig_pri_dv</th>\n",
       "      <th>mod_sig_sec_dv</th>\n",
       "      <th>mod_sig_ter_dv</th>\n",
       "      <th>mod_sig_pos_dv</th>\n",
       "      <th>mod_fa1_dv</th>\n",
       "      <th>mod_fa2_dv</th>\n",
       "      <th>mod_fred_dv</th>\n",
       "      <th>modshiftval1_dv</th>\n",
       "      <th>modshiftval2_dv</th>\n",
       "      <th>modshiftval3_dv</th>\n",
       "      <th>...</th>\n",
       "      <th>BLS_Qtran_1_0</th>\n",
       "      <th>BLS_Qingress_1_0</th>\n",
       "      <th>BLS_i1_1_0</th>\n",
       "      <th>BLS_i2_1_0</th>\n",
       "      <th>BLS_deltaChi2_1_0</th>\n",
       "      <th>BLS_fraconenight_1_0</th>\n",
       "      <th>BLS_Ntransits_1_0</th>\n",
       "      <th>BLS_Rednoise_1_0</th>\n",
       "      <th>BLS_Whitenoise_1_0</th>\n",
       "      <th>BLS_SignaltoPinknoise_1_0</th>\n",
       "    </tr>\n",
       "  </thead>\n",
       "  <tbody>\n",
       "    <tr>\n",
       "      <th>0</th>\n",
       "      <td>0.00028</td>\n",
       "      <td>-9.999884</td>\n",
       "      <td>0.000098</td>\n",
       "      <td>-0.000186</td>\n",
       "      <td>2.991073</td>\n",
       "      <td>2.538906</td>\n",
       "      <td>1.040623</td>\n",
       "      <td>-2.990804</td>\n",
       "      <td>-2.538725</td>\n",
       "      <td>-2.53844</td>\n",
       "      <td>...</td>\n",
       "      <td>0.08623</td>\n",
       "      <td>0.18903</td>\n",
       "      <td>0.35772</td>\n",
       "      <td>0.44395</td>\n",
       "      <td>-0.00001</td>\n",
       "      <td>0.31843</td>\n",
       "      <td>4.0</td>\n",
       "      <td>0.00004</td>\n",
       "      <td>0.00031</td>\n",
       "      <td>7.72038</td>\n",
       "    </tr>\n",
       "  </tbody>\n",
       "</table>\n",
       "<p>1 rows × 29 columns</p>\n",
       "</div>"
      ],
      "text/plain": [
       "   mod_sig_pri_dv  mod_sig_sec_dv  mod_sig_ter_dv  mod_sig_pos_dv  mod_fa1_dv  \\\n",
       "0         0.00028       -9.999884        0.000098       -0.000186    2.991073   \n",
       "\n",
       "   mod_fa2_dv  mod_fred_dv  modshiftval1_dv  modshiftval2_dv  modshiftval3_dv  \\\n",
       "0    2.538906     1.040623        -2.990804        -2.538725         -2.53844   \n",
       "\n",
       "             ...              BLS_Qtran_1_0  BLS_Qingress_1_0  BLS_i1_1_0  \\\n",
       "0            ...                    0.08623           0.18903     0.35772   \n",
       "\n",
       "   BLS_i2_1_0  BLS_deltaChi2_1_0  BLS_fraconenight_1_0  BLS_Ntransits_1_0  \\\n",
       "0     0.44395           -0.00001               0.31843                4.0   \n",
       "\n",
       "   BLS_Rednoise_1_0  BLS_Whitenoise_1_0  BLS_SignaltoPinknoise_1_0  \n",
       "0           0.00004             0.00031                    7.72038  \n",
       "\n",
       "[1 rows x 29 columns]"
      ]
     },
     "execution_count": 65,
     "metadata": {},
     "output_type": "execute_result"
    }
   ],
   "source": [
    "#make cuts to inj determine correct y values\n",
    "ped_constraint = 3 # perido cut\n",
    "SNR_cut =6\n",
    "inj_enough_transits = ((26/inj_periods) > ped_constraint).astype(int)\n",
    "inj_low_tol = ((inj_tol[:,0]==1)+(inj_tol[: ,1]==1) + (inj_tol[:,0] == inj_tol[:,1])).astype(int)\n",
    "\n",
    "print \"Tolerance Cut\", len(np.where(inj_low_tol==1)[0])\n",
    "print \"SNR Cut\", len(np.where(inj_SNR>SNR_cut)[0])\n",
    "inj_true_trans = ((inj_SNR>=SNR_cut)*(inj_tol[:,2]<0.002)*(inj_low_tol==1)*(inj_enough_transits)).astype(int)\n",
    "print \"Retained Transits\", len(np.where(inj_true_trans==1)[0])\n",
    "\n",
    "\n",
    "#koi_cuts\n",
    "koi_enough_trans = (26/koi_periods >= ped_constraint).astype(int)\n",
    "koi_low_tol = ((koi_tol[:,0]==1)+(koi_tol[: ,1]==1) + (koi_tol[:,0] == koi_tol[:,1])).astype(int)\n",
    "indices = np.where(koi_SNR[:,0] == 2989404)[0]\n",
    "print indices\n",
    "koi_low_tol[indices] = 1  \n",
    "\n",
    "koi_true_trans = ((koi_SNR[:, -1]>=SNR_cut)* (koi_tol[:,2]<0.002) * (koi_enough_trans==1)).astype(int)\n",
    "print \"Retained Transits\", len(np.where(koi_true_trans==1)[0]), \"from\", koi.shape[0]\n",
    "\n",
    "\n",
    "#append Y values\n",
    "inj[\"Y\"] = inj_true_trans\n",
    "inv[\"Y\"] = np.zeros(inv.shape[0])\n",
    "#koi[\"Y\"] = koi_true_trans\n",
    "non_koi[\"Y\"] = np.zeros(non_koi.shape[0])\n",
    "\n",
    "object_labels = np.hstack([np.ones(inj.shape[0]),np.zeros(inv.shape[0])+2,  np.zeros(non_koi.shape[0])+4])\n",
    "total_signals = pd.concat([inj, inv,  non_koi], axis = 0)\n",
    "\n",
    "\n",
    "#object_labels = np.hstack([np.ones(inj.shape[0]),  np.zeros(non_koi.shape[0])+4])\n",
    "#total_signals = pd.concat([inj,   non_koi], axis = 0)\n",
    "\n",
    "\n",
    "#koi[\"BLS_P\"]\n",
    "# 1 inj , 2 inv, 3 koi, 4 non kois\n",
    "drop_column =  [\"BLS_Npointsaftertransit_1_0\", \"BLS_Npointsintransit_1_0\", \"BLS_Npointsbeforetransit_1_0\",\n",
    "                \"BLS_OOTmag_1_0\", \"BLS_Tc_1_0\", \"BLS_Period_1_0\"]\n",
    "total_signals = total_signals.drop(drop_column, axis = 1)\n",
    "test_non_kois = test_non_kois.drop(drop_column, axis=1)\n",
    "koi = koi.drop(drop_column, axis = 1)\n",
    "labels = total_signals[\"Y\"]\n",
    "del total_signals[\"Y\"]\n",
    "total_signals.head(1)"
   ]
  },
  {
   "cell_type": "code",
   "execution_count": 66,
   "metadata": {
    "collapsed": false
   },
   "outputs": [
    {
     "name": "stdout",
     "output_type": "stream",
     "text": [
      "(26000, 29) (26000,)\n",
      "Strong Transits in training 4979\n",
      "Weak Transits in training 3021\n",
      "Inverted Signals in training 12000\n",
      "Non kois in Training 800 \n",
      "\n",
      "Strong Transits in testing 1236\n",
      "Weak Signals in testing 764\n",
      "Inverted Signals in testing 3000\n",
      "Non kois in Testing 200\n"
     ]
    }
   ],
   "source": [
    "shuffleX, shuffleY , shuffle_labels= shuffle(total_signals, labels, object_labels, random_state =0)\n",
    "shuffleX = shuffleX.reset_index(drop = True)\n",
    "shuffleY = shuffleY.reset_index(drop = True)\n",
    "\n",
    "print shuffleX.shape, shuffleY.shape #, train_label.shape\n",
    "\n",
    "trainX, testX, trainY, testY, train_label, test_label = train_test_split(shuffleX, shuffleY, shuffle_labels, stratify =shuffle_labels, test_size = 0.20,random_state = 0 )\n",
    "\n",
    "print \"Strong Transits in training\" , len(np.where([(trainY==1) & (train_label==1)])[0]) \n",
    "print \"Weak Transits in training\" , len(np.where([(trainY==0) & (train_label==1)])[0]) \n",
    "print \"Inverted Signals in training\" , len(np.where([(trainY==0) & (train_label==2)])[0]) \n",
    "print \"Non kois in Training\", len(np.where([(trainY==0) & (train_label==4)])[0]) ,\"\\n\"\n",
    "print \"Strong Transits in testing\" , len(np.where([(testY==1) & (test_label==1)])[0]) \n",
    "print \"Weak Signals in testing\" , len(np.where([(testY==0) & (test_label==1)])[0]) \n",
    "print \"Inverted Signals in testing\" , len(np.where([(testY==0) & (test_label==2)])[0]) \n",
    "print \"Non kois in Testing\", len(np.where([(testY==0) & (test_label==4)])[0]) \n",
    "#print \"\\n\",shuffleX.columns.values"
   ]
  },
  {
   "cell_type": "code",
   "execution_count": 67,
   "metadata": {
    "collapsed": false
   },
   "outputs": [
    {
     "data": {
      "text/plain": [
       "XGBClassifier(base_score=0.5, colsample_bylevel=1, colsample_bytree=0.9,\n",
       "       gamma=0, learning_rate=0.02, max_delta_step=0, max_depth=20,\n",
       "       min_child_weight=5, missing=None, n_estimators=500, nthread=-1,\n",
       "       objective='binary:logistic', reg_alpha=0, reg_lambda=1,\n",
       "       scale_pos_weight=30, seed=0, silent=True, subsample=0.95)"
      ]
     },
     "execution_count": 67,
     "metadata": {},
     "output_type": "execute_result"
    }
   ],
   "source": [
    "xgbc = XGBClassifier(seed = 0, max_depth=20, min_child_weight=5, subsample=0.95, colsample_bytree=0.9, n_estimators=500, scale_pos_weight=30, learning_rate=0.02 )\n",
    "xgbc.fit(trainX, trainY)"
   ]
  },
  {
   "cell_type": "code",
   "execution_count": 68,
   "metadata": {
    "collapsed": false
   },
   "outputs": [
    {
     "name": "stdout",
     "output_type": "stream",
     "text": [
      "0.983999055061\n",
      "Strong Injections detected 1218 from 1236\n",
      "Weak Injections detected with period cut 24 from 764\n",
      "Inverted Rejected 3000 from 3000\n",
      "NON_KOI_Rejected 198 from 200\n",
      "NON_kois_test_set rejected 9868 from 10000\n"
     ]
    }
   ],
   "source": [
    "preds = xgbc.predict(testX)\n",
    "print metrics.average_precision_score(testY, preds)\n",
    "print \"Strong Injections detected\", len(np.where((preds==1)&(test_label==1)&(testY==1))[0]),\"from\", len(np.where((test_label==1)&(testY==1))[0])\n",
    "print \"Weak Injections detected with period cut\", len(np.where((preds==1)&(test_label==1)&(testY==0))[0]),\"from\", len(np.where((test_label==1)&(testY==0))[0])\n",
    "\n",
    "print \"Inverted Rejected\", len(np.where((preds==0)&(test_label==2)&(testY==0))[0]),\"from\", len(np.where((test_label==2)&(testY==0))[0])\n",
    "#print \"Weak Injections detected with period cut\", len(np.where((preds==1)&(test_label==1)&(testY==0))[0]),\"from\", len(np.where((test_label==1)&(testY==0))[0])\n",
    "\n",
    "print \"NON_KOI_Rejected\", len(np.where((preds==0)&(test_label==4)&(testY==0))[0]),\"from\", len(np.where((test_label==4)&(testY==0))[0])\n",
    "#print \"Weak Injections detected with period cut\", len(np.where((preds==1)&(test_label==1)&(testY==0))[0]),\"from\", len(np.where((test_label==1)&(testY==0))[0])\n",
    "preds_non_kois = xgbc.predict(test_non_kois)\n",
    "print \"NON_kois_test_set rejected\", len(np.where(preds_non_kois==0)[0]), \"from 10000\" "
   ]
  },
  {
   "cell_type": "code",
   "execution_count": 46,
   "metadata": {
    "collapsed": false
   },
   "outputs": [
    {
     "name": "stdout",
     "output_type": "stream",
     "text": [
      "Unique starts 283\n",
      "nan 3.0 0.252043706641 6.842939\n",
      "Stars detected 120\n",
      "Stars Missed 163\n",
      "SNR\n",
      "\n"
     ]
    },
    {
     "data": {
      "image/png": "[encoded data removed]",
      "text/plain": [
       "<matplotlib.figure.Figure at 0x7f8b36cc2790>"
      ]
     },
     "metadata": {},
     "output_type": "display_data"
    }
   ],
   "source": [
    "#print trainX.columns.values\n",
    "#print koi.columns.values\n",
    "\n",
    "preds =xgbc.predict(koi)\n",
    "star_list_ids = np.unique(koi_SNR[:,0])\n",
    "\n",
    "partially_detected = np.zeros_like(star_list_ids)\n",
    "detection_counts = np.zeros_like(star_list_ids)\n",
    "normalized_detection_counts = np.zeros_like(star_list_ids)\n",
    "not_detected = np.zeros_like(star_list_ids)\n",
    "should_be_detected = np.zeros_like(star_list_ids)\n",
    "\n",
    "\n",
    "star_SNR =np.zeros_like(star_list_ids)\n",
    "star_tol = np.zeros_like(star_list_ids)\n",
    "star_transits = np.zeros_like(star_list_ids)\n",
    "star_period = np.zeros_like(star_list_ids)\n",
    "\n",
    "print \"Unique starts\" ,len(star_list_ids)\n",
    "#print koi_SNR\n",
    "for i,id_num in enumerate(star_list_ids):\n",
    "    indices = np.where(id_num == koi_SNR[:,0])[0]\n",
    "    #print indices\n",
    "    if  preds[indices].sum() >=1:\n",
    "        partially_detected[i] = star_list_ids[i]\n",
    "    else  :\n",
    "        not_detected[i] = star_list_ids[i]\n",
    "    detection_counts[i]=preds[indices].sum()\n",
    "    normalized_detection_counts[i] = np.nansum(preds[indices].sum()/ len(np.where(preds[indices]!=np.nan)[0]))\n",
    "    should_be_detected[i] = np.mean(koi_true_trans[indices])\n",
    "    \n",
    "    \n",
    "    #other params\n",
    "    star_SNR[i] = np.median(koi_SNR[indices,2])\n",
    "    \n",
    "    star_transits[i] = np.median(26//koi_periods[indices])\n",
    "    star_tol[i] = np.median(koi_tol[indices,2])\n",
    "    star_period[i] = np.mean(koi_periods[indices])\n",
    "    if id_num==10736489:\n",
    "        print star_SNR[i], star_transits[i], star_tol[i], star_period[i]\n",
    "        star_SNR[i]= 0\n",
    "\n",
    "print \"Stars detected\", len(np.where(partially_detected!=0)[0])\n",
    "\n",
    "plt.hist(normalized_detection_counts)\n",
    "\n",
    "print \"Stars Missed\" , len(not_detected[np.where(not_detected!=0)[0]])\n",
    "print \"SNR\\n\"\n",
    "\n",
    "#iterate over msised stars\n",
    "#for i, id_num in enumerate(not_detected[np.where(not_detected!=0)[0]]):\n",
    "#    indices = np.where(id_num == koi_SNR[:,0])[0]\n",
    "#    print \"ID:\", id_num\n",
    "#    print \"KOI_SNR:\", koi_SNR[indices,2]\n",
    "#    print \"KOI_SNR_MEAN:\", np.mean(koi_SNR[indices,2])\n",
    "#    print \"YLabels\", koi_true_trans[indices],  \"\\n\"\n",
    "\n"
   ]
  },
  {
   "cell_type": "code",
   "execution_count": 47,
   "metadata": {
    "collapsed": false
   },
   "outputs": [
    {
     "name": "stdout",
     "output_type": "stream",
     "text": [
      "Weak stars detected with low period err: 3 from 5\n",
      "Weak stars detected with high period err: 13 from 130\n",
      "Total Strong stars detected with low period err: 75 from 96\n",
      "Strong stars detected with low period err with up to two transits: 3 from 13\n",
      "Strong stars detected with low period err with 2 to 3 transits per segment: 5 from 16\n",
      "Strong stars detected with low period err and tight transit cut: 67 from 67\n",
      "Strong stars detected with high period err: 29 from 52\n",
      "6 3\n",
      "[  2304320.   2438513.   2853446.   4278221.   4857213.   5020319.\n",
      "   5695396.   6442340.   6541920.   6779260.   7202957.   7887791.\n",
      "   8750043.   8802165.   9266431.   9489524.   9950612.  10024701.\n",
      "  10252275.  10545066.  10676014.  11253711.  11568987.]\n",
      "[  2989404.   3446746.   3541946.   4164922.   4349442.   4644604.\n",
      "   5185897.   5794570.   5796675.   5941160.   6021275.   6289257.\n",
      "   7115785.   7419318.   7509886.   7976520.   8552719.   8738735.\n",
      "   8766650.   8962094.   9002278.  10130039.  10154388.  10984090.\n",
      "  11241912.  11395587.  11954842.  12068975.  12785320.]\n",
      "[  2302548.   2444412.   2571238.   3733628.   5375194.   5383248.\n",
      "   5735762.   6850504.   6851425.   8008067.   8107380.   8395660.\n",
      "   8692861.   9455325.   9527915.   9573539.  10187017.  10925104.\n",
      "  11100383.  11402995.  11554435.]\n",
      "[ 1.          1.          0.44444444  1.          0.86666667  1.          1.\n",
      "  0.9375      0.73333333  1.          0.625       1.          0.90909091\n",
      "  0.5         1.          0.84615385  1.          1.          0.66666667\n",
      "  0.16666667  0.71428571  1.          1.          0.35714286  0.125       0.625\n",
      "  0.66666667  0.78571429  1.          0.70588235  1.          1.\n",
      "  0.42857143  0.6875      0.875       1.          0.35714286  0.33333333\n",
      "  1.          0.30769231  0.5         1.          0.28571429  1.          1.\n",
      "  1.          1.          1.          1.          0.4         0.625       1.\n",
      "  1.          1.          0.5         1.          1.          0.38461538\n",
      "  1.          1.          1.          1.          0.66666667  0.42857143\n",
      "  1.          0.85714286  0.63636364]\n",
      "34\n"
     ]
    },
    {
     "data": {
      "image/png": "[encoded data removed]",
      "text/plain": [
       "<matplotlib.figure.Figure at 0x7f8b369eae10>"
      ]
     },
     "metadata": {},
     "output_type": "display_data"
    }
   ],
   "source": [
    "import warnings\n",
    "warnings.simplefilter('ignore')\n",
    "\n",
    "print \"Weak stars detected with low period err:\", len(np.where( (partially_detected>0)& (star_tol<0.002) &(star_SNR<SNR_cut))[0]), \\\n",
    "     \"from\", len(np.where( (star_tol<0.002) &(star_SNR<SNR_cut))[0])\n",
    "print \"Weak stars detected with high period err:\", len(np.where( (partially_detected>0)& (star_tol>0.002) & (star_SNR<SNR_cut))[0]) ,\\\n",
    " \"from\", len(np.where( (star_tol>0.002) &(star_SNR<SNR_cut))[0])\n",
    "\n",
    "\n",
    "print \"Total Strong stars detected with low period err:\", len(np.where( (partially_detected>0)& (star_tol<0.002) &(star_SNR>SNR_cut))[0]), \\\n",
    " \"from\", len(np.where( (star_tol<0.002) &(star_SNR>SNR_cut) )[0])\n",
    "\n",
    "    \n",
    "print \"Strong stars detected with low period err with up to two transits:\", len(np.where( (partially_detected>0)& (star_tol<0.002) &(star_SNR>SNR_cut) &(star_period>13))[0]), \\\n",
    " \"from\", len(np.where( (star_tol<0.002) &(star_SNR>SNR_cut) &(star_period>13))[0])\n",
    "    \n",
    "    \n",
    "print \"Strong stars detected with low period err with 2 to 3 transits per segment:\", len(np.where( (partially_detected>0)& (star_tol<0.002) &(star_SNR>SNR_cut) & (star_period>8.67) & (star_period<13))[0]), \\\n",
    " \"from\", len(np.where( (star_tol<0.002) &(star_SNR>SNR_cut) & (star_period>8.67) & (star_period<13))[0])\n",
    "    \n",
    "print \"Strong stars detected with low period err and tight transit cut:\", len(np.where( (partially_detected>0)& (star_tol<0.002) &(star_SNR>SNR_cut)& (star_period<8.67))[0]), \\\n",
    " \"from\", len(np.where( (star_tol<0.002) &(star_SNR>SNR_cut)  &(star_period<8.67) )[0])\n",
    "\n",
    "print \"Strong stars detected with high period err:\", len  (np.where( (partially_detected>0)& (star_tol>0.002) &(star_SNR>6))[0]), \\\n",
    " \"from\", len(np.where( (star_tol>0.002) &(star_SNR>SNR_cut))[0])\n",
    "    \n",
    "missed_strong_stars = star_list_ids[np.where( (star_tol<0.002) &(star_SNR>SNR_cut)& (partially_detected==0))[0]]\n",
    "missed_strong_stars_period_cut = star_list_ids[np.where( (star_tol<0.002) &(star_SNR>SNR_cut)& (partially_detected==0)& (star_period<8.67))[0]] \n",
    "detected_strong_stars = star_list_ids[np.where( (star_tol<0.002) &(star_SNR>SNR_cut)& (partially_detected!=0)& (star_period<8.67))[0]] \n",
    "\n",
    "print SNR_cut, ped_constraint\n",
    "\n",
    "strong_Star_high_p_error_missed = star_list_ids[np.where((star_tol>0.002) & (star_SNR>6) & (not_detected!=0) )[0]]\n",
    "strong_Star_high_p_error_caught = star_list_ids[np.where((star_tol>0.002) & (star_SNR>6) & (partially_detected!=0) )[0]]\n",
    "print strong_Star_high_p_error_missed\n",
    "print strong_Star_high_p_error_caught\n",
    "#print strong_Star_high_p_error\n",
    "print missed_strong_stars\n",
    "#print missed_strong_stars_period_cut\n",
    "#plt.hist(star_period)\n",
    "#print star_period[np.where( (star_tol<0.002) &(star_SNR>6)& (partially_detected==0)&(star_period<8.67))[0]] \n",
    "strong_star_detection_counts = normalized_detection_counts[np.where( (star_tol<0.002) &(star_SNR>SNR_cut)  &(star_period<8.67) )[0]]\n",
    "print strong_star_detection_counts#normalized_detection_counts[np.where( (star_tol<0.002) &(star_SNR>SNR_cut)  &(star_period<8.67) )[0]]\n",
    "plt.hist(strong_star_detection_counts,        edgecolor='black', linewidth=1.2)\n",
    "print len(np.where(strong_star_detection_counts==1)[0])"
   ]
  },
  {
   "cell_type": "code",
   "execution_count": 49,
   "metadata": {
    "collapsed": false,
    "scrolled": true
   },
   "outputs": [
    {
     "name": "stdout",
     "output_type": "stream",
     "text": [
      "(100,) (100,)\n",
      "Detected: 70 from 72 at SNR 0.0\n",
      "[ 8278371.  9221517.]\n",
      "Detected: 70 from 72 at SNR 1.0101010101\n",
      "[ 8278371.  9221517.]\n",
      "Detected: 70 from 72 at SNR 2.0202020202\n",
      "[ 8278371.  9221517.]\n",
      "Detected: 70 from 72 at SNR 3.0303030303\n",
      "[ 8278371.  9221517.]\n",
      "Detected: 70 from 72 at SNR 4.0404040404\n",
      "[ 8278371.  9221517.]\n",
      "Detected: 70 from 72 at SNR 5.05050505051\n",
      "[ 8278371.  9221517.]\n",
      "Detected: 67 from 67 at SNR 6.06060606061\n",
      "[]\n",
      "Detected: 64 from 64 at SNR 7.07070707071\n",
      "[]\n",
      "Detected: 63 from 63 at SNR 8.08080808081\n",
      "[]\n",
      "Detected: 55 from 55 at SNR 9.09090909091\n",
      "[]\n",
      "Detected: 52 from 52 at SNR 10.101010101\n",
      "[]\n",
      "Detected: 51 from 51 at SNR 11.1111111111\n",
      "[]\n",
      "Detected: 45 from 45 at SNR 12.1212121212\n",
      "[]\n",
      "Detected: 43 from 43 at SNR 13.1313131313\n",
      "[]\n",
      "Detected: 38 from 38 at SNR 14.1414141414\n",
      "[]\n",
      "Detected: 34 from 34 at SNR 15.1515151515\n",
      "[]\n",
      "Detected: 33 from 33 at SNR 16.1616161616\n",
      "[]\n",
      "Detected: 32 from 32 at SNR 17.1717171717\n",
      "[]\n",
      "Detected: 30 from 30 at SNR 18.1818181818\n",
      "[]\n",
      "Detected: 27 from 27 at SNR 19.1919191919\n",
      "[]\n",
      "Detected: 26 from 26 at SNR 20.202020202\n",
      "[]\n",
      "Detected: 24 from 24 at SNR 21.2121212121\n",
      "[]\n",
      "Detected: 23 from 23 at SNR 22.2222222222\n",
      "[]\n",
      "Detected: 23 from 23 at SNR 23.2323232323\n",
      "[]\n",
      "Detected: 22 from 22 at SNR 24.2424242424\n",
      "[]\n",
      "Detected: 22 from 22 at SNR 25.2525252525\n",
      "[]\n",
      "Detected: 22 from 22 at SNR 26.2626262626\n",
      "[]\n",
      "Detected: 21 from 21 at SNR 27.2727272727\n",
      "[]\n",
      "Detected: 21 from 21 at SNR 28.2828282828\n",
      "[]\n",
      "Detected: 21 from 21 at SNR 29.2929292929\n",
      "[]\n",
      "Detected: 20 from 20 at SNR 30.303030303\n",
      "[]\n",
      "Detected: 20 from 20 at SNR 31.3131313131\n",
      "[]\n",
      "Detected: 19 from 19 at SNR 32.3232323232\n",
      "[]\n",
      "Detected: 19 from 19 at SNR 33.3333333333\n",
      "[]\n",
      "Detected: 19 from 19 at SNR 34.3434343434\n",
      "[]\n",
      "Detected: 18 from 18 at SNR 35.3535353535\n",
      "[]\n",
      "Detected: 17 from 17 at SNR 36.3636363636\n",
      "[]\n",
      "Detected: 17 from 17 at SNR 37.3737373737\n",
      "[]\n",
      "Detected: 17 from 17 at SNR 38.3838383838\n",
      "[]\n",
      "Detected: 17 from 17 at SNR 39.3939393939\n",
      "[]\n",
      "Detected: 16 from 16 at SNR 40.404040404\n",
      "[]\n",
      "Detected: 16 from 16 at SNR 41.4141414141\n",
      "[]\n",
      "Detected: 16 from 16 at SNR 42.4242424242\n",
      "[]\n",
      "Detected: 16 from 16 at SNR 43.4343434343\n",
      "[]\n",
      "Detected: 16 from 16 at SNR 44.4444444444\n",
      "[]\n",
      "Detected: 16 from 16 at SNR 45.4545454545\n",
      "[]\n",
      "Detected: 16 from 16 at SNR 46.4646464646\n",
      "[]\n",
      "Detected: 16 from 16 at SNR 47.4747474747\n",
      "[]\n",
      "Detected: 16 from 16 at SNR 48.4848484848\n",
      "[]\n",
      "Detected: 14 from 14 at SNR 49.4949494949\n",
      "[]\n",
      "Detected: 14 from 14 at SNR 50.5050505051\n",
      "[]\n",
      "Detected: 14 from 14 at SNR 51.5151515152\n",
      "[]\n",
      "Detected: 14 from 14 at SNR 52.5252525253\n",
      "[]\n",
      "Detected: 14 from 14 at SNR 53.5353535354\n",
      "[]\n",
      "Detected: 14 from 14 at SNR 54.5454545455\n",
      "[]\n",
      "Detected: 14 from 14 at SNR 55.5555555556\n",
      "[]\n",
      "Detected: 14 from 14 at SNR 56.5656565657\n",
      "[]\n",
      "Detected: 14 from 14 at SNR 57.5757575758\n",
      "[]\n",
      "Detected: 14 from 14 at SNR 58.5858585859\n",
      "[]\n",
      "Detected: 14 from 14 at SNR 59.595959596\n",
      "[]\n",
      "Detected: 14 from 14 at SNR 60.6060606061\n",
      "[]\n",
      "Detected: 12 from 12 at SNR 61.6161616162\n",
      "[]\n",
      "Detected: 12 from 12 at SNR 62.6262626263\n",
      "[]\n",
      "Detected: 11 from 11 at SNR 63.6363636364\n",
      "[]\n",
      "Detected: 10 from 10 at SNR 64.6464646465\n",
      "[]\n",
      "Detected: 10 from 10 at SNR 65.6565656566\n",
      "[]\n",
      "Detected: 10 from 10 at SNR 66.6666666667\n",
      "[]\n",
      "Detected: 10 from 10 at SNR 67.6767676768\n",
      "[]\n",
      "Detected: 10 from 10 at SNR 68.6868686869\n",
      "[]\n",
      "Detected: 10 from 10 at SNR 69.696969697\n",
      "[]\n",
      "Detected: 9 from 9 at SNR 70.7070707071\n",
      "[]\n",
      "Detected: 9 from 9 at SNR 71.7171717172\n",
      "[]\n",
      "Detected: 9 from 9 at SNR 72.7272727273\n",
      "[]\n",
      "Detected: 8 from 8 at SNR 73.7373737374\n",
      "[]\n",
      "Detected: 8 from 8 at SNR 74.7474747475\n",
      "[]\n",
      "Detected: 8 from 8 at SNR 75.7575757576\n",
      "[]\n",
      "Detected: 8 from 8 at SNR 76.7676767677\n",
      "[]\n",
      "Detected: 8 from 8 at SNR 77.7777777778\n",
      "[]\n",
      "Detected: 8 from 8 at SNR 78.7878787879\n",
      "[]\n",
      "Detected: 8 from 8 at SNR 79.797979798\n",
      "[]\n",
      "Detected: 8 from 8 at SNR 80.8080808081\n",
      "[]\n",
      "Detected: 8 from 8 at SNR 81.8181818182\n",
      "[]\n",
      "Detected: 8 from 8 at SNR 82.8282828283\n",
      "[]\n",
      "Detected: 8 from 8 at SNR 83.8383838384\n",
      "[]\n",
      "Detected: 8 from 8 at SNR 84.8484848485\n",
      "[]\n",
      "Detected: 8 from 8 at SNR 85.8585858586\n",
      "[]\n",
      "Detected: 8 from 8 at SNR 86.8686868687\n",
      "[]\n",
      "Detected: 8 from 8 at SNR 87.8787878788\n",
      "[]\n",
      "Detected: 8 from 8 at SNR 88.8888888889\n",
      "[]\n",
      "Detected: 8 from 8 at SNR 89.898989899\n",
      "[]\n",
      "Detected: 8 from 8 at SNR 90.9090909091\n",
      "[]\n",
      "Detected: 8 from 8 at SNR 91.9191919192\n",
      "[]\n",
      "Detected: 8 from 8 at SNR 92.9292929293\n",
      "[]\n",
      "Detected: 8 from 8 at SNR 93.9393939394\n",
      "[]\n",
      "Detected: 8 from 8 at SNR 94.9494949495\n",
      "[]\n",
      "Detected: 8 from 8 at SNR 95.9595959596\n",
      "[]\n",
      "Detected: 8 from 8 at SNR 96.9696969697\n",
      "[]\n",
      "Detected: 8 from 8 at SNR 97.9797979798\n",
      "[]\n",
      "Detected: 8 from 8 at SNR 98.9898989899\n",
      "[]\n",
      "Detected: 8 from 8 at SNR 100.0\n",
      "[]\n"
     ]
    },
    {
     "data": {
      "text/plain": [
       "<matplotlib.text.Text at 0x7f8b487162d0>"
      ]
     },
     "execution_count": 49,
     "metadata": {},
     "output_type": "execute_result"
    },
    {
     "data": {
      "image/png": "[encoded data removed]",
      "text/plain": [
       "<matplotlib.figure.Figure at 0x7f8b440319d0>"
      ]
     },
     "metadata": {},
     "output_type": "display_data"
    }
   ],
   "source": [
    "x = np.linspace(0,100,100)\n",
    "y = np.zeros(x.shape[0])\n",
    "y_total_count = np.zeros_like(y)\n",
    "y_missed = np.zeros_like(y)\n",
    "print x.shape, y.shape\n",
    "for i, val in enumerate(x):\n",
    "    SNR_cut_val = val\n",
    "    y[i] = len(np.where( (partially_detected>0)& (star_tol<0.002) &(star_SNR>SNR_cut_val)& (star_period<8.67))[0]) / float(len(np.where( (star_tol<0.002) &(star_SNR>SNR_cut_val)  &(star_period<8.67) )[0]))\n",
    "    print \"Detected:\", len(np.where( (partially_detected>0)& (star_tol<0.002) &(star_SNR>SNR_cut_val)& (star_period<8.67))[0]),  \"from\",  (len(np.where( (star_tol<0.002) &(star_SNR>SNR_cut_val)  &(star_period<8.67) )[0])), \"at SNR\", val\n",
    "    print star_list_ids[np.where( (not_detected!=0)& (star_tol<0.002) &(star_SNR>SNR_cut_val)& (star_period<8.67))[0]]\n",
    "    y_total_count[i] = len(np.where( (star_tol<0.002) &(star_SNR>SNR_cut_val)  &(star_period<8.67) )[0])\n",
    "    y_missed[i] = len(np.where( (star_tol<0.002) &(star_SNR>SNR_cut_val)  &(star_period<8.67) & (not_detected!=0) )[0]) /float(len(np.where( (star_tol<0.002) &(star_SNR>SNR_cut_val)  &(star_period<8.67)  )[0]))\n",
    "fig = plt.figure(figsize=((15,8)))\n",
    "ax = fig.add_subplot(\"131\")\n",
    "ax.set_ylabel(\"Recall Score\")\n",
    "ax.scatter(x, y, marker = \"x\", color = \"blue\")\n",
    "\n",
    "ax2= fig.add_subplot(\"132\")\n",
    "ax2.scatter(x, y_total_count, marker = \"x\", color = \"green\")\n",
    "ax2.set_ylabel(\"True Stars above SNR Threshold\")\n",
    "\n",
    "ax3= fig.add_subplot(\"133\")\n",
    "ax3.scatter(x, y_missed, marker = \"x\", color = \"red\")\n",
    "ax3.set_ylabel(\"False Negatives\")\n",
    "#plt.scatter(x, y_total_count, marker)\n",
    "#plt.scatter(data[:,0], data[:,2], marker = \".\")\n",
    "#axes = plt.gca()\n",
    "#axes.set_ylim([0.6, 1])\n",
    "ax.set_ylim([0.6,1])\n",
    "#ax2.set_xlim([0,40])\n",
    "ax2.set_xlabel(\"SNR Threshold\")"
   ]
  },
  {
   "cell_type": "code",
   "execution_count": 71,
   "metadata": {
    "collapsed": false
   },
   "outputs": [
    {
     "name": "stdout",
     "output_type": "stream",
     "text": [
      "NAN SRN (array([], dtype=int64),)\n",
      "[  22.39802964    1.90874681    0.          333.11042276    2.9717666 ]\n",
      "[ 10676014.  10722485.  10736489.  10748390.  10777591.]\n",
      "211 72 211\n"
     ]
    },
    {
     "data": {
      "text/plain": [
       "(0, 25)"
      ]
     },
     "execution_count": 71,
     "metadata": {},
     "output_type": "execute_result"
    },
    {
     "data": {
      "image/png": "[encoded data removed]",
      "text/plain": [
       "<matplotlib.figure.Figure at 0x7f8b35e15350>"
      ]
     },
     "metadata": {},
     "output_type": "display_data"
    }
   ],
   "source": [
    "#create SNR hoist of total 283 stars minus the 72 strong signals passing strict period cut and period error cut. \n",
    "strong_stars_low_err = star_SNR[np.where( (star_tol<0.002)   &(star_period<8.67) )[0]]\n",
    "weak_err_Stars = star_SNR[np.where( (star_tol> 0.002) + (star_period>8.67) )[0] ]\n",
    "weak_star_detections = normalized_detection_counts[np.where( (star_tol> 0.002) + (star_period>8.67) )[0]]\n",
    "print \"NAN SRN\", np.where(star_SNR[-100:]==np.nan)\n",
    "print star_SNR[-50:-45]\n",
    "print star_list_ids[-50:-45]\n",
    "#/ float(len(np.where( (star_tol<0.002) &(star_SNR>SNR_cut_val)  &(star_period<8.67) )[0]))\n",
    "print len(weak_err_Stars), len(strong_stars_low_err), len(weak_star_detections)\n",
    "\n",
    "#print weak_err_Stars\n",
    "plt.figure(figsize = (14, 8))\n",
    "plt.hist(weak_err_Stars, edgecolor='black', linewidth=1.2, bins = np.linspace(1, 10, 25))\n",
    "plt.ylabel(\"Frequency\")\n",
    "plt.xlabel(\"SNR\")\n",
    "plt.ylim([0,25])\n",
    "#plt.figure()\n",
    "#plt.hist(weak_star_detections)"
   ]
  },
  {
   "cell_type": "code",
   "execution_count": null,
   "metadata": {
    "collapsed": false
   },
   "outputs": [],
   "source": [
    "#create pd frame of all segments of stars dIIetected and stars missed\n",
    "missed_strong_star_feats = np.empty(shape = (0,29))\n",
    "\n",
    "for star_ID in missed_strong_stars:\n",
    "    indices = np.where(star_ID==koi_SNR[:,0])\n",
    "    print koi.loc[indices].shape\n",
    "    print missed_strong_star_feats\n",
    "    missed_strong_star_feats = np.append(missed_strong_star_feats, koi.loc[indices], axis = 0)\n",
    "    \n",
    "    print missed_strong_stars\n",
    "    #break\n",
    "#koi.head()\n",
    "print missed_strong_star_feats.shape\n"
   ]
  },
  {
   "cell_type": "code",
   "execution_count": null,
   "metadata": {
    "collapsed": false,
    "scrolled": true
   },
   "outputs": [],
   "source": [
    "#do quick tuning, is the model just using poor parameters if its missing half of the strong signals?\n",
    "#print star_SNR[np.where(star_list_ids== 2853446)[0]]\n",
    "#print preds[np.where(koi_SNR[:,0] == 2853446)[0]]\n",
    "\n",
    "#create pd frame of all segments of stars dIIetected and stars missed\n",
    "detected_strong_star_feats = np.empty(shape = (0,29))\n",
    "\n",
    "for star_ID in detected_strong_stars:\n",
    "    indices = np.where(star_ID==koi_SNR[:,0])\n",
    "    #print koi.loc[indices].shape\n",
    "    detected_strong_star_feats = np.append(detected_strong_star_feats, koi.loc[indices], axis = 0)\n",
    "        #print missed_strong_stars\n",
    "    #break\n",
    "#koi.head()\n",
    "print detected_strong_star_feats.shape\n",
    "\n",
    "#print missed_strong_stars_segments\n",
    "#koi_SNR[0,:] in missed_strong_stars"
   ]
  },
  {
   "cell_type": "code",
   "execution_count": null,
   "metadata": {
    "collapsed": false
   },
   "outputs": [],
   "source": [
    "feat_imp = pd.Series(xgbc.booster().get_fscore()  ).sort_values(ascending =False)\n",
    "feat_sum = feat_imp.values.sum()\n",
    "feat_imp = feat_imp/feat_sum\n",
    "feat_imp.plot(kind = \"bar\", figsize=((12, 8)))"
   ]
  },
  {
   "cell_type": "code",
   "execution_count": null,
   "metadata": {
    "collapsed": false
   },
   "outputs": [],
   "source": []
  },
  {
   "cell_type": "code",
   "execution_count": null,
   "metadata": {
    "collapsed": true
   },
   "outputs": [],
   "source": []
  }
 ],
 "metadata": {
  "anaconda-cloud": {},
  "kernelspec": {
   "display_name": "Python [conda root]",
   "language": "python",
   "name": "conda-root-py"
  },
  "language_info": {
   "codemirror_mode": {
    "name": "ipython",
    "version": 2
   },
   "file_extension": ".py",
   "mimetype": "text/x-python",
   "name": "python",
   "nbconvert_exporter": "python",
   "pygments_lexer": "ipython2",
   "version": "2.7.12"
  }
 },
 "nbformat": 4,
 "nbformat_minor": 1
}
