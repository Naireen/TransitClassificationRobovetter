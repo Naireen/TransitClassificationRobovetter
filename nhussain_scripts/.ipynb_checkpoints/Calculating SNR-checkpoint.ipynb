{
 "cells": [
  {
   "cell_type": "code",
   "execution_count": 1,
   "metadata": {
    "collapsed": true
   },
   "outputs": [],
   "source": [
    "#Check file reading issue\n",
    "import numpy as np\n",
    "import os"
   ]
  },
  {
   "cell_type": "code",
   "execution_count": 27,
   "metadata": {
    "collapsed": false
   },
   "outputs": [
    {
     "name": "stdout",
     "output_type": "stream",
     "text": [
      "(195963, 5)\n",
      "['10000198' '0' '0.020139' '1.855512' '0.803056144.823149']\n",
      "(195963, 4)\n",
      "<type 'numpy.float64'>\n",
      "['10000198-0' '10000198-1' '10000198-2' ..., '9999901-13' '9999901-14'\n",
      " '9999901-15']\n"
     ]
    }
   ],
   "source": [
    "#file_name = \"../nhussain_scripts/InvModShiftVals/10129857-10_feats.txt\"\n",
    "file_name = \"../Training/simulation/injection/injection.txt\"\n",
    "data  = np.loadtxt(file_name, dtype = str, delimiter=\",\")#.reshape(data.shape[0], 5)\n",
    "print data.shape\n",
    "print data[0]\n",
    "data = data.reshape((data.shape[0],5))\n",
    "data = data[:, :-1]\n",
    "#id, segment, depth, period\n",
    "print data.shape\n",
    "#concate the first two, create list of file names\n",
    "values = np.core.defchararray.add(data[:,0], \"-\")\n",
    "values = np.core.defchararray.add(values, data[:, 1])\n",
    "data = data.astype(\"float64\")#print data[0,:]\n",
    "print type(data[1,3])\n",
    "print values"
   ]
  },
  {
   "cell_type": "code",
   "execution_count": 52,
   "metadata": {
    "collapsed": false,
    "scrolled": true
   },
   "outputs": [],
   "source": [
    "SNR = np.zeros(data.shape[0])\n",
    "error = np.empty(data.shape[0])\n",
    "#concatenate the first two values\n",
    "for i, val in enumerate(values[:200]):\n",
    "    lc_data = np.loadtxt(\"../Training/simulation/injection/\"+val+\"_inj.txt\")\n",
    "    #print lc_data.shape\n",
    "    #print type(data[i,2])\n",
    "    depth =float(data[i,2])**2 #depth\n",
    "    meidan = np.median(lc_data[:,1]) # flux\n",
    "    #meen = np.mean(lc_data)\n",
    "    error = np.median(np.abs(lc_data[:,1]-meidan))**0.5\n",
    "    #plt.hist(error)\n",
    "    #fig = plt.figure()\n",
    "    #plt.scatter()\n",
    "    #print error.min()\n",
    "    #print meidan, error, depth\n",
    "    transits = float(26)//float(data[i,3]) +1\n",
    "    SNR[i] = depth*np.sqrt(transits)/(error*np.sqrt(2))\n",
    "    #print SNR[i]\n",
    "    #break\n",
    "    #if i %999 ==1:\n",
    "    #    print i"
   ]
  },
  {
   "cell_type": "code",
   "execution_count": 53,
   "metadata": {
    "collapsed": false
   },
   "outputs": [
    {
     "data": {
      "text/plain": [
       "(array([ 67.,   8.,   5.,   3.,   6.,   3.,   4.,   2.,   0.,   2.]),\n",
       " array([  6.42354730e-03,   9.03408144e-01,   1.80039274e+00,\n",
       "          2.69737734e+00,   3.59436193e+00,   4.49134653e+00,\n",
       "          5.38833112e+00,   6.28531572e+00,   7.18230032e+00,\n",
       "          8.07928491e+00,   8.97626951e+00]),\n",
       " <a list of 10 Patch objects>)"
      ]
     },
     "execution_count": 53,
     "metadata": {},
     "output_type": "execute_result"
    },
    {
     "data": {
      "image/png": "[encoded data removed]",
      "text/plain": [
       "<matplotlib.figure.Figure at 0x7f1736530710>"
      ]
     },
     "metadata": {},
     "output_type": "display_data"
    }
   ],
   "source": [
    "import matplotlib\n",
    "from matplotlib import pyplot as plt\n",
    "%matplotlib inline\n",
    "\n",
    "plt.hist(SNR[:100])"
   ]
  },
  {
   "cell_type": "code",
   "execution_count": null,
   "metadata": {
    "collapsed": true
   },
   "outputs": [],
   "source": []
  }
 ],
 "metadata": {
  "kernelspec": {
   "display_name": "Python [conda root]",
   "language": "python",
   "name": "conda-root-py"
  },
  "language_info": {
   "codemirror_mode": {
    "name": "ipython",
    "version": 2
   },
   "file_extension": ".py",
   "mimetype": "text/x-python",
   "name": "python",
   "nbconvert_exporter": "python",
   "pygments_lexer": "ipython2",
   "version": "2.7.12"
  }
 },
 "nbformat": 4,
 "nbformat_minor": 1
}
