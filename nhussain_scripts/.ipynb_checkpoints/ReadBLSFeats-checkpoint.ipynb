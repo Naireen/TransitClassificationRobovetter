{
 "cells": [
  {
   "cell_type": "code",
   "execution_count": 1,
   "metadata": {
    "collapsed": true
   },
   "outputs": [],
   "source": [
    "#readFeats\n",
    "import numpy as np\n",
    "import pandas as pd\n",
    "import sklearn\n",
    "import matplotlib \n",
    "from matplotlib import pyplot as plt\n",
    "%matplotlib inline\n",
    "import os\n"
   ]
  },
  {
   "cell_type": "code",
   "execution_count": 2,
   "metadata": {
    "collapsed": false
   },
   "outputs": [
    {
     "data": {
      "text/plain": [
       "['10853667-4_inj_feats.txt',\n",
       " '10853667-6_inj_feats.txt',\n",
       " '10853667-8_inj_feats.txt',\n",
       " '10000198-1_inj_feats.txt',\n",
       " '10853667-7_inj_feats.txt']"
      ]
     },
     "execution_count": 2,
     "metadata": {},
     "output_type": "execute_result"
    }
   ],
   "source": [
    "file_list = os.listdir(\"../nhussain_scripts/InjModShiftVals/\")[:10000]\n",
    "file_list[:5]"
   ]
  },
  {
   "cell_type": "code",
   "execution_count": 3,
   "metadata": {
    "collapsed": false
   },
   "outputs": [
    {
     "data": {
      "text/plain": [
       "(10000, 35)"
      ]
     },
     "execution_count": 3,
     "metadata": {},
     "output_type": "execute_result"
    }
   ],
   "source": [
    "col_names = [\"mod_sig_pri_dv\", \"mod_sig_sec_dv\",\"mod_sig_ter_dv\",\n",
    "             \"mod_sig_pos_dv\", \"mod_fa1_dv\",\"mod_fa2_dv\", \"mod_fred_dv\",\n",
    "             \"modshiftval1_dv\", \"modshiftval2_dv\", \"modshiftval3_dv\",\n",
    "             \"modshiftval4_dv\", \"modshiftval5_dv\", \"modshiftval6_dv\", \n",
    "             \"white_noise\", \"red_noise\", \"BLS_Period_1_0\", \"BLS_Tc_1_0\",\n",
    "             \"BLS_SN_1_0\", \"BLS_SR_1_0\", \"BLS_SDE_1_0\", \"BLS_Depth_1_0\",\n",
    "             \"BLS_Qtran_1_0\", \"BLS_Qingress_1_0\", \"BLS_OOTmag_1_0\",\n",
    "             \"BLS_i1_1_0\", \"BLS_i2_1_0\", \"BLS_deltaChi2_1_0\", \n",
    "             \"BLS_fraconenight_1_0\", \"BLS_Npointsintransit_1_0\",\n",
    "             \"BLS_Ntransits_1_0\", \"BLS_Npointsbeforetransit_1_0\", \n",
    "             \"BLS_Npointsaftertransit_1_0\", \"BLS_Rednoise_1_0\",\n",
    "             \"BLS_Whitenoise_1_0\", \"BLS_SignaltoPinknoise_1_0\"] \n",
    "\n",
    "total_data = np.empty(shape=[0, len(col_names)])\n",
    "\n",
    "for name in file_list:\n",
    "    data = np.loadtxt(\"InjModShiftVals/\" + name).reshape(1, len(col_names))\n",
    "    #print data.shape\n",
    "    total_data = np.append(total_data, data, axis =0)\n",
    "    #break\n",
    "total_data.shape"
   ]
  },
  {
   "cell_type": "code",
   "execution_count": 4,
   "metadata": {
    "collapsed": false
   },
   "outputs": [],
   "source": [
    "total_data_frame = pd.DataFrame(total_data, columns=col_names)\n",
    "#del total_data[[\"BLS_Npointsaftertransit_1_0\"]\n",
    "del total_data_frame[\"BLS_Npointsaftertransit_1_0\"]\n",
    "del total_data_frame[\"BLS_Npointsintransit_1_0\"]\n",
    "del total_data_frame[\"BLS_Npointsbeforetransit_1_0\"]\n",
    "del total_data_frame[\"BLS_OOTmag_1_0\"]\n",
    "del total_data_frame[\"BLS_Tc_1_0\"]\n"
   ]
  },
  {
   "cell_type": "code",
   "execution_count": 8,
   "metadata": {
    "collapsed": false
   },
   "outputs": [
    {
     "name": "stdout",
     "output_type": "stream",
     "text": [
      "2335\n"
     ]
    }
   ],
   "source": [
    "#true_trans = (total_data_frame[\"BLS_SignaltoPinknoise_1_0\"]>7).astype(int) \n",
    "#print len(np.where(true_trans==0)[0])\n",
    "yvals = np.loadtxt(\"SNR_10000.txt\")[:10000]\n",
    "#print len(np.where(yvals==0)[0])\n",
    "true_trans = (yvals>6).astype(int) \n",
    "print len(np.where(true_trans==0)[0])\n",
    "\n",
    "\n"
   ]
  },
  {
   "cell_type": "code",
   "execution_count": 9,
   "metadata": {
    "collapsed": false
   },
   "outputs": [],
   "source": [
    "##print true_trans\n",
    "inv_filenames = os.listdir(\"../nhussain_scripts/InvModShiftVals/\")"
   ]
  },
  {
   "cell_type": "code",
   "execution_count": 10,
   "metadata": {
    "collapsed": false
   },
   "outputs": [
    {
     "data": {
      "text/plain": [
       "(3992, 35)"
      ]
     },
     "execution_count": 10,
     "metadata": {},
     "output_type": "execute_result"
    }
   ],
   "source": [
    "col_names = [\"mod_sig_pri_dv\", \"mod_sig_sec_dv\",\"mod_sig_ter_dv\",\n",
    "             \"mod_sig_pos_dv\", \"mod_fa1_dv\",\"mod_fa2_dv\", \"mod_fred_dv\",\n",
    "             \"modshiftval1_dv\", \"modshiftval2_dv\", \"modshiftval3_dv\",\n",
    "             \"modshiftval4_dv\", \"modshiftval5_dv\", \"modshiftval6_dv\", \n",
    "             \"white_noise\", \"red_noise\", \"BLS_Period_1_0\", \"BLS_Tc_1_0\",\n",
    "             \"BLS_SN_1_0\", \"BLS_SR_1_0\", \"BLS_SDE_1_0\", \"BLS_Depth_1_0\",\n",
    "             \"BLS_Qtran_1_0\", \"BLS_Qingress_1_0\", \"BLS_OOTmag_1_0\",\n",
    "             \"BLS_i1_1_0\", \"BLS_i2_1_0\", \"BLS_deltaChi2_1_0\", \n",
    "             \"BLS_fraconenight_1_0\", \"BLS_Npointsintransit_1_0\",\n",
    "             \"BLS_Ntransits_1_0\", \"BLS_Npointsbeforetransit_1_0\", \n",
    "             \"BLS_Npointsaftertransit_1_0\", \"BLS_Rednoise_1_0\",\n",
    "             \"BLS_Whitenoise_1_0\", \"BLS_SignaltoPinknoise_1_0\"] \n",
    "\n",
    "total_data_inv = np.empty(shape=[0, len(col_names)])\n",
    "\n",
    "for name in inv_filenames:\n",
    "    data = np.loadtxt(\"InvModShiftVals/\" + name).reshape(1, len(col_names))\n",
    "    #print data.shape\n",
    "    total_data_inv = np.append(total_data_inv, data, axis =0)\n",
    "    #break\n",
    "total_data_inv.shape"
   ]
  },
  {
   "cell_type": "code",
   "execution_count": 11,
   "metadata": {
    "collapsed": true
   },
   "outputs": [],
   "source": [
    "total_data_inv_frame = pd.DataFrame(total_data_inv, columns=col_names)\n",
    "#del total_data[[\"BLS_Npointsaftertransit_1_0\"]\n",
    "del total_data_inv_frame[\"BLS_Npointsaftertransit_1_0\"]\n",
    "del total_data_inv_frame[\"BLS_Npointsintransit_1_0\"]\n",
    "del total_data_inv_frame[\"BLS_Npointsbeforetransit_1_0\"]\n",
    "del total_data_inv_frame[\"BLS_OOTmag_1_0\"]\n",
    "del total_data_inv_frame[\"BLS_Tc_1_0\"]\n"
   ]
  },
  {
   "cell_type": "code",
   "execution_count": null,
   "metadata": {
    "collapsed": false
   },
   "outputs": [],
   "source": []
  },
  {
   "cell_type": "code",
   "execution_count": 12,
   "metadata": {
    "collapsed": false
   },
   "outputs": [
    {
     "name": "stdout",
     "output_type": "stream",
     "text": [
      "(13992, 31)\n",
      "1.0\n",
      "7665\n",
      "6327\n",
      "(13992, 30)\n",
      "(array([12178, 13731]), array([7, 7]))\n",
      "(array([12178, 13731]), array([10, 10]))\n",
      "(array([], dtype=int64), array([], dtype=int64))\n",
      "['mod_sig_pri_dv' 'mod_sig_sec_dv' 'mod_sig_ter_dv' 'mod_sig_pos_dv'\n",
      " 'mod_fa1_dv' 'mod_fa2_dv' 'mod_fred_dv' 'modshiftval1_dv'\n",
      " 'modshiftval2_dv' 'modshiftval3_dv' 'modshiftval4_dv' 'modshiftval5_dv'\n",
      " 'modshiftval6_dv' 'white_noise' 'red_noise' 'BLS_Period_1_0' 'BLS_SN_1_0'\n",
      " 'BLS_SR_1_0' 'BLS_SDE_1_0' 'BLS_Depth_1_0' 'BLS_Qtran_1_0'\n",
      " 'BLS_Qingress_1_0' 'BLS_i1_1_0' 'BLS_i2_1_0' 'BLS_deltaChi2_1_0'\n",
      " 'BLS_fraconenight_1_0' 'BLS_Ntransits_1_0' 'BLS_Rednoise_1_0'\n",
      " 'BLS_Whitenoise_1_0' 'BLS_SignaltoPinknoise_1_0']\n"
     ]
    }
   ],
   "source": [
    "total_data_frame[\"Y\"] = true_trans#((total_data_frame[\"BLS_Ntransits_1_0\"]>=3)  * (total_data_frame[\"BLS_SignaltoPinknoise_1_0\"]>7)  ).astype(int) \n",
    "\n",
    "#total_data_frame[\"Y\"] = (data[\"BLS_SignaltoPinknoise_1_0\"]>7) * (data[\"BLS_Ntransits_1_0\"]>=3 )#.astype(int)\n",
    "zero_lenght = np.zeros(total_data_inv_frame.shape[0])\n",
    "total_data_inv_frame[\"Y\"] = zero_lenght\n",
    "\n",
    "data = pd.concat([total_data_frame, total_data_inv_frame], axis = 0)\n",
    "\n",
    "\n",
    "print data.shape\n",
    "#data[\"Y\"] = ( (data[\"BLS_SignaltoPinknoise_1_0\"]>6) & (data[\"BLS_Ntransits_1_0\"]>=3 ) ).astype(int)\n",
    "print data[\"BLS_Ntransits_1_0\"].min()\n",
    "print len(np.where(data[\"Y\"]==1)[0])\n",
    "print len(np.where(data[\"Y\"]==0)[0])\n",
    "labels = data[\"Y\"]\n",
    "del  data[\"Y\"]\n",
    "print data.shape\n",
    "print np.where(data ==np.inf)\n",
    "print np.where(data ==-np.inf)\n",
    "print np.where(data ==np.nan)\n",
    "#print data.columns.values\n",
    "#two nans at mod_fred_dv\n",
    "data = data.replace(np.inf, 0)\n",
    "data = data.replace(-np.inf, 0)\n",
    "print data.columns.values\n",
    "\n",
    "#print labels"
   ]
  },
  {
   "cell_type": "code",
   "execution_count": 21,
   "metadata": {
    "collapsed": false
   },
   "outputs": [
    {
     "name": "stdout",
     "output_type": "stream",
     "text": [
      "float32\n",
      "float32 float32\n",
      "(array([], dtype=int64), array([], dtype=int64))\n",
      "(array([], dtype=int64), array([], dtype=int64))\n",
      "(array([], dtype=int64), array([], dtype=int64))\n",
      "6075\n",
      "5118\n",
      "1590\n",
      "1209\n"
     ]
    }
   ],
   "source": [
    "#see how random forest does initially\n",
    "import sklearn\n",
    "from sklearn.ensemble import RandomForestClassifier\n",
    "import sklearn.metrics as metrics\n",
    "from sklearn.model_selection import cross_val_score, train_test_split\n",
    "from sklearn.utils import shuffle\n",
    "\n",
    "\n",
    "#print np.where(rfc != dtype.float64)\n",
    "print np.array(data).dtype\n",
    "data = data.astype(\"float32\")\n",
    "labels = labels.astype(\"float32\")\n",
    "\n",
    "print np.array(data).dtype, np.array(labels).dtype\n",
    "\n",
    "print np.where(data ==-np.inf)\n",
    "print np.where(data ==+np.inf)\n",
    "print np.where(data ==np.nan)\n",
    "\n",
    "\n",
    "\n",
    "#rfc = RandomForestClassifier(random_state  = 0, n_estimators=100)\n",
    "shuffleX, shuffleY = shuffle(data, labels, random_state =0)\n",
    "trainX, testX, trainY, testY = train_test_split(shuffleX, shuffleY, test_size = 0.2,random_state = 0 )\n",
    "print len(np.where(trainY==1)[0])\n",
    "print len(np.where(trainY==0)[0])\n",
    "print len(np.where(testY==1)[0])\n",
    "print len(np.where(testY==0)[0])\n",
    "\n",
    "\n",
    "\n",
    "#rfc.f#it(trainX,trainY)\n",
    "#preds = rfc.predict(testX)\n",
    "#score = metrics.average_precision_score(testY, preds)\n",
    "#print score\n",
    "#score = cross_val_score(rfc, shuffleX, shuffleY, cv = 5)\n",
    "#print score\n"
   ]
  },
  {
   "cell_type": "code",
   "execution_count": 22,
   "metadata": {
    "collapsed": false
   },
   "outputs": [],
   "source": [
    "import xgboost as xgb\n",
    "from xgboost import XGBClassifier"
   ]
  },
  {
   "cell_type": "code",
   "execution_count": 23,
   "metadata": {
    "collapsed": false
   },
   "outputs": [
    {
     "data": {
      "text/plain": [
       "XGBClassifier(base_score=0.5, colsample_bylevel=1, colsample_bytree=1,\n",
       "       gamma=0, learning_rate=0.1, max_delta_step=0, max_depth=3,\n",
       "       min_child_weight=1, missing=None, n_estimators=100, nthread=-1,\n",
       "       objective='binary:logistic', reg_alpha=0, reg_lambda=1,\n",
       "       scale_pos_weight=1, seed=0, silent=True, subsample=1)"
      ]
     },
     "execution_count": 23,
     "metadata": {},
     "output_type": "execute_result"
    }
   ],
   "source": [
    "xgbc = XGBClassifier(n_estimators = 100)\n",
    "xgbc.fit(trainX, trainY)"
   ]
  },
  {
   "cell_type": "code",
   "execution_count": 24,
   "metadata": {
    "collapsed": false
   },
   "outputs": [
    {
     "name": "stdout",
     "output_type": "stream",
     "text": [
      "0.888753327387\n",
      "0.874690167998\n"
     ]
    },
    {
     "data": {
      "text/plain": [
       "array([ 0.02761341,  0.13017751,  0.00591716,  0.05719921,  0.01183432,\n",
       "        0.01972387,  0.01380671,  0.04536489,  0.00197239,  0.        ,\n",
       "        0.01380671,  0.02366864,  0.00197239,  0.02761341,  0.04536489,\n",
       "        0.07100592,  0.03353057,  0.00394477,  0.0729783 ,  0.        ,\n",
       "        0.02564103,  0.06311637,  0.06114398,  0.03747534,  0.00986193,\n",
       "        0.07692308,  0.00394477,  0.0295858 ,  0.02169625,  0.06311637], dtype=float32)"
      ]
     },
     "execution_count": 24,
     "metadata": {},
     "output_type": "execute_result"
    }
   ],
   "source": [
    "preds = xgbc.predict(testX)\n",
    "print metrics.average_precision_score(testY, preds)\n",
    "print metrics.f1_score(testY, preds)\n",
    "xgbc.feature_importances_\n",
    "#print testY,\n",
    "#print preds"
   ]
  },
  {
   "cell_type": "code",
   "execution_count": 19,
   "metadata": {
    "collapsed": true
   },
   "outputs": [],
   "source": [
    "feat_imp = pd.Series(xgbc.booster().get_fscore()).sort_values(ascending = False)"
   ]
  },
  {
   "cell_type": "code",
   "execution_count": 20,
   "metadata": {
    "collapsed": false
   },
   "outputs": [
    {
     "data": {
      "text/plain": [
       "<matplotlib.axes._subplots.AxesSubplot at 0x7f1e422e6390>"
      ]
     },
     "execution_count": 20,
     "metadata": {},
     "output_type": "execute_result"
    },
    {
     "data": {
      "image/png": "[encoded data removed]",
      "text/plain": [
       "<matplotlib.figure.Figure at 0x7f1e435716d0>"
      ]
     },
     "metadata": {},
     "output_type": "display_data"
    }
   ],
   "source": [
    "feat_imp.plot(kind = 'bar')"
   ]
  },
  {
   "cell_type": "code",
   "execution_count": 17,
   "metadata": {
    "collapsed": false
   },
   "outputs": [
    {
     "data": {
      "text/plain": [
       "array([[<matplotlib.axes._subplots.AxesSubplot object at 0x7efcf1feb110>]], dtype=object)"
      ]
     },
     "execution_count": 17,
     "metadata": {},
     "output_type": "execute_result"
    },
    {
     "data": {
      "image/png": "[encoded data removed]",
      "text/plain": [
       "<matplotlib.figure.Figure at 0x7efcf205efd0>"
      ]
     },
     "metadata": {},
     "output_type": "display_data"
    }
   ],
   "source": [
    "bins = np.linspace(0,20,11)\n",
    "total_data_frame.hist(\"BLS_SignaltoPinknoise_1_0\", bins=bins)\n"
   ]
  },
  {
   "cell_type": "code",
   "execution_count": 18,
   "metadata": {
    "collapsed": false
   },
   "outputs": [
    {
     "data": {
      "text/plain": [
       "array([[<matplotlib.axes._subplots.AxesSubplot object at 0x7efcf20ddbd0>]], dtype=object)"
      ]
     },
     "execution_count": 18,
     "metadata": {},
     "output_type": "execute_result"
    },
    {
     "data": {
      "image/png": "[encoded data removed]",
      "text/plain": [
       "<matplotlib.figure.Figure at 0x7efcf1f4a110>"
      ]
     },
     "metadata": {},
     "output_type": "display_data"
    }
   ],
   "source": [
    "total_data_inv_frame.hist(\"BLS_SignaltoPinknoise_1_0\", bins=bins)\n"
   ]
  },
  {
   "cell_type": "code",
   "execution_count": null,
   "metadata": {
    "collapsed": true
   },
   "outputs": [],
   "source": []
  }
 ],
 "metadata": {
  "anaconda-cloud": {},
  "kernelspec": {
   "display_name": "Python [conda root]",
   "language": "python",
   "name": "conda-root-py"
  },
  "language_info": {
   "codemirror_mode": {
    "name": "ipython",
    "version": 2
   },
   "file_extension": ".py",
   "mimetype": "text/x-python",
   "name": "python",
   "nbconvert_exporter": "python",
   "pygments_lexer": "ipython2",
   "version": "2.7.12"
  }
 },
 "nbformat": 4,
 "nbformat_minor": 1
}
